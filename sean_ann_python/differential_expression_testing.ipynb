{
 "cells": [
  {
   "cell_type": "code",
   "execution_count": 14,
   "id": "2c6b62b3-341c-4e04-bd92-ff2c976b422b",
   "metadata": {},
   "outputs": [],
   "source": [
    "options(warn=-1)"
   ]
  },
  {
   "cell_type": "code",
   "execution_count": 15,
   "id": "a11e57f3-4149-47dc-bd34-420fbf0ea23e",
   "metadata": {
    "scrolled": true
   },
   "outputs": [],
   "source": [
    "library('edgeR')\n",
    "library('limma')\n",
    "library('dplyr')"
   ]
  },
  {
   "cell_type": "code",
   "execution_count": 16,
   "id": "56f01497-4f7d-4564-9912-76981b3b50b9",
   "metadata": {},
   "outputs": [],
   "source": [
    "p_val_thres <- 0.05"
   ]
  },
  {
   "cell_type": "code",
   "execution_count": 17,
   "id": "5ecfe02e-b70f-43c0-9441-c3111dbff931",
   "metadata": {},
   "outputs": [
    {
     "data": {
      "text/html": [
       "366"
      ],
      "text/latex": [
       "366"
      ],
      "text/markdown": [
       "366"
      ],
      "text/plain": [
       "[1] 366"
      ]
     },
     "metadata": {},
     "output_type": "display_data"
    }
   ],
   "source": [
    "rds_path = '/tmp/work/RCproject/gene_lists.rds'\n",
    "gene_lists<- readRDS(rds_path)\n",
    "model_gene_list <- gene_lists$'de_intersect_plus_bulk_genes'\n",
    "length(model_gene_list)"
   ]
  },
  {
   "cell_type": "code",
   "execution_count": 42,
   "id": "14f8e29c-48d1-4f82-87a3-d2c9ba8109e2",
   "metadata": {
    "scrolled": true
   },
   "outputs": [
    {
     "data": {
      "text/html": [
       "410"
      ],
      "text/latex": [
       "410"
      ],
      "text/markdown": [
       "410"
      ],
      "text/plain": [
       "[1] 410"
      ]
     },
     "metadata": {},
     "output_type": "display_data"
    }
   ],
   "source": [
    "file_path = '/tmp/work/RCproject/GEO_singlecellexperiment.rds'\n",
    "sce <- readRDS(file_path)\n",
    "sce <- sce[, colData(sce)$Response != \"partial\"]\n",
    "\n",
    "ncol(sce)"
   ]
  },
  {
   "cell_type": "code",
   "execution_count": 19,
   "id": "413e684c-d74f-4ae4-a5d3-e1f6c54ea1a7",
   "metadata": {},
   "outputs": [
    {
     "data": {
      "text/html": [
       "<style>\n",
       ".list-inline {list-style: none; margin:0; padding: 0}\n",
       ".list-inline>li {display: inline-block}\n",
       ".list-inline>li:not(:last-child)::after {content: \"\\00b7\"; padding: 0 .5ex}\n",
       "</style>\n",
       "<ol class=list-inline><li>'GSM5732588_GSE190826'</li><li>'GSM4523147_GSE150082'</li><li>'GSM6390460_GSE209746'</li><li>'GSM1103637_GSE45404-2'</li><li>'GSM6390447_GSE209746'</li><li>'GSM5732586_GSE190826'</li></ol>\n"
      ],
      "text/latex": [
       "\\begin{enumerate*}\n",
       "\\item 'GSM5732588\\_GSE190826'\n",
       "\\item 'GSM4523147\\_GSE150082'\n",
       "\\item 'GSM6390460\\_GSE209746'\n",
       "\\item 'GSM1103637\\_GSE45404-2'\n",
       "\\item 'GSM6390447\\_GSE209746'\n",
       "\\item 'GSM5732586\\_GSE190826'\n",
       "\\end{enumerate*}\n"
      ],
      "text/markdown": [
       "1. 'GSM5732588_GSE190826'\n",
       "2. 'GSM4523147_GSE150082'\n",
       "3. 'GSM6390460_GSE209746'\n",
       "4. 'GSM1103637_GSE45404-2'\n",
       "5. 'GSM6390447_GSE209746'\n",
       "6. 'GSM5732586_GSE190826'\n",
       "\n",
       "\n"
      ],
      "text/plain": [
       "[1] \"GSM5732588_GSE190826\"  \"GSM4523147_GSE150082\"  \"GSM6390460_GSE209746\" \n",
       "[4] \"GSM1103637_GSE45404-2\" \"GSM6390447_GSE209746\"  \"GSM5732586_GSE190826\" "
      ]
     },
     "metadata": {},
     "output_type": "display_data"
    },
    {
     "data": {
      "text/plain": [
       "class: SingleCellExperiment \n",
       "dim: 12165 369 \n",
       "metadata(0):\n",
       "assays(3): counts logcounts scalelogcounts\n",
       "rownames(12165): A1CF A2M ... ZZEF1 ZZZ3\n",
       "rowData names(5): SYMBOL ENTREZID ENSEMBL gene_id gene_name\n",
       "colnames(369): GSM5732588_GSE190826 GSM4523147_GSE150082 ...\n",
       "  GSM5732574_GSE190826 GSM4304768_GSE145037\n",
       "colData names(6): Response TRG ... Platform batch\n",
       "reducedDimNames(0):\n",
       "mainExpName: NULL\n",
       "altExpNames(0):"
      ]
     },
     "metadata": {},
     "output_type": "display_data"
    }
   ],
   "source": [
    "train_samples <- readLines(\"train_samples.txt\")\n",
    "head(train_samples)\n",
    "sce <- sce[,train_samples]\n",
    "sce"
   ]
  },
  {
   "cell_type": "code",
   "execution_count": 34,
   "id": "d690ccac-a774-4a53-bb7e-968964215605",
   "metadata": {},
   "outputs": [
    {
     "data": {
      "text/plain": [
       "\n",
       "    GSE133057     GSE145037     GSE150082     GSE190826     GSE209746 \n",
       "           22            30            27            89            88 \n",
       "GSE45404_GPL1 GSE45404_GPL2      GSE93375      GSE94104 \n",
       "           37            39            17            20 "
      ]
     },
     "metadata": {},
     "output_type": "display_data"
    }
   ],
   "source": [
    "table(colData(sce)$batch)\n",
    "\n",
    "## [1] \"GSE190826\" \"GSE209746\"\n",
    "\n",
    "## [1] \"GSE133057\"  \"GSE145037\"  \"GSE150082\"  \"GSE45404-2\" \"GSE45404-1\"\n",
    "## [6] \"GSE93375\"   \"GSE94104\""
   ]
  },
  {
   "cell_type": "code",
   "execution_count": 43,
   "id": "c10a5aac-59fb-4641-9297-8b3d3f1d0e57",
   "metadata": {},
   "outputs": [
    {
     "name": "stdout",
     "output_type": "stream",
     "text": [
      "[1] \"All\"\n"
     ]
    },
    {
     "data": {
      "text/plain": [
       "\n",
       " no yes \n",
       "267 143 "
      ]
     },
     "metadata": {},
     "output_type": "display_data"
    },
    {
     "name": "stdout",
     "output_type": "stream",
     "text": [
      "[1] \"de4\"\n"
     ]
    },
    {
     "data": {
      "text/plain": [
       "\n",
       " no yes \n",
       " 63  35 "
      ]
     },
     "metadata": {},
     "output_type": "display_data"
    },
    {
     "name": "stdout",
     "output_type": "stream",
     "text": [
      "[1] \"RNA_seq\"\n"
     ]
    },
    {
     "data": {
      "text/plain": [
       "\n",
       " no yes \n",
       "148  53 "
      ]
     },
     "metadata": {},
     "output_type": "display_data"
    }
   ],
   "source": [
    "all_data_sets <- sce\n",
    "de4_data_sets <- sce[, colData(sce)$Platform %in% c(\"GPL13497\",\"GPL14951\",\"GPL15207\",\"GPL6102\")]\n",
    "# de4_data_sets <- sce[, colData(sce)$batch %in% c(\"GSE133057\",\"GSE145037\",\"GSE150082\",\"GSE45404-1\",\"GSE45404-2\",\"GSE93375\",\"GSE94104\")]\n",
    "rna_seq_data_sets <- sce[, colData(sce)$batch %in% c(\"GSE190826\",\"GSE209746\")]\n",
    "\n",
    "print('All')\n",
    "table(colData(all_data_sets)$Response)\n",
    "print('de4')\n",
    "table(colData(de4_data_sets)$Response)\n",
    "print('RNA_seq')\n",
    "table(colData(rna_seq_data_sets)$Response)"
   ]
  },
  {
   "cell_type": "code",
   "execution_count": 44,
   "id": "5a00ef80-688a-4282-940f-e7268680089d",
   "metadata": {},
   "outputs": [],
   "source": [
    "get_diff_genes <- function(input_sce){\n",
    "    response <- colData(input_sce)$Response\n",
    "    batch <- colData(input_sce)$batch\n",
    "    print('current sample layout:')\n",
    "    print(table(colData(input_sce)$batch))\n",
    "    counts <- assay(input_sce, \"scalelogcounts\")\n",
    "    batch <- factor(unlist(batch))\n",
    "    response <- factor(unlist(response))\n",
    "    plotMDS(counts, col = as.numeric(response))\n",
    "    mm <- model.matrix(~0 + response + batch)\n",
    "    fit <- lmFit(counts, mm)\n",
    "    contr <- makeContrasts(responseyes - responseno, levels = colnames(coef(fit)))\n",
    "    tmp <- contrasts.fit(fit, contr)\n",
    "    tmp <- eBayes(tmp)\n",
    "    top.table <- topTable(tmp, sort.by = \"P\", n = Inf)\n",
    "    print(head(top.table, 20))\n",
    "    print(length(which(top.table$P.Value < p_val_thres)))\n",
    "    sig_genes <- rownames(top.table[top.table$P.Value < p_val_thres,])\n",
    "    return(sig_genes)\n",
    "}"
   ]
  },
  {
   "cell_type": "code",
   "execution_count": 45,
   "id": "a101198c-31e3-456f-b1f2-11fa904f18b5",
   "metadata": {
    "scrolled": true
   },
   "outputs": [],
   "source": [
    "DE_alldatasets <- get_diff_genes(all_data_sets)\n",
    "DE_4datasets <- get_diff_genes(de4_data_sets)\n",
    "DE_bulkDatasets <- get_diff_genes(rna_seq_data_sets)"
   ]
  },
  {
   "cell_type": "code",
   "execution_count": null,
   "id": "44650858-5bfa-4067-9970-657796e3025b",
   "metadata": {},
   "outputs": [],
   "source": [
    "de_intersect_plus_bulk_genes <- intersect(union(DE_bulkDatasets,DE_4datasets),DE_alldatasets)\n",
    "saveRDS(de_intersect_plus_bulk_genes,'ann_gene_set.rds')\n",
    "saveRDS(DE_alldatasets,'ann_gene_set.rds')"
   ]
  },
  {
   "cell_type": "code",
   "execution_count": null,
   "id": "726ab6be-3e5c-4743-87ef-f639b4257c18",
   "metadata": {},
   "outputs": [],
   "source": [
    "length(de_intersect_plus_bulk_genes)\n",
    "length(model_gene_list)\n",
    "length(intersect(model_gene_list,de_intersect_plus_bulk_genes))"
   ]
  },
  {
   "cell_type": "code",
   "execution_count": 25,
   "id": "f33d7f5e-0154-46fb-a4cc-d962d2addb29",
   "metadata": {},
   "outputs": [],
   "source": [
    "#de_all should have 962 total..."
   ]
  },
  {
   "cell_type": "code",
   "execution_count": 27,
   "id": "0ea84733-953b-4525-9adc-c180659937c7",
   "metadata": {},
   "outputs": [
    {
     "data": {
      "text/html": [
       "366"
      ],
      "text/latex": [
       "366"
      ],
      "text/markdown": [
       "366"
      ],
      "text/plain": [
       "[1] 366"
      ]
     },
     "metadata": {},
     "output_type": "display_data"
    }
   ],
   "source": []
  },
  {
   "cell_type": "code",
   "execution_count": 29,
   "id": "a73e3c69-e8ea-4643-b7d5-e36176f555f8",
   "metadata": {},
   "outputs": [
    {
     "data": {
      "text/html": [
       "224"
      ],
      "text/latex": [
       "224"
      ],
      "text/markdown": [
       "224"
      ],
      "text/plain": [
       "[1] 224"
      ]
     },
     "metadata": {},
     "output_type": "display_data"
    }
   ],
   "source": []
  },
  {
   "cell_type": "code",
   "execution_count": null,
   "id": "64e841ef-4d46-4c5a-8c26-8dd3e08604c7",
   "metadata": {},
   "outputs": [],
   "source": []
  }
 ],
 "metadata": {
  "kernelspec": {
   "display_name": "R",
   "language": "R",
   "name": "ir"
  },
  "language_info": {
   "codemirror_mode": "r",
   "file_extension": ".r",
   "mimetype": "text/x-r-source",
   "name": "R",
   "pygments_lexer": "r",
   "version": "4.3.1"
  }
 },
 "nbformat": 4,
 "nbformat_minor": 5
}
