{
 "cells": [
  {
   "cell_type": "code",
   "execution_count": null,
   "id": "40d18cab-2b99-499e-aff8-b2598550bca0",
   "metadata": {
    "scrolled": true
   },
   "outputs": [
    {
     "name": "stderr",
     "output_type": "stream",
     "text": [
      "2025-02-03 10:04:10.724920: I tensorflow/core/platform/cpu_feature_guard.cc:193] This TensorFlow binary is optimized with oneAPI Deep Neural Network Library (oneDNN) to use the following CPU instructions in performance-critical operations:  SSE4.1 SSE4.2 AVX AVX2 FMA\n",
      "To enable them in other operations, rebuild TensorFlow with the appropriate compiler flags.\n",
      "R[write to console]: Loading required package: SingleCellExperiment\n",
      "\n",
      "R[write to console]: Loading required package: SummarizedExperiment\n",
      "\n",
      "R[write to console]: Loading required package: MatrixGenerics\n",
      "\n",
      "R[write to console]: Loading required package: matrixStats\n",
      "\n",
      "R[write to console]: \n",
      "Attaching package: ‘MatrixGenerics’\n",
      "\n",
      "\n",
      "R[write to console]: The following objects are masked from ‘package:matrixStats’:\n",
      "\n",
      "    colAlls, colAnyNAs, colAnys, colAvgsPerRowSet, colCollapse,\n",
      "    colCounts, colCummaxs, colCummins, colCumprods, colCumsums,\n",
      "    colDiffs, colIQRDiffs, colIQRs, colLogSumExps, colMadDiffs,\n",
      "    colMads, colMaxs, colMeans2, colMedians, colMins, colOrderStats,\n",
      "    colProds, colQuantiles, colRanges, colRanks, colSdDiffs, colSds,\n",
      "    colSums2, colTabulates, colVarDiffs, colVars, colWeightedMads,\n",
      "    colWeightedMeans, colWeightedMedians, colWeightedSds,\n",
      "    colWeightedVars, rowAlls, rowAnyNAs, rowAnys, rowAvgsPerColSet,\n",
      "    rowCollapse, rowCounts, rowCummaxs, rowCummins, rowCumprods,\n",
      "    rowCumsums, rowDiffs, rowIQRDiffs, rowIQRs, rowLogSumExps,\n",
      "    rowMadDiffs, rowMads, rowMaxs, rowMeans2, rowMedians, rowMins,\n",
      "    rowOrderStats, rowProds, rowQuantiles, rowRanges, rowRanks,\n",
      "    rowSdDiffs, rowSds, rowSums2, rowTabulates, rowVarDiffs, rowVars,\n",
      "    rowWeightedMads, rowWeightedMeans, rowWeightedMedians,\n",
      "    rowWeightedSds, rowWeightedVars\n",
      "\n",
      "\n",
      "R[write to console]: Loading required package: GenomicRanges\n",
      "\n",
      "R[write to console]: Loading required package: stats4\n",
      "\n",
      "R[write to console]: Loading required package: BiocGenerics\n",
      "\n",
      "R[write to console]: \n",
      "Attaching package: ‘BiocGenerics’\n",
      "\n",
      "\n",
      "R[write to console]: The following objects are masked from ‘package:stats’:\n",
      "\n",
      "    IQR, mad, sd, var, xtabs\n",
      "\n",
      "\n",
      "R[write to console]: The following objects are masked from ‘package:base’:\n",
      "\n",
      "    anyDuplicated, aperm, append, as.data.frame, basename, cbind,\n",
      "    colnames, dirname, do.call, duplicated, eval, evalq, Filter, Find,\n",
      "    get, grep, grepl, intersect, is.unsorted, lapply, Map, mapply,\n",
      "    match, mget, order, paste, pmax, pmax.int, pmin, pmin.int,\n",
      "    Position, rank, rbind, Reduce, rownames, sapply, setdiff, sort,\n",
      "    table, tapply, union, unique, unsplit, which.max, which.min\n",
      "\n",
      "\n",
      "R[write to console]: Loading required package: S4Vectors\n",
      "\n",
      "R[write to console]: \n",
      "Attaching package: ‘S4Vectors’\n",
      "\n",
      "\n",
      "R[write to console]: The following object is masked from ‘package:utils’:\n",
      "\n",
      "    findMatches\n",
      "\n",
      "\n",
      "R[write to console]: The following objects are masked from ‘package:base’:\n",
      "\n",
      "    expand.grid, I, unname\n",
      "\n",
      "\n",
      "R[write to console]: Loading required package: IRanges\n",
      "\n",
      "R[write to console]: Loading required package: GenomeInfoDb\n",
      "\n",
      "R[write to console]: Loading required package: Biobase\n",
      "\n",
      "R[write to console]: Welcome to Bioconductor\n",
      "\n",
      "    Vignettes contain introductory material; view with\n",
      "    'browseVignettes()'. To cite Bioconductor, see\n",
      "    'citation(\"Biobase\")', and for packages 'citation(\"pkgname\")'.\n",
      "\n",
      "\n",
      "R[write to console]: \n",
      "Attaching package: ‘Biobase’\n",
      "\n",
      "\n",
      "R[write to console]: The following object is masked from ‘package:MatrixGenerics’:\n",
      "\n",
      "    rowMedians\n",
      "\n",
      "\n",
      "R[write to console]: The following objects are masked from ‘package:matrixStats’:\n",
      "\n",
      "    anyMissing, rowMedians\n",
      "\n",
      "\n"
     ]
    },
    {
     "name": "stdout",
     "output_type": "stream",
     "text": [
      "Data successfully loaded.\n",
      "R script executed successfully.\n",
      "2061\n",
      "Currently training, population member 1\n",
      "984\n"
     ]
    },
    {
     "name": "stderr",
     "output_type": "stream",
     "text": [
      "/opt/conda/lib/python3.10/multiprocessing/popen_fork.py:66: RuntimeWarning: os.fork() was called. os.fork() is incompatible with multithreaded code, and JAX is multithreaded, so this will likely lead to a deadlock.\n",
      "  self.pid = os.fork()\n"
     ]
    },
    {
     "name": "stdout",
     "output_type": "stream",
     "text": [
      "Epoch 0, Average Outcome Loss: 0.7524107694625854, Average Accuracy: 0.5, Test AUC: 0.5000, Test Accuracy: 0.6622\n",
      "Epoch 0, Average Outcome Loss: 0.6988402869966295, Average Accuracy: 0.5, Test AUC: 0.5000, Test Accuracy: 0.6622\n",
      "Epoch 0, Average Outcome Loss: 0.7248348130120171, Average Accuracy: 0.5, Test AUC: 0.5000, Test Accuracy: 0.6622\n",
      "Epoch 0, Average Outcome Loss: 0.7250342766443888, Average Accuracy: 0.5069444444444444, Test AUC: 0.5000, Test Accuracy: 0.3378\n",
      "Epoch 0, Average Outcome Loss: 0.7517518864737617, Average Accuracy: 0.4930555555555556, Test AUC: 0.5000, Test Accuracy: 0.3378\n",
      "Epoch 100, Average Outcome Loss: 0.7806676228841146, Average Accuracy: 0.5, Test AUC: 0.6808, Test Accuracy: 0.6622\n",
      "Epoch 100, Average Outcome Loss: 0.6442727910147773, Average Accuracy: 0.625, Test AUC: 0.7404, Test Accuracy: 0.4459\n",
      "Epoch 100, Average Outcome Loss: 0.5798414680692885, Average Accuracy: 0.6180555555555556, Test AUC: 0.7143, Test Accuracy: 0.3784\n",
      "Epoch 100, Average Outcome Loss: 0.7194860577583313, Average Accuracy: 0.5, Test AUC: 0.7437, Test Accuracy: 0.6622\n",
      "Epoch 100, Average Outcome Loss: 0.6498596005969577, Average Accuracy: 0.6388888888888888, Test AUC: 0.7388, Test Accuracy: 0.5000\n"
     ]
    },
    {
     "name": "stderr",
     "output_type": "stream",
     "text": [
      "/opt/conda/lib/python3.10/multiprocessing/popen_fork.py:66: RuntimeWarning: os.fork() was called. os.fork() is incompatible with multithreaded code, and JAX is multithreaded, so this will likely lead to a deadlock.\n",
      "  self.pid = os.fork()\n"
     ]
    },
    {
     "name": "stdout",
     "output_type": "stream",
     "text": [
      "Score: 0.7529795918367347\n",
      "Total time: 60.951016426086426 seconds\n",
      "Currently training, population member 2\n",
      "995\n"
     ]
    },
    {
     "name": "stderr",
     "output_type": "stream",
     "text": [
      "/opt/conda/lib/python3.10/multiprocessing/popen_fork.py:66: RuntimeWarning: os.fork() was called. os.fork() is incompatible with multithreaded code, and JAX is multithreaded, so this will likely lead to a deadlock.\n",
      "  self.pid = os.fork()\n"
     ]
    },
    {
     "name": "stdout",
     "output_type": "stream",
     "text": [
      "Epoch 0, Average Outcome Loss: 0.7948147853215536, Average Accuracy: 0.5, Test AUC: 0.5000, Test Accuracy: 0.3378\n",
      "Epoch 0, Average Outcome Loss: 0.7105572091208564, Average Accuracy: 0.4930555555555556, Test AUC: 0.5000, Test Accuracy: 0.6622\n",
      "Epoch 0, Average Outcome Loss: 0.7638536625438266, Average Accuracy: 0.5, Test AUC: 0.5000, Test Accuracy: 0.3378\n",
      "Epoch 0, Average Outcome Loss: 0.7231052451663547, Average Accuracy: 0.5069444444444444, Test AUC: 0.5000, Test Accuracy: 0.3378\n",
      "Epoch 0, Average Outcome Loss: 0.7595554523997836, Average Accuracy: 0.5, Test AUC: 0.5000, Test Accuracy: 0.6622\n",
      "Epoch 100, Average Outcome Loss: 0.6909998854001363, Average Accuracy: 0.5, Test AUC: 0.7339, Test Accuracy: 0.3378\n",
      "Epoch 100, Average Outcome Loss: 0.6697491937213473, Average Accuracy: 0.8125, Test AUC: 0.5951, Test Accuracy: 0.6622\n",
      "Epoch 100, Average Outcome Loss: 0.6640216045909457, Average Accuracy: 0.6041666666666666, Test AUC: 0.6065, Test Accuracy: 0.5541\n",
      "Epoch 100, Average Outcome Loss: 0.688547220495012, Average Accuracy: 0.5069444444444444, Test AUC: 0.5608, Test Accuracy: 0.3378\n",
      "Epoch 100, Average Outcome Loss: 1.0862560669581096, Average Accuracy: 0.5, Test AUC: 0.4620, Test Accuracy: 0.3378\n"
     ]
    },
    {
     "name": "stderr",
     "output_type": "stream",
     "text": [
      "/opt/conda/lib/python3.10/multiprocessing/popen_fork.py:66: RuntimeWarning: os.fork() was called. os.fork() is incompatible with multithreaded code, and JAX is multithreaded, so this will likely lead to a deadlock.\n",
      "  self.pid = os.fork()\n"
     ]
    },
    {
     "name": "stdout",
     "output_type": "stream",
     "text": [
      "Score: 0.7067755102040816\n",
      "Total time: 60.97407913208008 seconds\n",
      "Currently training, population member 3\n",
      "1029\n"
     ]
    },
    {
     "name": "stderr",
     "output_type": "stream",
     "text": [
      "/opt/conda/lib/python3.10/multiprocessing/popen_fork.py:66: RuntimeWarning: os.fork() was called. os.fork() is incompatible with multithreaded code, and JAX is multithreaded, so this will likely lead to a deadlock.\n",
      "  self.pid = os.fork()\n"
     ]
    },
    {
     "name": "stdout",
     "output_type": "stream",
     "text": [
      "Epoch 0, Average Outcome Loss: 0.6918688416481018, Average Accuracy: 0.5347222222222222, Test AUC: 0.5000, Test Accuracy: 0.3378\n",
      "Epoch 0, Average Outcome Loss: 0.6979953977796767, Average Accuracy: 0.5555555555555556, Test AUC: 0.5000, Test Accuracy: 0.6622\n",
      "Epoch 0, Average Outcome Loss: 0.8214271797074212, Average Accuracy: 0.5, Test AUC: 0.5000, Test Accuracy: 0.6622\n",
      "Epoch 0, Average Outcome Loss: 1.074412292904324, Average Accuracy: 0.5, Test AUC: 0.5000, Test Accuracy: 0.3378\n",
      "Epoch 0, Average Outcome Loss: 0.9856285982661777, Average Accuracy: 0.5, Test AUC: 0.5000, Test Accuracy: 0.3378\n",
      "Epoch 100, Average Outcome Loss: 0.7691555619239807, Average Accuracy: 0.5, Test AUC: 0.5000, Test Accuracy: 0.3378\n",
      "Epoch 100, Average Outcome Loss: 0.6949824690818787, Average Accuracy: 0.5, Test AUC: 0.6669, Test Accuracy: 0.6622\n",
      "Epoch 100, Average Outcome Loss: 0.6893135971493192, Average Accuracy: 0.5277777777777778, Test AUC: 0.7241, Test Accuracy: 0.6622\n",
      "Epoch 100, Average Outcome Loss: 0.7201929489771525, Average Accuracy: 0.5, Test AUC: 0.3420, Test Accuracy: 0.3378\n",
      "Epoch 100, Average Outcome Loss: 0.8398552735646566, Average Accuracy: 0.5, Test AUC: 0.6800, Test Accuracy: 0.6622\n"
     ]
    },
    {
     "name": "stderr",
     "output_type": "stream",
     "text": [
      "/opt/conda/lib/python3.10/multiprocessing/popen_fork.py:66: RuntimeWarning: os.fork() was called. os.fork() is incompatible with multithreaded code, and JAX is multithreaded, so this will likely lead to a deadlock.\n",
      "  self.pid = os.fork()\n"
     ]
    },
    {
     "name": "stdout",
     "output_type": "stream",
     "text": [
      "Score: 0.7488979591836734\n",
      "Total time: 60.93395686149597 seconds\n",
      "Currently training, population member 4\n",
      "1019\n"
     ]
    },
    {
     "name": "stderr",
     "output_type": "stream",
     "text": [
      "/opt/conda/lib/python3.10/multiprocessing/popen_fork.py:66: RuntimeWarning: os.fork() was called. os.fork() is incompatible with multithreaded code, and JAX is multithreaded, so this will likely lead to a deadlock.\n",
      "  self.pid = os.fork()\n"
     ]
    },
    {
     "name": "stdout",
     "output_type": "stream",
     "text": [
      "Epoch 0, Average Outcome Loss: 0.713190495967865, Average Accuracy: 0.4930555555555556, Test AUC: 0.5000, Test Accuracy: 0.3378\n",
      "Epoch 0, Average Outcome Loss: 0.8558144701851739, Average Accuracy: 0.5, Test AUC: 0.5000, Test Accuracy: 0.6622\n",
      "Epoch 0, Average Outcome Loss: 0.733504851659139, Average Accuracy: 0.5, Test AUC: 0.5000, Test Accuracy: 0.6622\n",
      "Epoch 0, Average Outcome Loss: 0.7986765172746446, Average Accuracy: 0.5, Test AUC: 0.5000, Test Accuracy: 0.6622\n",
      "Epoch 0, Average Outcome Loss: 0.9173847436904907, Average Accuracy: 0.5, Test AUC: 0.5000, Test Accuracy: 0.3378\n",
      "Epoch 100, Average Outcome Loss: 0.8591483367813958, Average Accuracy: 0.5, Test AUC: 0.7184, Test Accuracy: 0.6622\n",
      "Epoch 100, Average Outcome Loss: 0.6895921031634012, Average Accuracy: 0.5347222222222222, Test AUC: 0.8041, Test Accuracy: 0.4595\n",
      "Epoch 100, Average Outcome Loss: 0.6753050221337212, Average Accuracy: 0.6458333333333334, Test AUC: 0.7347, Test Accuracy: 0.7162\n",
      "Epoch 100, Average Outcome Loss: 0.6642666723993089, Average Accuracy: 0.5555555555555556, Test AUC: 0.7861, Test Accuracy: 0.5946\n",
      "Epoch 100, Average Outcome Loss: 0.6868780851364136, Average Accuracy: 0.5694444444444444, Test AUC: 0.7641, Test Accuracy: 0.3649\n"
     ]
    },
    {
     "name": "stderr",
     "output_type": "stream",
     "text": [
      "/opt/conda/lib/python3.10/multiprocessing/popen_fork.py:66: RuntimeWarning: os.fork() was called. os.fork() is incompatible with multithreaded code, and JAX is multithreaded, so this will likely lead to a deadlock.\n",
      "  self.pid = os.fork()\n"
     ]
    },
    {
     "name": "stdout",
     "output_type": "stream",
     "text": [
      "Score: 0.8070204081632653\n",
      "Total time: 60.815540075302124 seconds\n",
      "Currently training, population member 5\n",
      "1064\n"
     ]
    },
    {
     "name": "stderr",
     "output_type": "stream",
     "text": [
      "/opt/conda/lib/python3.10/multiprocessing/popen_fork.py:66: RuntimeWarning: os.fork() was called. os.fork() is incompatible with multithreaded code, and JAX is multithreaded, so this will likely lead to a deadlock.\n",
      "  self.pid = os.fork()\n"
     ]
    },
    {
     "name": "stdout",
     "output_type": "stream",
     "text": [
      "Epoch 0, Average Outcome Loss: 0.7334871821933322, Average Accuracy: 0.5, Test AUC: 0.5000, Test Accuracy: 0.6622\n",
      "Epoch 0, Average Outcome Loss: 0.6995319392946031, Average Accuracy: 0.5069444444444444, Test AUC: 0.5000, Test Accuracy: 0.3378\n",
      "Epoch 0, Average Outcome Loss: 0.7017299665345086, Average Accuracy: 0.5, Test AUC: 0.5000, Test Accuracy: 0.6622\n",
      "Epoch 0, Average Outcome Loss: 0.8371300035052829, Average Accuracy: 0.5, Test AUC: 0.5000, Test Accuracy: 0.6622\n",
      "Epoch 0, Average Outcome Loss: 0.7091042531861199, Average Accuracy: 0.5, Test AUC: 0.5000, Test Accuracy: 0.3378\n",
      "Epoch 100, Average Outcome Loss: 0.6927536924680074, Average Accuracy: 0.5, Test AUC: 0.6702, Test Accuracy: 0.6622\n",
      "Epoch 100, Average Outcome Loss: 0.6971195671293471, Average Accuracy: 0.5, Test AUC: 0.7078, Test Accuracy: 0.6622\n",
      "Epoch 100, Average Outcome Loss: 0.681989484363132, Average Accuracy: 0.6597222222222222, Test AUC: 0.7298, Test Accuracy: 0.7432\n",
      "Epoch 100, Average Outcome Loss: 0.686453017923567, Average Accuracy: 0.5138888888888888, Test AUC: 0.3943, Test Accuracy: 0.3378\n",
      "Epoch 100, Average Outcome Loss: 0.713602774673038, Average Accuracy: 0.5, Test AUC: 0.3143, Test Accuracy: 0.3378\n"
     ]
    },
    {
     "name": "stderr",
     "output_type": "stream",
     "text": [
      "/opt/conda/lib/python3.10/multiprocessing/popen_fork.py:66: RuntimeWarning: os.fork() was called. os.fork() is incompatible with multithreaded code, and JAX is multithreaded, so this will likely lead to a deadlock.\n",
      "  self.pid = os.fork()\n"
     ]
    },
    {
     "name": "stdout",
     "output_type": "stream",
     "text": [
      "Score: 0.7554285714285714\n",
      "Total time: 62.12620806694031 seconds\n",
      "Currently training, population member 6\n",
      "1024\n"
     ]
    },
    {
     "name": "stderr",
     "output_type": "stream",
     "text": [
      "/opt/conda/lib/python3.10/multiprocessing/popen_fork.py:66: RuntimeWarning: os.fork() was called. os.fork() is incompatible with multithreaded code, and JAX is multithreaded, so this will likely lead to a deadlock.\n",
      "  self.pid = os.fork()\n"
     ]
    },
    {
     "name": "stdout",
     "output_type": "stream",
     "text": [
      "Epoch 0, Average Outcome Loss: 0.7066627608405219, Average Accuracy: 0.4652777777777778, Test AUC: 0.5000, Test Accuracy: 0.6622\n",
      "Epoch 0, Average Outcome Loss: 0.7268964184655083, Average Accuracy: 0.5, Test AUC: 0.5000, Test Accuracy: 0.3378\n",
      "Epoch 0, Average Outcome Loss: 0.8956190943717957, Average Accuracy: 0.5, Test AUC: 0.5000, Test Accuracy: 0.3378\n",
      "Epoch 0, Average Outcome Loss: 0.7318142453829447, Average Accuracy: 0.5069444444444444, Test AUC: 0.5000, Test Accuracy: 0.6622\n",
      "Epoch 0, Average Outcome Loss: 0.8485224909252591, Average Accuracy: 0.5, Test AUC: 0.5000, Test Accuracy: 0.3378\n",
      "Epoch 100, Average Outcome Loss: 0.6299917499224345, Average Accuracy: 0.6041666666666666, Test AUC: 0.7665, Test Accuracy: 0.3514\n",
      "Epoch 100, Average Outcome Loss: 0.7102008528179593, Average Accuracy: 0.5069444444444444, Test AUC: 0.7837, Test Accuracy: 0.5000\n",
      "Epoch 100, Average Outcome Loss: 0.7923455635706583, Average Accuracy: 0.5763888888888888, Test AUC: 0.7600, Test Accuracy: 0.6622\n",
      "Epoch 100, Average Outcome Loss: 47.26245371500651, Average Accuracy: 0.5, Test AUC: 0.5000, Test Accuracy: 0.3378\n",
      "Epoch 100, Average Outcome Loss: 0.6912978688875834, Average Accuracy: 0.625, Test AUC: 0.7600, Test Accuracy: 0.6486\n"
     ]
    },
    {
     "name": "stderr",
     "output_type": "stream",
     "text": [
      "/opt/conda/lib/python3.10/multiprocessing/popen_fork.py:66: RuntimeWarning: os.fork() was called. os.fork() is incompatible with multithreaded code, and JAX is multithreaded, so this will likely lead to a deadlock.\n",
      "  self.pid = os.fork()\n"
     ]
    },
    {
     "name": "stdout",
     "output_type": "stream",
     "text": [
      "Score: 0.8017959183673469\n",
      "Total time: 60.420738220214844 seconds\n",
      "Currently training, population member 7\n",
      "1047\n"
     ]
    },
    {
     "name": "stderr",
     "output_type": "stream",
     "text": [
      "/opt/conda/lib/python3.10/multiprocessing/popen_fork.py:66: RuntimeWarning: os.fork() was called. os.fork() is incompatible with multithreaded code, and JAX is multithreaded, so this will likely lead to a deadlock.\n",
      "  self.pid = os.fork()\n"
     ]
    },
    {
     "name": "stdout",
     "output_type": "stream",
     "text": [
      "Epoch 0, Average Outcome Loss: 0.7739043633143107, Average Accuracy: 0.5, Test AUC: 0.5000, Test Accuracy: 0.3378\n",
      "Epoch 0, Average Outcome Loss: 0.6893951363033719, Average Accuracy: 0.5069444444444444, Test AUC: 0.5000, Test Accuracy: 0.6622\n",
      "Epoch 0, Average Outcome Loss: 0.8626975814501444, Average Accuracy: 0.5, Test AUC: 0.5000, Test Accuracy: 0.3378\n",
      "Epoch 0, Average Outcome Loss: 0.924079179763794, Average Accuracy: 0.5, Test AUC: 0.5000, Test Accuracy: 0.3378\n",
      "Epoch 0, Average Outcome Loss: 0.8777242832713656, Average Accuracy: 0.5, Test AUC: 0.5000, Test Accuracy: 0.3378\n",
      "Epoch 100, Average Outcome Loss: 0.7977441085709466, Average Accuracy: 0.5, Test AUC: 0.6473, Test Accuracy: 0.6622\n",
      "Epoch 100, Average Outcome Loss: 1.4886332485410902, Average Accuracy: 0.4930555555555556, Test AUC: 0.5000, Test Accuracy: 0.3378\n",
      "Epoch 100, Average Outcome Loss: 0.6841973198784722, Average Accuracy: 0.5833333333333334, Test AUC: 0.5241, Test Accuracy: 0.3378\n",
      "Epoch 100, Average Outcome Loss: 0.9652139080895318, Average Accuracy: 0.5, Test AUC: 0.5616, Test Accuracy: 0.3378\n",
      "Epoch 100, Average Outcome Loss: 0.7139659656418694, Average Accuracy: 0.5, Test AUC: 0.4596, Test Accuracy: 0.3378\n"
     ]
    },
    {
     "name": "stderr",
     "output_type": "stream",
     "text": [
      "/opt/conda/lib/python3.10/multiprocessing/popen_fork.py:66: RuntimeWarning: os.fork() was called. os.fork() is incompatible with multithreaded code, and JAX is multithreaded, so this will likely lead to a deadlock.\n",
      "  self.pid = os.fork()\n"
     ]
    },
    {
     "name": "stdout",
     "output_type": "stream",
     "text": [
      "Score: 0.6857142857142857\n",
      "Total time: 60.36645460128784 seconds\n",
      "Currently training, population member 8\n",
      "1072\n"
     ]
    },
    {
     "name": "stderr",
     "output_type": "stream",
     "text": [
      "/opt/conda/lib/python3.10/multiprocessing/popen_fork.py:66: RuntimeWarning: os.fork() was called. os.fork() is incompatible with multithreaded code, and JAX is multithreaded, so this will likely lead to a deadlock.\n",
      "  self.pid = os.fork()\n"
     ]
    },
    {
     "name": "stdout",
     "output_type": "stream",
     "text": [
      "Epoch 0, Average Outcome Loss: 0.8158126870791117, Average Accuracy: 0.5, Test AUC: 0.5000, Test Accuracy: 0.3378\n",
      "Epoch 0, Average Outcome Loss: 0.6874810523456998, Average Accuracy: 0.5416666666666666, Test AUC: 0.5000, Test Accuracy: 0.3378\n",
      "Epoch 0, Average Outcome Loss: 0.7141888803905911, Average Accuracy: 0.5069444444444444, Test AUC: 0.5000, Test Accuracy: 0.3378\n",
      "Epoch 0, Average Outcome Loss: 0.7028529975149367, Average Accuracy: 0.4861111111111111, Test AUC: 0.5000, Test Accuracy: 0.3378\n",
      "Epoch 0, Average Outcome Loss: 0.7012011806170145, Average Accuracy: 0.5, Test AUC: 0.5000, Test Accuracy: 0.6622\n",
      "Epoch 100, Average Outcome Loss: 0.6930758290820651, Average Accuracy: 0.5, Test AUC: 0.5902, Test Accuracy: 0.3378\n",
      "Epoch 100, Average Outcome Loss: 0.9053376383251615, Average Accuracy: 0.5, Test AUC: 0.4702, Test Accuracy: 0.6622\n",
      "Epoch 100, Average Outcome Loss: 0.6651027732425265, Average Accuracy: 0.5972222222222222, Test AUC: 0.7176, Test Accuracy: 0.5676\n",
      "Epoch 100, Average Outcome Loss: 0.707375274764167, Average Accuracy: 0.5, Test AUC: 0.6571, Test Accuracy: 0.6622\n",
      "Epoch 100, Average Outcome Loss: 0.6771657135751512, Average Accuracy: 0.6111111111111112, Test AUC: 0.7184, Test Accuracy: 0.4865\n"
     ]
    },
    {
     "name": "stderr",
     "output_type": "stream",
     "text": [
      "/opt/conda/lib/python3.10/multiprocessing/popen_fork.py:66: RuntimeWarning: os.fork() was called. os.fork() is incompatible with multithreaded code, and JAX is multithreaded, so this will likely lead to a deadlock.\n",
      "  self.pid = os.fork()\n"
     ]
    },
    {
     "name": "stdout",
     "output_type": "stream",
     "text": [
      "Score: 0.7193469387755103\n",
      "Total time: 62.16869759559631 seconds\n",
      "Currently training, population member 9\n",
      "1023\n"
     ]
    },
    {
     "name": "stderr",
     "output_type": "stream",
     "text": [
      "/opt/conda/lib/python3.10/multiprocessing/popen_fork.py:66: RuntimeWarning: os.fork() was called. os.fork() is incompatible with multithreaded code, and JAX is multithreaded, so this will likely lead to a deadlock.\n",
      "  self.pid = os.fork()\n"
     ]
    },
    {
     "name": "stdout",
     "output_type": "stream",
     "text": [
      "Epoch 0, Average Outcome Loss: 0.6955118113093905, Average Accuracy: 0.5972222222222222, Test AUC: 0.5000, Test Accuracy: 0.6622\n",
      "Epoch 0, Average Outcome Loss: 0.6930316752857633, Average Accuracy: 0.5138888888888888, Test AUC: 0.5000, Test Accuracy: 0.6622\n",
      "Epoch 0, Average Outcome Loss: 0.7360273467169868, Average Accuracy: 0.5, Test AUC: 0.5000, Test Accuracy: 0.6622\n",
      "Epoch 0, Average Outcome Loss: 1.069397701157464, Average Accuracy: 0.5, Test AUC: 0.5000, Test Accuracy: 0.6622\n",
      "Epoch 0, Average Outcome Loss: 0.7047081589698792, Average Accuracy: 0.4861111111111111, Test AUC: 0.6024, Test Accuracy: 0.6622\n",
      "Epoch 100, Average Outcome Loss: 0.7856317626105415, Average Accuracy: 0.5, Test AUC: 0.3861, Test Accuracy: 0.3378\n",
      "Epoch 100, Average Outcome Loss: 0.6919436388545566, Average Accuracy: 0.5, Test AUC: 0.5967, Test Accuracy: 0.6622\n",
      "Epoch 100, Average Outcome Loss: 0.7023457884788513, Average Accuracy: 0.5, Test AUC: 0.3976, Test Accuracy: 0.3378\n",
      "Epoch 100, Average Outcome Loss: 0.8361040618684557, Average Accuracy: 0.5, Test AUC: 0.5135, Test Accuracy: 0.4324\n",
      "Epoch 100, Average Outcome Loss: 1.833069470193651, Average Accuracy: 0.5, Test AUC: 0.3918, Test Accuracy: 0.3378\n"
     ]
    },
    {
     "name": "stderr",
     "output_type": "stream",
     "text": [
      "/opt/conda/lib/python3.10/multiprocessing/popen_fork.py:66: RuntimeWarning: os.fork() was called. os.fork() is incompatible with multithreaded code, and JAX is multithreaded, so this will likely lead to a deadlock.\n",
      "  self.pid = os.fork()\n"
     ]
    },
    {
     "name": "stdout",
     "output_type": "stream",
     "text": [
      "Score: 0.6352653061224489\n",
      "Total time: 61.32637405395508 seconds\n",
      "Currently training, population member 10\n",
      "1031\n"
     ]
    },
    {
     "name": "stderr",
     "output_type": "stream",
     "text": [
      "/opt/conda/lib/python3.10/multiprocessing/popen_fork.py:66: RuntimeWarning: os.fork() was called. os.fork() is incompatible with multithreaded code, and JAX is multithreaded, so this will likely lead to a deadlock.\n",
      "  self.pid = os.fork()\n"
     ]
    },
    {
     "name": "stdout",
     "output_type": "stream",
     "text": [
      "Epoch 0, Average Outcome Loss: 0.9652091463406881, Average Accuracy: 0.5, Test AUC: 0.5000, Test Accuracy: 0.3378\n",
      "Epoch 0, Average Outcome Loss: 0.7360822624630399, Average Accuracy: 0.5, Test AUC: 0.5000, Test Accuracy: 0.3378\n",
      "Epoch 0, Average Outcome Loss: 0.6893408166037666, Average Accuracy: 0.5555555555555556, Test AUC: 0.5000, Test Accuracy: 0.6622\n",
      "Epoch 0, Average Outcome Loss: 0.6943743295139737, Average Accuracy: 0.5902777777777778, Test AUC: 0.5000, Test Accuracy: 0.3378\n",
      "Epoch 0, Average Outcome Loss: 1.019084996647305, Average Accuracy: 0.5, Test AUC: 0.5000, Test Accuracy: 0.6622\n",
      "Epoch 100, Average Outcome Loss: 0.7172892822159661, Average Accuracy: 0.5, Test AUC: 0.4457, Test Accuracy: 0.3378Epoch 100, Average Outcome Loss: 0.6963727010620965, Average Accuracy: 0.5, Test AUC: 0.5216, Test Accuracy: 0.3378\n",
      "\n",
      "Epoch 100, Average Outcome Loss: 0.7401909033457438, Average Accuracy: 0.5, Test AUC: 0.5984, Test Accuracy: 0.6622\n",
      "Epoch 100, Average Outcome Loss: 0.690884358353085, Average Accuracy: 0.5, Test AUC: 0.6098, Test Accuracy: 0.6622\n",
      "Epoch 100, Average Outcome Loss: 0.8011459973123338, Average Accuracy: 0.5, Test AUC: 0.4139, Test Accuracy: 0.3378\n"
     ]
    },
    {
     "name": "stderr",
     "output_type": "stream",
     "text": [
      "/opt/conda/lib/python3.10/multiprocessing/popen_fork.py:66: RuntimeWarning: os.fork() was called. os.fork() is incompatible with multithreaded code, and JAX is multithreaded, so this will likely lead to a deadlock.\n",
      "  self.pid = os.fork()\n"
     ]
    },
    {
     "name": "stdout",
     "output_type": "stream",
     "text": [
      "Score: 0.6664489795918367\n",
      "Total time: 60.91705822944641 seconds\n",
      "Currently training, population member 11\n",
      "1015\n"
     ]
    },
    {
     "name": "stderr",
     "output_type": "stream",
     "text": [
      "/opt/conda/lib/python3.10/multiprocessing/popen_fork.py:66: RuntimeWarning: os.fork() was called. os.fork() is incompatible with multithreaded code, and JAX is multithreaded, so this will likely lead to a deadlock.\n",
      "  self.pid = os.fork()\n"
     ]
    },
    {
     "name": "stdout",
     "output_type": "stream",
     "text": [
      "Epoch 0, Average Outcome Loss: 0.6915593809551663, Average Accuracy: 0.5555555555555556, Test AUC: 0.6914, Test Accuracy: 0.3378\n",
      "Epoch 0, Average Outcome Loss: 0.7255959974394904, Average Accuracy: 0.5138888888888888, Test AUC: 0.5000, Test Accuracy: 0.6622\n",
      "Epoch 0, Average Outcome Loss: 0.7550392283333672, Average Accuracy: 0.5, Test AUC: 0.5000, Test Accuracy: 0.3378\n",
      "Epoch 0, Average Outcome Loss: 0.7034783760706583, Average Accuracy: 0.5138888888888888, Test AUC: 0.5000, Test Accuracy: 0.6622\n",
      "Epoch 0, Average Outcome Loss: 0.7192967865202162, Average Accuracy: 0.4097222222222222, Test AUC: 0.5000, Test Accuracy: 0.3378\n",
      "Epoch 100, Average Outcome Loss: 0.6885537240240309, Average Accuracy: 0.4583333333333333, Test AUC: 0.7159, Test Accuracy: 0.6892\n",
      "Epoch 100, Average Outcome Loss: 2.335779560936822, Average Accuracy: 0.5, Test AUC: 0.3412, Test Accuracy: 0.3378\n",
      "Epoch 100, Average Outcome Loss: 0.6965897546874152, Average Accuracy: 0.5, Test AUC: 0.3714, Test Accuracy: 0.3378\n",
      "Epoch 100, Average Outcome Loss: 0.6757898463143243, Average Accuracy: 0.6458333333333334, Test AUC: 0.7200, Test Accuracy: 0.6081\n",
      "Epoch 100, Average Outcome Loss: 1.5477589898639255, Average Accuracy: 0.5, Test AUC: 0.4465, Test Accuracy: 0.6622\n"
     ]
    },
    {
     "name": "stderr",
     "output_type": "stream",
     "text": [
      "/opt/conda/lib/python3.10/multiprocessing/popen_fork.py:66: RuntimeWarning: os.fork() was called. os.fork() is incompatible with multithreaded code, and JAX is multithreaded, so this will likely lead to a deadlock.\n",
      "  self.pid = os.fork()\n"
     ]
    },
    {
     "name": "stdout",
     "output_type": "stream",
     "text": [
      "Score: 0.734530612244898\n",
      "Total time: 61.23886013031006 seconds\n",
      "Currently training, population member 12\n",
      "1061\n"
     ]
    },
    {
     "name": "stderr",
     "output_type": "stream",
     "text": [
      "/opt/conda/lib/python3.10/multiprocessing/popen_fork.py:66: RuntimeWarning: os.fork() was called. os.fork() is incompatible with multithreaded code, and JAX is multithreaded, so this will likely lead to a deadlock.\n",
      "  self.pid = os.fork()\n"
     ]
    },
    {
     "name": "stdout",
     "output_type": "stream",
     "text": [
      "Epoch 0, Average Outcome Loss: 1.1091526216930814, Average Accuracy: 0.5, Test AUC: 0.5000, Test Accuracy: 0.3378\n",
      "Epoch 0, Average Outcome Loss: 0.7610311971770393, Average Accuracy: 0.5, Test AUC: 0.5000, Test Accuracy: 0.3378\n",
      "Epoch 0, Average Outcome Loss: 0.8289236293898689, Average Accuracy: 0.5, Test AUC: 0.5000, Test Accuracy: 0.3378\n",
      "Epoch 0, Average Outcome Loss: 0.7775718304846022, Average Accuracy: 0.5, Test AUC: 0.5000, Test Accuracy: 0.6622\n",
      "Epoch 0, Average Outcome Loss: 0.8776686986287435, Average Accuracy: 0.5, Test AUC: 0.5000, Test Accuracy: 0.3378\n",
      "Epoch 100, Average Outcome Loss: 0.6798886590533786, Average Accuracy: 0.6111111111111112, Test AUC: 0.7837, Test Accuracy: 0.7027\n",
      "Epoch 100, Average Outcome Loss: 0.7020059095488654, Average Accuracy: 0.5, Test AUC: 0.5894, Test Accuracy: 0.6622\n",
      "Epoch 100, Average Outcome Loss: 0.6947314076953464, Average Accuracy: 0.5, Test AUC: 0.4710, Test Accuracy: 0.3378\n",
      "Epoch 100, Average Outcome Loss: 0.7739464177025689, Average Accuracy: 0.5, Test AUC: 0.6971, Test Accuracy: 0.3378\n",
      "Epoch 100, Average Outcome Loss: 0.8548179070154825, Average Accuracy: 0.5, Test AUC: 0.6555, Test Accuracy: 0.6622\n"
     ]
    },
    {
     "name": "stderr",
     "output_type": "stream",
     "text": [
      "/opt/conda/lib/python3.10/multiprocessing/popen_fork.py:66: RuntimeWarning: os.fork() was called. os.fork() is incompatible with multithreaded code, and JAX is multithreaded, so this will likely lead to a deadlock.\n",
      "  self.pid = os.fork()\n"
     ]
    },
    {
     "name": "stdout",
     "output_type": "stream",
     "text": [
      "Score: 0.7693061224489796\n",
      "Total time: 61.42819023132324 seconds\n",
      "Currently training, population member 13\n",
      "1055\n"
     ]
    },
    {
     "name": "stderr",
     "output_type": "stream",
     "text": [
      "/opt/conda/lib/python3.10/multiprocessing/popen_fork.py:66: RuntimeWarning: os.fork() was called. os.fork() is incompatible with multithreaded code, and JAX is multithreaded, so this will likely lead to a deadlock.\n",
      "  self.pid = os.fork()\n"
     ]
    },
    {
     "name": "stdout",
     "output_type": "stream",
     "text": [
      "Epoch 0, Average Outcome Loss: 0.8209669523768954, Average Accuracy: 0.5, Test AUC: 0.5000, Test Accuracy: 0.6622\n",
      "Epoch 0, Average Outcome Loss: 0.9421731564733717, Average Accuracy: 0.5, Test AUC: 0.5000, Test Accuracy: 0.3378\n",
      "Epoch 0, Average Outcome Loss: 0.7101107901997037, Average Accuracy: 0.5277777777777778, Test AUC: 0.5000, Test Accuracy: 0.6622\n",
      "Epoch 0, Average Outcome Loss: 0.7228821383582221, Average Accuracy: 0.5, Test AUC: 0.5000, Test Accuracy: 0.3378\n",
      "Epoch 0, Average Outcome Loss: 0.7104304234186808, Average Accuracy: 0.5, Test AUC: 0.5000, Test Accuracy: 0.6622\n",
      "Epoch 100, Average Outcome Loss: 1.681893269220988, Average Accuracy: 0.5, Test AUC: 0.6188, Test Accuracy: 0.6622\n",
      "Epoch 100, Average Outcome Loss: 0.7252068784501817, Average Accuracy: 0.5, Test AUC: 0.4816, Test Accuracy: 0.3378\n",
      "Epoch 100, Average Outcome Loss: 1.5774264070722792, Average Accuracy: 0.5, Test AUC: 0.4433, Test Accuracy: 0.6622\n",
      "Epoch 100, Average Outcome Loss: 1.5170747174157038, Average Accuracy: 0.5, Test AUC: 0.4857, Test Accuracy: 0.3378\n",
      "Epoch 100, Average Outcome Loss: 0.7745989494853549, Average Accuracy: 0.5, Test AUC: 0.5388, Test Accuracy: 0.6622\n"
     ]
    },
    {
     "name": "stderr",
     "output_type": "stream",
     "text": [
      "/opt/conda/lib/python3.10/multiprocessing/popen_fork.py:66: RuntimeWarning: os.fork() was called. os.fork() is incompatible with multithreaded code, and JAX is multithreaded, so this will likely lead to a deadlock.\n",
      "  self.pid = os.fork()\n"
     ]
    },
    {
     "name": "stdout",
     "output_type": "stream",
     "text": [
      "Score: 0.6448979591836734\n",
      "Total time: 61.458497285842896 seconds\n",
      "Currently training, population member 14\n",
      "1013\n"
     ]
    },
    {
     "name": "stderr",
     "output_type": "stream",
     "text": [
      "/opt/conda/lib/python3.10/multiprocessing/popen_fork.py:66: RuntimeWarning: os.fork() was called. os.fork() is incompatible with multithreaded code, and JAX is multithreaded, so this will likely lead to a deadlock.\n",
      "  self.pid = os.fork()\n"
     ]
    },
    {
     "name": "stdout",
     "output_type": "stream",
     "text": [
      "Epoch 0, Average Outcome Loss: 0.7190582222408719, Average Accuracy: 0.4236111111111111, Test AUC: 0.5000, Test Accuracy: 0.3378\n",
      "Epoch 0, Average Outcome Loss: 0.7529582050111558, Average Accuracy: 0.5, Test AUC: 0.5000, Test Accuracy: 0.3378\n",
      "Epoch 0, Average Outcome Loss: 0.7749912142753601, Average Accuracy: 0.5, Test AUC: 0.5000, Test Accuracy: 0.6622\n",
      "Epoch 0, Average Outcome Loss: 0.8023650844891866, Average Accuracy: 0.5, Test AUC: 0.5000, Test Accuracy: 0.6622\n",
      "Epoch 0, Average Outcome Loss: 0.7010314067204794, Average Accuracy: 0.4513888888888889, Test AUC: 0.5000, Test Accuracy: 0.6622\n",
      "Epoch 100, Average Outcome Loss: 0.8597051435046725, Average Accuracy: 0.5, Test AUC: 0.6082, Test Accuracy: 0.3378\n",
      "Epoch 100, Average Outcome Loss: 0.7258418334854974, Average Accuracy: 0.5, Test AUC: 0.6784, Test Accuracy: 0.6622\n",
      "Epoch 100, Average Outcome Loss: 0.6986842817730374, Average Accuracy: 0.5, Test AUC: 0.5633, Test Accuracy: 0.6622\n",
      "Epoch 100, Average Outcome Loss: 2.159108532799615, Average Accuracy: 0.5, Test AUC: 0.6424, Test Accuracy: 0.6622\n",
      "Epoch 100, Average Outcome Loss: 0.7077096833123101, Average Accuracy: 0.5, Test AUC: 0.6947, Test Accuracy: 0.6622\n"
     ]
    },
    {
     "name": "stderr",
     "output_type": "stream",
     "text": [
      "/opt/conda/lib/python3.10/multiprocessing/popen_fork.py:66: RuntimeWarning: os.fork() was called. os.fork() is incompatible with multithreaded code, and JAX is multithreaded, so this will likely lead to a deadlock.\n",
      "  self.pid = os.fork()\n"
     ]
    },
    {
     "name": "stdout",
     "output_type": "stream",
     "text": [
      "Score: 0.7595102040816326\n",
      "Total time: 61.14735293388367 seconds\n",
      "Currently training, population member 15\n",
      "993\n"
     ]
    },
    {
     "name": "stderr",
     "output_type": "stream",
     "text": [
      "/opt/conda/lib/python3.10/multiprocessing/popen_fork.py:66: RuntimeWarning: os.fork() was called. os.fork() is incompatible with multithreaded code, and JAX is multithreaded, so this will likely lead to a deadlock.\n",
      "  self.pid = os.fork()\n"
     ]
    },
    {
     "name": "stdout",
     "output_type": "stream",
     "text": [
      "Epoch 0, Average Outcome Loss: 0.8371272484461466, Average Accuracy: 0.5, Test AUC: 0.5000, Test Accuracy: 0.6622\n",
      "Epoch 0, Average Outcome Loss: 0.720655534002516, Average Accuracy: 0.4930555555555556, Test AUC: 0.5000, Test Accuracy: 0.6622\n",
      "Epoch 0, Average Outcome Loss: 0.6950804127587212, Average Accuracy: 0.4930555555555556, Test AUC: 0.5000, Test Accuracy: 0.6622\n",
      "Epoch 0, Average Outcome Loss: 0.702632036474016, Average Accuracy: 0.5208333333333334, Test AUC: 0.5000, Test Accuracy: 0.3378\n",
      "Epoch 0, Average Outcome Loss: 0.6806968251864115, Average Accuracy: 0.6111111111111112, Test AUC: 0.5000, Test Accuracy: 0.6622\n",
      "Epoch 100, Average Outcome Loss: 0.6760959625244141, Average Accuracy: 0.6388888888888888, Test AUC: 0.7127, Test Accuracy: 0.6622\n",
      "Epoch 100, Average Outcome Loss: 0.7738653487629361, Average Accuracy: 0.5, Test AUC: 0.5935, Test Accuracy: 0.3378\n",
      "Epoch 100, Average Outcome Loss: 0.6848269833458794, Average Accuracy: 0.6666666666666666, Test AUC: 0.7192, Test Accuracy: 0.5811\n",
      "Epoch 100, Average Outcome Loss: 0.6951081156730652, Average Accuracy: 0.5, Test AUC: 0.4694, Test Accuracy: 0.3378\n",
      "Epoch 100, Average Outcome Loss: 0.6926079856024848, Average Accuracy: 0.5, Test AUC: 0.6098, Test Accuracy: 0.6622\n"
     ]
    },
    {
     "name": "stderr",
     "output_type": "stream",
     "text": [
      "/opt/conda/lib/python3.10/multiprocessing/popen_fork.py:66: RuntimeWarning: os.fork() was called. os.fork() is incompatible with multithreaded code, and JAX is multithreaded, so this will likely lead to a deadlock.\n",
      "  self.pid = os.fork()\n"
     ]
    },
    {
     "name": "stdout",
     "output_type": "stream",
     "text": [
      "Score: 0.734530612244898\n",
      "Total time: 60.64746618270874 seconds\n",
      "Currently training, population member 16\n",
      "1029\n"
     ]
    },
    {
     "name": "stderr",
     "output_type": "stream",
     "text": [
      "/opt/conda/lib/python3.10/multiprocessing/popen_fork.py:66: RuntimeWarning: os.fork() was called. os.fork() is incompatible with multithreaded code, and JAX is multithreaded, so this will likely lead to a deadlock.\n",
      "  self.pid = os.fork()\n"
     ]
    },
    {
     "name": "stdout",
     "output_type": "stream",
     "text": [
      "Epoch 0, Average Outcome Loss: 0.7340623537699381, Average Accuracy: 0.5, Test AUC: 0.5000, Test Accuracy: 0.6622\n",
      "Epoch 0, Average Outcome Loss: 1.0501098765267267, Average Accuracy: 0.5, Test AUC: 0.5000, Test Accuracy: 0.3378\n",
      "Epoch 0, Average Outcome Loss: 0.7175618277655708, Average Accuracy: 0.5, Test AUC: 0.5000, Test Accuracy: 0.6622\n",
      "Epoch 0, Average Outcome Loss: 0.8541824950112237, Average Accuracy: 0.5, Test AUC: 0.5000, Test Accuracy: 0.3378Epoch 0, Average Outcome Loss: 0.8125683201683892, Average Accuracy: 0.5, Test AUC: 0.5000, Test Accuracy: 0.6622\n",
      "\n",
      "Epoch 100, Average Outcome Loss: 0.6896084414588081, Average Accuracy: 0.6875, Test AUC: 0.6204, Test Accuracy: 0.3378\n",
      "Epoch 100, Average Outcome Loss: 0.6856797138849894, Average Accuracy: 0.625, Test AUC: 0.7829, Test Accuracy: 0.7297\n",
      "Epoch 100, Average Outcome Loss: 0.6993238064977858, Average Accuracy: 0.5, Test AUC: 0.4906, Test Accuracy: 0.3378\n",
      "Epoch 100, Average Outcome Loss: 0.7029012772772048, Average Accuracy: 0.5, Test AUC: 0.4849, Test Accuracy: 0.3378\n",
      "Epoch 100, Average Outcome Loss: 0.7089592748218112, Average Accuracy: 0.5, Test AUC: 0.5976, Test Accuracy: 0.3378\n"
     ]
    },
    {
     "name": "stderr",
     "output_type": "stream",
     "text": [
      "/opt/conda/lib/python3.10/multiprocessing/popen_fork.py:66: RuntimeWarning: os.fork() was called. os.fork() is incompatible with multithreaded code, and JAX is multithreaded, so this will likely lead to a deadlock.\n",
      "  self.pid = os.fork()\n"
     ]
    },
    {
     "name": "stdout",
     "output_type": "stream",
     "text": [
      "Score: 0.7446530612244898\n",
      "Total time: 60.110759973526 seconds\n",
      "Currently training, population member 17\n",
      "1028\n"
     ]
    },
    {
     "name": "stderr",
     "output_type": "stream",
     "text": [
      "/opt/conda/lib/python3.10/multiprocessing/popen_fork.py:66: RuntimeWarning: os.fork() was called. os.fork() is incompatible with multithreaded code, and JAX is multithreaded, so this will likely lead to a deadlock.\n",
      "  self.pid = os.fork()\n"
     ]
    },
    {
     "name": "stdout",
     "output_type": "stream",
     "text": [
      "Epoch 0, Average Outcome Loss: 0.7577458355161879, Average Accuracy: 0.5, Test AUC: 0.5000, Test Accuracy: 0.6622\n",
      "Epoch 0, Average Outcome Loss: 0.8036325309011672, Average Accuracy: 0.5, Test AUC: 0.5000, Test Accuracy: 0.3378\n",
      "Epoch 0, Average Outcome Loss: 0.7164227366447449, Average Accuracy: 0.5, Test AUC: 0.5000, Test Accuracy: 0.6622\n",
      "Epoch 0, Average Outcome Loss: 0.7888573871718513, Average Accuracy: 0.5, Test AUC: 0.5000, Test Accuracy: 0.3378\n",
      "Epoch 0, Average Outcome Loss: 0.6796273125542535, Average Accuracy: 0.5694444444444444, Test AUC: 0.5000, Test Accuracy: 0.3378\n",
      "Epoch 100, Average Outcome Loss: 0.6957943108346727, Average Accuracy: 0.5, Test AUC: 0.5404, Test Accuracy: 0.6622\n",
      "Epoch 100, Average Outcome Loss: 0.6745623151461283, Average Accuracy: 0.5138888888888888, Test AUC: 0.6098, Test Accuracy: 0.4459\n",
      "Epoch 100, Average Outcome Loss: 0.7495442893770006, Average Accuracy: 0.5, Test AUC: 0.6506, Test Accuracy: 0.6622\n",
      "Epoch 100, Average Outcome Loss: 0.7078819341129727, Average Accuracy: 0.5, Test AUC: 0.6939, Test Accuracy: 0.6622\n",
      "Epoch 100, Average Outcome Loss: 0.7023953795433044, Average Accuracy: 0.5, Test AUC: 0.5110, Test Accuracy: 0.3378\n"
     ]
    },
    {
     "name": "stderr",
     "output_type": "stream",
     "text": [
      "/opt/conda/lib/python3.10/multiprocessing/popen_fork.py:66: RuntimeWarning: os.fork() was called. os.fork() is incompatible with multithreaded code, and JAX is multithreaded, so this will likely lead to a deadlock.\n",
      "  self.pid = os.fork()\n"
     ]
    },
    {
     "name": "stdout",
     "output_type": "stream",
     "text": [
      "Score: 0.7322448979591838\n",
      "Total time: 60.71514439582825 seconds\n",
      "Currently training, population member 18\n",
      "1051\n"
     ]
    },
    {
     "name": "stderr",
     "output_type": "stream",
     "text": [
      "/opt/conda/lib/python3.10/multiprocessing/popen_fork.py:66: RuntimeWarning: os.fork() was called. os.fork() is incompatible with multithreaded code, and JAX is multithreaded, so this will likely lead to a deadlock.\n",
      "  self.pid = os.fork()\n"
     ]
    },
    {
     "name": "stdout",
     "output_type": "stream",
     "text": [
      "Epoch 0, Average Outcome Loss: 0.720164504316118, Average Accuracy: 0.5, Test AUC: 0.5000, Test Accuracy: 0.3378\n",
      "Epoch 0, Average Outcome Loss: 0.7449504335721334, Average Accuracy: 0.5, Test AUC: 0.5000, Test Accuracy: 0.6622\n",
      "Epoch 0, Average Outcome Loss: 0.6930531395806206, Average Accuracy: 0.5347222222222222, Test AUC: 0.5000, Test Accuracy: 0.3378\n",
      "Epoch 0, Average Outcome Loss: 0.7149505416552225, Average Accuracy: 0.5, Test AUC: 0.5000, Test Accuracy: 0.6622\n",
      "Epoch 0, Average Outcome Loss: 0.6962898042466905, Average Accuracy: 0.5069444444444444, Test AUC: 0.5000, Test Accuracy: 0.3378\n",
      "Epoch 100, Average Outcome Loss: 1.0672006607055664, Average Accuracy: 0.5, Test AUC: 0.6571, Test Accuracy: 0.6622\n",
      "Epoch 100, Average Outcome Loss: 0.69277024269104, Average Accuracy: 0.5069444444444444, Test AUC: 0.6090, Test Accuracy: 0.6622\n",
      "Epoch 100, Average Outcome Loss: 0.9037221007876926, Average Accuracy: 0.5, Test AUC: 0.3567, Test Accuracy: 0.3378\n",
      "Epoch 100, Average Outcome Loss: 0.9458938042322794, Average Accuracy: 0.5, Test AUC: 0.3861, Test Accuracy: 0.3378\n",
      "Epoch 100, Average Outcome Loss: 0.6738361252678765, Average Accuracy: 0.6736111111111112, Test AUC: 0.6498, Test Accuracy: 0.6622\n"
     ]
    },
    {
     "name": "stderr",
     "output_type": "stream",
     "text": [
      "/opt/conda/lib/python3.10/multiprocessing/popen_fork.py:66: RuntimeWarning: os.fork() was called. os.fork() is incompatible with multithreaded code, and JAX is multithreaded, so this will likely lead to a deadlock.\n",
      "  self.pid = os.fork()\n"
     ]
    },
    {
     "name": "stdout",
     "output_type": "stream",
     "text": [
      "Score: 0.7111836734693878\n",
      "Total time: 61.14073204994202 seconds\n",
      "Currently training, population member 19\n",
      "1027\n"
     ]
    },
    {
     "name": "stderr",
     "output_type": "stream",
     "text": [
      "/opt/conda/lib/python3.10/multiprocessing/popen_fork.py:66: RuntimeWarning: os.fork() was called. os.fork() is incompatible with multithreaded code, and JAX is multithreaded, so this will likely lead to a deadlock.\n",
      "  self.pid = os.fork()\n"
     ]
    },
    {
     "name": "stdout",
     "output_type": "stream",
     "text": [
      "Epoch 0, Average Outcome Loss: 0.7131651043891907, Average Accuracy: 0.5138888888888888, Test AUC: 0.5000, Test Accuracy: 0.6622\n",
      "Epoch 0, Average Outcome Loss: 0.7874274717436897, Average Accuracy: 0.5, Test AUC: 0.5000, Test Accuracy: 0.3378\n",
      "Epoch 0, Average Outcome Loss: 0.9093879461288452, Average Accuracy: 0.5, Test AUC: 0.5000, Test Accuracy: 0.3378\n",
      "Epoch 0, Average Outcome Loss: 0.7136106822225783, Average Accuracy: 0.5, Test AUC: 0.5000, Test Accuracy: 0.6622\n",
      "Epoch 0, Average Outcome Loss: 0.7753149535920885, Average Accuracy: 0.5, Test AUC: 0.5000, Test Accuracy: 0.6622\n",
      "Epoch 100, Average Outcome Loss: 0.6832912829187181, Average Accuracy: 0.5138888888888888, Test AUC: 0.7282, Test Accuracy: 0.5000\n",
      "Epoch 100, Average Outcome Loss: 0.6746623913447062, Average Accuracy: 0.5902777777777778, Test AUC: 0.5829, Test Accuracy: 0.3378\n",
      "Epoch 100, Average Outcome Loss: 0.7669875688023038, Average Accuracy: 0.5, Test AUC: 0.4024, Test Accuracy: 0.3378\n",
      "Epoch 100, Average Outcome Loss: 13.777816878424751, Average Accuracy: 0.5, Test AUC: 0.5527, Test Accuracy: 0.6622\n",
      "Epoch 100, Average Outcome Loss: 0.6974943346447415, Average Accuracy: 0.5, Test AUC: 0.7127, Test Accuracy: 0.6622\n"
     ]
    },
    {
     "name": "stderr",
     "output_type": "stream",
     "text": [
      "/opt/conda/lib/python3.10/multiprocessing/popen_fork.py:66: RuntimeWarning: os.fork() was called. os.fork() is incompatible with multithreaded code, and JAX is multithreaded, so this will likely lead to a deadlock.\n",
      "  self.pid = os.fork()\n"
     ]
    },
    {
     "name": "stdout",
     "output_type": "stream",
     "text": [
      "Score: 0.7322448979591838\n",
      "Total time: 60.900121450424194 seconds\n",
      "Currently training, population member 20\n",
      "982\n"
     ]
    },
    {
     "name": "stderr",
     "output_type": "stream",
     "text": [
      "/opt/conda/lib/python3.10/multiprocessing/popen_fork.py:66: RuntimeWarning: os.fork() was called. os.fork() is incompatible with multithreaded code, and JAX is multithreaded, so this will likely lead to a deadlock.\n",
      "  self.pid = os.fork()\n"
     ]
    },
    {
     "name": "stdout",
     "output_type": "stream",
     "text": [
      "Epoch 0, Average Outcome Loss: 0.9102112253506979, Average Accuracy: 0.5, Test AUC: 0.5000, Test Accuracy: 0.3378Epoch 0, Average Outcome Loss: 0.7089298698637221, Average Accuracy: 0.5, Test AUC: 0.5000, Test Accuracy: 0.6622\n",
      "\n",
      "Epoch 0, Average Outcome Loss: 0.8998554150263468, Average Accuracy: 0.5, Test AUC: 0.5000, Test Accuracy: 0.6622\n",
      "Epoch 0, Average Outcome Loss: 0.7009089390436808, Average Accuracy: 0.4930555555555556, Test AUC: 0.5000, Test Accuracy: 0.6622\n",
      "Epoch 0, Average Outcome Loss: 0.8351075583034091, Average Accuracy: 0.5, Test AUC: 0.5000, Test Accuracy: 0.3378\n",
      "Epoch 100, Average Outcome Loss: 0.7521074281798469, Average Accuracy: 0.5, Test AUC: 0.7029, Test Accuracy: 0.7027\n",
      "Epoch 100, Average Outcome Loss: 0.6896223227183024, Average Accuracy: 0.5, Test AUC: 0.6237, Test Accuracy: 0.3378\n",
      "Epoch 100, Average Outcome Loss: 0.645549131764306, Average Accuracy: 0.6944444444444444, Test AUC: 0.6980, Test Accuracy: 0.3378\n",
      "Epoch 100, Average Outcome Loss: 0.6987710263994005, Average Accuracy: 0.5, Test AUC: 0.6147, Test Accuracy: 0.6622\n",
      "Epoch 100, Average Outcome Loss: 0.7128753463427225, Average Accuracy: 0.5, Test AUC: 0.6016, Test Accuracy: 0.6622\n"
     ]
    },
    {
     "name": "stderr",
     "output_type": "stream",
     "text": [
      "/opt/conda/lib/python3.10/multiprocessing/popen_fork.py:66: RuntimeWarning: os.fork() was called. os.fork() is incompatible with multithreaded code, and JAX is multithreaded, so this will likely lead to a deadlock.\n",
      "  self.pid = os.fork()\n"
     ]
    },
    {
     "name": "stdout",
     "output_type": "stream",
     "text": [
      "Score: 0.7139591836734696\n",
      "Total time: 60.79355335235596 seconds\n",
      "Currently training, population member 21\n",
      "1029\n"
     ]
    },
    {
     "name": "stderr",
     "output_type": "stream",
     "text": [
      "/opt/conda/lib/python3.10/multiprocessing/popen_fork.py:66: RuntimeWarning: os.fork() was called. os.fork() is incompatible with multithreaded code, and JAX is multithreaded, so this will likely lead to a deadlock.\n",
      "  self.pid = os.fork()\n"
     ]
    },
    {
     "name": "stdout",
     "output_type": "stream",
     "text": [
      "Epoch 0, Average Outcome Loss: 0.7360616326332092, Average Accuracy: 0.5, Test AUC: 0.5000, Test Accuracy: 0.3378\n",
      "Epoch 0, Average Outcome Loss: 0.7415724396705627, Average Accuracy: 0.5138888888888888, Test AUC: 0.5000, Test Accuracy: 0.3378\n",
      "Epoch 0, Average Outcome Loss: 0.7028375599119399, Average Accuracy: 0.4097222222222222, Test AUC: 0.6776, Test Accuracy: 0.6622\n",
      "Epoch 0, Average Outcome Loss: 0.7919114099608527, Average Accuracy: 0.5, Test AUC: 0.5000, Test Accuracy: 0.3378\n",
      "Epoch 0, Average Outcome Loss: 0.7644252247280545, Average Accuracy: 0.5, Test AUC: 0.5000, Test Accuracy: 0.3378\n",
      "Epoch 100, Average Outcome Loss: 0.6925723618931241, Average Accuracy: 0.5069444444444444, Test AUC: 0.4433, Test Accuracy: 0.3378\n",
      "Epoch 100, Average Outcome Loss: 0.7448083559672037, Average Accuracy: 0.5, Test AUC: 0.5788, Test Accuracy: 0.6622\n",
      "Epoch 100, Average Outcome Loss: 0.68642348713345, Average Accuracy: 0.5902777777777778, Test AUC: 0.5200, Test Accuracy: 0.6622\n",
      "Epoch 100, Average Outcome Loss: 0.7587728699048361, Average Accuracy: 0.5, Test AUC: 0.7045, Test Accuracy: 0.7297\n",
      "Epoch 100, Average Outcome Loss: 0.7024090422524346, Average Accuracy: 0.5, Test AUC: 0.5053, Test Accuracy: 0.3378\n"
     ]
    },
    {
     "name": "stderr",
     "output_type": "stream",
     "text": [
      "/opt/conda/lib/python3.10/multiprocessing/popen_fork.py:66: RuntimeWarning: os.fork() was called. os.fork() is incompatible with multithreaded code, and JAX is multithreaded, so this will likely lead to a deadlock.\n",
      "  self.pid = os.fork()\n"
     ]
    },
    {
     "name": "stdout",
     "output_type": "stream",
     "text": [
      "Score: 0.7118367346938776\n",
      "Total time: 60.723756551742554 seconds\n",
      "Currently training, population member 22\n",
      "1031\n"
     ]
    },
    {
     "name": "stderr",
     "output_type": "stream",
     "text": [
      "/opt/conda/lib/python3.10/multiprocessing/popen_fork.py:66: RuntimeWarning: os.fork() was called. os.fork() is incompatible with multithreaded code, and JAX is multithreaded, so this will likely lead to a deadlock.\n",
      "  self.pid = os.fork()\n"
     ]
    },
    {
     "name": "stdout",
     "output_type": "stream",
     "text": [
      "Epoch 0, Average Outcome Loss: 0.7216400570339627, Average Accuracy: 0.5, Test AUC: 0.5000, Test Accuracy: 0.6622\n",
      "Epoch 0, Average Outcome Loss: 0.8599338928858439, Average Accuracy: 0.5, Test AUC: 0.5000, Test Accuracy: 0.6622\n",
      "Epoch 0, Average Outcome Loss: 0.7607695460319519, Average Accuracy: 0.5, Test AUC: 0.5000, Test Accuracy: 0.6622\n",
      "Epoch 0, Average Outcome Loss: 0.7413111064169142, Average Accuracy: 0.5, Test AUC: 0.5000, Test Accuracy: 0.3378\n",
      "Epoch 0, Average Outcome Loss: 0.6887491941452026, Average Accuracy: 0.5555555555555556, Test AUC: 0.5000, Test Accuracy: 0.3378\n",
      "Epoch 100, Average Outcome Loss: 0.6782734394073486, Average Accuracy: 0.6527777777777778, Test AUC: 0.7192, Test Accuracy: 0.5135\n",
      "Epoch 100, Average Outcome Loss: 2.4128131336636014, Average Accuracy: 0.5, Test AUC: 0.7069, Test Accuracy: 0.6622\n",
      "Epoch 100, Average Outcome Loss: 0.6504394080903795, Average Accuracy: 0.6111111111111112, Test AUC: 0.7078, Test Accuracy: 0.7568\n",
      "Epoch 100, Average Outcome Loss: 0.6887920631302727, Average Accuracy: 0.5, Test AUC: 0.7192, Test Accuracy: 0.3378\n",
      "Epoch 100, Average Outcome Loss: 0.7398536933792962, Average Accuracy: 0.5, Test AUC: 0.5527, Test Accuracy: 0.3378\n"
     ]
    },
    {
     "name": "stderr",
     "output_type": "stream",
     "text": [
      "/opt/conda/lib/python3.10/multiprocessing/popen_fork.py:66: RuntimeWarning: os.fork() was called. os.fork() is incompatible with multithreaded code, and JAX is multithreaded, so this will likely lead to a deadlock.\n",
      "  self.pid = os.fork()\n"
     ]
    },
    {
     "name": "stdout",
     "output_type": "stream",
     "text": [
      "Score: 0.734204081632653\n",
      "Total time: 60.76426339149475 seconds\n",
      "Currently training, population member 23\n",
      "1037\n"
     ]
    },
    {
     "name": "stderr",
     "output_type": "stream",
     "text": [
      "/opt/conda/lib/python3.10/multiprocessing/popen_fork.py:66: RuntimeWarning: os.fork() was called. os.fork() is incompatible with multithreaded code, and JAX is multithreaded, so this will likely lead to a deadlock.\n",
      "  self.pid = os.fork()\n"
     ]
    },
    {
     "name": "stdout",
     "output_type": "stream",
     "text": [
      "Epoch 0, Average Outcome Loss: 0.8869924942652384, Average Accuracy: 0.5, Test AUC: 0.5000, Test Accuracy: 0.3378\n",
      "Epoch 0, Average Outcome Loss: 0.9986848367585076, Average Accuracy: 0.5, Test AUC: 0.5000, Test Accuracy: 0.6622\n",
      "Epoch 0, Average Outcome Loss: 0.7831406394640604, Average Accuracy: 0.5, Test AUC: 0.5000, Test Accuracy: 0.6622\n",
      "Epoch 0, Average Outcome Loss: 0.6891449160046048, Average Accuracy: 0.5763888888888888, Test AUC: 0.5000, Test Accuracy: 0.3378\n",
      "Epoch 0, Average Outcome Loss: 0.6991077330377367, Average Accuracy: 0.5069444444444444, Test AUC: 0.5000, Test Accuracy: 0.6622\n",
      "Epoch 100, Average Outcome Loss: 3.318959765964084, Average Accuracy: 0.5, Test AUC: 0.5902, Test Accuracy: 0.6622\n",
      "Epoch 100, Average Outcome Loss: 0.7013093696700202, Average Accuracy: 0.5, Test AUC: 0.7331, Test Accuracy: 0.6622\n",
      "Epoch 100, Average Outcome Loss: 0.6909722288449606, Average Accuracy: 0.5347222222222222, Test AUC: 0.5959, Test Accuracy: 0.3378\n",
      "Epoch 100, Average Outcome Loss: 0.6256365577379862, Average Accuracy: 0.6458333333333334, Test AUC: 0.7355, Test Accuracy: 0.5270\n",
      "Epoch 100, Average Outcome Loss: 0.6822122732798258, Average Accuracy: 0.5, Test AUC: 0.7567, Test Accuracy: 0.3378\n"
     ]
    },
    {
     "name": "stderr",
     "output_type": "stream",
     "text": [
      "/opt/conda/lib/python3.10/multiprocessing/popen_fork.py:66: RuntimeWarning: os.fork() was called. os.fork() is incompatible with multithreaded code, and JAX is multithreaded, so this will likely lead to a deadlock.\n",
      "  self.pid = os.fork()\n"
     ]
    },
    {
     "name": "stdout",
     "output_type": "stream",
     "text": [
      "Score: 0.7691428571428571\n",
      "Total time: 61.03128409385681 seconds\n",
      "Currently training, population member 24\n",
      "1025\n"
     ]
    },
    {
     "name": "stderr",
     "output_type": "stream",
     "text": [
      "/opt/conda/lib/python3.10/multiprocessing/popen_fork.py:66: RuntimeWarning: os.fork() was called. os.fork() is incompatible with multithreaded code, and JAX is multithreaded, so this will likely lead to a deadlock.\n",
      "  self.pid = os.fork()\n"
     ]
    },
    {
     "name": "stdout",
     "output_type": "stream",
     "text": [
      "Epoch 0, Average Outcome Loss: 0.9520438644621108, Average Accuracy: 0.5, Test AUC: 0.5000, Test Accuracy: 0.3378\n",
      "Epoch 0, Average Outcome Loss: 0.706776758035024, Average Accuracy: 0.5, Test AUC: 0.5000, Test Accuracy: 0.6622\n",
      "Epoch 0, Average Outcome Loss: 0.6946731474664476, Average Accuracy: 0.4722222222222222, Test AUC: 0.5000, Test Accuracy: 0.3378\n",
      "Epoch 0, Average Outcome Loss: 0.7572764356931051, Average Accuracy: 0.5, Test AUC: 0.5000, Test Accuracy: 0.6622\n",
      "Epoch 0, Average Outcome Loss: 0.7612589796384176, Average Accuracy: 0.5, Test AUC: 0.5000, Test Accuracy: 0.6622\n",
      "Epoch 100, Average Outcome Loss: 0.7403944200939603, Average Accuracy: 0.5, Test AUC: 0.5804, Test Accuracy: 0.6622\n",
      "Epoch 100, Average Outcome Loss: 0.672242283821106, Average Accuracy: 0.6458333333333334, Test AUC: 0.7396, Test Accuracy: 0.6081\n",
      "Epoch 100, Average Outcome Loss: 0.6729753547244601, Average Accuracy: 0.5347222222222222, Test AUC: 0.5984, Test Accuracy: 0.3378\n",
      "Epoch 100, Average Outcome Loss: 0.6595357524024116, Average Accuracy: 0.6597222222222222, Test AUC: 0.7167, Test Accuracy: 0.5000\n",
      "Epoch 100, Average Outcome Loss: 0.9444959627257453, Average Accuracy: 0.5, Test AUC: 0.3143, Test Accuracy: 0.5000\n"
     ]
    },
    {
     "name": "stderr",
     "output_type": "stream",
     "text": [
      "/opt/conda/lib/python3.10/multiprocessing/popen_fork.py:66: RuntimeWarning: os.fork() was called. os.fork() is incompatible with multithreaded code, and JAX is multithreaded, so this will likely lead to a deadlock.\n",
      "  self.pid = os.fork()\n"
     ]
    },
    {
     "name": "stdout",
     "output_type": "stream",
     "text": [
      "Score: 0.7245714285714286\n",
      "Total time: 61.29537272453308 seconds\n",
      "Currently training, population member 25\n",
      "969\n"
     ]
    },
    {
     "name": "stderr",
     "output_type": "stream",
     "text": [
      "/opt/conda/lib/python3.10/multiprocessing/popen_fork.py:66: RuntimeWarning: os.fork() was called. os.fork() is incompatible with multithreaded code, and JAX is multithreaded, so this will likely lead to a deadlock.\n",
      "  self.pid = os.fork()\n"
     ]
    },
    {
     "name": "stdout",
     "output_type": "stream",
     "text": [
      "Epoch 0, Average Outcome Loss: 0.7013784978124831, Average Accuracy: 0.5277777777777778, Test AUC: 0.5000, Test Accuracy: 0.3378\n",
      "Epoch 0, Average Outcome Loss: 0.7064235342873467, Average Accuracy: 0.5, Test AUC: 0.5000, Test Accuracy: 0.3378\n",
      "Epoch 0, Average Outcome Loss: 0.7823849850230746, Average Accuracy: 0.5, Test AUC: 0.5000, Test Accuracy: 0.6622\n",
      "Epoch 0, Average Outcome Loss: 0.6953435805108812, Average Accuracy: 0.4861111111111111, Test AUC: 0.5000, Test Accuracy: 0.6622\n",
      "Epoch 0, Average Outcome Loss: 0.7436984380086263, Average Accuracy: 0.5, Test AUC: 0.5000, Test Accuracy: 0.3378\n",
      "Epoch 100, Average Outcome Loss: 0.6993047131432427, Average Accuracy: 0.5, Test AUC: 0.5127, Test Accuracy: 0.3378\n",
      "Epoch 100, Average Outcome Loss: 0.7358715534210205, Average Accuracy: 0.5, Test AUC: 0.5837, Test Accuracy: 0.3378\n",
      "Epoch 100, Average Outcome Loss: 0.6842700839042664, Average Accuracy: 0.5972222222222222, Test AUC: 0.6139, Test Accuracy: 0.3378\n",
      "Epoch 100, Average Outcome Loss: 0.7466172575950623, Average Accuracy: 0.5, Test AUC: 0.6237, Test Accuracy: 0.3378\n",
      "Epoch 100, Average Outcome Loss: 0.7001881466971503, Average Accuracy: 0.5, Test AUC: 0.5127, Test Accuracy: 0.3378\n"
     ]
    },
    {
     "name": "stderr",
     "output_type": "stream",
     "text": [
      "/opt/conda/lib/python3.10/multiprocessing/popen_fork.py:66: RuntimeWarning: os.fork() was called. os.fork() is incompatible with multithreaded code, and JAX is multithreaded, so this will likely lead to a deadlock.\n",
      "  self.pid = os.fork()\n"
     ]
    },
    {
     "name": "stdout",
     "output_type": "stream",
     "text": [
      "Score: 0.710204081632653\n",
      "Total time: 60.78048920631409 seconds\n",
      "Currently training, population member 26\n",
      "1021\n"
     ]
    },
    {
     "name": "stderr",
     "output_type": "stream",
     "text": [
      "/opt/conda/lib/python3.10/multiprocessing/popen_fork.py:66: RuntimeWarning: os.fork() was called. os.fork() is incompatible with multithreaded code, and JAX is multithreaded, so this will likely lead to a deadlock.\n",
      "  self.pid = os.fork()\n"
     ]
    },
    {
     "name": "stdout",
     "output_type": "stream",
     "text": [
      "Epoch 0, Average Outcome Loss: 0.7046318584018283, Average Accuracy: 0.5, Test AUC: 0.5000, Test Accuracy: 0.6622\n",
      "Epoch 0, Average Outcome Loss: 0.7258522179391649, Average Accuracy: 0.5, Test AUC: 0.5000, Test Accuracy: 0.3378\n",
      "Epoch 0, Average Outcome Loss: 0.7208472556538053, Average Accuracy: 0.5, Test AUC: 0.5000, Test Accuracy: 0.6622\n",
      "Epoch 0, Average Outcome Loss: 0.7149793373213874, Average Accuracy: 0.5069444444444444, Test AUC: 0.5000, Test Accuracy: 0.6622\n",
      "Epoch 0, Average Outcome Loss: 0.7205666965908475, Average Accuracy: 0.4652777777777778, Test AUC: 0.6016, Test Accuracy: 0.6622\n",
      "Epoch 100, Average Outcome Loss: 1.550428522957696, Average Accuracy: 0.5, Test AUC: 0.3404, Test Accuracy: 0.6622\n",
      "Epoch 100, Average Outcome Loss: 0.7029047012329102, Average Accuracy: 0.5, Test AUC: 0.5053, Test Accuracy: 0.3378\n",
      "Epoch 100, Average Outcome Loss: 0.9022052817874484, Average Accuracy: 0.5, Test AUC: 0.4784, Test Accuracy: 0.3378\n",
      "Epoch 100, Average Outcome Loss: 0.6863520079188876, Average Accuracy: 0.5277777777777778, Test AUC: 0.6212, Test Accuracy: 0.5405\n",
      "Epoch 100, Average Outcome Loss: 0.6429103016853333, Average Accuracy: 0.6527777777777778, Test AUC: 0.7020, Test Accuracy: 0.6351\n"
     ]
    },
    {
     "name": "stderr",
     "output_type": "stream",
     "text": [
      "/opt/conda/lib/python3.10/multiprocessing/popen_fork.py:66: RuntimeWarning: os.fork() was called. os.fork() is incompatible with multithreaded code, and JAX is multithreaded, so this will likely lead to a deadlock.\n",
      "  self.pid = os.fork()\n"
     ]
    },
    {
     "name": "stdout",
     "output_type": "stream",
     "text": [
      "Score: 0.7355102040816326\n",
      "Total time: 61.105698347091675 seconds\n",
      "Currently training, population member 27\n",
      "1070\n"
     ]
    },
    {
     "name": "stderr",
     "output_type": "stream",
     "text": [
      "/opt/conda/lib/python3.10/multiprocessing/popen_fork.py:66: RuntimeWarning: os.fork() was called. os.fork() is incompatible with multithreaded code, and JAX is multithreaded, so this will likely lead to a deadlock.\n",
      "  self.pid = os.fork()\n"
     ]
    },
    {
     "name": "stdout",
     "output_type": "stream",
     "text": [
      "Epoch 0, Average Outcome Loss: 0.7212558454937406, Average Accuracy: 0.5, Test AUC: 0.5000, Test Accuracy: 0.6622\n",
      "Epoch 0, Average Outcome Loss: 0.7081574400266012, Average Accuracy: 0.4583333333333333, Test AUC: 0.5000, Test Accuracy: 0.6622\n",
      "Epoch 0, Average Outcome Loss: 0.6987882852554321, Average Accuracy: 0.5138888888888888, Test AUC: 0.5000, Test Accuracy: 0.6622\n",
      "Epoch 0, Average Outcome Loss: 0.837729467286004, Average Accuracy: 0.5, Test AUC: 0.5000, Test Accuracy: 0.3378\n",
      "Epoch 0, Average Outcome Loss: 0.7138776514265273, Average Accuracy: 0.4513888888888889, Test AUC: 0.4816, Test Accuracy: 0.3378\n",
      "Epoch 100, Average Outcome Loss: 0.784080876244439, Average Accuracy: 0.5, Test AUC: 0.6727, Test Accuracy: 0.6757\n",
      "Epoch 100, Average Outcome Loss: 0.6823239790068732, Average Accuracy: 0.5069444444444444, Test AUC: 0.7069, Test Accuracy: 0.7027\n",
      "Epoch 100, Average Outcome Loss: 2.334858841366238, Average Accuracy: 0.5, Test AUC: 0.4531, Test Accuracy: 0.3378\n",
      "Epoch 100, Average Outcome Loss: 0.6970451143052843, Average Accuracy: 0.5, Test AUC: 0.5616, Test Accuracy: 0.6622\n",
      "Epoch 100, Average Outcome Loss: 3.619599395328098, Average Accuracy: 0.5, Test AUC: 0.6416, Test Accuracy: 0.6622\n"
     ]
    },
    {
     "name": "stderr",
     "output_type": "stream",
     "text": [
      "/opt/conda/lib/python3.10/multiprocessing/popen_fork.py:66: RuntimeWarning: os.fork() was called. os.fork() is incompatible with multithreaded code, and JAX is multithreaded, so this will likely lead to a deadlock.\n",
      "  self.pid = os.fork()\n"
     ]
    },
    {
     "name": "stdout",
     "output_type": "stream",
     "text": [
      "Score: 0.7229387755102042\n",
      "Total time: 61.56203866004944 seconds\n",
      "Currently training, population member 28\n",
      "1009\n"
     ]
    },
    {
     "name": "stderr",
     "output_type": "stream",
     "text": [
      "/opt/conda/lib/python3.10/multiprocessing/popen_fork.py:66: RuntimeWarning: os.fork() was called. os.fork() is incompatible with multithreaded code, and JAX is multithreaded, so this will likely lead to a deadlock.\n",
      "  self.pid = os.fork()\n"
     ]
    },
    {
     "name": "stdout",
     "output_type": "stream",
     "text": [
      "Epoch 0, Average Outcome Loss: 0.8264777925279405, Average Accuracy: 0.5, Test AUC: 0.5000, Test Accuracy: 0.3378\n",
      "Epoch 0, Average Outcome Loss: 0.7470513449774848, Average Accuracy: 0.4722222222222222, Test AUC: 0.5000, Test Accuracy: 0.6622\n",
      "Epoch 0, Average Outcome Loss: 0.6894559462865194, Average Accuracy: 0.5069444444444444, Test AUC: 0.5000, Test Accuracy: 0.3378\n",
      "Epoch 0, Average Outcome Loss: 0.861028081840939, Average Accuracy: 0.5, Test AUC: 0.5000, Test Accuracy: 0.3378\n",
      "Epoch 0, Average Outcome Loss: 0.7070498201582167, Average Accuracy: 0.4791666666666667, Test AUC: 0.5000, Test Accuracy: 0.6622\n",
      "Epoch 100, Average Outcome Loss: 0.6828476786613464, Average Accuracy: 0.5486111111111112, Test AUC: 0.7306, Test Accuracy: 0.7027\n",
      "Epoch 100, Average Outcome Loss: 0.6786053644286262, Average Accuracy: 0.6388888888888888, Test AUC: 0.7233, Test Accuracy: 0.7432\n",
      "Epoch 100, Average Outcome Loss: 0.7058777014414469, Average Accuracy: 0.5, Test AUC: 0.3918, Test Accuracy: 0.3378\n",
      "Epoch 100, Average Outcome Loss: 0.7170126438140869, Average Accuracy: 0.5, Test AUC: 0.4637, Test Accuracy: 0.3378\n",
      "Epoch 100, Average Outcome Loss: 0.7034309771325853, Average Accuracy: 0.5, Test AUC: 0.6922, Test Accuracy: 0.6622\n"
     ]
    },
    {
     "name": "stderr",
     "output_type": "stream",
     "text": [
      "/opt/conda/lib/python3.10/multiprocessing/popen_fork.py:66: RuntimeWarning: os.fork() was called. os.fork() is incompatible with multithreaded code, and JAX is multithreaded, so this will likely lead to a deadlock.\n",
      "  self.pid = os.fork()\n"
     ]
    },
    {
     "name": "stdout",
     "output_type": "stream",
     "text": [
      "Score: 0.733795918367347\n",
      "Total time: 60.87763833999634 seconds\n",
      "Currently training, population member 29\n",
      "1006\n"
     ]
    },
    {
     "name": "stderr",
     "output_type": "stream",
     "text": [
      "/opt/conda/lib/python3.10/multiprocessing/popen_fork.py:66: RuntimeWarning: os.fork() was called. os.fork() is incompatible with multithreaded code, and JAX is multithreaded, so this will likely lead to a deadlock.\n",
      "  self.pid = os.fork()\n"
     ]
    },
    {
     "name": "stdout",
     "output_type": "stream",
     "text": [
      "Epoch 0, Average Outcome Loss: 0.7011081708802117, Average Accuracy: 0.4861111111111111, Test AUC: 0.5000, Test Accuracy: 0.3378\n",
      "Epoch 0, Average Outcome Loss: 0.7032943699094985, Average Accuracy: 0.4305555555555556, Test AUC: 0.6408, Test Accuracy: 0.5946\n",
      "Epoch 0, Average Outcome Loss: 0.7141453491316901, Average Accuracy: 0.5, Test AUC: 0.5000, Test Accuracy: 0.6622\n",
      "Epoch 0, Average Outcome Loss: 0.7099958062171936, Average Accuracy: 0.5138888888888888, Test AUC: 0.5000, Test Accuracy: 0.6622\n",
      "Epoch 0, Average Outcome Loss: 0.9865176280339559, Average Accuracy: 0.5, Test AUC: 0.5000, Test Accuracy: 0.6622\n",
      "Epoch 100, Average Outcome Loss: 0.6757227778434753, Average Accuracy: 0.5555555555555556, Test AUC: 0.6392, Test Accuracy: 0.3378\n",
      "Epoch 100, Average Outcome Loss: 3.2455412016974554, Average Accuracy: 0.5, Test AUC: 0.5935, Test Accuracy: 0.6622\n",
      "Epoch 100, Average Outcome Loss: 0.7120735049247742, Average Accuracy: 0.5, Test AUC: 0.6482, Test Accuracy: 0.6622\n",
      "Epoch 100, Average Outcome Loss: 0.6930926177236769, Average Accuracy: 0.5, Test AUC: 0.6180, Test Accuracy: 0.3378\n",
      "Epoch 100, Average Outcome Loss: 0.7076581319173177, Average Accuracy: 0.5, Test AUC: 0.3853, Test Accuracy: 0.3378\n"
     ]
    },
    {
     "name": "stderr",
     "output_type": "stream",
     "text": [
      "/opt/conda/lib/python3.10/multiprocessing/popen_fork.py:66: RuntimeWarning: os.fork() was called. os.fork() is incompatible with multithreaded code, and JAX is multithreaded, so this will likely lead to a deadlock.\n",
      "  self.pid = os.fork()\n"
     ]
    },
    {
     "name": "stdout",
     "output_type": "stream",
     "text": [
      "Score: 0.681469387755102\n",
      "Total time: 61.032004833221436 seconds\n",
      "Currently training, population member 30\n",
      "1048\n"
     ]
    },
    {
     "name": "stderr",
     "output_type": "stream",
     "text": [
      "/opt/conda/lib/python3.10/multiprocessing/popen_fork.py:66: RuntimeWarning: os.fork() was called. os.fork() is incompatible with multithreaded code, and JAX is multithreaded, so this will likely lead to a deadlock.\n",
      "  self.pid = os.fork()\n"
     ]
    },
    {
     "name": "stdout",
     "output_type": "stream",
     "text": [
      "Epoch 0, Average Outcome Loss: 0.726364983452691, Average Accuracy: 0.5, Test AUC: 0.5000, Test Accuracy: 0.6622\n",
      "Epoch 0, Average Outcome Loss: 0.700218551688724, Average Accuracy: 0.4861111111111111, Test AUC: 0.5000, Test Accuracy: 0.6622\n",
      "Epoch 0, Average Outcome Loss: 0.7150179677539401, Average Accuracy: 0.4791666666666667, Test AUC: 0.5000, Test Accuracy: 0.6622\n",
      "Epoch 0, Average Outcome Loss: 0.8855092989073859, Average Accuracy: 0.5, Test AUC: 0.5000, Test Accuracy: 0.6622\n",
      "Epoch 0, Average Outcome Loss: 0.9295419454574585, Average Accuracy: 0.5, Test AUC: 0.5000, Test Accuracy: 0.3378\n",
      "Epoch 100, Average Outcome Loss: 0.6779184208975898, Average Accuracy: 0.6805555555555556, Test AUC: 0.7494, Test Accuracy: 0.6892\n",
      "Epoch 100, Average Outcome Loss: 1.4110808240042791, Average Accuracy: 0.5, Test AUC: 0.4776, Test Accuracy: 0.3378\n",
      "Epoch 100, Average Outcome Loss: 0.6859731409284804, Average Accuracy: 0.5347222222222222, Test AUC: 0.7714, Test Accuracy: 0.7027\n",
      "Epoch 100, Average Outcome Loss: 0.7271435260772705, Average Accuracy: 0.5, Test AUC: 0.7135, Test Accuracy: 0.6622\n",
      "Epoch 100, Average Outcome Loss: 0.6849371327294244, Average Accuracy: 0.5069444444444444, Test AUC: 0.5478, Test Accuracy: 0.3378\n"
     ]
    },
    {
     "name": "stderr",
     "output_type": "stream",
     "text": [
      "/opt/conda/lib/python3.10/multiprocessing/popen_fork.py:66: RuntimeWarning: os.fork() was called. os.fork() is incompatible with multithreaded code, and JAX is multithreaded, so this will likely lead to a deadlock.\n",
      "  self.pid = os.fork()\n"
     ]
    },
    {
     "name": "stdout",
     "output_type": "stream",
     "text": [
      "Score: 0.795265306122449\n",
      "Total time: 60.98576235771179 seconds\n",
      "Currently training, population member 31\n",
      "1027\n"
     ]
    },
    {
     "name": "stderr",
     "output_type": "stream",
     "text": [
      "/opt/conda/lib/python3.10/multiprocessing/popen_fork.py:66: RuntimeWarning: os.fork() was called. os.fork() is incompatible with multithreaded code, and JAX is multithreaded, so this will likely lead to a deadlock.\n",
      "  self.pid = os.fork()\n"
     ]
    },
    {
     "name": "stdout",
     "output_type": "stream",
     "text": [
      "Epoch 0, Average Outcome Loss: 0.6867556042141385, Average Accuracy: 0.5416666666666666, Test AUC: 0.5000, Test Accuracy: 0.6622\n",
      "Epoch 0, Average Outcome Loss: 0.7082366082403395, Average Accuracy: 0.4444444444444444, Test AUC: 0.5000, Test Accuracy: 0.3378\n",
      "Epoch 0, Average Outcome Loss: 0.6955061687363518, Average Accuracy: 0.5416666666666666, Test AUC: 0.5571, Test Accuracy: 0.6622\n",
      "Epoch 0, Average Outcome Loss: 0.7604721387227377, Average Accuracy: 0.5, Test AUC: 0.5000, Test Accuracy: 0.6622\n",
      "Epoch 0, Average Outcome Loss: 0.7965598040156894, Average Accuracy: 0.5, Test AUC: 0.5000, Test Accuracy: 0.6622\n",
      "Epoch 100, Average Outcome Loss: 0.6700137986077203, Average Accuracy: 0.5208333333333334, Test AUC: 0.6743, Test Accuracy: 0.5541\n",
      "Epoch 100, Average Outcome Loss: 0.6921096973949008, Average Accuracy: 0.5, Test AUC: 0.4947, Test Accuracy: 0.3378\n",
      "Epoch 100, Average Outcome Loss: 0.6759755412737528, Average Accuracy: 0.6527777777777778, Test AUC: 0.6302, Test Accuracy: 0.3378\n",
      "Epoch 100, Average Outcome Loss: 1.5636335478888617, Average Accuracy: 0.5, Test AUC: 0.4996, Test Accuracy: 0.3378\n",
      "Epoch 100, Average Outcome Loss: 0.6635575559404161, Average Accuracy: 0.5416666666666666, Test AUC: 0.6531, Test Accuracy: 0.3784\n"
     ]
    },
    {
     "name": "stderr",
     "output_type": "stream",
     "text": [
      "/opt/conda/lib/python3.10/multiprocessing/popen_fork.py:66: RuntimeWarning: os.fork() was called. os.fork() is incompatible with multithreaded code, and JAX is multithreaded, so this will likely lead to a deadlock.\n",
      "  self.pid = os.fork()\n"
     ]
    },
    {
     "name": "stdout",
     "output_type": "stream",
     "text": [
      "Score: 0.699265306122449\n",
      "Total time: 60.57218837738037 seconds\n",
      "Currently training, population member 32\n",
      "1077\n"
     ]
    },
    {
     "name": "stderr",
     "output_type": "stream",
     "text": [
      "/opt/conda/lib/python3.10/multiprocessing/popen_fork.py:66: RuntimeWarning: os.fork() was called. os.fork() is incompatible with multithreaded code, and JAX is multithreaded, so this will likely lead to a deadlock.\n",
      "  self.pid = os.fork()\n"
     ]
    },
    {
     "name": "stdout",
     "output_type": "stream",
     "text": [
      "Epoch 0, Average Outcome Loss: 0.6770269804530673, Average Accuracy: 0.5625, Test AUC: 0.5000, Test Accuracy: 0.6622\n",
      "Epoch 0, Average Outcome Loss: 0.7085663278897604, Average Accuracy: 0.4305555555555556, Test AUC: 0.5000, Test Accuracy: 0.3378\n",
      "Epoch 0, Average Outcome Loss: 0.6954655316140916, Average Accuracy: 0.5138888888888888, Test AUC: 0.5000, Test Accuracy: 0.6622\n",
      "Epoch 0, Average Outcome Loss: 0.7116642064518399, Average Accuracy: 0.4583333333333333, Test AUC: 0.5000, Test Accuracy: 0.3378\n",
      "Epoch 0, Average Outcome Loss: 0.6986703276634216, Average Accuracy: 0.5, Test AUC: 0.5000, Test Accuracy: 0.3378\n",
      "Epoch 100, Average Outcome Loss: 0.6802796324094137, Average Accuracy: 0.5, Test AUC: 0.5420, Test Accuracy: 0.3514\n",
      "Epoch 100, Average Outcome Loss: 2.6598359478844538, Average Accuracy: 0.5, Test AUC: 0.6114, Test Accuracy: 0.6622\n",
      "Epoch 100, Average Outcome Loss: 0.8823321064313253, Average Accuracy: 0.5, Test AUC: 0.5420, Test Accuracy: 0.3378\n",
      "Epoch 100, Average Outcome Loss: 0.8676380382643806, Average Accuracy: 0.5, Test AUC: 0.5935, Test Accuracy: 0.6622\n",
      "Epoch 100, Average Outcome Loss: 0.8543786538971795, Average Accuracy: 0.5, Test AUC: 0.3714, Test Accuracy: 0.3378\n"
     ]
    },
    {
     "name": "stderr",
     "output_type": "stream",
     "text": [
      "/opt/conda/lib/python3.10/multiprocessing/popen_fork.py:66: RuntimeWarning: os.fork() was called. os.fork() is incompatible with multithreaded code, and JAX is multithreaded, so this will likely lead to a deadlock.\n",
      "  self.pid = os.fork()\n"
     ]
    },
    {
     "name": "stdout",
     "output_type": "stream",
     "text": [
      "Score: 0.6653061224489796\n",
      "Total time: 61.60395121574402 seconds\n",
      "Currently training, population member 33\n",
      "1051\n"
     ]
    },
    {
     "name": "stderr",
     "output_type": "stream",
     "text": [
      "/opt/conda/lib/python3.10/multiprocessing/popen_fork.py:66: RuntimeWarning: os.fork() was called. os.fork() is incompatible with multithreaded code, and JAX is multithreaded, so this will likely lead to a deadlock.\n",
      "  self.pid = os.fork()\n"
     ]
    },
    {
     "name": "stdout",
     "output_type": "stream",
     "text": [
      "Epoch 0, Average Outcome Loss: 0.7142197555965848, Average Accuracy: 0.5069444444444444, Test AUC: 0.5000, Test Accuracy: 0.6622\n",
      "Epoch 0, Average Outcome Loss: 0.7077997194396125, Average Accuracy: 0.5, Test AUC: 0.5000, Test Accuracy: 0.6622\n",
      "Epoch 0, Average Outcome Loss: 0.7003095746040344, Average Accuracy: 0.4791666666666667, Test AUC: 0.5000, Test Accuracy: 0.3378\n",
      "Epoch 0, Average Outcome Loss: 0.7137332691086663, Average Accuracy: 0.5, Test AUC: 0.5000, Test Accuracy: 0.6622\n",
      "Epoch 0, Average Outcome Loss: 0.6970658832126193, Average Accuracy: 0.4652777777777778, Test AUC: 0.5000, Test Accuracy: 0.3378\n",
      "Epoch 100, Average Outcome Loss: 0.8154386017057631, Average Accuracy: 0.5, Test AUC: 0.5600, Test Accuracy: 0.3378\n",
      "Epoch 100, Average Outcome Loss: 0.7328137225574918, Average Accuracy: 0.5, Test AUC: 0.7045, Test Accuracy: 0.6622\n",
      "Epoch 100, Average Outcome Loss: 4.569793701171875, Average Accuracy: 0.5, Test AUC: 0.3192, Test Accuracy: 0.3378\n",
      "Epoch 100, Average Outcome Loss: 0.6987982590993246, Average Accuracy: 0.5, Test AUC: 0.7061, Test Accuracy: 0.6622\n",
      "Epoch 100, Average Outcome Loss: 0.6860118707021078, Average Accuracy: 0.5972222222222222, Test AUC: 0.7371, Test Accuracy: 0.3378\n"
     ]
    },
    {
     "name": "stderr",
     "output_type": "stream",
     "text": [
      "/opt/conda/lib/python3.10/multiprocessing/popen_fork.py:66: RuntimeWarning: os.fork() was called. os.fork() is incompatible with multithreaded code, and JAX is multithreaded, so this will likely lead to a deadlock.\n",
      "  self.pid = os.fork()\n"
     ]
    },
    {
     "name": "stdout",
     "output_type": "stream",
     "text": [
      "Score: 0.736\n",
      "Total time: 61.190995931625366 seconds\n",
      "Currently training, population member 34\n",
      "1029\n"
     ]
    },
    {
     "name": "stderr",
     "output_type": "stream",
     "text": [
      "/opt/conda/lib/python3.10/multiprocessing/popen_fork.py:66: RuntimeWarning: os.fork() was called. os.fork() is incompatible with multithreaded code, and JAX is multithreaded, so this will likely lead to a deadlock.\n",
      "  self.pid = os.fork()\n"
     ]
    },
    {
     "name": "stdout",
     "output_type": "stream",
     "text": [
      "Epoch 0, Average Outcome Loss: 0.7084131770663791, Average Accuracy: 0.4444444444444444, Test AUC: 0.5000, Test Accuracy: 0.3378\n",
      "Epoch 0, Average Outcome Loss: 0.7851521703932021, Average Accuracy: 0.5, Test AUC: 0.5000, Test Accuracy: 0.3378\n",
      "Epoch 0, Average Outcome Loss: 0.6987723840607537, Average Accuracy: 0.4722222222222222, Test AUC: 0.6898, Test Accuracy: 0.6622\n",
      "Epoch 0, Average Outcome Loss: 0.6908288730515374, Average Accuracy: 0.5208333333333334, Test AUC: 0.5000, Test Accuracy: 0.6622\n",
      "Epoch 0, Average Outcome Loss: 0.8070383667945862, Average Accuracy: 0.5, Test AUC: 0.5000, Test Accuracy: 0.6622\n",
      "Epoch 100, Average Outcome Loss: 0.7746093140708076, Average Accuracy: 0.5, Test AUC: 0.6098, Test Accuracy: 0.6622\n",
      "Epoch 100, Average Outcome Loss: 0.6940413117408752, Average Accuracy: 0.5, Test AUC: 0.4024, Test Accuracy: 0.3378\n",
      "Epoch 100, Average Outcome Loss: 0.6852670245700412, Average Accuracy: 0.5347222222222222, Test AUC: 0.6833, Test Accuracy: 0.6622\n",
      "Epoch 100, Average Outcome Loss: 2.1350272761450872, Average Accuracy: 0.5, Test AUC: 0.6629, Test Accuracy: 0.6622\n",
      "Epoch 100, Average Outcome Loss: 1.7708266178766887, Average Accuracy: 0.5, Test AUC: 0.6882, Test Accuracy: 0.6622\n"
     ]
    },
    {
     "name": "stderr",
     "output_type": "stream",
     "text": [
      "/opt/conda/lib/python3.10/multiprocessing/popen_fork.py:66: RuntimeWarning: os.fork() was called. os.fork() is incompatible with multithreaded code, and JAX is multithreaded, so this will likely lead to a deadlock.\n",
      "  self.pid = os.fork()\n"
     ]
    },
    {
     "name": "stdout",
     "output_type": "stream",
     "text": [
      "Score: 0.7541224489795917\n",
      "Total time: 61.11409068107605 seconds\n",
      "Currently training, population member 35\n",
      "1002\n"
     ]
    },
    {
     "name": "stderr",
     "output_type": "stream",
     "text": [
      "/opt/conda/lib/python3.10/multiprocessing/popen_fork.py:66: RuntimeWarning: os.fork() was called. os.fork() is incompatible with multithreaded code, and JAX is multithreaded, so this will likely lead to a deadlock.\n",
      "  self.pid = os.fork()\n"
     ]
    },
    {
     "name": "stdout",
     "output_type": "stream",
     "text": [
      "Epoch 0, Average Outcome Loss: 0.8437013294961717, Average Accuracy: 0.4861111111111111, Test AUC: 0.5000, Test Accuracy: 0.3378\n",
      "Epoch 0, Average Outcome Loss: 0.7113896608352661, Average Accuracy: 0.4930555555555556, Test AUC: 0.5000, Test Accuracy: 0.6622\n",
      "Epoch 0, Average Outcome Loss: 0.7419635918405321, Average Accuracy: 0.5, Test AUC: 0.5000, Test Accuracy: 0.3378\n",
      "Epoch 0, Average Outcome Loss: 0.7145931720733643, Average Accuracy: 0.4722222222222222, Test AUC: 0.5000, Test Accuracy: 0.3378\n",
      "Epoch 0, Average Outcome Loss: 0.7003722190856934, Average Accuracy: 0.4722222222222222, Test AUC: 0.5000, Test Accuracy: 0.6622\n",
      "Epoch 100, Average Outcome Loss: 2.208786646525065, Average Accuracy: 0.5, Test AUC: 0.6580, Test Accuracy: 0.6622\n",
      "Epoch 100, Average Outcome Loss: 0.6241515808635287, Average Accuracy: 0.6597222222222222, Test AUC: 0.6106, Test Accuracy: 0.3378\n",
      "Epoch 100, Average Outcome Loss: 0.7449210219913058, Average Accuracy: 0.5, Test AUC: 0.6294, Test Accuracy: 0.6622\n",
      "Epoch 100, Average Outcome Loss: 0.699844479560852, Average Accuracy: 0.5, Test AUC: 0.6539, Test Accuracy: 0.6622\n",
      "Epoch 100, Average Outcome Loss: 0.7895959946844313, Average Accuracy: 0.5, Test AUC: 0.3984, Test Accuracy: 0.3378\n"
     ]
    },
    {
     "name": "stderr",
     "output_type": "stream",
     "text": [
      "/opt/conda/lib/python3.10/multiprocessing/popen_fork.py:66: RuntimeWarning: os.fork() was called. os.fork() is incompatible with multithreaded code, and JAX is multithreaded, so this will likely lead to a deadlock.\n",
      "  self.pid = os.fork()\n"
     ]
    },
    {
     "name": "stdout",
     "output_type": "stream",
     "text": [
      "Score: 0.6868571428571428\n",
      "Total time: 61.047728538513184 seconds\n",
      "Currently training, population member 36\n",
      "1021\n"
     ]
    },
    {
     "name": "stderr",
     "output_type": "stream",
     "text": [
      "/opt/conda/lib/python3.10/multiprocessing/popen_fork.py:66: RuntimeWarning: os.fork() was called. os.fork() is incompatible with multithreaded code, and JAX is multithreaded, so this will likely lead to a deadlock.\n",
      "  self.pid = os.fork()\n"
     ]
    },
    {
     "name": "stdout",
     "output_type": "stream",
     "text": [
      "Epoch 0, Average Outcome Loss: 0.6881143914328681, Average Accuracy: 0.5138888888888888, Test AUC: 0.5000, Test Accuracy: 0.6622Epoch 0, Average Outcome Loss: 0.6994454794459872, Average Accuracy: 0.4791666666666667, Test AUC: 0.5000, Test Accuracy: 0.6622\n",
      "\n",
      "Epoch 0, Average Outcome Loss: 0.6844220956166586, Average Accuracy: 0.5138888888888888, Test AUC: 0.5000, Test Accuracy: 0.6622\n",
      "Epoch 0, Average Outcome Loss: 0.7213886247740852, Average Accuracy: 0.5, Test AUC: 0.5000, Test Accuracy: 0.6622\n",
      "Epoch 0, Average Outcome Loss: 0.7248961594369676, Average Accuracy: 0.5, Test AUC: 0.5653, Test Accuracy: 0.6622\n",
      "Epoch 100, Average Outcome Loss: 0.7012917465633817, Average Accuracy: 0.5, Test AUC: 0.3371, Test Accuracy: 0.5405\n",
      "Epoch 100, Average Outcome Loss: 0.6997757222917345, Average Accuracy: 0.5, Test AUC: 0.4441, Test Accuracy: 0.3378\n",
      "Epoch 100, Average Outcome Loss: 0.6844271553887261, Average Accuracy: 0.6111111111111112, Test AUC: 0.7086, Test Accuracy: 0.6351\n",
      "Epoch 100, Average Outcome Loss: 0.693698075082567, Average Accuracy: 0.5, Test AUC: 0.4416, Test Accuracy: 0.3378\n",
      "Epoch 100, Average Outcome Loss: 0.9034301241238912, Average Accuracy: 0.5, Test AUC: 0.5682, Test Accuracy: 0.3378\n"
     ]
    },
    {
     "name": "stderr",
     "output_type": "stream",
     "text": [
      "/opt/conda/lib/python3.10/multiprocessing/popen_fork.py:66: RuntimeWarning: os.fork() was called. os.fork() is incompatible with multithreaded code, and JAX is multithreaded, so this will likely lead to a deadlock.\n",
      "  self.pid = os.fork()\n"
     ]
    },
    {
     "name": "stdout",
     "output_type": "stream",
     "text": [
      "Score: 0.7193469387755101\n",
      "Total time: 61.790263414382935 seconds\n",
      "Currently training, population member 37\n",
      "991\n"
     ]
    },
    {
     "name": "stderr",
     "output_type": "stream",
     "text": [
      "/opt/conda/lib/python3.10/multiprocessing/popen_fork.py:66: RuntimeWarning: os.fork() was called. os.fork() is incompatible with multithreaded code, and JAX is multithreaded, so this will likely lead to a deadlock.\n",
      "  self.pid = os.fork()\n"
     ]
    },
    {
     "name": "stdout",
     "output_type": "stream",
     "text": [
      "Epoch 0, Average Outcome Loss: 0.9035262597931756, Average Accuracy: 0.5, Test AUC: 0.5000, Test Accuracy: 0.3378\n",
      "Epoch 0, Average Outcome Loss: 0.7213079796897041, Average Accuracy: 0.5, Test AUC: 0.5000, Test Accuracy: 0.3378\n",
      "Epoch 0, Average Outcome Loss: 0.6977225674523247, Average Accuracy: 0.4305555555555556, Test AUC: 0.6294, Test Accuracy: 0.3378\n",
      "Epoch 0, Average Outcome Loss: 0.8904540671242608, Average Accuracy: 0.5, Test AUC: 0.5000, Test Accuracy: 0.6622\n",
      "Epoch 0, Average Outcome Loss: 0.717675957414839, Average Accuracy: 0.5069444444444444, Test AUC: 0.5000, Test Accuracy: 0.6622\n",
      "Epoch 100, Average Outcome Loss: 2.883975214428372, Average Accuracy: 0.5, Test AUC: 0.3624, Test Accuracy: 0.3378\n",
      "Epoch 100, Average Outcome Loss: 0.7045242720180087, Average Accuracy: 0.5347222222222222, Test AUC: 0.6261, Test Accuracy: 0.3649\n",
      "Epoch 100, Average Outcome Loss: 0.9408693843417697, Average Accuracy: 0.5, Test AUC: 0.5257, Test Accuracy: 0.3378\n",
      "Epoch 100, Average Outcome Loss: 0.7968121303452386, Average Accuracy: 0.5, Test AUC: 0.5927, Test Accuracy: 0.6622\n",
      "Epoch 100, Average Outcome Loss: 0.8632328046692742, Average Accuracy: 0.5, Test AUC: 0.6082, Test Accuracy: 0.6622\n"
     ]
    },
    {
     "name": "stderr",
     "output_type": "stream",
     "text": [
      "/opt/conda/lib/python3.10/multiprocessing/popen_fork.py:66: RuntimeWarning: os.fork() was called. os.fork() is incompatible with multithreaded code, and JAX is multithreaded, so this will likely lead to a deadlock.\n",
      "  self.pid = os.fork()\n"
     ]
    },
    {
     "name": "stdout",
     "output_type": "stream",
     "text": [
      "Score: 0.6532244897959184\n",
      "Total time: 60.117542028427124 seconds\n",
      "Currently training, population member 38\n",
      "1063\n"
     ]
    },
    {
     "name": "stderr",
     "output_type": "stream",
     "text": [
      "/opt/conda/lib/python3.10/multiprocessing/popen_fork.py:66: RuntimeWarning: os.fork() was called. os.fork() is incompatible with multithreaded code, and JAX is multithreaded, so this will likely lead to a deadlock.\n",
      "  self.pid = os.fork()\n"
     ]
    },
    {
     "name": "stdout",
     "output_type": "stream",
     "text": [
      "Epoch 0, Average Outcome Loss: 0.7027712199423048, Average Accuracy: 0.4722222222222222, Test AUC: 0.5000, Test Accuracy: 0.6622\n",
      "Epoch 0, Average Outcome Loss: 0.7838219470447965, Average Accuracy: 0.5, Test AUC: 0.5000, Test Accuracy: 0.6622\n",
      "Epoch 0, Average Outcome Loss: 0.868243760532803, Average Accuracy: 0.5, Test AUC: 0.5000, Test Accuracy: 0.3378\n",
      "Epoch 0, Average Outcome Loss: 0.9206560519006517, Average Accuracy: 0.5, Test AUC: 0.5000, Test Accuracy: 0.3378\n",
      "Epoch 0, Average Outcome Loss: 0.7941621806886461, Average Accuracy: 0.5, Test AUC: 0.5000, Test Accuracy: 0.6622\n",
      "Epoch 100, Average Outcome Loss: 0.6540838678677877, Average Accuracy: 0.5972222222222222, Test AUC: 0.5722, Test Accuracy: 0.3378\n",
      "Epoch 100, Average Outcome Loss: 0.6525133649508158, Average Accuracy: 0.5833333333333334, Test AUC: 0.6465, Test Accuracy: 0.5811\n",
      "Epoch 100, Average Outcome Loss: 0.7041986915800307, Average Accuracy: 0.5, Test AUC: 0.6416, Test Accuracy: 0.6622\n",
      "Epoch 100, Average Outcome Loss: 0.6732333898544312, Average Accuracy: 0.5069444444444444, Test AUC: 0.6294, Test Accuracy: 0.3378\n",
      "Epoch 100, Average Outcome Loss: 0.7635912166701423, Average Accuracy: 0.5, Test AUC: 0.6433, Test Accuracy: 0.6622\n"
     ]
    },
    {
     "name": "stderr",
     "output_type": "stream",
     "text": [
      "/opt/conda/lib/python3.10/multiprocessing/popen_fork.py:66: RuntimeWarning: os.fork() was called. os.fork() is incompatible with multithreaded code, and JAX is multithreaded, so this will likely lead to a deadlock.\n",
      "  self.pid = os.fork()\n"
     ]
    },
    {
     "name": "stdout",
     "output_type": "stream",
     "text": [
      "Score: 0.6981224489795921\n",
      "Total time: 60.905341386795044 seconds\n",
      "Currently training, population member 39\n",
      "1043\n"
     ]
    },
    {
     "name": "stderr",
     "output_type": "stream",
     "text": [
      "/opt/conda/lib/python3.10/multiprocessing/popen_fork.py:66: RuntimeWarning: os.fork() was called. os.fork() is incompatible with multithreaded code, and JAX is multithreaded, so this will likely lead to a deadlock.\n",
      "  self.pid = os.fork()\n"
     ]
    },
    {
     "name": "stdout",
     "output_type": "stream",
     "text": [
      "Epoch 0, Average Outcome Loss: 0.7076279388533698, Average Accuracy: 0.4305555555555556, Test AUC: 0.5000, Test Accuracy: 0.3378\n",
      "Epoch 0, Average Outcome Loss: 0.9089334872033861, Average Accuracy: 0.5, Test AUC: 0.5000, Test Accuracy: 0.6622\n",
      "Epoch 0, Average Outcome Loss: 0.7339558800061544, Average Accuracy: 0.5, Test AUC: 0.5000, Test Accuracy: 0.3378\n",
      "Epoch 0, Average Outcome Loss: 0.7022608055008782, Average Accuracy: 0.4791666666666667, Test AUC: 0.5000, Test Accuracy: 0.6622\n",
      "Epoch 0, Average Outcome Loss: 0.7266088790363736, Average Accuracy: 0.5, Test AUC: 0.5000, Test Accuracy: 0.6622\n",
      "Epoch 100, Average Outcome Loss: 0.6914672255516052, Average Accuracy: 0.5833333333333334, Test AUC: 0.4694, Test Accuracy: 0.3378\n",
      "Epoch 100, Average Outcome Loss: 0.8032364779048495, Average Accuracy: 0.5, Test AUC: 0.7706, Test Accuracy: 0.6622\n",
      "Epoch 100, Average Outcome Loss: 0.8373785085148282, Average Accuracy: 0.5, Test AUC: 0.5584, Test Accuracy: 0.6622\n",
      "Epoch 100, Average Outcome Loss: 0.7785249021318223, Average Accuracy: 0.5, Test AUC: 0.4008, Test Accuracy: 0.3378\n",
      "Epoch 100, Average Outcome Loss: 0.7224712438053555, Average Accuracy: 0.5, Test AUC: 0.4914, Test Accuracy: 0.3378\n"
     ]
    },
    {
     "name": "stderr",
     "output_type": "stream",
     "text": [
      "/opt/conda/lib/python3.10/multiprocessing/popen_fork.py:66: RuntimeWarning: os.fork() was called. os.fork() is incompatible with multithreaded code, and JAX is multithreaded, so this will likely lead to a deadlock.\n",
      "  self.pid = os.fork()\n"
     ]
    },
    {
     "name": "stdout",
     "output_type": "stream",
     "text": [
      "Score: 0.7787755102040815\n",
      "Total time: 61.06665277481079 seconds\n",
      "Currently training, population member 40\n",
      "997\n"
     ]
    },
    {
     "name": "stderr",
     "output_type": "stream",
     "text": [
      "/opt/conda/lib/python3.10/multiprocessing/popen_fork.py:66: RuntimeWarning: os.fork() was called. os.fork() is incompatible with multithreaded code, and JAX is multithreaded, so this will likely lead to a deadlock.\n",
      "  self.pid = os.fork()\n"
     ]
    },
    {
     "name": "stdout",
     "output_type": "stream",
     "text": [
      "Epoch 0, Average Outcome Loss: 0.994136909643809, Average Accuracy: 0.5, Test AUC: 0.5000, Test Accuracy: 0.3378\n",
      "Epoch 0, Average Outcome Loss: 0.7028122345606486, Average Accuracy: 0.5, Test AUC: 0.5000, Test Accuracy: 0.3378\n",
      "Epoch 0, Average Outcome Loss: 0.6929133004612393, Average Accuracy: 0.5069444444444444, Test AUC: 0.5000, Test Accuracy: 0.3378\n",
      "Epoch 0, Average Outcome Loss: 0.7040169172816806, Average Accuracy: 0.5, Test AUC: 0.5000, Test Accuracy: 0.3378\n",
      "Epoch 0, Average Outcome Loss: 0.9799458715650771, Average Accuracy: 0.5, Test AUC: 0.5000, Test Accuracy: 0.6622\n",
      "Epoch 100, Average Outcome Loss: 0.711628794670105, Average Accuracy: 0.5, Test AUC: 0.5527, Test Accuracy: 0.3378\n",
      "Epoch 100, Average Outcome Loss: 0.9326104190614488, Average Accuracy: 0.5, Test AUC: 0.4645, Test Accuracy: 0.3378\n",
      "Epoch 100, Average Outcome Loss: 0.9158272809452481, Average Accuracy: 0.5, Test AUC: 0.5927, Test Accuracy: 0.6622\n",
      "Epoch 100, Average Outcome Loss: 0.6847109331025018, Average Accuracy: 0.5555555555555556, Test AUC: 0.5086, Test Accuracy: 0.3378\n",
      "Epoch 100, Average Outcome Loss: 0.740861157576243, Average Accuracy: 0.5, Test AUC: 0.6857, Test Accuracy: 0.6622\n"
     ]
    },
    {
     "name": "stderr",
     "output_type": "stream",
     "text": [
      "/opt/conda/lib/python3.10/multiprocessing/popen_fork.py:66: RuntimeWarning: os.fork() was called. os.fork() is incompatible with multithreaded code, and JAX is multithreaded, so this will likely lead to a deadlock.\n",
      "  self.pid = os.fork()\n"
     ]
    },
    {
     "name": "stdout",
     "output_type": "stream",
     "text": [
      "Score: 0.7306122448979593\n",
      "Total time: 60.35650897026062 seconds\n",
      "Currently training, population member 41\n",
      "1036\n"
     ]
    },
    {
     "name": "stderr",
     "output_type": "stream",
     "text": [
      "/opt/conda/lib/python3.10/multiprocessing/popen_fork.py:66: RuntimeWarning: os.fork() was called. os.fork() is incompatible with multithreaded code, and JAX is multithreaded, so this will likely lead to a deadlock.\n",
      "  self.pid = os.fork()\n"
     ]
    },
    {
     "name": "stdout",
     "output_type": "stream",
     "text": [
      "Epoch 0, Average Outcome Loss: 0.8081732789675394, Average Accuracy: 0.5, Test AUC: 0.5000, Test Accuracy: 0.3378\n",
      "Epoch 0, Average Outcome Loss: 0.7260544432534112, Average Accuracy: 0.5, Test AUC: 0.5000, Test Accuracy: 0.3378\n",
      "Epoch 0, Average Outcome Loss: 0.7160965071784126, Average Accuracy: 0.4444444444444444, Test AUC: 0.5000, Test Accuracy: 0.3378\n",
      "Epoch 0, Average Outcome Loss: 0.78379797273212, Average Accuracy: 0.5, Test AUC: 0.5000, Test Accuracy: 0.6622\n",
      "Epoch 0, Average Outcome Loss: 0.7158988647990756, Average Accuracy: 0.5, Test AUC: 0.5000, Test Accuracy: 0.6622\n",
      "Epoch 100, Average Outcome Loss: 2.4254468546973333, Average Accuracy: 0.5, Test AUC: 0.3396, Test Accuracy: 0.3378\n",
      "Epoch 100, Average Outcome Loss: 0.6926839881473117, Average Accuracy: 0.5, Test AUC: 0.5167, Test Accuracy: 0.4459\n",
      "Epoch 100, Average Outcome Loss: 0.6973435680071512, Average Accuracy: 0.5, Test AUC: 0.6204, Test Accuracy: 0.6622\n",
      "Epoch 100, Average Outcome Loss: 0.6928178469340006, Average Accuracy: 0.5, Test AUC: 0.5951, Test Accuracy: 0.6622\n",
      "Epoch 100, Average Outcome Loss: 0.7281746003362868, Average Accuracy: 0.5, Test AUC: 0.7004, Test Accuracy: 0.6622\n"
     ]
    },
    {
     "name": "stderr",
     "output_type": "stream",
     "text": [
      "/opt/conda/lib/python3.10/multiprocessing/popen_fork.py:66: RuntimeWarning: os.fork() was called. os.fork() is incompatible with multithreaded code, and JAX is multithreaded, so this will likely lead to a deadlock.\n",
      "  self.pid = os.fork()\n"
     ]
    },
    {
     "name": "stdout",
     "output_type": "stream",
     "text": [
      "Score: 0.7422040816326531\n",
      "Total time: 61.173885107040405 seconds\n",
      "Currently training, population member 42\n",
      "1071\n"
     ]
    },
    {
     "name": "stderr",
     "output_type": "stream",
     "text": [
      "/opt/conda/lib/python3.10/multiprocessing/popen_fork.py:66: RuntimeWarning: os.fork() was called. os.fork() is incompatible with multithreaded code, and JAX is multithreaded, so this will likely lead to a deadlock.\n",
      "  self.pid = os.fork()\n"
     ]
    },
    {
     "name": "stdout",
     "output_type": "stream",
     "text": [
      "Epoch 0, Average Outcome Loss: 0.7369819084803263, Average Accuracy: 0.5, Test AUC: 0.5000, Test Accuracy: 0.6622\n",
      "Epoch 0, Average Outcome Loss: 0.7753225432501899, Average Accuracy: 0.5, Test AUC: 0.5000, Test Accuracy: 0.6622\n",
      "Epoch 0, Average Outcome Loss: 0.7127867142359415, Average Accuracy: 0.5, Test AUC: 0.5000, Test Accuracy: 0.6622\n",
      "Epoch 0, Average Outcome Loss: 0.6966607901785109, Average Accuracy: 0.5, Test AUC: 0.5000, Test Accuracy: 0.6622\n",
      "Epoch 0, Average Outcome Loss: 0.7044916285408868, Average Accuracy: 0.5625, Test AUC: 0.5000, Test Accuracy: 0.3378\n",
      "Epoch 100, Average Outcome Loss: 1.0334276954332988, Average Accuracy: 0.5069444444444444, Test AUC: 0.5000, Test Accuracy: 0.3378\n",
      "Epoch 100, Average Outcome Loss: 0.7109264002905952, Average Accuracy: 0.5, Test AUC: 0.5184, Test Accuracy: 0.3378\n",
      "Epoch 100, Average Outcome Loss: 0.6541915933291117, Average Accuracy: 0.625, Test AUC: 0.7510, Test Accuracy: 0.7027\n",
      "Epoch 100, Average Outcome Loss: 0.6500217318534851, Average Accuracy: 0.6458333333333334, Test AUC: 0.7624, Test Accuracy: 0.7027\n",
      "Epoch 100, Average Outcome Loss: 3.800977256562975, Average Accuracy: 0.5, Test AUC: 0.2792, Test Accuracy: 0.6622\n"
     ]
    },
    {
     "name": "stderr",
     "output_type": "stream",
     "text": [
      "/opt/conda/lib/python3.10/multiprocessing/popen_fork.py:66: RuntimeWarning: os.fork() was called. os.fork() is incompatible with multithreaded code, and JAX is multithreaded, so this will likely lead to a deadlock.\n",
      "  self.pid = os.fork()\n"
     ]
    },
    {
     "name": "stdout",
     "output_type": "stream",
     "text": [
      "Score: 0.7828571428571429\n",
      "Total time: 61.71533799171448 seconds\n",
      "Currently training, population member 43\n",
      "987\n"
     ]
    },
    {
     "name": "stderr",
     "output_type": "stream",
     "text": [
      "/opt/conda/lib/python3.10/multiprocessing/popen_fork.py:66: RuntimeWarning: os.fork() was called. os.fork() is incompatible with multithreaded code, and JAX is multithreaded, so this will likely lead to a deadlock.\n",
      "  self.pid = os.fork()\n"
     ]
    },
    {
     "name": "stdout",
     "output_type": "stream",
     "text": [
      "Epoch 0, Average Outcome Loss: 0.6852193077405294, Average Accuracy: 0.5138888888888888, Test AUC: 0.5722, Test Accuracy: 0.6622\n",
      "Epoch 0, Average Outcome Loss: 0.7040584021144443, Average Accuracy: 0.5069444444444444, Test AUC: 0.5000, Test Accuracy: 0.6622\n",
      "Epoch 0, Average Outcome Loss: 0.7273857394854227, Average Accuracy: 0.5, Test AUC: 0.5000, Test Accuracy: 0.3378\n",
      "Epoch 0, Average Outcome Loss: 0.7106420861350166, Average Accuracy: 0.5, Test AUC: 0.5000, Test Accuracy: 0.3378\n",
      "Epoch 0, Average Outcome Loss: 0.7000853617986044, Average Accuracy: 0.5138888888888888, Test AUC: 0.5000, Test Accuracy: 0.6622\n",
      "Epoch 100, Average Outcome Loss: 2.0063970353868275, Average Accuracy: 0.5, Test AUC: 0.4367, Test Accuracy: 0.3378\n",
      "Epoch 100, Average Outcome Loss: 0.6878290971120199, Average Accuracy: 0.5277777777777778, Test AUC: 0.4890, Test Accuracy: 0.6622\n",
      "Epoch 100, Average Outcome Loss: 0.9241926802529229, Average Accuracy: 0.5, Test AUC: 0.3780, Test Accuracy: 0.6622\n",
      "Epoch 100, Average Outcome Loss: 0.7049151923921373, Average Accuracy: 0.5, Test AUC: 0.5510, Test Accuracy: 0.6622\n",
      "Epoch 100, Average Outcome Loss: 0.8239618341128031, Average Accuracy: 0.5, Test AUC: 0.5714, Test Accuracy: 0.6622\n"
     ]
    },
    {
     "name": "stderr",
     "output_type": "stream",
     "text": [
      "/opt/conda/lib/python3.10/multiprocessing/popen_fork.py:66: RuntimeWarning: os.fork() was called. os.fork() is incompatible with multithreaded code, and JAX is multithreaded, so this will likely lead to a deadlock.\n",
      "  self.pid = os.fork()\n"
     ]
    },
    {
     "name": "stdout",
     "output_type": "stream",
     "text": [
      "Score: 0.6349387755102041\n",
      "Total time: 60.629714250564575 seconds\n",
      "Currently training, population member 44\n",
      "1062\n"
     ]
    },
    {
     "name": "stderr",
     "output_type": "stream",
     "text": [
      "/opt/conda/lib/python3.10/multiprocessing/popen_fork.py:66: RuntimeWarning: os.fork() was called. os.fork() is incompatible with multithreaded code, and JAX is multithreaded, so this will likely lead to a deadlock.\n",
      "  self.pid = os.fork()\n"
     ]
    },
    {
     "name": "stdout",
     "output_type": "stream",
     "text": [
      "Epoch 0, Average Outcome Loss: 0.7362809777259827, Average Accuracy: 0.4513888888888889, Test AUC: 0.5000, Test Accuracy: 0.3378\n",
      "Epoch 0, Average Outcome Loss: 0.7214054663976034, Average Accuracy: 0.5, Test AUC: 0.5000, Test Accuracy: 0.6622\n",
      "Epoch 0, Average Outcome Loss: 0.729047437508901, Average Accuracy: 0.5, Test AUC: 0.5000, Test Accuracy: 0.3378\n",
      "Epoch 0, Average Outcome Loss: 0.7017225358221266, Average Accuracy: 0.5277777777777778, Test AUC: 0.5000, Test Accuracy: 0.3378\n",
      "Epoch 0, Average Outcome Loss: 0.7410300837622749, Average Accuracy: 0.5, Test AUC: 0.5000, Test Accuracy: 0.3378\n",
      "Epoch 100, Average Outcome Loss: 3.164549403720432, Average Accuracy: 0.5, Test AUC: 0.5000, Test Accuracy: 0.3378\n",
      "Epoch 100, Average Outcome Loss: 0.6455867754088508, Average Accuracy: 0.7361111111111112, Test AUC: 0.7927, Test Accuracy: 0.7568\n",
      "Epoch 100, Average Outcome Loss: 1.0107697645823162, Average Accuracy: 0.5, Test AUC: 0.7029, Test Accuracy: 0.6622\n",
      "Epoch 100, Average Outcome Loss: 0.5966051485803392, Average Accuracy: 0.6597222222222222, Test AUC: 0.7665, Test Accuracy: 0.6892\n",
      "Epoch 100, Average Outcome Loss: 1.0112454957432218, Average Accuracy: 0.5, Test AUC: 0.5690, Test Accuracy: 0.3378\n"
     ]
    },
    {
     "name": "stderr",
     "output_type": "stream",
     "text": [
      "/opt/conda/lib/python3.10/multiprocessing/popen_fork.py:66: RuntimeWarning: os.fork() was called. os.fork() is incompatible with multithreaded code, and JAX is multithreaded, so this will likely lead to a deadlock.\n",
      "  self.pid = os.fork()\n"
     ]
    },
    {
     "name": "stdout",
     "output_type": "stream",
     "text": [
      "Score: 0.7941224489795919\n",
      "Total time: 61.642669439315796 seconds\n",
      "Currently training, population member 45\n",
      "1060\n"
     ]
    },
    {
     "name": "stderr",
     "output_type": "stream",
     "text": [
      "/opt/conda/lib/python3.10/multiprocessing/popen_fork.py:66: RuntimeWarning: os.fork() was called. os.fork() is incompatible with multithreaded code, and JAX is multithreaded, so this will likely lead to a deadlock.\n",
      "  self.pid = os.fork()\n"
     ]
    },
    {
     "name": "stdout",
     "output_type": "stream",
     "text": [
      "Epoch 0, Average Outcome Loss: 0.7793112927012973, Average Accuracy: 0.5, Test AUC: 0.5000, Test Accuracy: 0.3378\n",
      "Epoch 0, Average Outcome Loss: 0.7065377963913811, Average Accuracy: 0.5069444444444444, Test AUC: 0.5000, Test Accuracy: 0.3378\n",
      "Epoch 0, Average Outcome Loss: 0.6978587773111131, Average Accuracy: 0.5138888888888888, Test AUC: 0.5000, Test Accuracy: 0.3378\n",
      "Epoch 0, Average Outcome Loss: 0.7419962154494392, Average Accuracy: 0.5, Test AUC: 0.5000, Test Accuracy: 0.6622\n",
      "Epoch 0, Average Outcome Loss: 0.7992399798499213, Average Accuracy: 0.5, Test AUC: 0.5000, Test Accuracy: 0.6622\n",
      "Epoch 100, Average Outcome Loss: 0.7001117401652865, Average Accuracy: 0.5, Test AUC: 0.6571, Test Accuracy: 0.6351\n",
      "Epoch 100, Average Outcome Loss: 0.7799302140871683, Average Accuracy: 0.5, Test AUC: 0.5755, Test Accuracy: 0.3378\n",
      "Epoch 100, Average Outcome Loss: 0.6933864156405131, Average Accuracy: 0.5, Test AUC: 0.6294, Test Accuracy: 0.6622\n",
      "Epoch 100, Average Outcome Loss: 0.6972285310427347, Average Accuracy: 0.5, Test AUC: 0.4955, Test Accuracy: 0.3514\n",
      "Epoch 100, Average Outcome Loss: 0.7156989640659757, Average Accuracy: 0.5, Test AUC: 0.6155, Test Accuracy: 0.6622\n"
     ]
    },
    {
     "name": "stderr",
     "output_type": "stream",
     "text": [
      "/opt/conda/lib/python3.10/multiprocessing/popen_fork.py:66: RuntimeWarning: os.fork() was called. os.fork() is incompatible with multithreaded code, and JAX is multithreaded, so this will likely lead to a deadlock.\n",
      "  self.pid = os.fork()\n"
     ]
    },
    {
     "name": "stdout",
     "output_type": "stream",
     "text": [
      "Score: 0.6739591836734695\n",
      "Total time: 62.17957282066345 seconds\n",
      "Currently training, population member 46\n",
      "1028\n"
     ]
    },
    {
     "name": "stderr",
     "output_type": "stream",
     "text": [
      "/opt/conda/lib/python3.10/multiprocessing/popen_fork.py:66: RuntimeWarning: os.fork() was called. os.fork() is incompatible with multithreaded code, and JAX is multithreaded, so this will likely lead to a deadlock.\n",
      "  self.pid = os.fork()\n"
     ]
    },
    {
     "name": "stdout",
     "output_type": "stream",
     "text": [
      "Epoch 0, Average Outcome Loss: 1.1369252072440252, Average Accuracy: 0.5, Test AUC: 0.5000, Test Accuracy: 0.6622\n",
      "Epoch 0, Average Outcome Loss: 0.7293986678123474, Average Accuracy: 0.5, Test AUC: 0.5000, Test Accuracy: 0.3378\n",
      "Epoch 0, Average Outcome Loss: 0.6974634329477946, Average Accuracy: 0.5069444444444444, Test AUC: 0.5000, Test Accuracy: 0.6622\n",
      "Epoch 0, Average Outcome Loss: 0.7763716379801432, Average Accuracy: 0.5, Test AUC: 0.5000, Test Accuracy: 0.3378\n",
      "Epoch 0, Average Outcome Loss: 0.753514289855957, Average Accuracy: 0.5, Test AUC: 0.5000, Test Accuracy: 0.3378\n",
      "Epoch 100, Average Outcome Loss: 1.0522592332628038, Average Accuracy: 0.5, Test AUC: 0.5935, Test Accuracy: 0.6622\n",
      "Epoch 100, Average Outcome Loss: 0.7004240618811713, Average Accuracy: 0.5, Test AUC: 0.4808, Test Accuracy: 0.3378\n",
      "Epoch 100, Average Outcome Loss: 0.6803860664367676, Average Accuracy: 0.6180555555555556, Test AUC: 0.4245, Test Accuracy: 0.3378\n",
      "Epoch 100, Average Outcome Loss: 0.6945560640758939, Average Accuracy: 0.5, Test AUC: 0.5657, Test Accuracy: 0.6622\n",
      "Epoch 100, Average Outcome Loss: 0.6980412602424622, Average Accuracy: 0.5, Test AUC: 0.5224, Test Accuracy: 0.3378\n"
     ]
    },
    {
     "name": "stderr",
     "output_type": "stream",
     "text": [
      "/opt/conda/lib/python3.10/multiprocessing/popen_fork.py:66: RuntimeWarning: os.fork() was called. os.fork() is incompatible with multithreaded code, and JAX is multithreaded, so this will likely lead to a deadlock.\n",
      "  self.pid = os.fork()\n"
     ]
    },
    {
     "name": "stdout",
     "output_type": "stream",
     "text": [
      "Score: 0.7170612244897959\n",
      "Total time: 60.454728841781616 seconds\n",
      "Currently training, population member 47\n",
      "1039\n"
     ]
    },
    {
     "name": "stderr",
     "output_type": "stream",
     "text": [
      "/opt/conda/lib/python3.10/multiprocessing/popen_fork.py:66: RuntimeWarning: os.fork() was called. os.fork() is incompatible with multithreaded code, and JAX is multithreaded, so this will likely lead to a deadlock.\n",
      "  self.pid = os.fork()\n"
     ]
    },
    {
     "name": "stdout",
     "output_type": "stream",
     "text": [
      "Epoch 0, Average Outcome Loss: 0.6936694714758131, Average Accuracy: 0.5763888888888888, Test AUC: 0.5000, Test Accuracy: 0.6622\n",
      "Epoch 0, Average Outcome Loss: 0.7110447684923807, Average Accuracy: 0.4166666666666667, Test AUC: 0.6710, Test Accuracy: 0.6622\n",
      "Epoch 0, Average Outcome Loss: 0.7631698581907485, Average Accuracy: 0.5, Test AUC: 0.5000, Test Accuracy: 0.3378\n",
      "Epoch 0, Average Outcome Loss: 0.7524027294582791, Average Accuracy: 0.5, Test AUC: 0.5000, Test Accuracy: 0.6622\n",
      "Epoch 0, Average Outcome Loss: 0.6918809678819444, Average Accuracy: 0.5, Test AUC: 0.6441, Test Accuracy: 0.6622\n",
      "Epoch 100, Average Outcome Loss: 0.6158239642779032, Average Accuracy: 0.6388888888888888, Test AUC: 0.7012, Test Accuracy: 0.5811\n",
      "Epoch 100, Average Outcome Loss: 1.0014600621329413, Average Accuracy: 0.5, Test AUC: 0.5878, Test Accuracy: 0.6622\n",
      "Epoch 100, Average Outcome Loss: 0.6692878868844774, Average Accuracy: 0.6458333333333334, Test AUC: 0.7135, Test Accuracy: 0.4865\n",
      "Epoch 100, Average Outcome Loss: 0.855273014969296, Average Accuracy: 0.5, Test AUC: 0.6286, Test Accuracy: 0.3514\n",
      "Epoch 100, Average Outcome Loss: 0.691296762890286, Average Accuracy: 0.5, Test AUC: 0.4820, Test Accuracy: 0.3378\n"
     ]
    },
    {
     "name": "stderr",
     "output_type": "stream",
     "text": [
      "/opt/conda/lib/python3.10/multiprocessing/popen_fork.py:66: RuntimeWarning: os.fork() was called. os.fork() is incompatible with multithreaded code, and JAX is multithreaded, so this will likely lead to a deadlock.\n",
      "  self.pid = os.fork()\n"
     ]
    },
    {
     "name": "stdout",
     "output_type": "stream",
     "text": [
      "Score: 0.7315918367346939\n",
      "Total time: 61.04397249221802 seconds\n",
      "Currently training, population member 48\n",
      "1022\n"
     ]
    },
    {
     "name": "stderr",
     "output_type": "stream",
     "text": [
      "/opt/conda/lib/python3.10/multiprocessing/popen_fork.py:66: RuntimeWarning: os.fork() was called. os.fork() is incompatible with multithreaded code, and JAX is multithreaded, so this will likely lead to a deadlock.\n",
      "  self.pid = os.fork()\n"
     ]
    },
    {
     "name": "stdout",
     "output_type": "stream",
     "text": [
      "Epoch 0, Average Outcome Loss: 0.7327411439683702, Average Accuracy: 0.5, Test AUC: 0.5000, Test Accuracy: 0.3378\n",
      "Epoch 0, Average Outcome Loss: 0.7269254128138224, Average Accuracy: 0.4930555555555556, Test AUC: 0.5000, Test Accuracy: 0.3378\n",
      "Epoch 0, Average Outcome Loss: 0.7119415269957649, Average Accuracy: 0.5, Test AUC: 0.5000, Test Accuracy: 0.3378\n",
      "Epoch 0, Average Outcome Loss: 0.723133835527632, Average Accuracy: 0.4513888888888889, Test AUC: 0.5000, Test Accuracy: 0.3378\n",
      "Epoch 0, Average Outcome Loss: 0.8382937577035692, Average Accuracy: 0.5, Test AUC: 0.5000, Test Accuracy: 0.3378\n",
      "Epoch 100, Average Outcome Loss: 0.6259859601656595, Average Accuracy: 0.6527777777777778, Test AUC: 0.7094, Test Accuracy: 0.6892\n",
      "Epoch 100, Average Outcome Loss: 0.6878951655493842, Average Accuracy: 0.6805555555555556, Test AUC: 0.7273, Test Accuracy: 0.7027\n",
      "Epoch 100, Average Outcome Loss: 0.6609998544057211, Average Accuracy: 0.625, Test AUC: 0.6873, Test Accuracy: 0.3378\n",
      "Epoch 100, Average Outcome Loss: 0.7000037497944303, Average Accuracy: 0.5, Test AUC: 0.6073, Test Accuracy: 0.3378\n",
      "Epoch 100, Average Outcome Loss: 2.5780332883199057, Average Accuracy: 0.5, Test AUC: 0.4808, Test Accuracy: 0.6622\n"
     ]
    },
    {
     "name": "stderr",
     "output_type": "stream",
     "text": [
      "/opt/conda/lib/python3.10/multiprocessing/popen_fork.py:66: RuntimeWarning: os.fork() was called. os.fork() is incompatible with multithreaded code, and JAX is multithreaded, so this will likely lead to a deadlock.\n",
      "  self.pid = os.fork()\n"
     ]
    },
    {
     "name": "stdout",
     "output_type": "stream",
     "text": [
      "Score: 0.780408163265306\n",
      "Total time: 61.039379358291626 seconds\n",
      "Currently training, population member 49\n",
      "1036\n"
     ]
    },
    {
     "name": "stderr",
     "output_type": "stream",
     "text": [
      "/opt/conda/lib/python3.10/multiprocessing/popen_fork.py:66: RuntimeWarning: os.fork() was called. os.fork() is incompatible with multithreaded code, and JAX is multithreaded, so this will likely lead to a deadlock.\n",
      "  self.pid = os.fork()\n"
     ]
    },
    {
     "name": "stdout",
     "output_type": "stream",
     "text": [
      "Epoch 0, Average Outcome Loss: 0.6977143022749159, Average Accuracy: 0.5, Test AUC: 0.5000, Test Accuracy: 0.6622\n",
      "Epoch 0, Average Outcome Loss: 1.1654114193386502, Average Accuracy: 0.5, Test AUC: 0.5000, Test Accuracy: 0.3378\n",
      "Epoch 0, Average Outcome Loss: 0.710907929473453, Average Accuracy: 0.4861111111111111, Test AUC: 0.5000, Test Accuracy: 0.3378\n",
      "Epoch 0, Average Outcome Loss: 0.7185365292761061, Average Accuracy: 0.5, Test AUC: 0.5000, Test Accuracy: 0.3378\n",
      "Epoch 0, Average Outcome Loss: 0.6875345177120633, Average Accuracy: 0.5069444444444444, Test AUC: 0.5000, Test Accuracy: 0.6622\n",
      "Epoch 100, Average Outcome Loss: 0.7062981261147393, Average Accuracy: 0.5, Test AUC: 0.6922, Test Accuracy: 0.3378\n",
      "Epoch 100, Average Outcome Loss: 0.8401260905795627, Average Accuracy: 0.5, Test AUC: 0.5698, Test Accuracy: 0.6622\n",
      "Epoch 100, Average Outcome Loss: 0.690448264280955, Average Accuracy: 0.5069444444444444, Test AUC: 0.7453, Test Accuracy: 0.6081\n",
      "Epoch 100, Average Outcome Loss: 0.6468395988146464, Average Accuracy: 0.6527777777777778, Test AUC: 0.7461, Test Accuracy: 0.5946\n",
      "Epoch 100, Average Outcome Loss: 0.7292588750521342, Average Accuracy: 0.5, Test AUC: 0.4073, Test Accuracy: 0.3378\n"
     ]
    },
    {
     "name": "stderr",
     "output_type": "stream",
     "text": [
      "/opt/conda/lib/python3.10/multiprocessing/popen_fork.py:66: RuntimeWarning: os.fork() was called. os.fork() is incompatible with multithreaded code, and JAX is multithreaded, so this will likely lead to a deadlock.\n",
      "  self.pid = os.fork()\n"
     ]
    },
    {
     "name": "stdout",
     "output_type": "stream",
     "text": [
      "Score: 0.772734693877551\n",
      "Total time: 60.84664440155029 seconds\n",
      "Currently training, population member 50\n",
      "987\n"
     ]
    },
    {
     "name": "stderr",
     "output_type": "stream",
     "text": [
      "/opt/conda/lib/python3.10/multiprocessing/popen_fork.py:66: RuntimeWarning: os.fork() was called. os.fork() is incompatible with multithreaded code, and JAX is multithreaded, so this will likely lead to a deadlock.\n",
      "  self.pid = os.fork()\n"
     ]
    },
    {
     "name": "stdout",
     "output_type": "stream",
     "text": [
      "Epoch 0, Average Outcome Loss: 0.6984395782152811, Average Accuracy: 0.5138888888888888, Test AUC: 0.5000, Test Accuracy: 0.3378\n",
      "Epoch 0, Average Outcome Loss: 0.7098904781871371, Average Accuracy: 0.5, Test AUC: 0.5000, Test Accuracy: 0.3378\n",
      "Epoch 0, Average Outcome Loss: 0.6932605173852708, Average Accuracy: 0.5347222222222222, Test AUC: 0.5000, Test Accuracy: 0.6622\n",
      "Epoch 0, Average Outcome Loss: 0.7283315128750272, Average Accuracy: 0.5, Test AUC: 0.5000, Test Accuracy: 0.6622\n",
      "Epoch 0, Average Outcome Loss: 0.720236513349745, Average Accuracy: 0.4930555555555556, Test AUC: 0.5000, Test Accuracy: 0.6622\n",
      "Epoch 100, Average Outcome Loss: 0.6949441366725497, Average Accuracy: 0.5, Test AUC: 0.5273, Test Accuracy: 0.3649\n",
      "Epoch 100, Average Outcome Loss: 3.5931304825676813, Average Accuracy: 0.5, Test AUC: 0.3151, Test Accuracy: 0.3378Epoch 100, Average Outcome Loss: 0.6655504571066962, Average Accuracy: 0.6736111111111112, Test AUC: 0.8163, Test Accuracy: 0.5405\n",
      "\n",
      "Epoch 100, Average Outcome Loss: 1.4165393908818562, Average Accuracy: 0.5, Test AUC: 0.6555, Test Accuracy: 0.6622\n",
      "Epoch 100, Average Outcome Loss: 1.3573898871739705, Average Accuracy: 0.5, Test AUC: 0.6318, Test Accuracy: 0.6622\n"
     ]
    },
    {
     "name": "stderr",
     "output_type": "stream",
     "text": [
      "/opt/conda/lib/python3.10/multiprocessing/popen_fork.py:66: RuntimeWarning: os.fork() was called. os.fork() is incompatible with multithreaded code, and JAX is multithreaded, so this will likely lead to a deadlock.\n",
      "  self.pid = os.fork()\n"
     ]
    },
    {
     "name": "stdout",
     "output_type": "stream",
     "text": [
      "Score: 0.8045714285714285\n",
      "Total time: 60.814061403274536 seconds\n",
      "Generation 1, Best Accuracy: 0.8070\n",
      "Currently training, population member 1\n",
      "987\n"
     ]
    },
    {
     "name": "stderr",
     "output_type": "stream",
     "text": [
      "/opt/conda/lib/python3.10/multiprocessing/popen_fork.py:66: RuntimeWarning: os.fork() was called. os.fork() is incompatible with multithreaded code, and JAX is multithreaded, so this will likely lead to a deadlock.\n",
      "  self.pid = os.fork()\n"
     ]
    },
    {
     "name": "stdout",
     "output_type": "stream",
     "text": [
      "Epoch 0, Average Outcome Loss: 0.755313601758745, Average Accuracy: 0.5, Test AUC: 0.5000, Test Accuracy: 0.3378\n",
      "Epoch 0, Average Outcome Loss: 0.7085864080323113, Average Accuracy: 0.5208333333333334, Test AUC: 0.5000, Test Accuracy: 0.6622\n",
      "Epoch 0, Average Outcome Loss: 0.7425724267959595, Average Accuracy: 0.5, Test AUC: 0.5000, Test Accuracy: 0.6622\n",
      "Epoch 0, Average Outcome Loss: 0.6921710305743747, Average Accuracy: 0.5208333333333334, Test AUC: 0.5000, Test Accuracy: 0.3378\n",
      "Epoch 0, Average Outcome Loss: 0.7085152135954963, Average Accuracy: 0.4861111111111111, Test AUC: 0.5000, Test Accuracy: 0.3378\n",
      "Epoch 100, Average Outcome Loss: 0.6934289468659295, Average Accuracy: 0.5138888888888888, Test AUC: 0.5959, Test Accuracy: 0.5811\n",
      "Epoch 100, Average Outcome Loss: 0.7089340686798096, Average Accuracy: 0.5, Test AUC: 0.6106, Test Accuracy: 0.6622\n",
      "Epoch 100, Average Outcome Loss: 0.6951112151145935, Average Accuracy: 0.5, Test AUC: 0.3984, Test Accuracy: 0.3378\n",
      "Epoch 100, Average Outcome Loss: 0.6867233051194085, Average Accuracy: 0.5, Test AUC: 0.5935, Test Accuracy: 0.6622\n",
      "Epoch 100, Average Outcome Loss: 0.6433990862634447, Average Accuracy: 0.5555555555555556, Test AUC: 0.6212, Test Accuracy: 0.3514\n"
     ]
    },
    {
     "name": "stderr",
     "output_type": "stream",
     "text": [
      "/opt/conda/lib/python3.10/multiprocessing/popen_fork.py:66: RuntimeWarning: os.fork() was called. os.fork() is incompatible with multithreaded code, and JAX is multithreaded, so this will likely lead to a deadlock.\n",
      "  self.pid = os.fork()\n"
     ]
    },
    {
     "name": "stdout",
     "output_type": "stream",
     "text": [
      "Score: 0.6622040816326531\n",
      "Total time: 59.91125178337097 seconds\n",
      "Currently training, population member 2\n",
      "1019\n"
     ]
    },
    {
     "name": "stderr",
     "output_type": "stream",
     "text": [
      "/opt/conda/lib/python3.10/multiprocessing/popen_fork.py:66: RuntimeWarning: os.fork() was called. os.fork() is incompatible with multithreaded code, and JAX is multithreaded, so this will likely lead to a deadlock.\n",
      "  self.pid = os.fork()\n"
     ]
    },
    {
     "name": "stdout",
     "output_type": "stream",
     "text": [
      "Epoch 0, Average Outcome Loss: 0.7080139319101969, Average Accuracy: 0.4791666666666667, Test AUC: 0.3527, Test Accuracy: 0.3378\n",
      "Epoch 0, Average Outcome Loss: 0.8190626833173964, Average Accuracy: 0.5, Test AUC: 0.5000, Test Accuracy: 0.3378\n",
      "Epoch 0, Average Outcome Loss: 0.7000924613740709, Average Accuracy: 0.4375, Test AUC: 0.5000, Test Accuracy: 0.6622\n",
      "Epoch 0, Average Outcome Loss: 0.8511561221546597, Average Accuracy: 0.5, Test AUC: 0.5000, Test Accuracy: 0.6622\n",
      "Epoch 0, Average Outcome Loss: 0.7104743056827121, Average Accuracy: 0.5347222222222222, Test AUC: 0.5000, Test Accuracy: 0.6622\n",
      "Epoch 100, Average Outcome Loss: 0.6974345180723402, Average Accuracy: 0.5, Test AUC: 0.7412, Test Accuracy: 0.6622\n",
      "Epoch 100, Average Outcome Loss: 0.6784528493881226, Average Accuracy: 0.5486111111111112, Test AUC: 0.7388, Test Accuracy: 0.3919\n",
      "Epoch 100, Average Outcome Loss: 0.7495313617918227, Average Accuracy: 0.5, Test AUC: 0.6890, Test Accuracy: 0.3378\n",
      "Epoch 100, Average Outcome Loss: 7.61102310816447, Average Accuracy: 0.5, Test AUC: 0.4163, Test Accuracy: 0.3378\n",
      "Epoch 100, Average Outcome Loss: 0.7013360659281412, Average Accuracy: 0.5, Test AUC: 0.6914, Test Accuracy: 0.3378\n"
     ]
    },
    {
     "name": "stderr",
     "output_type": "stream",
     "text": [
      "/opt/conda/lib/python3.10/multiprocessing/popen_fork.py:66: RuntimeWarning: os.fork() was called. os.fork() is incompatible with multithreaded code, and JAX is multithreaded, so this will likely lead to a deadlock.\n",
      "  self.pid = os.fork()\n"
     ]
    },
    {
     "name": "stdout",
     "output_type": "stream",
     "text": [
      "Score: 0.7448163265306122\n",
      "Total time: 61.10042190551758 seconds\n",
      "Currently training, population member 3\n",
      "1016\n"
     ]
    },
    {
     "name": "stderr",
     "output_type": "stream",
     "text": [
      "/opt/conda/lib/python3.10/multiprocessing/popen_fork.py:66: RuntimeWarning: os.fork() was called. os.fork() is incompatible with multithreaded code, and JAX is multithreaded, so this will likely lead to a deadlock.\n",
      "  self.pid = os.fork()\n"
     ]
    },
    {
     "name": "stdout",
     "output_type": "stream",
     "text": [
      "Epoch 0, Average Outcome Loss: 0.7818709876802232, Average Accuracy: 0.5, Test AUC: 0.5000, Test Accuracy: 0.3378\n",
      "Epoch 0, Average Outcome Loss: 0.70111659500334, Average Accuracy: 0.5138888888888888, Test AUC: 0.5000, Test Accuracy: 0.6622\n",
      "Epoch 0, Average Outcome Loss: 0.7231602337625291, Average Accuracy: 0.5, Test AUC: 0.5000, Test Accuracy: 0.6622\n",
      "Epoch 0, Average Outcome Loss: 0.7503355012999641, Average Accuracy: 0.5, Test AUC: 0.5000, Test Accuracy: 0.6622\n",
      "Epoch 0, Average Outcome Loss: 0.8225991129875183, Average Accuracy: 0.5, Test AUC: 0.5000, Test Accuracy: 0.6622\n",
      "Epoch 100, Average Outcome Loss: 0.691875610086653, Average Accuracy: 0.5, Test AUC: 0.6800, Test Accuracy: 0.3378\n",
      "Epoch 100, Average Outcome Loss: 1.3860031101438735, Average Accuracy: 0.5, Test AUC: 0.4482, Test Accuracy: 0.3378\n",
      "Epoch 100, Average Outcome Loss: 0.7094782259729173, Average Accuracy: 0.5, Test AUC: 0.6090, Test Accuracy: 0.3378\n",
      "Epoch 100, Average Outcome Loss: 0.8696283433172438, Average Accuracy: 0.5, Test AUC: 0.4000, Test Accuracy: 0.3378\n",
      "Epoch 100, Average Outcome Loss: 1.103000866042243, Average Accuracy: 0.5, Test AUC: 0.4400, Test Accuracy: 0.3378\n"
     ]
    },
    {
     "name": "stderr",
     "output_type": "stream",
     "text": [
      "/opt/conda/lib/python3.10/multiprocessing/popen_fork.py:66: RuntimeWarning: os.fork() was called. os.fork() is incompatible with multithreaded code, and JAX is multithreaded, so this will likely lead to a deadlock.\n",
      "  self.pid = os.fork()\n"
     ]
    },
    {
     "name": "stdout",
     "output_type": "stream",
     "text": [
      "Score: 0.700734693877551\n",
      "Total time: 60.93630886077881 seconds\n",
      "Currently training, population member 4\n",
      "1039\n"
     ]
    },
    {
     "name": "stderr",
     "output_type": "stream",
     "text": [
      "/opt/conda/lib/python3.10/multiprocessing/popen_fork.py:66: RuntimeWarning: os.fork() was called. os.fork() is incompatible with multithreaded code, and JAX is multithreaded, so this will likely lead to a deadlock.\n",
      "  self.pid = os.fork()\n"
     ]
    },
    {
     "name": "stdout",
     "output_type": "stream",
     "text": [
      "Epoch 0, Average Outcome Loss: 0.6963000297546387, Average Accuracy: 0.5, Test AUC: 0.5000, Test Accuracy: 0.3378\n",
      "Epoch 0, Average Outcome Loss: 0.870530883471171, Average Accuracy: 0.5, Test AUC: 0.5000, Test Accuracy: 0.3378\n",
      "Epoch 0, Average Outcome Loss: 0.7020507587326897, Average Accuracy: 0.5, Test AUC: 0.5000, Test Accuracy: 0.6622\n",
      "Epoch 0, Average Outcome Loss: 0.9708004726303948, Average Accuracy: 0.5, Test AUC: 0.5000, Test Accuracy: 0.6622\n",
      "Epoch 0, Average Outcome Loss: 0.7927647034327189, Average Accuracy: 0.5, Test AUC: 0.5000, Test Accuracy: 0.6622\n",
      "Epoch 100, Average Outcome Loss: 0.9427060617340935, Average Accuracy: 0.5, Test AUC: 0.6318, Test Accuracy: 0.6622\n",
      "Epoch 100, Average Outcome Loss: 0.6944863200187683, Average Accuracy: 0.5, Test AUC: 0.6180, Test Accuracy: 0.3514\n",
      "Epoch 100, Average Outcome Loss: 1.1359349489212036, Average Accuracy: 0.5, Test AUC: 0.6294, Test Accuracy: 0.6622\n",
      "Epoch 100, Average Outcome Loss: 0.7279727525181241, Average Accuracy: 0.5, Test AUC: 0.6098, Test Accuracy: 0.4865\n",
      "Epoch 100, Average Outcome Loss: 0.7146192789077759, Average Accuracy: 0.5, Test AUC: 0.6645, Test Accuracy: 0.3378\n"
     ]
    },
    {
     "name": "stderr",
     "output_type": "stream",
     "text": [
      "/opt/conda/lib/python3.10/multiprocessing/popen_fork.py:66: RuntimeWarning: os.fork() was called. os.fork() is incompatible with multithreaded code, and JAX is multithreaded, so this will likely lead to a deadlock.\n",
      "  self.pid = os.fork()\n"
     ]
    },
    {
     "name": "stdout",
     "output_type": "stream",
     "text": [
      "Score: 0.6857142857142857\n",
      "Total time: 60.27931475639343 seconds\n",
      "Currently training, population member 5\n",
      "1028\n"
     ]
    },
    {
     "name": "stderr",
     "output_type": "stream",
     "text": [
      "/opt/conda/lib/python3.10/multiprocessing/popen_fork.py:66: RuntimeWarning: os.fork() was called. os.fork() is incompatible with multithreaded code, and JAX is multithreaded, so this will likely lead to a deadlock.\n",
      "  self.pid = os.fork()\n"
     ]
    },
    {
     "name": "stdout",
     "output_type": "stream",
     "text": [
      "Epoch 0, Average Outcome Loss: 0.7333707743220859, Average Accuracy: 0.5, Test AUC: 0.5000, Test Accuracy: 0.6622\n",
      "Epoch 0, Average Outcome Loss: 0.6975662973192003, Average Accuracy: 0.5, Test AUC: 0.5000, Test Accuracy: 0.6622\n",
      "Epoch 0, Average Outcome Loss: 0.6976000666618347, Average Accuracy: 0.5347222222222222, Test AUC: 0.5000, Test Accuracy: 0.3378\n",
      "Epoch 0, Average Outcome Loss: 0.7106987833976746, Average Accuracy: 0.4861111111111111, Test AUC: 0.5000, Test Accuracy: 0.6622\n",
      "Epoch 0, Average Outcome Loss: 0.7313130895296732, Average Accuracy: 0.5, Test AUC: 0.5000, Test Accuracy: 0.3378\n",
      "Epoch 100, Average Outcome Loss: 1.4522460831536188, Average Accuracy: 0.5, Test AUC: 0.7576, Test Accuracy: 0.3378\n",
      "Epoch 100, Average Outcome Loss: 2.153238720364041, Average Accuracy: 0.5, Test AUC: 0.5780, Test Accuracy: 0.6622\n",
      "Epoch 100, Average Outcome Loss: 0.6813992725478278, Average Accuracy: 0.625, Test AUC: 0.7314, Test Accuracy: 0.7162\n",
      "Epoch 100, Average Outcome Loss: 0.7114786439471774, Average Accuracy: 0.5625, Test AUC: 0.7771, Test Accuracy: 0.7568\n",
      "Epoch 100, Average Outcome Loss: 0.6684923304451836, Average Accuracy: 0.5972222222222222, Test AUC: 0.8294, Test Accuracy: 0.3919\n"
     ]
    },
    {
     "name": "stderr",
     "output_type": "stream",
     "text": [
      "/opt/conda/lib/python3.10/multiprocessing/popen_fork.py:66: RuntimeWarning: os.fork() was called. os.fork() is incompatible with multithreaded code, and JAX is multithreaded, so this will likely lead to a deadlock.\n",
      "  self.pid = os.fork()\n"
     ]
    },
    {
     "name": "stdout",
     "output_type": "stream",
     "text": [
      "Score: 0.7993469387755103\n",
      "Total time: 61.16781973838806 seconds\n",
      "Currently training, population member 6\n",
      "1055\n"
     ]
    },
    {
     "name": "stderr",
     "output_type": "stream",
     "text": [
      "/opt/conda/lib/python3.10/multiprocessing/popen_fork.py:66: RuntimeWarning: os.fork() was called. os.fork() is incompatible with multithreaded code, and JAX is multithreaded, so this will likely lead to a deadlock.\n",
      "  self.pid = os.fork()\n"
     ]
    },
    {
     "name": "stdout",
     "output_type": "stream",
     "text": [
      "Epoch 0, Average Outcome Loss: 0.7513366805182563, Average Accuracy: 0.5, Test AUC: 0.5000, Test Accuracy: 0.6622\n",
      "Epoch 0, Average Outcome Loss: 0.7972285085254245, Average Accuracy: 0.5, Test AUC: 0.5000, Test Accuracy: 0.6622\n",
      "Epoch 0, Average Outcome Loss: 0.7534166309568617, Average Accuracy: 0.4791666666666667, Test AUC: 0.5000, Test Accuracy: 0.3378\n",
      "Epoch 0, Average Outcome Loss: 0.6920659939448038, Average Accuracy: 0.5416666666666666, Test AUC: 0.5000, Test Accuracy: 0.6622\n",
      "Epoch 0, Average Outcome Loss: 0.8154130710495843, Average Accuracy: 0.5, Test AUC: 0.5000, Test Accuracy: 0.3378\n",
      "Epoch 100, Average Outcome Loss: 1.7182587385177612, Average Accuracy: 0.5, Test AUC: 0.4237, Test Accuracy: 0.3378\n",
      "Epoch 100, Average Outcome Loss: 0.7052427993880378, Average Accuracy: 0.5, Test AUC: 0.5478, Test Accuracy: 0.3378\n",
      "Epoch 100, Average Outcome Loss: 0.8430962098969353, Average Accuracy: 0.5, Test AUC: 0.4114, Test Accuracy: 0.3378\n",
      "Epoch 100, Average Outcome Loss: 0.6809427605734931, Average Accuracy: 0.5138888888888888, Test AUC: 0.6522, Test Accuracy: 0.6622\n",
      "Epoch 100, Average Outcome Loss: 0.8086629377471076, Average Accuracy: 0.5, Test AUC: 0.5894, Test Accuracy: 0.3378\n"
     ]
    },
    {
     "name": "stderr",
     "output_type": "stream",
     "text": [
      "/opt/conda/lib/python3.10/multiprocessing/popen_fork.py:66: RuntimeWarning: os.fork() was called. os.fork() is incompatible with multithreaded code, and JAX is multithreaded, so this will likely lead to a deadlock.\n",
      "  self.pid = os.fork()\n"
     ]
    },
    {
     "name": "stdout",
     "output_type": "stream",
     "text": [
      "Score: 0.72\n",
      "Total time: 61.530752658843994 seconds\n",
      "Currently training, population member 7\n",
      "1012\n"
     ]
    },
    {
     "name": "stderr",
     "output_type": "stream",
     "text": [
      "/opt/conda/lib/python3.10/multiprocessing/popen_fork.py:66: RuntimeWarning: os.fork() was called. os.fork() is incompatible with multithreaded code, and JAX is multithreaded, so this will likely lead to a deadlock.\n",
      "  self.pid = os.fork()\n"
     ]
    },
    {
     "name": "stdout",
     "output_type": "stream",
     "text": [
      "Epoch 0, Average Outcome Loss: 0.8339447445339627, Average Accuracy: 0.5, Test AUC: 0.5000, Test Accuracy: 0.3378\n",
      "Epoch 0, Average Outcome Loss: 0.7299687597486708, Average Accuracy: 0.5, Test AUC: 0.5000, Test Accuracy: 0.3378\n",
      "Epoch 0, Average Outcome Loss: 0.8251537614398532, Average Accuracy: 0.5, Test AUC: 0.5000, Test Accuracy: 0.3378\n",
      "Epoch 0, Average Outcome Loss: 0.6884052422311571, Average Accuracy: 0.5, Test AUC: 0.5000, Test Accuracy: 0.6622\n",
      "Epoch 0, Average Outcome Loss: 0.7029242714246114, Average Accuracy: 0.5, Test AUC: 0.5000, Test Accuracy: 0.6622\n",
      "Epoch 100, Average Outcome Loss: 0.69164111216863, Average Accuracy: 0.5069444444444444, Test AUC: 0.6261, Test Accuracy: 0.3784\n",
      "Epoch 100, Average Outcome Loss: 0.711921234925588, Average Accuracy: 0.5, Test AUC: 0.4457, Test Accuracy: 0.6622Epoch 100, Average Outcome Loss: 0.6911413603358798, Average Accuracy: 0.5, Test AUC: 0.7853, Test Accuracy: 0.6622Epoch 100, Average Outcome Loss: 0.7758774492475722, Average Accuracy: 0.5, Test AUC: 0.6065, Test Accuracy: 0.6622\n",
      "\n",
      "\n",
      "Epoch 100, Average Outcome Loss: 0.6814646853340997, Average Accuracy: 0.6111111111111112, Test AUC: 0.5829, Test Accuracy: 0.6081\n"
     ]
    },
    {
     "name": "stderr",
     "output_type": "stream",
     "text": [
      "/opt/conda/lib/python3.10/multiprocessing/popen_fork.py:66: RuntimeWarning: os.fork() was called. os.fork() is incompatible with multithreaded code, and JAX is multithreaded, so this will likely lead to a deadlock.\n",
      "  self.pid = os.fork()\n"
     ]
    },
    {
     "name": "stdout",
     "output_type": "stream",
     "text": [
      "Score: 0.8161632653061224\n",
      "Total time: 61.00001382827759 seconds\n",
      "Currently training, population member 8\n",
      "1041\n"
     ]
    },
    {
     "name": "stderr",
     "output_type": "stream",
     "text": [
      "/opt/conda/lib/python3.10/multiprocessing/popen_fork.py:66: RuntimeWarning: os.fork() was called. os.fork() is incompatible with multithreaded code, and JAX is multithreaded, so this will likely lead to a deadlock.\n",
      "  self.pid = os.fork()\n"
     ]
    },
    {
     "name": "stdout",
     "output_type": "stream",
     "text": [
      "Epoch 0, Average Outcome Loss: 0.6958431932661269, Average Accuracy: 0.4513888888888889, Test AUC: 0.5000, Test Accuracy: 0.3378\n",
      "Epoch 0, Average Outcome Loss: 0.7259544796413846, Average Accuracy: 0.5, Test AUC: 0.5000, Test Accuracy: 0.6622\n",
      "Epoch 0, Average Outcome Loss: 0.7556427915891012, Average Accuracy: 0.5, Test AUC: 0.5000, Test Accuracy: 0.6622\n",
      "Epoch 0, Average Outcome Loss: 0.8711564474635654, Average Accuracy: 0.5, Test AUC: 0.5000, Test Accuracy: 0.3378\n",
      "Epoch 0, Average Outcome Loss: 0.7264353699154324, Average Accuracy: 0.5, Test AUC: 0.5000, Test Accuracy: 0.3378\n",
      "Epoch 100, Average Outcome Loss: 0.7282259662946066, Average Accuracy: 0.5, Test AUC: 0.5461, Test Accuracy: 0.3378\n",
      "Epoch 100, Average Outcome Loss: 1.0440957811143663, Average Accuracy: 0.5, Test AUC: 0.4082, Test Accuracy: 0.3378\n",
      "Epoch 100, Average Outcome Loss: 1.2057234313752916, Average Accuracy: 0.5, Test AUC: 0.5869, Test Accuracy: 0.3378\n",
      "Epoch 100, Average Outcome Loss: 0.8435502780808343, Average Accuracy: 0.5, Test AUC: 0.6408, Test Accuracy: 0.6622\n",
      "Epoch 100, Average Outcome Loss: 0.8798302080896165, Average Accuracy: 0.5, Test AUC: 0.4694, Test Accuracy: 0.3378\n"
     ]
    },
    {
     "name": "stderr",
     "output_type": "stream",
     "text": [
      "/opt/conda/lib/python3.10/multiprocessing/popen_fork.py:66: RuntimeWarning: os.fork() was called. os.fork() is incompatible with multithreaded code, and JAX is multithreaded, so this will likely lead to a deadlock.\n",
      "  self.pid = os.fork()\n"
     ]
    },
    {
     "name": "stdout",
     "output_type": "stream",
     "text": [
      "Score: 0.6667755102040818\n",
      "Total time: 61.26396918296814 seconds\n",
      "Currently training, population member 9\n",
      "1023\n"
     ]
    },
    {
     "name": "stderr",
     "output_type": "stream",
     "text": [
      "/opt/conda/lib/python3.10/multiprocessing/popen_fork.py:66: RuntimeWarning: os.fork() was called. os.fork() is incompatible with multithreaded code, and JAX is multithreaded, so this will likely lead to a deadlock.\n",
      "  self.pid = os.fork()\n"
     ]
    },
    {
     "name": "stdout",
     "output_type": "stream",
     "text": [
      "Epoch 0, Average Outcome Loss: 0.722429957654741, Average Accuracy: 0.5, Test AUC: 0.5000, Test Accuracy: 0.3378\n",
      "Epoch 0, Average Outcome Loss: 1.0036479300922818, Average Accuracy: 0.5, Test AUC: 0.5000, Test Accuracy: 0.6622\n",
      "Epoch 0, Average Outcome Loss: 0.6971217592557272, Average Accuracy: 0.5208333333333334, Test AUC: 0.5000, Test Accuracy: 0.6622\n",
      "Epoch 0, Average Outcome Loss: 0.7277273601955838, Average Accuracy: 0.5, Test AUC: 0.5000, Test Accuracy: 0.6622\n",
      "Epoch 0, Average Outcome Loss: 0.8715907467736138, Average Accuracy: 0.5, Test AUC: 0.5000, Test Accuracy: 0.6622\n",
      "Epoch 100, Average Outcome Loss: 0.7141261166996427, Average Accuracy: 0.5, Test AUC: 0.4147, Test Accuracy: 0.3378\n",
      "Epoch 100, Average Outcome Loss: 0.8575199047724406, Average Accuracy: 0.5, Test AUC: 0.5967, Test Accuracy: 0.3378\n",
      "Epoch 100, Average Outcome Loss: 0.6801849471198188, Average Accuracy: 0.5763888888888888, Test AUC: 0.5894, Test Accuracy: 0.3243\n",
      "Epoch 100, Average Outcome Loss: 0.6886751453081766, Average Accuracy: 0.5208333333333334, Test AUC: 0.6106, Test Accuracy: 0.3378\n",
      "Epoch 100, Average Outcome Loss: 1.1987036996417575, Average Accuracy: 0.5, Test AUC: 0.6000, Test Accuracy: 0.6622\n"
     ]
    },
    {
     "name": "stderr",
     "output_type": "stream",
     "text": [
      "/opt/conda/lib/python3.10/multiprocessing/popen_fork.py:66: RuntimeWarning: os.fork() was called. os.fork() is incompatible with multithreaded code, and JAX is multithreaded, so this will likely lead to a deadlock.\n",
      "  self.pid = os.fork()\n"
     ]
    },
    {
     "name": "stdout",
     "output_type": "stream",
     "text": [
      "Score: 0.6615510204081632\n",
      "Total time: 60.91360926628113 seconds\n",
      "Currently training, population member 10\n",
      "984\n"
     ]
    },
    {
     "name": "stderr",
     "output_type": "stream",
     "text": [
      "/opt/conda/lib/python3.10/multiprocessing/popen_fork.py:66: RuntimeWarning: os.fork() was called. os.fork() is incompatible with multithreaded code, and JAX is multithreaded, so this will likely lead to a deadlock.\n",
      "  self.pid = os.fork()\n"
     ]
    },
    {
     "name": "stdout",
     "output_type": "stream",
     "text": [
      "Epoch 0, Average Outcome Loss: 0.7287479705280728, Average Accuracy: 0.5, Test AUC: 0.5000, Test Accuracy: 0.6622\n",
      "Epoch 0, Average Outcome Loss: 0.6915165715747409, Average Accuracy: 0.5486111111111112, Test AUC: 0.5000, Test Accuracy: 0.6622\n",
      "Epoch 0, Average Outcome Loss: 0.7699834903081259, Average Accuracy: 0.5, Test AUC: 0.5000, Test Accuracy: 0.6622\n",
      "Epoch 0, Average Outcome Loss: 0.7057453592618307, Average Accuracy: 0.4722222222222222, Test AUC: 0.5000, Test Accuracy: 0.3378Epoch 0, Average Outcome Loss: 0.7221427957216898, Average Accuracy: 0.5069444444444444, Test AUC: 0.5000, Test Accuracy: 0.6622\n",
      "\n",
      "Epoch 100, Average Outcome Loss: 0.6614701151847839, Average Accuracy: 0.6527777777777778, Test AUC: 0.6245, Test Accuracy: 0.3378\n",
      "Epoch 100, Average Outcome Loss: 0.8608564270867242, Average Accuracy: 0.5, Test AUC: 0.6196, Test Accuracy: 0.6622\n",
      "Epoch 100, Average Outcome Loss: 0.7457771301269531, Average Accuracy: 0.5, Test AUC: 0.6384, Test Accuracy: 0.6622\n",
      "Epoch 100, Average Outcome Loss: 0.6698369450039334, Average Accuracy: 0.6041666666666666, Test AUC: 0.6253, Test Accuracy: 0.6216\n",
      "Epoch 100, Average Outcome Loss: 0.774140199025472, Average Accuracy: 0.5, Test AUC: 0.5804, Test Accuracy: 0.3378\n"
     ]
    },
    {
     "name": "stderr",
     "output_type": "stream",
     "text": [
      "/opt/conda/lib/python3.10/multiprocessing/popen_fork.py:66: RuntimeWarning: os.fork() was called. os.fork() is incompatible with multithreaded code, and JAX is multithreaded, so this will likely lead to a deadlock.\n",
      "  self.pid = os.fork()\n"
     ]
    },
    {
     "name": "stdout",
     "output_type": "stream",
     "text": [
      "Score: 0.6904489795918367\n",
      "Total time: 60.78820538520813 seconds\n",
      "Currently training, population member 11\n",
      "1057\n"
     ]
    },
    {
     "name": "stderr",
     "output_type": "stream",
     "text": [
      "/opt/conda/lib/python3.10/multiprocessing/popen_fork.py:66: RuntimeWarning: os.fork() was called. os.fork() is incompatible with multithreaded code, and JAX is multithreaded, so this will likely lead to a deadlock.\n",
      "  self.pid = os.fork()\n"
     ]
    },
    {
     "name": "stdout",
     "output_type": "stream",
     "text": [
      "Epoch 0, Average Outcome Loss: 0.7241577638520135, Average Accuracy: 0.5, Test AUC: 0.5000, Test Accuracy: 0.3378\n",
      "Epoch 0, Average Outcome Loss: 1.352523962656657, Average Accuracy: 0.5, Test AUC: 0.5000, Test Accuracy: 0.3378\n",
      "Epoch 0, Average Outcome Loss: 0.7299919393327501, Average Accuracy: 0.5, Test AUC: 0.5000, Test Accuracy: 0.6622\n",
      "Epoch 0, Average Outcome Loss: 0.7066500120692782, Average Accuracy: 0.5069444444444444, Test AUC: 0.5000, Test Accuracy: 0.6622\n",
      "Epoch 0, Average Outcome Loss: 0.7268158263630338, Average Accuracy: 0.4861111111111111, Test AUC: 0.5000, Test Accuracy: 0.6622\n",
      "Epoch 100, Average Outcome Loss: 0.6898398664262559, Average Accuracy: 0.5, Test AUC: 0.5682, Test Accuracy: 0.3378\n",
      "Epoch 100, Average Outcome Loss: 0.7921657893392775, Average Accuracy: 0.5, Test AUC: 0.4465, Test Accuracy: 0.6622\n",
      "Epoch 100, Average Outcome Loss: 0.7377348807122972, Average Accuracy: 0.5, Test AUC: 0.6351, Test Accuracy: 0.5811\n",
      "Epoch 100, Average Outcome Loss: 0.814131518205007, Average Accuracy: 0.5, Test AUC: 0.6678, Test Accuracy: 0.6622\n",
      "Epoch 100, Average Outcome Loss: 0.6364122231801351, Average Accuracy: 0.7083333333333334, Test AUC: 0.7527, Test Accuracy: 0.4324\n"
     ]
    },
    {
     "name": "stderr",
     "output_type": "stream",
     "text": [
      "/opt/conda/lib/python3.10/multiprocessing/popen_fork.py:66: RuntimeWarning: os.fork() was called. os.fork() is incompatible with multithreaded code, and JAX is multithreaded, so this will likely lead to a deadlock.\n",
      "  self.pid = os.fork()\n"
     ]
    },
    {
     "name": "stdout",
     "output_type": "stream",
     "text": [
      "Score: 0.7733877551020408\n",
      "Total time: 61.73789668083191 seconds\n",
      "Currently training, population member 12\n",
      "1082\n"
     ]
    },
    {
     "name": "stderr",
     "output_type": "stream",
     "text": [
      "/opt/conda/lib/python3.10/multiprocessing/popen_fork.py:66: RuntimeWarning: os.fork() was called. os.fork() is incompatible with multithreaded code, and JAX is multithreaded, so this will likely lead to a deadlock.\n",
      "  self.pid = os.fork()\n"
     ]
    },
    {
     "name": "stdout",
     "output_type": "stream",
     "text": [
      "Epoch 0, Average Outcome Loss: 0.6877989305390252, Average Accuracy: 0.5555555555555556, Test AUC: 0.5000, Test Accuracy: 0.6622\n",
      "Epoch 0, Average Outcome Loss: 0.7018530302577548, Average Accuracy: 0.5, Test AUC: 0.5000, Test Accuracy: 0.3378\n",
      "Epoch 0, Average Outcome Loss: 0.7468506428930495, Average Accuracy: 0.5, Test AUC: 0.5000, Test Accuracy: 0.3378\n",
      "Epoch 0, Average Outcome Loss: 0.7504126694467332, Average Accuracy: 0.5, Test AUC: 0.5000, Test Accuracy: 0.6622\n",
      "Epoch 0, Average Outcome Loss: 0.7194431953959994, Average Accuracy: 0.5, Test AUC: 0.5000, Test Accuracy: 0.3378\n",
      "Epoch 100, Average Outcome Loss: 0.6721136503749423, Average Accuracy: 0.5, Test AUC: 0.7404, Test Accuracy: 0.5811\n",
      "Epoch 100, Average Outcome Loss: 0.8361339569091797, Average Accuracy: 0.5, Test AUC: 0.6384, Test Accuracy: 0.6757\n",
      "Epoch 100, Average Outcome Loss: 0.7013481060663859, Average Accuracy: 0.5, Test AUC: 0.4482, Test Accuracy: 0.3378\n",
      "Epoch 100, Average Outcome Loss: 0.6603522830539279, Average Accuracy: 0.5972222222222222, Test AUC: 0.7731, Test Accuracy: 0.6622\n",
      "Epoch 100, Average Outcome Loss: 0.6684804757436117, Average Accuracy: 0.5277777777777778, Test AUC: 0.7412, Test Accuracy: 0.7027\n"
     ]
    },
    {
     "name": "stderr",
     "output_type": "stream",
     "text": [
      "/opt/conda/lib/python3.10/multiprocessing/popen_fork.py:66: RuntimeWarning: os.fork() was called. os.fork() is incompatible with multithreaded code, and JAX is multithreaded, so this will likely lead to a deadlock.\n",
      "  self.pid = os.fork()\n"
     ]
    },
    {
     "name": "stdout",
     "output_type": "stream",
     "text": [
      "Score: 0.7696326530612245\n",
      "Total time: 61.949644565582275 seconds\n",
      "Currently training, population member 13\n",
      "1041\n"
     ]
    },
    {
     "name": "stderr",
     "output_type": "stream",
     "text": [
      "/opt/conda/lib/python3.10/multiprocessing/popen_fork.py:66: RuntimeWarning: os.fork() was called. os.fork() is incompatible with multithreaded code, and JAX is multithreaded, so this will likely lead to a deadlock.\n",
      "  self.pid = os.fork()\n"
     ]
    },
    {
     "name": "stdout",
     "output_type": "stream",
     "text": [
      "Epoch 0, Average Outcome Loss: 0.7128856579462687, Average Accuracy: 0.5069444444444444, Test AUC: 0.5000, Test Accuracy: 0.6622\n",
      "Epoch 0, Average Outcome Loss: 0.9437923100259569, Average Accuracy: 0.5, Test AUC: 0.5000, Test Accuracy: 0.6622\n",
      "Epoch 0, Average Outcome Loss: 0.7037374708387587, Average Accuracy: 0.4861111111111111, Test AUC: 0.5000, Test Accuracy: 0.3378\n",
      "Epoch 0, Average Outcome Loss: 0.7260720001326667, Average Accuracy: 0.5555555555555556, Test AUC: 0.5000, Test Accuracy: 0.6622\n",
      "Epoch 0, Average Outcome Loss: 0.7235797908571031, Average Accuracy: 0.4861111111111111, Test AUC: 0.5000, Test Accuracy: 0.6622\n",
      "Epoch 100, Average Outcome Loss: 0.5787441399362352, Average Accuracy: 0.7291666666666666, Test AUC: 0.8180, Test Accuracy: 0.7162\n",
      "Epoch 100, Average Outcome Loss: 0.661302387714386, Average Accuracy: 0.5625, Test AUC: 0.8269, Test Accuracy: 0.7568\n",
      "Epoch 100, Average Outcome Loss: 3.1801682578192816, Average Accuracy: 0.5, Test AUC: 0.5241, Test Accuracy: 0.6622\n",
      "Epoch 100, Average Outcome Loss: 0.7149890727467008, Average Accuracy: 0.5, Test AUC: 0.7829, Test Accuracy: 0.6622\n",
      "Epoch 100, Average Outcome Loss: 4.222625891367595, Average Accuracy: 0.5, Test AUC: 0.4653, Test Accuracy: 0.3378\n"
     ]
    },
    {
     "name": "stderr",
     "output_type": "stream",
     "text": [
      "/opt/conda/lib/python3.10/multiprocessing/popen_fork.py:66: RuntimeWarning: os.fork() was called. os.fork() is incompatible with multithreaded code, and JAX is multithreaded, so this will likely lead to a deadlock.\n",
      "  self.pid = os.fork()\n"
     ]
    },
    {
     "name": "stdout",
     "output_type": "stream",
     "text": [
      "Score: 0.8277551020408163\n",
      "Total time: 60.6513090133667 seconds\n",
      "Currently training, population member 14\n",
      "1054\n"
     ]
    },
    {
     "name": "stderr",
     "output_type": "stream",
     "text": [
      "/opt/conda/lib/python3.10/multiprocessing/popen_fork.py:66: RuntimeWarning: os.fork() was called. os.fork() is incompatible with multithreaded code, and JAX is multithreaded, so this will likely lead to a deadlock.\n",
      "  self.pid = os.fork()\n"
     ]
    },
    {
     "name": "stdout",
     "output_type": "stream",
     "text": [
      "Epoch 0, Average Outcome Loss: 0.7227859298388163, Average Accuracy: 0.5, Test AUC: 0.5000, Test Accuracy: 0.6622\n",
      "Epoch 0, Average Outcome Loss: 0.6982981959978739, Average Accuracy: 0.4861111111111111, Test AUC: 0.5000, Test Accuracy: 0.6622\n",
      "Epoch 0, Average Outcome Loss: 0.7047586573494805, Average Accuracy: 0.4791666666666667, Test AUC: 0.6665, Test Accuracy: 0.6622\n",
      "Epoch 0, Average Outcome Loss: 0.8093422187699212, Average Accuracy: 0.5, Test AUC: 0.5000, Test Accuracy: 0.6622\n",
      "Epoch 0, Average Outcome Loss: 0.7120247284571329, Average Accuracy: 0.5, Test AUC: 0.5000, Test Accuracy: 0.6622\n",
      "Epoch 100, Average Outcome Loss: 3.3171326054467096, Average Accuracy: 0.5, Test AUC: 0.7192, Test Accuracy: 0.6622\n",
      "Epoch 100, Average Outcome Loss: 1.6546093887752957, Average Accuracy: 0.5, Test AUC: 0.3608, Test Accuracy: 0.3378\n",
      "Epoch 100, Average Outcome Loss: 0.9649259448051453, Average Accuracy: 0.5, Test AUC: 0.6808, Test Accuracy: 0.6622\n",
      "Epoch 100, Average Outcome Loss: 0.703103694650862, Average Accuracy: 0.5, Test AUC: 0.6914, Test Accuracy: 0.6622\n",
      "Epoch 100, Average Outcome Loss: 0.7840981814596388, Average Accuracy: 0.5, Test AUC: 0.7355, Test Accuracy: 0.6622\n"
     ]
    },
    {
     "name": "stderr",
     "output_type": "stream",
     "text": [
      "/opt/conda/lib/python3.10/multiprocessing/popen_fork.py:66: RuntimeWarning: os.fork() was called. os.fork() is incompatible with multithreaded code, and JAX is multithreaded, so this will likely lead to a deadlock.\n",
      "  self.pid = os.fork()\n"
     ]
    },
    {
     "name": "stdout",
     "output_type": "stream",
     "text": [
      "Score: 0.7598367346938775\n",
      "Total time: 61.47883462905884 seconds\n",
      "Currently training, population member 15\n",
      "1037\n"
     ]
    },
    {
     "name": "stderr",
     "output_type": "stream",
     "text": [
      "/opt/conda/lib/python3.10/multiprocessing/popen_fork.py:66: RuntimeWarning: os.fork() was called. os.fork() is incompatible with multithreaded code, and JAX is multithreaded, so this will likely lead to a deadlock.\n",
      "  self.pid = os.fork()\n"
     ]
    },
    {
     "name": "stdout",
     "output_type": "stream",
     "text": [
      "Epoch 0, Average Outcome Loss: 0.8129781087239584, Average Accuracy: 0.5, Test AUC: 0.5000, Test Accuracy: 0.6622\n",
      "Epoch 0, Average Outcome Loss: 0.715831544664171, Average Accuracy: 0.5138888888888888, Test AUC: 0.5000, Test Accuracy: 0.6622\n",
      "Epoch 0, Average Outcome Loss: 0.68711390097936, Average Accuracy: 0.5625, Test AUC: 0.5000, Test Accuracy: 0.3378\n",
      "Epoch 0, Average Outcome Loss: 0.7116468879911635, Average Accuracy: 0.4513888888888889, Test AUC: 0.5000, Test Accuracy: 0.6622\n",
      "Epoch 0, Average Outcome Loss: 0.7114198009173075, Average Accuracy: 0.5, Test AUC: 0.5000, Test Accuracy: 0.3378\n",
      "Epoch 100, Average Outcome Loss: 0.6801393495665656, Average Accuracy: 0.625, Test AUC: 0.8033, Test Accuracy: 0.5270\n",
      "Epoch 100, Average Outcome Loss: 0.6657073299090067, Average Accuracy: 0.6319444444444444, Test AUC: 0.7649, Test Accuracy: 0.6216\n",
      "Epoch 100, Average Outcome Loss: 0.7204678787125481, Average Accuracy: 0.5, Test AUC: 0.3902, Test Accuracy: 0.3378\n",
      "Epoch 100, Average Outcome Loss: 0.6872054735819498, Average Accuracy: 0.5416666666666666, Test AUC: 0.7543, Test Accuracy: 0.5405\n",
      "Epoch 100, Average Outcome Loss: 0.6916109853320651, Average Accuracy: 0.5, Test AUC: 0.7208, Test Accuracy: 0.6622\n"
     ]
    },
    {
     "name": "stderr",
     "output_type": "stream",
     "text": [
      "/opt/conda/lib/python3.10/multiprocessing/popen_fork.py:66: RuntimeWarning: os.fork() was called. os.fork() is incompatible with multithreaded code, and JAX is multithreaded, so this will likely lead to a deadlock.\n",
      "  self.pid = os.fork()\n"
     ]
    },
    {
     "name": "stdout",
     "output_type": "stream",
     "text": [
      "Score: 0.7965714285714286\n",
      "Total time: 60.80553388595581 seconds\n",
      "Currently training, population member 16\n",
      "1072\n"
     ]
    },
    {
     "name": "stderr",
     "output_type": "stream",
     "text": [
      "/opt/conda/lib/python3.10/multiprocessing/popen_fork.py:66: RuntimeWarning: os.fork() was called. os.fork() is incompatible with multithreaded code, and JAX is multithreaded, so this will likely lead to a deadlock.\n",
      "  self.pid = os.fork()\n"
     ]
    },
    {
     "name": "stdout",
     "output_type": "stream",
     "text": [
      "Epoch 0, Average Outcome Loss: 0.7179530395401849, Average Accuracy: 0.4930555555555556, Test AUC: 0.5000, Test Accuracy: 0.6622\n",
      "Epoch 0, Average Outcome Loss: 0.8978361421161227, Average Accuracy: 0.5, Test AUC: 0.5000, Test Accuracy: 0.3378\n",
      "Epoch 0, Average Outcome Loss: 0.7266605099042257, Average Accuracy: 0.5, Test AUC: 0.5000, Test Accuracy: 0.3378\n",
      "Epoch 0, Average Outcome Loss: 0.681325720416175, Average Accuracy: 0.5277777777777778, Test AUC: 0.5000, Test Accuracy: 0.3378\n",
      "Epoch 0, Average Outcome Loss: 0.7565559215015836, Average Accuracy: 0.5, Test AUC: 0.5000, Test Accuracy: 0.6622\n",
      "Epoch 100, Average Outcome Loss: 0.7969085706604851, Average Accuracy: 0.5, Test AUC: 0.5020, Test Accuracy: 0.3378\n",
      "Epoch 100, Average Outcome Loss: 1.62572353416019, Average Accuracy: 0.5, Test AUC: 0.6816, Test Accuracy: 0.6622\n",
      "Epoch 100, Average Outcome Loss: 1.427502261267768, Average Accuracy: 0.5, Test AUC: 0.6237, Test Accuracy: 0.6622\n",
      "Epoch 100, Average Outcome Loss: 0.7256208459536234, Average Accuracy: 0.5, Test AUC: 0.7012, Test Accuracy: 0.6622\n",
      "Epoch 100, Average Outcome Loss: 0.7920346326298184, Average Accuracy: 0.5, Test AUC: 0.5755, Test Accuracy: 0.5135\n"
     ]
    },
    {
     "name": "stderr",
     "output_type": "stream",
     "text": [
      "/opt/conda/lib/python3.10/multiprocessing/popen_fork.py:66: RuntimeWarning: os.fork() was called. os.fork() is incompatible with multithreaded code, and JAX is multithreaded, so this will likely lead to a deadlock.\n",
      "  self.pid = os.fork()\n"
     ]
    },
    {
     "name": "stdout",
     "output_type": "stream",
     "text": [
      "Score: 0.7475918367346939\n",
      "Total time: 61.844646692276 seconds\n",
      "Currently training, population member 17\n",
      "1023\n"
     ]
    },
    {
     "name": "stderr",
     "output_type": "stream",
     "text": [
      "/opt/conda/lib/python3.10/multiprocessing/popen_fork.py:66: RuntimeWarning: os.fork() was called. os.fork() is incompatible with multithreaded code, and JAX is multithreaded, so this will likely lead to a deadlock.\n",
      "  self.pid = os.fork()\n"
     ]
    },
    {
     "name": "stdout",
     "output_type": "stream",
     "text": [
      "Epoch 0, Average Outcome Loss: 0.8148938417434692, Average Accuracy: 0.5, Test AUC: 0.5000, Test Accuracy: 0.6622\n",
      "Epoch 0, Average Outcome Loss: 1.2074905633926392, Average Accuracy: 0.5, Test AUC: 0.5000, Test Accuracy: 0.3378\n",
      "Epoch 0, Average Outcome Loss: 0.720137980249193, Average Accuracy: 0.5, Test AUC: 0.5000, Test Accuracy: 0.6622\n",
      "Epoch 0, Average Outcome Loss: 0.7794805500242445, Average Accuracy: 0.5, Test AUC: 0.5000, Test Accuracy: 0.3378\n",
      "Epoch 0, Average Outcome Loss: 0.8771578338411119, Average Accuracy: 0.5, Test AUC: 0.5000, Test Accuracy: 0.6622\n",
      "Epoch 100, Average Outcome Loss: 0.6871305439207289, Average Accuracy: 0.5, Test AUC: 0.5869, Test Accuracy: 0.5000\n",
      "Epoch 100, Average Outcome Loss: 0.7027696635988023, Average Accuracy: 0.5, Test AUC: 0.6882, Test Accuracy: 0.6622\n",
      "Epoch 100, Average Outcome Loss: 0.97754215531879, Average Accuracy: 0.5, Test AUC: 0.4710, Test Accuracy: 0.3378\n",
      "Epoch 100, Average Outcome Loss: 0.7043738762537638, Average Accuracy: 0.5, Test AUC: 0.7298, Test Accuracy: 0.6622\n",
      "Epoch 100, Average Outcome Loss: 0.6831941472159492, Average Accuracy: 0.5902777777777778, Test AUC: 0.7192, Test Accuracy: 0.6757\n"
     ]
    },
    {
     "name": "stderr",
     "output_type": "stream",
     "text": [
      "/opt/conda/lib/python3.10/multiprocessing/popen_fork.py:66: RuntimeWarning: os.fork() was called. os.fork() is incompatible with multithreaded code, and JAX is multithreaded, so this will likely lead to a deadlock.\n",
      "  self.pid = os.fork()\n"
     ]
    },
    {
     "name": "stdout",
     "output_type": "stream",
     "text": [
      "Score: 0.7384489795918368\n",
      "Total time: 60.94508337974548 seconds\n",
      "Currently training, population member 18\n",
      "1012\n"
     ]
    },
    {
     "name": "stderr",
     "output_type": "stream",
     "text": [
      "/opt/conda/lib/python3.10/multiprocessing/popen_fork.py:66: RuntimeWarning: os.fork() was called. os.fork() is incompatible with multithreaded code, and JAX is multithreaded, so this will likely lead to a deadlock.\n",
      "  self.pid = os.fork()\n"
     ]
    },
    {
     "name": "stdout",
     "output_type": "stream",
     "text": [
      "Epoch 0, Average Outcome Loss: 0.7132204439904954, Average Accuracy: 0.5, Test AUC: 0.5000, Test Accuracy: 0.6622\n",
      "Epoch 0, Average Outcome Loss: 0.7042870786454942, Average Accuracy: 0.5, Test AUC: 0.5000, Test Accuracy: 0.6622\n",
      "Epoch 0, Average Outcome Loss: 0.7740742497973971, Average Accuracy: 0.5, Test AUC: 0.5000, Test Accuracy: 0.3378\n",
      "Epoch 0, Average Outcome Loss: 0.6881034043100145, Average Accuracy: 0.5, Test AUC: 0.5000, Test Accuracy: 0.3378\n",
      "Epoch 0, Average Outcome Loss: 0.7129991915490892, Average Accuracy: 0.5486111111111112, Test AUC: 0.5000, Test Accuracy: 0.6622\n",
      "Epoch 100, Average Outcome Loss: 0.6927155454953512, Average Accuracy: 0.5, Test AUC: 0.6996, Test Accuracy: 0.6622\n",
      "Epoch 100, Average Outcome Loss: 1.1526264349619548, Average Accuracy: 0.5069444444444444, Test AUC: 0.7861, Test Accuracy: 0.3649\n",
      "Epoch 100, Average Outcome Loss: 1.0000381271044414, Average Accuracy: 0.5, Test AUC: 0.3992, Test Accuracy: 0.3378\n",
      "Epoch 100, Average Outcome Loss: 1.0460093021392822, Average Accuracy: 0.5, Test AUC: 0.5159, Test Accuracy: 0.3378\n",
      "Epoch 100, Average Outcome Loss: 0.7439519431855943, Average Accuracy: 0.5, Test AUC: 0.6506, Test Accuracy: 0.6622\n"
     ]
    },
    {
     "name": "stderr",
     "output_type": "stream",
     "text": [
      "/opt/conda/lib/python3.10/multiprocessing/popen_fork.py:66: RuntimeWarning: os.fork() was called. os.fork() is incompatible with multithreaded code, and JAX is multithreaded, so this will likely lead to a deadlock.\n",
      "  self.pid = os.fork()\n"
     ]
    },
    {
     "name": "stdout",
     "output_type": "stream",
     "text": [
      "Score: 0.8099591836734694\n",
      "Total time: 60.758979082107544 seconds\n",
      "Currently training, population member 19\n",
      "1046\n"
     ]
    },
    {
     "name": "stderr",
     "output_type": "stream",
     "text": [
      "/opt/conda/lib/python3.10/multiprocessing/popen_fork.py:66: RuntimeWarning: os.fork() was called. os.fork() is incompatible with multithreaded code, and JAX is multithreaded, so this will likely lead to a deadlock.\n",
      "  self.pid = os.fork()\n"
     ]
    },
    {
     "name": "stdout",
     "output_type": "stream",
     "text": [
      "Epoch 0, Average Outcome Loss: 0.7624623709254794, Average Accuracy: 0.5, Test AUC: 0.5000, Test Accuracy: 0.3378\n",
      "Epoch 0, Average Outcome Loss: 0.7155191169844733, Average Accuracy: 0.5, Test AUC: 0.5000, Test Accuracy: 0.6622\n",
      "Epoch 0, Average Outcome Loss: 0.6988454792234633, Average Accuracy: 0.4791666666666667, Test AUC: 0.5000, Test Accuracy: 0.3378\n",
      "Epoch 0, Average Outcome Loss: 0.7528784407509698, Average Accuracy: 0.5, Test AUC: 0.5000, Test Accuracy: 0.6622\n",
      "Epoch 0, Average Outcome Loss: 0.7107448114289178, Average Accuracy: 0.5, Test AUC: 0.5000, Test Accuracy: 0.6622\n",
      "Epoch 100, Average Outcome Loss: 0.6929890910784403, Average Accuracy: 0.5, Test AUC: 0.6392, Test Accuracy: 0.6622\n",
      "Epoch 100, Average Outcome Loss: 0.7329929206106398, Average Accuracy: 0.5, Test AUC: 0.5037, Test Accuracy: 0.3378\n",
      "Epoch 100, Average Outcome Loss: 0.736315217283037, Average Accuracy: 0.5, Test AUC: 0.6588, Test Accuracy: 0.6622\n",
      "Epoch 100, Average Outcome Loss: 0.7167463302612305, Average Accuracy: 0.5, Test AUC: 0.5927, Test Accuracy: 0.6622\n",
      "Epoch 100, Average Outcome Loss: 1.1664711104498968, Average Accuracy: 0.5, Test AUC: 0.6776, Test Accuracy: 0.6622\n"
     ]
    },
    {
     "name": "stderr",
     "output_type": "stream",
     "text": [
      "/opt/conda/lib/python3.10/multiprocessing/popen_fork.py:66: RuntimeWarning: os.fork() was called. os.fork() is incompatible with multithreaded code, and JAX is multithreaded, so this will likely lead to a deadlock.\n",
      "  self.pid = os.fork()\n"
     ]
    },
    {
     "name": "stdout",
     "output_type": "stream",
     "text": [
      "Score: 0.6966530612244897\n",
      "Total time: 61.360398292541504 seconds\n",
      "Currently training, population member 20\n",
      "1035\n"
     ]
    },
    {
     "name": "stderr",
     "output_type": "stream",
     "text": [
      "/opt/conda/lib/python3.10/multiprocessing/popen_fork.py:66: RuntimeWarning: os.fork() was called. os.fork() is incompatible with multithreaded code, and JAX is multithreaded, so this will likely lead to a deadlock.\n",
      "  self.pid = os.fork()\n"
     ]
    },
    {
     "name": "stdout",
     "output_type": "stream",
     "text": [
      "Epoch 0, Average Outcome Loss: 0.7026778790685866, Average Accuracy: 0.4861111111111111, Test AUC: 0.5000, Test Accuracy: 0.3378\n",
      "Epoch 0, Average Outcome Loss: 0.6919476654794481, Average Accuracy: 0.5694444444444444, Test AUC: 0.5000, Test Accuracy: 0.6622\n",
      "Epoch 0, Average Outcome Loss: 0.7015423311127557, Average Accuracy: 0.4652777777777778, Test AUC: 0.5000, Test Accuracy: 0.3378\n",
      "Epoch 0, Average Outcome Loss: 0.6967409584257338, Average Accuracy: 0.5069444444444444, Test AUC: 0.5000, Test Accuracy: 0.3378\n",
      "Epoch 0, Average Outcome Loss: 1.0481855207019382, Average Accuracy: 0.5, Test AUC: 0.5000, Test Accuracy: 0.3378\n",
      "Epoch 100, Average Outcome Loss: 1.056483957502577, Average Accuracy: 0.5, Test AUC: 0.5110, Test Accuracy: 0.6622\n",
      "Epoch 100, Average Outcome Loss: 0.7257826262050204, Average Accuracy: 0.5, Test AUC: 0.7404, Test Accuracy: 0.7162\n",
      "Epoch 100, Average Outcome Loss: 0.6889291339450412, Average Accuracy: 0.5416666666666666, Test AUC: 0.6996, Test Accuracy: 0.3919\n",
      "Epoch 100, Average Outcome Loss: 0.8311215109295316, Average Accuracy: 0.5, Test AUC: 0.5927, Test Accuracy: 0.3378\n",
      "Epoch 100, Average Outcome Loss: 0.7220031685299344, Average Accuracy: 0.5, Test AUC: 0.7388, Test Accuracy: 0.6622\n"
     ]
    },
    {
     "name": "stderr",
     "output_type": "stream",
     "text": [
      "/opt/conda/lib/python3.10/multiprocessing/popen_fork.py:66: RuntimeWarning: os.fork() was called. os.fork() is incompatible with multithreaded code, and JAX is multithreaded, so this will likely lead to a deadlock.\n",
      "  self.pid = os.fork()\n"
     ]
    },
    {
     "name": "stdout",
     "output_type": "stream",
     "text": [
      "Score: 0.7626122448979592\n",
      "Total time: 60.365602016448975 seconds\n",
      "Currently training, population member 21\n",
      "1010\n"
     ]
    },
    {
     "name": "stderr",
     "output_type": "stream",
     "text": [
      "/opt/conda/lib/python3.10/multiprocessing/popen_fork.py:66: RuntimeWarning: os.fork() was called. os.fork() is incompatible with multithreaded code, and JAX is multithreaded, so this will likely lead to a deadlock.\n",
      "  self.pid = os.fork()\n"
     ]
    },
    {
     "name": "stdout",
     "output_type": "stream",
     "text": [
      "Epoch 0, Average Outcome Loss: 0.798005051083035, Average Accuracy: 0.5, Test AUC: 0.5000, Test Accuracy: 0.3378\n",
      "Epoch 0, Average Outcome Loss: 0.8058517972628275, Average Accuracy: 0.5, Test AUC: 0.5000, Test Accuracy: 0.3378\n",
      "Epoch 0, Average Outcome Loss: 0.8240791426764594, Average Accuracy: 0.5, Test AUC: 0.5000, Test Accuracy: 0.6622\n",
      "Epoch 0, Average Outcome Loss: 0.7060604029231601, Average Accuracy: 0.4722222222222222, Test AUC: 0.5000, Test Accuracy: 0.3378Epoch 0, Average Outcome Loss: 0.6914560861057706, Average Accuracy: 0.5, Test AUC: 0.5000, Test Accuracy: 0.6622\n",
      "\n",
      "Epoch 100, Average Outcome Loss: 0.690743645032247, Average Accuracy: 0.5, Test AUC: 0.4824, Test Accuracy: 0.3378\n",
      "Epoch 100, Average Outcome Loss: 0.6921842628055148, Average Accuracy: 0.5, Test AUC: 0.6939, Test Accuracy: 0.6622\n",
      "Epoch 100, Average Outcome Loss: 0.6782872014575534, Average Accuracy: 0.6875, Test AUC: 0.7388, Test Accuracy: 0.4865\n",
      "Epoch 100, Average Outcome Loss: 0.5566548837555779, Average Accuracy: 0.7361111111111112, Test AUC: 0.7510, Test Accuracy: 0.7027\n",
      "Epoch 100, Average Outcome Loss: 0.6358250180880228, Average Accuracy: 0.6944444444444444, Test AUC: 0.7151, Test Accuracy: 0.7703\n"
     ]
    },
    {
     "name": "stderr",
     "output_type": "stream",
     "text": [
      "/opt/conda/lib/python3.10/multiprocessing/popen_fork.py:66: RuntimeWarning: os.fork() was called. os.fork() is incompatible with multithreaded code, and JAX is multithreaded, so this will likely lead to a deadlock.\n",
      "  self.pid = os.fork()\n"
     ]
    },
    {
     "name": "stdout",
     "output_type": "stream",
     "text": [
      "Score: 0.7466122448979592\n",
      "Total time: 60.750542640686035 seconds\n",
      "Currently training, population member 22\n",
      "1039\n"
     ]
    },
    {
     "name": "stderr",
     "output_type": "stream",
     "text": [
      "/opt/conda/lib/python3.10/multiprocessing/popen_fork.py:66: RuntimeWarning: os.fork() was called. os.fork() is incompatible with multithreaded code, and JAX is multithreaded, so this will likely lead to a deadlock.\n",
      "  self.pid = os.fork()\n"
     ]
    },
    {
     "name": "stdout",
     "output_type": "stream",
     "text": [
      "Epoch 0, Average Outcome Loss: 0.7298983203040229, Average Accuracy: 0.4861111111111111, Test AUC: 0.5000, Test Accuracy: 0.6622\n",
      "Epoch 0, Average Outcome Loss: 0.7093065248595344, Average Accuracy: 0.4861111111111111, Test AUC: 0.5000, Test Accuracy: 0.6622\n",
      "Epoch 0, Average Outcome Loss: 0.7237935662269592, Average Accuracy: 0.5, Test AUC: 0.5000, Test Accuracy: 0.6622\n",
      "Epoch 0, Average Outcome Loss: 0.6958880689409044, Average Accuracy: 0.5, Test AUC: 0.5000, Test Accuracy: 0.6622\n",
      "Epoch 0, Average Outcome Loss: 0.7197656167878045, Average Accuracy: 0.5, Test AUC: 0.5000, Test Accuracy: 0.6622\n",
      "Epoch 100, Average Outcome Loss: 0.8126037783092923, Average Accuracy: 0.5, Test AUC: 0.4808, Test Accuracy: 0.6622\n",
      "Epoch 100, Average Outcome Loss: 2.875741799672445, Average Accuracy: 0.5, Test AUC: 0.6465, Test Accuracy: 0.6622\n",
      "Epoch 100, Average Outcome Loss: 0.7252830465634664, Average Accuracy: 0.4930555555555556, Test AUC: 0.5804, Test Accuracy: 0.6622Epoch 100, Average Outcome Loss: 0.7400100959671868, Average Accuracy: 0.5, Test AUC: 0.5167, Test Accuracy: 0.3378\n",
      "\n",
      "Epoch 100, Average Outcome Loss: 0.8413338528739082, Average Accuracy: 0.4930555555555556, Test AUC: 0.6931, Test Accuracy: 0.6622\n"
     ]
    },
    {
     "name": "stderr",
     "output_type": "stream",
     "text": [
      "/opt/conda/lib/python3.10/multiprocessing/popen_fork.py:66: RuntimeWarning: os.fork() was called. os.fork() is incompatible with multithreaded code, and JAX is multithreaded, so this will likely lead to a deadlock.\n",
      "  self.pid = os.fork()\n"
     ]
    },
    {
     "name": "stdout",
     "output_type": "stream",
     "text": [
      "Score: 0.7154285714285714\n",
      "Total time: 60.55952453613281 seconds\n",
      "Currently training, population member 23\n",
      "1033\n"
     ]
    },
    {
     "name": "stderr",
     "output_type": "stream",
     "text": [
      "/opt/conda/lib/python3.10/multiprocessing/popen_fork.py:66: RuntimeWarning: os.fork() was called. os.fork() is incompatible with multithreaded code, and JAX is multithreaded, so this will likely lead to a deadlock.\n",
      "  self.pid = os.fork()\n"
     ]
    },
    {
     "name": "stdout",
     "output_type": "stream",
     "text": [
      "Epoch 0, Average Outcome Loss: 0.7088023357921176, Average Accuracy: 0.4652777777777778, Test AUC: 0.5000, Test Accuracy: 0.3378\n",
      "Epoch 0, Average Outcome Loss: 0.7004101541307237, Average Accuracy: 0.4444444444444444, Test AUC: 0.5000, Test Accuracy: 0.6622\n",
      "Epoch 0, Average Outcome Loss: 0.6906354162428114, Average Accuracy: 0.5555555555555556, Test AUC: 0.5000, Test Accuracy: 0.3378\n",
      "Epoch 0, Average Outcome Loss: 0.6951838731765747, Average Accuracy: 0.5138888888888888, Test AUC: 0.5000, Test Accuracy: 0.3378\n",
      "Epoch 0, Average Outcome Loss: 0.6955092615551419, Average Accuracy: 0.5069444444444444, Test AUC: 0.5000, Test Accuracy: 0.6622\n",
      "Epoch 100, Average Outcome Loss: 0.6912297937605116, Average Accuracy: 0.5694444444444444, Test AUC: 0.5649, Test Accuracy: 0.3378\n",
      "Epoch 100, Average Outcome Loss: 0.7229448954264323, Average Accuracy: 0.5, Test AUC: 0.6571, Test Accuracy: 0.6622\n",
      "Epoch 100, Average Outcome Loss: 0.8089001642333137, Average Accuracy: 0.5, Test AUC: 0.4220, Test Accuracy: 0.3378\n",
      "Epoch 100, Average Outcome Loss: 0.633698304494222, Average Accuracy: 0.6944444444444444, Test AUC: 0.7118, Test Accuracy: 0.6081\n",
      "Epoch 100, Average Outcome Loss: 1.193781468603346, Average Accuracy: 0.5, Test AUC: 0.6620, Test Accuracy: 0.6622\n"
     ]
    },
    {
     "name": "stderr",
     "output_type": "stream",
     "text": [
      "/opt/conda/lib/python3.10/multiprocessing/popen_fork.py:66: RuntimeWarning: os.fork() was called. os.fork() is incompatible with multithreaded code, and JAX is multithreaded, so this will likely lead to a deadlock.\n",
      "  self.pid = os.fork()\n"
     ]
    },
    {
     "name": "stdout",
     "output_type": "stream",
     "text": [
      "Score: 0.7317551020408164\n",
      "Total time: 60.951093435287476 seconds\n",
      "Currently training, population member 24\n",
      "1046\n"
     ]
    },
    {
     "name": "stderr",
     "output_type": "stream",
     "text": [
      "/opt/conda/lib/python3.10/multiprocessing/popen_fork.py:66: RuntimeWarning: os.fork() was called. os.fork() is incompatible with multithreaded code, and JAX is multithreaded, so this will likely lead to a deadlock.\n",
      "  self.pid = os.fork()\n"
     ]
    },
    {
     "name": "stdout",
     "output_type": "stream",
     "text": [
      "Epoch 0, Average Outcome Loss: 0.6851197216245863, Average Accuracy: 0.5625, Test AUC: 0.5000, Test Accuracy: 0.6622\n",
      "Epoch 0, Average Outcome Loss: 0.8193873365720113, Average Accuracy: 0.5, Test AUC: 0.5000, Test Accuracy: 0.6622\n",
      "Epoch 0, Average Outcome Loss: 0.7143788801299201, Average Accuracy: 0.5, Test AUC: 0.5000, Test Accuracy: 0.3378\n",
      "Epoch 0, Average Outcome Loss: 0.7791828976737128, Average Accuracy: 0.5, Test AUC: 0.5000, Test Accuracy: 0.6622\n",
      "Epoch 0, Average Outcome Loss: 0.6922324432267083, Average Accuracy: 0.5347222222222222, Test AUC: 0.5000, Test Accuracy: 0.6622\n",
      "Epoch 100, Average Outcome Loss: 0.6987035473187765, Average Accuracy: 0.5, Test AUC: 0.6343, Test Accuracy: 0.6622\n",
      "Epoch 100, Average Outcome Loss: 1.5249513785044353, Average Accuracy: 0.5, Test AUC: 0.5118, Test Accuracy: 0.6622\n",
      "Epoch 100, Average Outcome Loss: 0.6141679022047255, Average Accuracy: 0.6527777777777778, Test AUC: 0.7102, Test Accuracy: 0.6892\n",
      "Epoch 100, Average Outcome Loss: 0.6630190677113004, Average Accuracy: 0.5069444444444444, Test AUC: 0.6367, Test Accuracy: 0.3378\n",
      "Epoch 100, Average Outcome Loss: 0.6794236964649625, Average Accuracy: 0.5555555555555556, Test AUC: 0.7273, Test Accuracy: 0.6622\n"
     ]
    },
    {
     "name": "stderr",
     "output_type": "stream",
     "text": [
      "/opt/conda/lib/python3.10/multiprocessing/popen_fork.py:66: RuntimeWarning: os.fork() was called. os.fork() is incompatible with multithreaded code, and JAX is multithreaded, so this will likely lead to a deadlock.\n",
      "  self.pid = os.fork()\n"
     ]
    },
    {
     "name": "stdout",
     "output_type": "stream",
     "text": [
      "Score: 0.7482448979591836\n",
      "Total time: 61.213958978652954 seconds\n",
      "Currently training, population member 25\n",
      "1043\n"
     ]
    },
    {
     "name": "stderr",
     "output_type": "stream",
     "text": [
      "/opt/conda/lib/python3.10/multiprocessing/popen_fork.py:66: RuntimeWarning: os.fork() was called. os.fork() is incompatible with multithreaded code, and JAX is multithreaded, so this will likely lead to a deadlock.\n",
      "  self.pid = os.fork()\n"
     ]
    },
    {
     "name": "stdout",
     "output_type": "stream",
     "text": [
      "Epoch 0, Average Outcome Loss: 0.6960907777150472, Average Accuracy: 0.5, Test AUC: 0.5000, Test Accuracy: 0.3378\n",
      "Epoch 0, Average Outcome Loss: 0.691399077574412, Average Accuracy: 0.4652777777777778, Test AUC: 0.5000, Test Accuracy: 0.3378\n",
      "Epoch 0, Average Outcome Loss: 0.6944996648364596, Average Accuracy: 0.5, Test AUC: 0.5000, Test Accuracy: 0.3378\n",
      "Epoch 0, Average Outcome Loss: 0.7124223311742147, Average Accuracy: 0.4513888888888889, Test AUC: 0.5000, Test Accuracy: 0.3378\n",
      "Epoch 0, Average Outcome Loss: 0.6874863439136081, Average Accuracy: 0.5694444444444444, Test AUC: 0.5000, Test Accuracy: 0.3378\n",
      "Epoch 100, Average Outcome Loss: 2.014204647805956, Average Accuracy: 0.5, Test AUC: 0.5771, Test Accuracy: 0.6622\n",
      "Epoch 100, Average Outcome Loss: 0.681138793627421, Average Accuracy: 0.5486111111111112, Test AUC: 0.7029, Test Accuracy: 0.3784\n",
      "Epoch 100, Average Outcome Loss: 0.7534338037172953, Average Accuracy: 0.5, Test AUC: 0.6759, Test Accuracy: 0.6622\n",
      "Epoch 100, Average Outcome Loss: 0.6245317260424296, Average Accuracy: 0.6666666666666666, Test AUC: 0.7396, Test Accuracy: 0.6486\n",
      "Epoch 100, Average Outcome Loss: 0.6501419213083055, Average Accuracy: 0.6388888888888888, Test AUC: 0.7518, Test Accuracy: 0.7027\n"
     ]
    },
    {
     "name": "stderr",
     "output_type": "stream",
     "text": [
      "/opt/conda/lib/python3.10/multiprocessing/popen_fork.py:66: RuntimeWarning: os.fork() was called. os.fork() is incompatible with multithreaded code, and JAX is multithreaded, so this will likely lead to a deadlock.\n",
      "  self.pid = os.fork()\n"
     ]
    },
    {
     "name": "stdout",
     "output_type": "stream",
     "text": [
      "Score: 0.7583673469387755\n",
      "Total time: 61.17585253715515 seconds\n",
      "Currently training, population member 26\n",
      "1019\n"
     ]
    },
    {
     "name": "stderr",
     "output_type": "stream",
     "text": [
      "/opt/conda/lib/python3.10/multiprocessing/popen_fork.py:66: RuntimeWarning: os.fork() was called. os.fork() is incompatible with multithreaded code, and JAX is multithreaded, so this will likely lead to a deadlock.\n",
      "  self.pid = os.fork()\n"
     ]
    },
    {
     "name": "stdout",
     "output_type": "stream",
     "text": [
      "Epoch 0, Average Outcome Loss: 0.692856662803226, Average Accuracy: 0.5486111111111112, Test AUC: 0.5000, Test Accuracy: 0.3378\n",
      "Epoch 0, Average Outcome Loss: 0.7175084286265903, Average Accuracy: 0.4375, Test AUC: 0.5000, Test Accuracy: 0.6622\n",
      "Epoch 0, Average Outcome Loss: 0.8566990031136407, Average Accuracy: 0.5, Test AUC: 0.5000, Test Accuracy: 0.3378\n",
      "Epoch 0, Average Outcome Loss: 0.9019125567542182, Average Accuracy: 0.5, Test AUC: 0.5000, Test Accuracy: 0.3378\n",
      "Epoch 0, Average Outcome Loss: 0.6989317602581449, Average Accuracy: 0.5069444444444444, Test AUC: 0.5000, Test Accuracy: 0.6622\n",
      "Epoch 100, Average Outcome Loss: 0.9280746645397611, Average Accuracy: 0.5, Test AUC: 0.6139, Test Accuracy: 0.6622\n",
      "Epoch 100, Average Outcome Loss: 3.2042428652445474, Average Accuracy: 0.5, Test AUC: 0.4522, Test Accuracy: 0.5946Epoch 100, Average Outcome Loss: 0.687639037768046, Average Accuracy: 0.5, Test AUC: 0.7233, Test Accuracy: 0.3378\n",
      "\n",
      "Epoch 100, Average Outcome Loss: 0.694188634554545, Average Accuracy: 0.5, Test AUC: 0.4204, Test Accuracy: 0.3378\n",
      "Epoch 100, Average Outcome Loss: 0.6890785495440165, Average Accuracy: 0.5, Test AUC: 0.5878, Test Accuracy: 0.3243\n"
     ]
    },
    {
     "name": "stderr",
     "output_type": "stream",
     "text": [
      "/opt/conda/lib/python3.10/multiprocessing/popen_fork.py:66: RuntimeWarning: os.fork() was called. os.fork() is incompatible with multithreaded code, and JAX is multithreaded, so this will likely lead to a deadlock.\n",
      "  self.pid = os.fork()\n"
     ]
    },
    {
     "name": "stdout",
     "output_type": "stream",
     "text": [
      "Score: 0.728\n",
      "Total time: 61.24838995933533 seconds\n",
      "Currently training, population member 27\n",
      "1025\n"
     ]
    },
    {
     "name": "stderr",
     "output_type": "stream",
     "text": [
      "/opt/conda/lib/python3.10/multiprocessing/popen_fork.py:66: RuntimeWarning: os.fork() was called. os.fork() is incompatible with multithreaded code, and JAX is multithreaded, so this will likely lead to a deadlock.\n",
      "  self.pid = os.fork()\n"
     ]
    },
    {
     "name": "stdout",
     "output_type": "stream",
     "text": [
      "Epoch 0, Average Outcome Loss: 0.7069662676917182, Average Accuracy: 0.5, Test AUC: 0.5000, Test Accuracy: 0.6622\n",
      "Epoch 0, Average Outcome Loss: 0.6981938083966573, Average Accuracy: 0.5138888888888888, Test AUC: 0.5000, Test Accuracy: 0.3378\n",
      "Epoch 0, Average Outcome Loss: 0.7106567555003696, Average Accuracy: 0.5, Test AUC: 0.5000, Test Accuracy: 0.3378\n",
      "Epoch 0, Average Outcome Loss: 0.728633873992496, Average Accuracy: 0.5, Test AUC: 0.5000, Test Accuracy: 0.3378\n",
      "Epoch 0, Average Outcome Loss: 0.7281530367003547, Average Accuracy: 0.5, Test AUC: 0.5000, Test Accuracy: 0.3378\n",
      "Epoch 100, Average Outcome Loss: 0.6905438502629598, Average Accuracy: 0.5, Test AUC: 0.4335, Test Accuracy: 0.3378\n",
      "Epoch 100, Average Outcome Loss: 0.6394981344540914, Average Accuracy: 0.6041666666666666, Test AUC: 0.7249, Test Accuracy: 0.6351\n",
      "Epoch 100, Average Outcome Loss: 0.677204065852695, Average Accuracy: 0.4930555555555556, Test AUC: 0.7469, Test Accuracy: 0.6622\n",
      "Epoch 100, Average Outcome Loss: 0.6748991343710158, Average Accuracy: 0.5416666666666666, Test AUC: 0.7371, Test Accuracy: 0.6622\n",
      "Epoch 100, Average Outcome Loss: 0.7584383421474032, Average Accuracy: 0.5, Test AUC: 0.3927, Test Accuracy: 0.3243\n"
     ]
    },
    {
     "name": "stderr",
     "output_type": "stream",
     "text": [
      "/opt/conda/lib/python3.10/multiprocessing/popen_fork.py:66: RuntimeWarning: os.fork() was called. os.fork() is incompatible with multithreaded code, and JAX is multithreaded, so this will likely lead to a deadlock.\n",
      "  self.pid = os.fork()\n"
     ]
    },
    {
     "name": "stdout",
     "output_type": "stream",
     "text": [
      "Score: 0.7554285714285716\n",
      "Total time: 60.993492603302 seconds\n",
      "Currently training, population member 28\n",
      "1005\n"
     ]
    },
    {
     "name": "stderr",
     "output_type": "stream",
     "text": [
      "/opt/conda/lib/python3.10/multiprocessing/popen_fork.py:66: RuntimeWarning: os.fork() was called. os.fork() is incompatible with multithreaded code, and JAX is multithreaded, so this will likely lead to a deadlock.\n",
      "  self.pid = os.fork()\n"
     ]
    },
    {
     "name": "stdout",
     "output_type": "stream",
     "text": [
      "Epoch 0, Average Outcome Loss: 0.7158863014645047, Average Accuracy: 0.4861111111111111, Test AUC: 0.5000, Test Accuracy: 0.6622\n",
      "Epoch 0, Average Outcome Loss: 0.7969704535272386, Average Accuracy: 0.5, Test AUC: 0.5000, Test Accuracy: 0.3378\n",
      "Epoch 0, Average Outcome Loss: 1.2157094478607178, Average Accuracy: 0.5, Test AUC: 0.5000, Test Accuracy: 0.6622\n",
      "Epoch 0, Average Outcome Loss: 0.7191830277442932, Average Accuracy: 0.5, Test AUC: 0.5000, Test Accuracy: 0.6622\n",
      "Epoch 0, Average Outcome Loss: 0.8525849050945706, Average Accuracy: 0.5, Test AUC: 0.5000, Test Accuracy: 0.3378\n",
      "Epoch 100, Average Outcome Loss: 0.7304001384311252, Average Accuracy: 0.5069444444444444, Test AUC: 0.6857, Test Accuracy: 0.6622\n",
      "Epoch 100, Average Outcome Loss: 0.6953339179356893, Average Accuracy: 0.5, Test AUC: 0.5233, Test Accuracy: 0.3378\n",
      "Epoch 100, Average Outcome Loss: 0.6871805654631721, Average Accuracy: 0.5902777777777778, Test AUC: 0.7151, Test Accuracy: 0.7568\n",
      "Epoch 100, Average Outcome Loss: 0.6907894147766961, Average Accuracy: 0.5, Test AUC: 0.6531, Test Accuracy: 0.6622\n",
      "Epoch 100, Average Outcome Loss: 0.7007201711336771, Average Accuracy: 0.5, Test AUC: 0.5176, Test Accuracy: 0.6622\n"
     ]
    },
    {
     "name": "stderr",
     "output_type": "stream",
     "text": [
      "/opt/conda/lib/python3.10/multiprocessing/popen_fork.py:66: RuntimeWarning: os.fork() was called. os.fork() is incompatible with multithreaded code, and JAX is multithreaded, so this will likely lead to a deadlock.\n",
      "  self.pid = os.fork()\n"
     ]
    },
    {
     "name": "stdout",
     "output_type": "stream",
     "text": [
      "Score: 0.7369795918367348\n",
      "Total time: 60.56113910675049 seconds\n",
      "Currently training, population member 29\n",
      "1035\n"
     ]
    },
    {
     "name": "stderr",
     "output_type": "stream",
     "text": [
      "/opt/conda/lib/python3.10/multiprocessing/popen_fork.py:66: RuntimeWarning: os.fork() was called. os.fork() is incompatible with multithreaded code, and JAX is multithreaded, so this will likely lead to a deadlock.\n",
      "  self.pid = os.fork()\n"
     ]
    },
    {
     "name": "stdout",
     "output_type": "stream",
     "text": [
      "Epoch 0, Average Outcome Loss: 0.7056976821687486, Average Accuracy: 0.5277777777777778, Test AUC: 0.5000, Test Accuracy: 0.3378\n",
      "Epoch 0, Average Outcome Loss: 0.6948205100165473, Average Accuracy: 0.5069444444444444, Test AUC: 0.5000, Test Accuracy: 0.6622\n",
      "Epoch 0, Average Outcome Loss: 0.710867080423567, Average Accuracy: 0.5, Test AUC: 0.5000, Test Accuracy: 0.3378\n",
      "Epoch 0, Average Outcome Loss: 0.7104277875688341, Average Accuracy: 0.4305555555555556, Test AUC: 0.5000, Test Accuracy: 0.3378\n",
      "Epoch 0, Average Outcome Loss: 0.8392876187960306, Average Accuracy: 0.5, Test AUC: 0.5000, Test Accuracy: 0.3378\n",
      "Epoch 100, Average Outcome Loss: 0.6861345304383172, Average Accuracy: 0.5625, Test AUC: 0.7396, Test Accuracy: 0.3378\n",
      "Epoch 100, Average Outcome Loss: 0.6465794245402018, Average Accuracy: 0.6736111111111112, Test AUC: 0.7135, Test Accuracy: 0.6081\n",
      "Epoch 100, Average Outcome Loss: 0.6206590135892233, Average Accuracy: 0.7222222222222222, Test AUC: 0.7233, Test Accuracy: 0.5270\n",
      "Epoch 100, Average Outcome Loss: 1.2064567936791315, Average Accuracy: 0.5, Test AUC: 0.4449, Test Accuracy: 0.6622\n",
      "Epoch 100, Average Outcome Loss: 0.6884980201721191, Average Accuracy: 0.5, Test AUC: 0.7208, Test Accuracy: 0.7432\n"
     ]
    },
    {
     "name": "stderr",
     "output_type": "stream",
     "text": [
      "/opt/conda/lib/python3.10/multiprocessing/popen_fork.py:66: RuntimeWarning: os.fork() was called. os.fork() is incompatible with multithreaded code, and JAX is multithreaded, so this will likely lead to a deadlock.\n",
      "  self.pid = os.fork()\n"
     ]
    },
    {
     "name": "stdout",
     "output_type": "stream",
     "text": [
      "Score: 0.7420408163265306\n",
      "Total time: 60.750205278396606 seconds\n",
      "Currently training, population member 30\n",
      "998\n"
     ]
    },
    {
     "name": "stderr",
     "output_type": "stream",
     "text": [
      "/opt/conda/lib/python3.10/multiprocessing/popen_fork.py:66: RuntimeWarning: os.fork() was called. os.fork() is incompatible with multithreaded code, and JAX is multithreaded, so this will likely lead to a deadlock.\n",
      "  self.pid = os.fork()\n"
     ]
    },
    {
     "name": "stdout",
     "output_type": "stream",
     "text": [
      "Epoch 0, Average Outcome Loss: 0.6911782423655192, Average Accuracy: 0.5416666666666666, Test AUC: 0.6229, Test Accuracy: 0.6622\n",
      "Epoch 0, Average Outcome Loss: 0.8054944210582309, Average Accuracy: 0.5, Test AUC: 0.5000, Test Accuracy: 0.6622\n",
      "Epoch 0, Average Outcome Loss: 0.7740943166944716, Average Accuracy: 0.5, Test AUC: 0.5000, Test Accuracy: 0.3378\n",
      "Epoch 0, Average Outcome Loss: 0.7397585113843282, Average Accuracy: 0.5, Test AUC: 0.5000, Test Accuracy: 0.3378\n",
      "Epoch 0, Average Outcome Loss: 0.709098584122128, Average Accuracy: 0.5277777777777778, Test AUC: 0.5000, Test Accuracy: 0.3378\n",
      "Epoch 100, Average Outcome Loss: 0.712600138452318, Average Accuracy: 0.5, Test AUC: 0.5820, Test Accuracy: 0.6622\n",
      "Epoch 100, Average Outcome Loss: 0.6907208694352044, Average Accuracy: 0.5625, Test AUC: 0.7282, Test Accuracy: 0.3784\n",
      "Epoch 100, Average Outcome Loss: 0.7717915376027426, Average Accuracy: 0.5, Test AUC: 0.6563, Test Accuracy: 0.3378\n",
      "Epoch 100, Average Outcome Loss: 2.0407311254077487, Average Accuracy: 0.5, Test AUC: 0.6955, Test Accuracy: 0.6622\n",
      "Epoch 100, Average Outcome Loss: 0.7383799023098416, Average Accuracy: 0.5, Test AUC: 0.5494, Test Accuracy: 0.6622\n"
     ]
    },
    {
     "name": "stderr",
     "output_type": "stream",
     "text": [
      "/opt/conda/lib/python3.10/multiprocessing/popen_fork.py:66: RuntimeWarning: os.fork() was called. os.fork() is incompatible with multithreaded code, and JAX is multithreaded, so this will likely lead to a deadlock.\n",
      "  self.pid = os.fork()\n"
     ]
    },
    {
     "name": "stdout",
     "output_type": "stream",
     "text": [
      "Score: 0.7286530612244898\n",
      "Total time: 60.39890122413635 seconds\n",
      "Currently training, population member 31\n",
      "1029\n"
     ]
    },
    {
     "name": "stderr",
     "output_type": "stream",
     "text": [
      "/opt/conda/lib/python3.10/multiprocessing/popen_fork.py:66: RuntimeWarning: os.fork() was called. os.fork() is incompatible with multithreaded code, and JAX is multithreaded, so this will likely lead to a deadlock.\n",
      "  self.pid = os.fork()\n"
     ]
    },
    {
     "name": "stdout",
     "output_type": "stream",
     "text": [
      "Epoch 0, Average Outcome Loss: 0.6932521065076193, Average Accuracy: 0.5138888888888888, Test AUC: 0.5000, Test Accuracy: 0.3378\n",
      "Epoch 0, Average Outcome Loss: 0.7286802464061313, Average Accuracy: 0.5, Test AUC: 0.5000, Test Accuracy: 0.6622\n",
      "Epoch 0, Average Outcome Loss: 0.7082085675663419, Average Accuracy: 0.4861111111111111, Test AUC: 0.5000, Test Accuracy: 0.3378\n",
      "Epoch 0, Average Outcome Loss: 0.7173712584707472, Average Accuracy: 0.5, Test AUC: 0.5000, Test Accuracy: 0.3378\n",
      "Epoch 0, Average Outcome Loss: 0.7016870710584853, Average Accuracy: 0.4652777777777778, Test AUC: 0.5000, Test Accuracy: 0.6622\n",
      "Epoch 100, Average Outcome Loss: 0.6822636591063606, Average Accuracy: 0.5694444444444444, Test AUC: 0.7976, Test Accuracy: 0.7838\n",
      "Epoch 100, Average Outcome Loss: 0.6500610510508219, Average Accuracy: 0.6041666666666666, Test AUC: 0.8106, Test Accuracy: 0.6622\n",
      "Epoch 100, Average Outcome Loss: 0.6860832042164273, Average Accuracy: 0.5833333333333334, Test AUC: 0.8057, Test Accuracy: 0.6351\n",
      "Epoch 100, Average Outcome Loss: 0.6910508871078491, Average Accuracy: 0.5, Test AUC: 0.6873, Test Accuracy: 0.3378\n",
      "Epoch 100, Average Outcome Loss: 0.6372375024689568, Average Accuracy: 0.6111111111111112, Test AUC: 0.7959, Test Accuracy: 0.7297\n"
     ]
    },
    {
     "name": "stderr",
     "output_type": "stream",
     "text": [
      "/opt/conda/lib/python3.10/multiprocessing/popen_fork.py:66: RuntimeWarning: os.fork() was called. os.fork() is incompatible with multithreaded code, and JAX is multithreaded, so this will likely lead to a deadlock.\n",
      "  self.pid = os.fork()\n"
     ]
    },
    {
     "name": "stdout",
     "output_type": "stream",
     "text": [
      "Score: 0.8037551020408162\n",
      "Total time: 61.04239559173584 seconds\n",
      "Currently training, population member 32\n",
      "1024\n"
     ]
    },
    {
     "name": "stderr",
     "output_type": "stream",
     "text": [
      "/opt/conda/lib/python3.10/multiprocessing/popen_fork.py:66: RuntimeWarning: os.fork() was called. os.fork() is incompatible with multithreaded code, and JAX is multithreaded, so this will likely lead to a deadlock.\n",
      "  self.pid = os.fork()\n"
     ]
    },
    {
     "name": "stdout",
     "output_type": "stream",
     "text": [
      "Epoch 0, Average Outcome Loss: 0.9218699269824557, Average Accuracy: 0.5, Test AUC: 0.5000, Test Accuracy: 0.6622\n",
      "Epoch 0, Average Outcome Loss: 0.9160358640882704, Average Accuracy: 0.5, Test AUC: 0.5967, Test Accuracy: 0.6622\n",
      "Epoch 0, Average Outcome Loss: 0.7212300697962443, Average Accuracy: 0.4861111111111111, Test AUC: 0.5000, Test Accuracy: 0.6622\n",
      "Epoch 0, Average Outcome Loss: 0.8863156967692905, Average Accuracy: 0.5, Test AUC: 0.5000, Test Accuracy: 0.3378\n",
      "Epoch 0, Average Outcome Loss: 0.7037734190622965, Average Accuracy: 0.4652777777777778, Test AUC: 0.5000, Test Accuracy: 0.6622\n",
      "Epoch 100, Average Outcome Loss: 0.8186424374580383, Average Accuracy: 0.5, Test AUC: 0.6024, Test Accuracy: 0.3378\n",
      "Epoch 100, Average Outcome Loss: 0.6886171168751187, Average Accuracy: 0.5138888888888888, Test AUC: 0.7127, Test Accuracy: 0.3378\n",
      "Epoch 100, Average Outcome Loss: 0.7562807533476088, Average Accuracy: 0.5, Test AUC: 0.6718, Test Accuracy: 0.6622\n",
      "Epoch 100, Average Outcome Loss: 5.596312416924371, Average Accuracy: 0.5, Test AUC: 0.6927, Test Accuracy: 0.3378\n",
      "Epoch 100, Average Outcome Loss: 0.7480286227332221, Average Accuracy: 0.5, Test AUC: 0.4090, Test Accuracy: 0.6622\n"
     ]
    },
    {
     "name": "stderr",
     "output_type": "stream",
     "text": [
      "/opt/conda/lib/python3.10/multiprocessing/popen_fork.py:66: RuntimeWarning: os.fork() was called. os.fork() is incompatible with multithreaded code, and JAX is multithreaded, so this will likely lead to a deadlock.\n",
      "  self.pid = os.fork()\n"
     ]
    },
    {
     "name": "stdout",
     "output_type": "stream",
     "text": [
      "Score: 0.7258775510204082\n",
      "Total time: 60.23512411117554 seconds\n",
      "Currently training, population member 33\n",
      "981\n"
     ]
    },
    {
     "name": "stderr",
     "output_type": "stream",
     "text": [
      "/opt/conda/lib/python3.10/multiprocessing/popen_fork.py:66: RuntimeWarning: os.fork() was called. os.fork() is incompatible with multithreaded code, and JAX is multithreaded, so this will likely lead to a deadlock.\n",
      "  self.pid = os.fork()\n"
     ]
    },
    {
     "name": "stdout",
     "output_type": "stream",
     "text": [
      "Epoch 0, Average Outcome Loss: 0.7714392145474752, Average Accuracy: 0.5, Test AUC: 0.5000, Test Accuracy: 0.6622\n",
      "Epoch 0, Average Outcome Loss: 0.7614981664551629, Average Accuracy: 0.5, Test AUC: 0.5000, Test Accuracy: 0.3378\n",
      "Epoch 0, Average Outcome Loss: 0.8512736956278483, Average Accuracy: 0.5, Test AUC: 0.5000, Test Accuracy: 0.6622\n",
      "Epoch 0, Average Outcome Loss: 0.7149938941001892, Average Accuracy: 0.5, Test AUC: 0.5000, Test Accuracy: 0.3378\n",
      "Epoch 0, Average Outcome Loss: 0.7007297012541029, Average Accuracy: 0.5138888888888888, Test AUC: 0.5000, Test Accuracy: 0.6622\n",
      "Epoch 100, Average Outcome Loss: 0.7164381742477417, Average Accuracy: 0.5, Test AUC: 0.5984, Test Accuracy: 0.6622\n",
      "Epoch 100, Average Outcome Loss: 4.4580554432339135, Average Accuracy: 0.5, Test AUC: 0.4008, Test Accuracy: 0.3378\n",
      "Epoch 100, Average Outcome Loss: 0.588261153962877, Average Accuracy: 0.7291666666666666, Test AUC: 0.6555, Test Accuracy: 0.6892\n",
      "Epoch 100, Average Outcome Loss: 0.709775083594852, Average Accuracy: 0.5, Test AUC: 0.4824, Test Accuracy: 0.3378\n",
      "Epoch 100, Average Outcome Loss: 0.6367411348554823, Average Accuracy: 0.5902777777777778, Test AUC: 0.6522, Test Accuracy: 0.3919\n"
     ]
    },
    {
     "name": "stderr",
     "output_type": "stream",
     "text": [
      "/opt/conda/lib/python3.10/multiprocessing/popen_fork.py:66: RuntimeWarning: os.fork() was called. os.fork() is incompatible with multithreaded code, and JAX is multithreaded, so this will likely lead to a deadlock.\n",
      "  self.pid = os.fork()\n"
     ]
    },
    {
     "name": "stdout",
     "output_type": "stream",
     "text": [
      "Score: 0.6799999999999999\n",
      "Total time: 60.00015592575073 seconds\n",
      "Currently training, population member 34\n",
      "1003\n"
     ]
    },
    {
     "name": "stderr",
     "output_type": "stream",
     "text": [
      "/opt/conda/lib/python3.10/multiprocessing/popen_fork.py:66: RuntimeWarning: os.fork() was called. os.fork() is incompatible with multithreaded code, and JAX is multithreaded, so this will likely lead to a deadlock.\n",
      "  self.pid = os.fork()\n"
     ]
    },
    {
     "name": "stdout",
     "output_type": "stream",
     "text": [
      "Epoch 0, Average Outcome Loss: 0.7186195585462782, Average Accuracy: 0.5, Test AUC: 0.5000, Test Accuracy: 0.6622\n",
      "Epoch 0, Average Outcome Loss: 0.7387790150112576, Average Accuracy: 0.5, Test AUC: 0.5000, Test Accuracy: 0.6622\n",
      "Epoch 0, Average Outcome Loss: 0.9494884345266554, Average Accuracy: 0.5, Test AUC: 0.5000, Test Accuracy: 0.6622\n",
      "Epoch 0, Average Outcome Loss: 0.7811221480369568, Average Accuracy: 0.5, Test AUC: 0.5000, Test Accuracy: 0.3378\n",
      "Epoch 0, Average Outcome Loss: 0.7752260168393453, Average Accuracy: 0.5, Test AUC: 0.5000, Test Accuracy: 0.3378\n",
      "Epoch 100, Average Outcome Loss: 0.6641778614785936, Average Accuracy: 0.6736111111111112, Test AUC: 0.7249, Test Accuracy: 0.6757\n",
      "Epoch 100, Average Outcome Loss: 0.6650301747851901, Average Accuracy: 0.625, Test AUC: 0.7690, Test Accuracy: 0.7703\n",
      "Epoch 100, Average Outcome Loss: 0.6900239057011075, Average Accuracy: 0.5069444444444444, Test AUC: 0.6506, Test Accuracy: 0.3378\n",
      "Epoch 100, Average Outcome Loss: 0.6902074615160624, Average Accuracy: 0.5069444444444444, Test AUC: 0.5249, Test Accuracy: 0.3378\n",
      "Epoch 100, Average Outcome Loss: 0.6860931648148431, Average Accuracy: 0.5625, Test AUC: 0.7347, Test Accuracy: 0.7027\n"
     ]
    },
    {
     "name": "stderr",
     "output_type": "stream",
     "text": [
      "/opt/conda/lib/python3.10/multiprocessing/popen_fork.py:66: RuntimeWarning: os.fork() was called. os.fork() is incompatible with multithreaded code, and JAX is multithreaded, so this will likely lead to a deadlock.\n",
      "  self.pid = os.fork()\n"
     ]
    },
    {
     "name": "stdout",
     "output_type": "stream",
     "text": [
      "Score: 0.7604897959183673\n",
      "Total time: 60.70783352851868 seconds\n",
      "Currently training, population member 35\n",
      "1023\n"
     ]
    },
    {
     "name": "stderr",
     "output_type": "stream",
     "text": [
      "/opt/conda/lib/python3.10/multiprocessing/popen_fork.py:66: RuntimeWarning: os.fork() was called. os.fork() is incompatible with multithreaded code, and JAX is multithreaded, so this will likely lead to a deadlock.\n",
      "  self.pid = os.fork()\n"
     ]
    },
    {
     "name": "stdout",
     "output_type": "stream",
     "text": [
      "Epoch 0, Average Outcome Loss: 0.6915384597248502, Average Accuracy: 0.5, Test AUC: 0.5000, Test Accuracy: 0.3378\n",
      "Epoch 0, Average Outcome Loss: 0.8044949505064223, Average Accuracy: 0.5, Test AUC: 0.5000, Test Accuracy: 0.6622\n",
      "Epoch 0, Average Outcome Loss: 0.7011044224103292, Average Accuracy: 0.5347222222222222, Test AUC: 0.5000, Test Accuracy: 0.3378\n",
      "Epoch 0, Average Outcome Loss: 1.1178072690963745, Average Accuracy: 0.5, Test AUC: 0.5000, Test Accuracy: 0.3378\n",
      "Epoch 0, Average Outcome Loss: 0.7050462431377835, Average Accuracy: 0.4861111111111111, Test AUC: 0.5000, Test Accuracy: 0.6622\n",
      "Epoch 100, Average Outcome Loss: 0.6802431146303812, Average Accuracy: 0.5208333333333334, Test AUC: 0.7184, Test Accuracy: 0.6622\n",
      "Epoch 100, Average Outcome Loss: 0.617263933022817, Average Accuracy: 0.6666666666666666, Test AUC: 0.7037, Test Accuracy: 0.6622\n",
      "Epoch 100, Average Outcome Loss: 0.9022428923183017, Average Accuracy: 0.5, Test AUC: 0.6971, Test Accuracy: 0.6622\n",
      "Epoch 100, Average Outcome Loss: 0.6913986735873752, Average Accuracy: 0.5138888888888888, Test AUC: 0.6833, Test Accuracy: 0.6622\n",
      "Epoch 100, Average Outcome Loss: 0.6817804641193814, Average Accuracy: 0.5069444444444444, Test AUC: 0.7012, Test Accuracy: 0.3378\n"
     ]
    },
    {
     "name": "stderr",
     "output_type": "stream",
     "text": [
      "/opt/conda/lib/python3.10/multiprocessing/popen_fork.py:66: RuntimeWarning: os.fork() was called. os.fork() is incompatible with multithreaded code, and JAX is multithreaded, so this will likely lead to a deadlock.\n",
      "  self.pid = os.fork()\n"
     ]
    },
    {
     "name": "stdout",
     "output_type": "stream",
     "text": [
      "Score: 0.7276734693877552\n",
      "Total time: 61.108054637908936 seconds\n",
      "Currently training, population member 36\n",
      "1045\n"
     ]
    },
    {
     "name": "stderr",
     "output_type": "stream",
     "text": [
      "/opt/conda/lib/python3.10/multiprocessing/popen_fork.py:66: RuntimeWarning: os.fork() was called. os.fork() is incompatible with multithreaded code, and JAX is multithreaded, so this will likely lead to a deadlock.\n",
      "  self.pid = os.fork()\n"
     ]
    },
    {
     "name": "stdout",
     "output_type": "stream",
     "text": [
      "Epoch 0, Average Outcome Loss: 0.6945815549956428, Average Accuracy: 0.4513888888888889, Test AUC: 0.5000, Test Accuracy: 0.3378\n",
      "Epoch 0, Average Outcome Loss: 0.7623075445493063, Average Accuracy: 0.5, Test AUC: 0.5000, Test Accuracy: 0.3378\n",
      "Epoch 0, Average Outcome Loss: 0.7184935344590081, Average Accuracy: 0.5, Test AUC: 0.5000, Test Accuracy: 0.3378\n",
      "Epoch 0, Average Outcome Loss: 0.7486357159084744, Average Accuracy: 0.5, Test AUC: 0.5000, Test Accuracy: 0.6622\n",
      "Epoch 0, Average Outcome Loss: 0.6966599623362223, Average Accuracy: 0.4861111111111111, Test AUC: 0.6424, Test Accuracy: 0.6622\n",
      "Epoch 100, Average Outcome Loss: 0.7028602295451694, Average Accuracy: 0.5, Test AUC: 0.5641, Test Accuracy: 0.6622\n",
      "Epoch 100, Average Outcome Loss: 0.6961373090744019, Average Accuracy: 0.5, Test AUC: 0.4416, Test Accuracy: 0.3378\n",
      "Epoch 100, Average Outcome Loss: 0.6908191972308688, Average Accuracy: 0.5, Test AUC: 0.4939, Test Accuracy: 0.3378\n",
      "Epoch 100, Average Outcome Loss: 2.8373391893174915, Average Accuracy: 0.5, Test AUC: 0.5494, Test Accuracy: 0.3378\n",
      "Epoch 100, Average Outcome Loss: 1.1005573272705078, Average Accuracy: 0.5, Test AUC: 0.4743, Test Accuracy: 0.3378\n"
     ]
    },
    {
     "name": "stderr",
     "output_type": "stream",
     "text": [
      "/opt/conda/lib/python3.10/multiprocessing/popen_fork.py:66: RuntimeWarning: os.fork() was called. os.fork() is incompatible with multithreaded code, and JAX is multithreaded, so this will likely lead to a deadlock.\n",
      "  self.pid = os.fork()\n"
     ]
    },
    {
     "name": "stdout",
     "output_type": "stream",
     "text": [
      "Score: 0.68\n",
      "Total time: 60.641119956970215 seconds\n",
      "Currently training, population member 37\n",
      "1027\n"
     ]
    },
    {
     "name": "stderr",
     "output_type": "stream",
     "text": [
      "/opt/conda/lib/python3.10/multiprocessing/popen_fork.py:66: RuntimeWarning: os.fork() was called. os.fork() is incompatible with multithreaded code, and JAX is multithreaded, so this will likely lead to a deadlock.\n",
      "  self.pid = os.fork()\n"
     ]
    },
    {
     "name": "stdout",
     "output_type": "stream",
     "text": [
      "Epoch 0, Average Outcome Loss: 0.7495478524102105, Average Accuracy: 0.5, Test AUC: 0.5000, Test Accuracy: 0.6622\n",
      "Epoch 0, Average Outcome Loss: 0.7332039607895745, Average Accuracy: 0.5, Test AUC: 0.5000, Test Accuracy: 0.6622\n",
      "Epoch 0, Average Outcome Loss: 0.7510642674234178, Average Accuracy: 0.5, Test AUC: 0.5000, Test Accuracy: 0.3378\n",
      "Epoch 0, Average Outcome Loss: 1.3656323618359036, Average Accuracy: 0.5, Test AUC: 0.5000, Test Accuracy: 0.6622\n",
      "Epoch 0, Average Outcome Loss: 0.9072323441505432, Average Accuracy: 0.5, Test AUC: 0.5000, Test Accuracy: 0.6622\n",
      "Epoch 100, Average Outcome Loss: 0.6838450498051114, Average Accuracy: 0.6527777777777778, Test AUC: 0.4539, Test Accuracy: 0.3378\n",
      "Epoch 100, Average Outcome Loss: 0.7169118258688185, Average Accuracy: 0.5, Test AUC: 0.6343, Test Accuracy: 0.6622\n",
      "Epoch 100, Average Outcome Loss: 0.705964618259006, Average Accuracy: 0.5, Test AUC: 0.5306, Test Accuracy: 0.6622\n",
      "Epoch 100, Average Outcome Loss: 3.324913501739502, Average Accuracy: 0.5, Test AUC: 0.3020, Test Accuracy: 0.3378\n",
      "Epoch 100, Average Outcome Loss: 0.7258397075865004, Average Accuracy: 0.5, Test AUC: 0.6065, Test Accuracy: 0.6622\n"
     ]
    },
    {
     "name": "stderr",
     "output_type": "stream",
     "text": [
      "/opt/conda/lib/python3.10/multiprocessing/popen_fork.py:66: RuntimeWarning: os.fork() was called. os.fork() is incompatible with multithreaded code, and JAX is multithreaded, so this will likely lead to a deadlock.\n",
      "  self.pid = os.fork()\n"
     ]
    },
    {
     "name": "stdout",
     "output_type": "stream",
     "text": [
      "Score: 0.721469387755102\n",
      "Total time: 61.16857051849365 seconds\n",
      "Currently training, population member 38\n",
      "1036\n"
     ]
    },
    {
     "name": "stderr",
     "output_type": "stream",
     "text": [
      "/opt/conda/lib/python3.10/multiprocessing/popen_fork.py:66: RuntimeWarning: os.fork() was called. os.fork() is incompatible with multithreaded code, and JAX is multithreaded, so this will likely lead to a deadlock.\n",
      "  self.pid = os.fork()\n"
     ]
    },
    {
     "name": "stdout",
     "output_type": "stream",
     "text": [
      "Epoch 0, Average Outcome Loss: 0.6939055654737685, Average Accuracy: 0.5208333333333334, Test AUC: 0.5000, Test Accuracy: 0.3378\n",
      "Epoch 0, Average Outcome Loss: 0.6940518750084771, Average Accuracy: 0.5208333333333334, Test AUC: 0.5000, Test Accuracy: 0.3378\n",
      "Epoch 0, Average Outcome Loss: 0.6924501525031196, Average Accuracy: 0.4791666666666667, Test AUC: 0.5000, Test Accuracy: 0.6622\n",
      "Epoch 0, Average Outcome Loss: 0.7105890976058112, Average Accuracy: 0.4027777777777778, Test AUC: 0.5000, Test Accuracy: 0.3378\n",
      "Epoch 0, Average Outcome Loss: 0.6921439435746934, Average Accuracy: 0.5138888888888888, Test AUC: 0.7780, Test Accuracy: 0.6622\n",
      "Epoch 100, Average Outcome Loss: 0.6254587239689298, Average Accuracy: 0.6805555555555556, Test AUC: 0.8090, Test Accuracy: 0.7162\n",
      "Epoch 100, Average Outcome Loss: 0.6504806280136108, Average Accuracy: 0.6041666666666666, Test AUC: 0.8073, Test Accuracy: 0.3649\n",
      "Epoch 100, Average Outcome Loss: 0.6669834653536478, Average Accuracy: 0.6597222222222222, Test AUC: 0.8645, Test Accuracy: 0.8243\n",
      "Epoch 100, Average Outcome Loss: 0.7668416566318936, Average Accuracy: 0.5416666666666666, Test AUC: 0.7902, Test Accuracy: 0.5541\n",
      "Epoch 100, Average Outcome Loss: 1.3364974790149264, Average Accuracy: 0.5, Test AUC: 0.5649, Test Accuracy: 0.6622\n"
     ]
    },
    {
     "name": "stderr",
     "output_type": "stream",
     "text": [
      "/opt/conda/lib/python3.10/multiprocessing/popen_fork.py:66: RuntimeWarning: os.fork() was called. os.fork() is incompatible with multithreaded code, and JAX is multithreaded, so this will likely lead to a deadlock.\n",
      "  self.pid = os.fork()\n"
     ]
    },
    {
     "name": "stdout",
     "output_type": "stream",
     "text": [
      "Score: 0.8512653061224489\n",
      "Total time: 61.03993225097656 seconds\n",
      "Currently training, population member 39\n",
      "1041\n"
     ]
    },
    {
     "name": "stderr",
     "output_type": "stream",
     "text": [
      "/opt/conda/lib/python3.10/multiprocessing/popen_fork.py:66: RuntimeWarning: os.fork() was called. os.fork() is incompatible with multithreaded code, and JAX is multithreaded, so this will likely lead to a deadlock.\n",
      "  self.pid = os.fork()\n"
     ]
    },
    {
     "name": "stdout",
     "output_type": "stream",
     "text": [
      "Epoch 0, Average Outcome Loss: 0.722492860423194, Average Accuracy: 0.5, Test AUC: 0.5000, Test Accuracy: 0.6622\n",
      "Epoch 0, Average Outcome Loss: 0.8567318850093417, Average Accuracy: 0.5, Test AUC: 0.5000, Test Accuracy: 0.3378\n",
      "Epoch 0, Average Outcome Loss: 0.8865878515773349, Average Accuracy: 0.5, Test AUC: 0.5000, Test Accuracy: 0.3378\n",
      "Epoch 0, Average Outcome Loss: 0.8961694836616516, Average Accuracy: 0.5, Test AUC: 0.5000, Test Accuracy: 0.3378\n",
      "Epoch 0, Average Outcome Loss: 0.757395499282413, Average Accuracy: 0.5, Test AUC: 0.5000, Test Accuracy: 0.6622\n",
      "Epoch 100, Average Outcome Loss: 0.784109440114763, Average Accuracy: 0.5, Test AUC: 0.4637, Test Accuracy: 0.3378\n",
      "Epoch 100, Average Outcome Loss: 0.6909955342610677, Average Accuracy: 0.5, Test AUC: 0.5371, Test Accuracy: 0.3378\n",
      "Epoch 100, Average Outcome Loss: 1.652093357510037, Average Accuracy: 0.5, Test AUC: 0.6245, Test Accuracy: 0.6622\n",
      "Epoch 100, Average Outcome Loss: 0.7779223057958815, Average Accuracy: 0.5, Test AUC: 0.5478, Test Accuracy: 0.6622\n",
      "Epoch 100, Average Outcome Loss: 0.6860009961658053, Average Accuracy: 0.5208333333333334, Test AUC: 0.6433, Test Accuracy: 0.6622\n"
     ]
    },
    {
     "name": "stderr",
     "output_type": "stream",
     "text": [
      "/opt/conda/lib/python3.10/multiprocessing/popen_fork.py:66: RuntimeWarning: os.fork() was called. os.fork() is incompatible with multithreaded code, and JAX is multithreaded, so this will likely lead to a deadlock.\n",
      "  self.pid = os.fork()\n"
     ]
    },
    {
     "name": "stdout",
     "output_type": "stream",
     "text": [
      "Score: 0.6608979591836734\n",
      "Total time: 61.04590153694153 seconds\n",
      "Currently training, population member 40\n",
      "1048\n"
     ]
    },
    {
     "name": "stderr",
     "output_type": "stream",
     "text": [
      "/opt/conda/lib/python3.10/multiprocessing/popen_fork.py:66: RuntimeWarning: os.fork() was called. os.fork() is incompatible with multithreaded code, and JAX is multithreaded, so this will likely lead to a deadlock.\n",
      "  self.pid = os.fork()\n"
     ]
    },
    {
     "name": "stdout",
     "output_type": "stream",
     "text": [
      "Epoch 0, Average Outcome Loss: 0.768307798438602, Average Accuracy: 0.5, Test AUC: 0.5000, Test Accuracy: 0.6622\n",
      "Epoch 0, Average Outcome Loss: 0.6906294955147637, Average Accuracy: 0.5069444444444444, Test AUC: 0.5000, Test Accuracy: 0.6622\n",
      "Epoch 0, Average Outcome Loss: 0.7296780612733629, Average Accuracy: 0.4791666666666667, Test AUC: 0.5000, Test Accuracy: 0.3378\n",
      "Epoch 0, Average Outcome Loss: 0.7055491871303983, Average Accuracy: 0.5138888888888888, Test AUC: 0.5000, Test Accuracy: 0.3378\n",
      "Epoch 0, Average Outcome Loss: 0.8098255859480964, Average Accuracy: 0.5, Test AUC: 0.5000, Test Accuracy: 0.6622\n",
      "Epoch 100, Average Outcome Loss: 0.7183877295917935, Average Accuracy: 0.5, Test AUC: 0.6604, Test Accuracy: 0.6622\n",
      "Epoch 100, Average Outcome Loss: 0.6960243052906461, Average Accuracy: 0.5, Test AUC: 0.4906, Test Accuracy: 0.3378\n",
      "Epoch 100, Average Outcome Loss: 0.7036486665407816, Average Accuracy: 0.5, Test AUC: 0.5616, Test Accuracy: 0.6622\n",
      "Epoch 100, Average Outcome Loss: 0.6889191336101956, Average Accuracy: 0.5, Test AUC: 0.6555, Test Accuracy: 0.3243\n",
      "Epoch 100, Average Outcome Loss: 0.6923472550180223, Average Accuracy: 0.5, Test AUC: 0.5535, Test Accuracy: 0.6622\n"
     ]
    },
    {
     "name": "stderr",
     "output_type": "stream",
     "text": [
      "/opt/conda/lib/python3.10/multiprocessing/popen_fork.py:66: RuntimeWarning: os.fork() was called. os.fork() is incompatible with multithreaded code, and JAX is multithreaded, so this will likely lead to a deadlock.\n",
      "  self.pid = os.fork()\n"
     ]
    },
    {
     "name": "stdout",
     "output_type": "stream",
     "text": [
      "Score: 0.6928979591836735\n",
      "Total time: 61.10490393638611 seconds\n",
      "Currently training, population member 41\n",
      "1036\n"
     ]
    },
    {
     "name": "stderr",
     "output_type": "stream",
     "text": [
      "/opt/conda/lib/python3.10/multiprocessing/popen_fork.py:66: RuntimeWarning: os.fork() was called. os.fork() is incompatible with multithreaded code, and JAX is multithreaded, so this will likely lead to a deadlock.\n",
      "  self.pid = os.fork()\n"
     ]
    },
    {
     "name": "stdout",
     "output_type": "stream",
     "text": [
      "Epoch 0, Average Outcome Loss: 0.862093038029141, Average Accuracy: 0.5, Test AUC: 0.5000, Test Accuracy: 0.3378\n",
      "Epoch 0, Average Outcome Loss: 0.8241723444726732, Average Accuracy: 0.5, Test AUC: 0.5000, Test Accuracy: 0.6622\n",
      "Epoch 0, Average Outcome Loss: 0.7189816964997185, Average Accuracy: 0.5138888888888888, Test AUC: 0.5000, Test Accuracy: 0.6622\n",
      "Epoch 0, Average Outcome Loss: 0.6811240712801615, Average Accuracy: 0.5763888888888888, Test AUC: 0.5000, Test Accuracy: 0.3378\n",
      "Epoch 0, Average Outcome Loss: 0.72855763302909, Average Accuracy: 0.5, Test AUC: 0.5000, Test Accuracy: 0.3378\n",
      "Epoch 100, Average Outcome Loss: 0.6975469390551249, Average Accuracy: 0.5, Test AUC: 0.6024, Test Accuracy: 0.6622\n",
      "Epoch 100, Average Outcome Loss: 0.84798749950197, Average Accuracy: 0.5, Test AUC: 0.5486, Test Accuracy: 0.3378\n",
      "Epoch 100, Average Outcome Loss: 0.7063428825802274, Average Accuracy: 0.5208333333333334, Test AUC: 0.5984, Test Accuracy: 0.3784Epoch 100, Average Outcome Loss: 0.6658948262532552, Average Accuracy: 0.6180555555555556, Test AUC: 0.5869, Test Accuracy: 0.6486\n",
      "\n",
      "Epoch 100, Average Outcome Loss: 0.7993334200647142, Average Accuracy: 0.5, Test AUC: 0.6000, Test Accuracy: 0.6622\n"
     ]
    },
    {
     "name": "stderr",
     "output_type": "stream",
     "text": [
      "/opt/conda/lib/python3.10/multiprocessing/popen_fork.py:66: RuntimeWarning: os.fork() was called. os.fork() is incompatible with multithreaded code, and JAX is multithreaded, so this will likely lead to a deadlock.\n",
      "  self.pid = os.fork()\n"
     ]
    },
    {
     "name": "stdout",
     "output_type": "stream",
     "text": [
      "Score: 0.645061224489796\n",
      "Total time: 60.749475717544556 seconds\n",
      "Currently training, population member 42\n",
      "1045\n"
     ]
    },
    {
     "name": "stderr",
     "output_type": "stream",
     "text": [
      "/opt/conda/lib/python3.10/multiprocessing/popen_fork.py:66: RuntimeWarning: os.fork() was called. os.fork() is incompatible with multithreaded code, and JAX is multithreaded, so this will likely lead to a deadlock.\n",
      "  self.pid = os.fork()\n"
     ]
    },
    {
     "name": "stdout",
     "output_type": "stream",
     "text": [
      "Epoch 0, Average Outcome Loss: 0.7680252459314134, Average Accuracy: 0.5, Test AUC: 0.5000, Test Accuracy: 0.6622\n",
      "Epoch 0, Average Outcome Loss: 0.7156655059920417, Average Accuracy: 0.4722222222222222, Test AUC: 0.5000, Test Accuracy: 0.6622\n",
      "Epoch 0, Average Outcome Loss: 0.8685295912954543, Average Accuracy: 0.5, Test AUC: 0.5000, Test Accuracy: 0.6622\n",
      "Epoch 0, Average Outcome Loss: 0.7281563613149855, Average Accuracy: 0.5, Test AUC: 0.5000, Test Accuracy: 0.3378\n",
      "Epoch 0, Average Outcome Loss: 0.7790987756517198, Average Accuracy: 0.5, Test AUC: 0.5000, Test Accuracy: 0.3378\n",
      "Epoch 100, Average Outcome Loss: 0.6559784412384033, Average Accuracy: 0.5625, Test AUC: 0.7453, Test Accuracy: 0.7027\n",
      "Epoch 100, Average Outcome Loss: 0.6620994806289673, Average Accuracy: 0.5486111111111112, Test AUC: 0.7314, Test Accuracy: 0.6622\n",
      "Epoch 100, Average Outcome Loss: 0.7294582459661696, Average Accuracy: 0.5, Test AUC: 0.4212, Test Accuracy: 0.3378\n",
      "Epoch 100, Average Outcome Loss: 0.689236150847541, Average Accuracy: 0.4861111111111111, Test AUC: 0.7061, Test Accuracy: 0.4459\n",
      "Epoch 100, Average Outcome Loss: 2.254267374674479, Average Accuracy: 0.5, Test AUC: 0.4571, Test Accuracy: 0.6622\n"
     ]
    },
    {
     "name": "stderr",
     "output_type": "stream",
     "text": [
      "/opt/conda/lib/python3.10/multiprocessing/popen_fork.py:66: RuntimeWarning: os.fork() was called. os.fork() is incompatible with multithreaded code, and JAX is multithreaded, so this will likely lead to a deadlock.\n",
      "  self.pid = os.fork()\n"
     ]
    },
    {
     "name": "stdout",
     "output_type": "stream",
     "text": [
      "Score: 0.7640816326530613\n",
      "Total time: 61.27591896057129 seconds\n",
      "Currently training, population member 43\n",
      "1030\n"
     ]
    },
    {
     "name": "stderr",
     "output_type": "stream",
     "text": [
      "/opt/conda/lib/python3.10/multiprocessing/popen_fork.py:66: RuntimeWarning: os.fork() was called. os.fork() is incompatible with multithreaded code, and JAX is multithreaded, so this will likely lead to a deadlock.\n",
      "  self.pid = os.fork()\n"
     ]
    },
    {
     "name": "stdout",
     "output_type": "stream",
     "text": [
      "Epoch 0, Average Outcome Loss: 0.8103297816382514, Average Accuracy: 0.5, Test AUC: 0.5000, Test Accuracy: 0.6622\n",
      "Epoch 0, Average Outcome Loss: 0.8353957268926833, Average Accuracy: 0.5, Test AUC: 0.5000, Test Accuracy: 0.6622\n",
      "Epoch 0, Average Outcome Loss: 0.7356026570002238, Average Accuracy: 0.5, Test AUC: 0.5000, Test Accuracy: 0.6622\n",
      "Epoch 0, Average Outcome Loss: 0.7303580575519137, Average Accuracy: 0.4861111111111111, Test AUC: 0.5000, Test Accuracy: 0.3378\n",
      "Epoch 0, Average Outcome Loss: 0.6912597285376655, Average Accuracy: 0.5277777777777778, Test AUC: 0.5000, Test Accuracy: 0.3378\n",
      "Epoch 100, Average Outcome Loss: 0.6775210499763489, Average Accuracy: 0.5486111111111112, Test AUC: 0.7396, Test Accuracy: 0.7027\n",
      "Epoch 100, Average Outcome Loss: 0.6957552565468682, Average Accuracy: 0.4861111111111111, Test AUC: 0.6090, Test Accuracy: 0.3378\n",
      "Epoch 100, Average Outcome Loss: 0.6339062319861518, Average Accuracy: 0.6666666666666666, Test AUC: 0.7257, Test Accuracy: 0.4324\n",
      "Epoch 100, Average Outcome Loss: 0.6767471962504916, Average Accuracy: 0.5486111111111112, Test AUC: 0.7347, Test Accuracy: 0.7162\n",
      "Epoch 100, Average Outcome Loss: 0.6909058822525872, Average Accuracy: 0.5, Test AUC: 0.7184, Test Accuracy: 0.3378\n"
     ]
    },
    {
     "name": "stderr",
     "output_type": "stream",
     "text": [
      "/opt/conda/lib/python3.10/multiprocessing/popen_fork.py:66: RuntimeWarning: os.fork() was called. os.fork() is incompatible with multithreaded code, and JAX is multithreaded, so this will likely lead to a deadlock.\n",
      "  self.pid = os.fork()\n"
     ]
    },
    {
     "name": "stdout",
     "output_type": "stream",
     "text": [
      "Score: 0.756734693877551\n",
      "Total time: 60.773947954177856 seconds\n",
      "Currently training, population member 44\n",
      "984\n"
     ]
    },
    {
     "name": "stderr",
     "output_type": "stream",
     "text": [
      "/opt/conda/lib/python3.10/multiprocessing/popen_fork.py:66: RuntimeWarning: os.fork() was called. os.fork() is incompatible with multithreaded code, and JAX is multithreaded, so this will likely lead to a deadlock.\n",
      "  self.pid = os.fork()\n"
     ]
    },
    {
     "name": "stdout",
     "output_type": "stream",
     "text": [
      "Epoch 0, Average Outcome Loss: 0.9465441306432089, Average Accuracy: 0.5, Test AUC: 0.5000, Test Accuracy: 0.3378\n",
      "Epoch 0, Average Outcome Loss: 0.7512328426043192, Average Accuracy: 0.5, Test AUC: 0.5000, Test Accuracy: 0.3378\n",
      "Epoch 0, Average Outcome Loss: 0.7901317278544108, Average Accuracy: 0.5, Test AUC: 0.5000, Test Accuracy: 0.6622\n",
      "Epoch 0, Average Outcome Loss: 0.7406299710273743, Average Accuracy: 0.4930555555555556, Test AUC: 0.5000, Test Accuracy: 0.3378\n",
      "Epoch 0, Average Outcome Loss: 0.8841336369514465, Average Accuracy: 0.5, Test AUC: 0.5000, Test Accuracy: 0.6622\n",
      "Epoch 100, Average Outcome Loss: 0.6941633224487305, Average Accuracy: 0.5, Test AUC: 0.6237, Test Accuracy: 0.6622\n",
      "Epoch 100, Average Outcome Loss: 0.680727481842041, Average Accuracy: 0.625, Test AUC: 0.6465, Test Accuracy: 0.3378\n",
      "Epoch 100, Average Outcome Loss: 0.686324761973487, Average Accuracy: 0.5555555555555556, Test AUC: 0.7641, Test Accuracy: 0.4865\n",
      "Epoch 100, Average Outcome Loss: 0.6918709940380521, Average Accuracy: 0.5, Test AUC: 0.7176, Test Accuracy: 0.6622\n",
      "Epoch 100, Average Outcome Loss: 0.6862972577412924, Average Accuracy: 0.5138888888888888, Test AUC: 0.7045, Test Accuracy: 0.6622\n"
     ]
    },
    {
     "name": "stderr",
     "output_type": "stream",
     "text": [
      "/opt/conda/lib/python3.10/multiprocessing/popen_fork.py:66: RuntimeWarning: os.fork() was called. os.fork() is incompatible with multithreaded code, and JAX is multithreaded, so this will likely lead to a deadlock.\n",
      "  self.pid = os.fork()\n"
     ]
    },
    {
     "name": "stdout",
     "output_type": "stream",
     "text": [
      "Score: 0.7747755102040818\n",
      "Total time: 60.51133346557617 seconds\n",
      "Currently training, population member 45\n",
      "1018\n"
     ]
    },
    {
     "name": "stderr",
     "output_type": "stream",
     "text": [
      "/opt/conda/lib/python3.10/multiprocessing/popen_fork.py:66: RuntimeWarning: os.fork() was called. os.fork() is incompatible with multithreaded code, and JAX is multithreaded, so this will likely lead to a deadlock.\n",
      "  self.pid = os.fork()\n"
     ]
    },
    {
     "name": "stdout",
     "output_type": "stream",
     "text": [
      "Epoch 0, Average Outcome Loss: 0.7127672367625766, Average Accuracy: 0.4583333333333333, Test AUC: 0.5000, Test Accuracy: 0.3378\n",
      "Epoch 0, Average Outcome Loss: 0.7823948131667243, Average Accuracy: 0.5, Test AUC: 0.5000, Test Accuracy: 0.3378\n",
      "Epoch 0, Average Outcome Loss: 0.7402939995129904, Average Accuracy: 0.5, Test AUC: 0.5000, Test Accuracy: 0.3378\n",
      "Epoch 0, Average Outcome Loss: 0.7202018565601773, Average Accuracy: 0.5, Test AUC: 0.5000, Test Accuracy: 0.3378\n",
      "Epoch 0, Average Outcome Loss: 0.6957299047046237, Average Accuracy: 0.5138888888888888, Test AUC: 0.5000, Test Accuracy: 0.6622\n",
      "Epoch 100, Average Outcome Loss: 0.6304116513994005, Average Accuracy: 0.6944444444444444, Test AUC: 0.6482, Test Accuracy: 0.5811\n",
      "Epoch 100, Average Outcome Loss: 0.6760390864478217, Average Accuracy: 0.5208333333333334, Test AUC: 0.6596, Test Accuracy: 0.3378\n",
      "Epoch 100, Average Outcome Loss: 0.6797950930065579, Average Accuracy: 0.5069444444444444, Test AUC: 0.6588, Test Accuracy: 0.6892\n",
      "Epoch 100, Average Outcome Loss: 0.6779110431671143, Average Accuracy: 0.5416666666666666, Test AUC: 0.6522, Test Accuracy: 0.6486\n",
      "Epoch 100, Average Outcome Loss: 0.6822580695152283, Average Accuracy: 0.5069444444444444, Test AUC: 0.6702, Test Accuracy: 0.6622\n"
     ]
    },
    {
     "name": "stderr",
     "output_type": "stream",
     "text": [
      "/opt/conda/lib/python3.10/multiprocessing/popen_fork.py:66: RuntimeWarning: os.fork() was called. os.fork() is incompatible with multithreaded code, and JAX is multithreaded, so this will likely lead to a deadlock.\n",
      "  self.pid = os.fork()\n"
     ]
    },
    {
     "name": "stdout",
     "output_type": "stream",
     "text": [
      "Score: 0.6767346938775511\n",
      "Total time: 61.28014159202576 seconds\n",
      "Currently training, population member 46\n",
      "1023\n"
     ]
    },
    {
     "name": "stderr",
     "output_type": "stream",
     "text": [
      "/opt/conda/lib/python3.10/multiprocessing/popen_fork.py:66: RuntimeWarning: os.fork() was called. os.fork() is incompatible with multithreaded code, and JAX is multithreaded, so this will likely lead to a deadlock.\n",
      "  self.pid = os.fork()\n"
     ]
    },
    {
     "name": "stdout",
     "output_type": "stream",
     "text": [
      "Epoch 0, Average Outcome Loss: 0.7029921544922723, Average Accuracy: 0.4444444444444444, Test AUC: 0.5000, Test Accuracy: 0.3378\n",
      "Epoch 0, Average Outcome Loss: 0.7067362599902682, Average Accuracy: 0.4652777777777778, Test AUC: 0.5200, Test Accuracy: 0.6622\n",
      "Epoch 0, Average Outcome Loss: 0.8961287140846252, Average Accuracy: 0.5, Test AUC: 0.5000, Test Accuracy: 0.6622\n",
      "Epoch 0, Average Outcome Loss: 0.7553512586487664, Average Accuracy: 0.5, Test AUC: 0.5000, Test Accuracy: 0.3378\n",
      "Epoch 0, Average Outcome Loss: 0.7234927084710863, Average Accuracy: 0.5, Test AUC: 0.5000, Test Accuracy: 0.3378\n",
      "Epoch 100, Average Outcome Loss: 0.6841504375139872, Average Accuracy: 0.4722222222222222, Test AUC: 0.6669, Test Accuracy: 0.6622\n",
      "Epoch 100, Average Outcome Loss: 4.3973481390211315, Average Accuracy: 0.5, Test AUC: 0.5731, Test Accuracy: 0.6622\n",
      "Epoch 100, Average Outcome Loss: 1.052257286177741, Average Accuracy: 0.5, Test AUC: 0.4016, Test Accuracy: 0.3378\n",
      "Epoch 100, Average Outcome Loss: 0.7225355505943298, Average Accuracy: 0.5, Test AUC: 0.4465, Test Accuracy: 0.3378\n",
      "Epoch 100, Average Outcome Loss: 0.6968252658843994, Average Accuracy: 0.3819444444444444, Test AUC: 0.4065, Test Accuracy: 0.3378\n"
     ]
    },
    {
     "name": "stderr",
     "output_type": "stream",
     "text": [
      "/opt/conda/lib/python3.10/multiprocessing/popen_fork.py:66: RuntimeWarning: os.fork() was called. os.fork() is incompatible with multithreaded code, and JAX is multithreaded, so this will likely lead to a deadlock.\n",
      "  self.pid = os.fork()\n"
     ]
    },
    {
     "name": "stdout",
     "output_type": "stream",
     "text": [
      "Score: 0.694204081632653\n",
      "Total time: 60.82034921646118 seconds\n",
      "Currently training, population member 47\n",
      "1032\n"
     ]
    },
    {
     "name": "stderr",
     "output_type": "stream",
     "text": [
      "/opt/conda/lib/python3.10/multiprocessing/popen_fork.py:66: RuntimeWarning: os.fork() was called. os.fork() is incompatible with multithreaded code, and JAX is multithreaded, so this will likely lead to a deadlock.\n",
      "  self.pid = os.fork()\n"
     ]
    },
    {
     "name": "stdout",
     "output_type": "stream",
     "text": [
      "Epoch 0, Average Outcome Loss: 0.6903886662589179, Average Accuracy: 0.5625, Test AUC: 0.5000, Test Accuracy: 0.6622\n",
      "Epoch 0, Average Outcome Loss: 0.7059135503239102, Average Accuracy: 0.5, Test AUC: 0.5000, Test Accuracy: 0.6622\n",
      "Epoch 0, Average Outcome Loss: 0.7212361892064413, Average Accuracy: 0.5, Test AUC: 0.5000, Test Accuracy: 0.6622\n",
      "Epoch 0, Average Outcome Loss: 0.8340098857879639, Average Accuracy: 0.5, Test AUC: 0.5000, Test Accuracy: 0.6622\n",
      "Epoch 0, Average Outcome Loss: 0.682827889919281, Average Accuracy: 0.6180555555555556, Test AUC: 0.5000, Test Accuracy: 0.6622\n",
      "Epoch 100, Average Outcome Loss: 0.5746098889244927, Average Accuracy: 0.6805555555555556, Test AUC: 0.8416, Test Accuracy: 0.7027\n",
      "Epoch 100, Average Outcome Loss: 0.6926394899686178, Average Accuracy: 0.5, Test AUC: 0.7110, Test Accuracy: 0.6892\n",
      "Epoch 100, Average Outcome Loss: 0.8958630032009549, Average Accuracy: 0.5, Test AUC: 0.6653, Test Accuracy: 0.6622\n",
      "Epoch 100, Average Outcome Loss: 0.6318396594789293, Average Accuracy: 0.6944444444444444, Test AUC: 0.8678, Test Accuracy: 0.7838\n",
      "Epoch 100, Average Outcome Loss: 0.7095776796340942, Average Accuracy: 0.5, Test AUC: 0.4241, Test Accuracy: 0.3378\n"
     ]
    },
    {
     "name": "stderr",
     "output_type": "stream",
     "text": [
      "/opt/conda/lib/python3.10/multiprocessing/popen_fork.py:66: RuntimeWarning: os.fork() was called. os.fork() is incompatible with multithreaded code, and JAX is multithreaded, so this will likely lead to a deadlock.\n",
      "  self.pid = os.fork()\n"
     ]
    },
    {
     "name": "stdout",
     "output_type": "stream",
     "text": [
      "Score: 0.8499591836734695\n",
      "Total time: 61.13041353225708 seconds\n",
      "Currently training, population member 48\n",
      "1007\n"
     ]
    },
    {
     "name": "stderr",
     "output_type": "stream",
     "text": [
      "/opt/conda/lib/python3.10/multiprocessing/popen_fork.py:66: RuntimeWarning: os.fork() was called. os.fork() is incompatible with multithreaded code, and JAX is multithreaded, so this will likely lead to a deadlock.\n",
      "  self.pid = os.fork()\n"
     ]
    },
    {
     "name": "stdout",
     "output_type": "stream",
     "text": [
      "Epoch 0, Average Outcome Loss: 0.8783018390337626, Average Accuracy: 0.5, Test AUC: 0.5000, Test Accuracy: 0.6622\n",
      "Epoch 0, Average Outcome Loss: 0.7043443454636468, Average Accuracy: 0.4861111111111111, Test AUC: 0.5000, Test Accuracy: 0.3378\n",
      "Epoch 0, Average Outcome Loss: 0.6970608565542433, Average Accuracy: 0.4930555555555556, Test AUC: 0.5000, Test Accuracy: 0.3378\n",
      "Epoch 0, Average Outcome Loss: 0.7129056983523898, Average Accuracy: 0.4722222222222222, Test AUC: 0.5000, Test Accuracy: 0.3378\n",
      "Epoch 0, Average Outcome Loss: 0.8664978080325656, Average Accuracy: 0.5, Test AUC: 0.5000, Test Accuracy: 0.3378\n",
      "Epoch 100, Average Outcome Loss: 0.6936900880601671, Average Accuracy: 0.5, Test AUC: 0.3886, Test Accuracy: 0.3378\n",
      "Epoch 100, Average Outcome Loss: 0.6722753776444329, Average Accuracy: 0.5763888888888888, Test AUC: 0.4824, Test Accuracy: 0.3378\n",
      "Epoch 100, Average Outcome Loss: 0.6941167513529459, Average Accuracy: 0.4652777777777778, Test AUC: 0.4033, Test Accuracy: 0.3378\n",
      "Epoch 100, Average Outcome Loss: 0.7029980156156752, Average Accuracy: 0.5, Test AUC: 0.4171, Test Accuracy: 0.3378\n",
      "Epoch 100, Average Outcome Loss: 0.6624765992164612, Average Accuracy: 0.6111111111111112, Test AUC: 0.5869, Test Accuracy: 0.6622\n"
     ]
    },
    {
     "name": "stderr",
     "output_type": "stream",
     "text": [
      "/opt/conda/lib/python3.10/multiprocessing/popen_fork.py:66: RuntimeWarning: os.fork() was called. os.fork() is incompatible with multithreaded code, and JAX is multithreaded, so this will likely lead to a deadlock.\n",
      "  self.pid = os.fork()\n"
     ]
    },
    {
     "name": "stdout",
     "output_type": "stream",
     "text": [
      "Score: 0.6852244897959183\n",
      "Total time: 60.59991717338562 seconds\n",
      "Currently training, population member 49\n",
      "1013\n"
     ]
    },
    {
     "name": "stderr",
     "output_type": "stream",
     "text": [
      "/opt/conda/lib/python3.10/multiprocessing/popen_fork.py:66: RuntimeWarning: os.fork() was called. os.fork() is incompatible with multithreaded code, and JAX is multithreaded, so this will likely lead to a deadlock.\n",
      "  self.pid = os.fork()\n"
     ]
    },
    {
     "name": "stdout",
     "output_type": "stream",
     "text": [
      "Epoch 0, Average Outcome Loss: 0.6874401039547391, Average Accuracy: 0.5277777777777778, Test AUC: 0.5000, Test Accuracy: 0.3378\n",
      "Epoch 0, Average Outcome Loss: 0.7044426004091898, Average Accuracy: 0.5416666666666666, Test AUC: 0.5000, Test Accuracy: 0.3378\n",
      "Epoch 0, Average Outcome Loss: 0.7419898245069716, Average Accuracy: 0.4930555555555556, Test AUC: 0.5000, Test Accuracy: 0.3378\n",
      "Epoch 0, Average Outcome Loss: 0.6849384241633945, Average Accuracy: 0.5694444444444444, Test AUC: 0.5665, Test Accuracy: 0.6622\n",
      "Epoch 0, Average Outcome Loss: 0.6994624469015334, Average Accuracy: 0.5, Test AUC: 0.5000, Test Accuracy: 0.3378\n",
      "Epoch 100, Average Outcome Loss: 0.6550653510623508, Average Accuracy: 0.7013888888888888, Test AUC: 0.3282, Test Accuracy: 0.3378\n",
      "Epoch 100, Average Outcome Loss: 0.7009035150210062, Average Accuracy: 0.5, Test AUC: 0.6212, Test Accuracy: 0.6081\n",
      "Epoch 100, Average Outcome Loss: 0.6970495714081658, Average Accuracy: 0.5, Test AUC: 0.4057, Test Accuracy: 0.3378\n",
      "Epoch 100, Average Outcome Loss: 4.48851203918457, Average Accuracy: 0.5, Test AUC: 0.3416, Test Accuracy: 0.3378\n",
      "Epoch 100, Average Outcome Loss: 0.8524588611390855, Average Accuracy: 0.5, Test AUC: 0.4980, Test Accuracy: 0.3378\n"
     ]
    },
    {
     "name": "stderr",
     "output_type": "stream",
     "text": [
      "/opt/conda/lib/python3.10/multiprocessing/popen_fork.py:66: RuntimeWarning: os.fork() was called. os.fork() is incompatible with multithreaded code, and JAX is multithreaded, so this will likely lead to a deadlock.\n",
      "  self.pid = os.fork()\n"
     ]
    },
    {
     "name": "stdout",
     "output_type": "stream",
     "text": [
      "Score: 0.6760816326530613\n",
      "Total time: 60.6340696811676 seconds\n",
      "Currently training, population member 50\n",
      "1035\n"
     ]
    },
    {
     "name": "stderr",
     "output_type": "stream",
     "text": [
      "/opt/conda/lib/python3.10/multiprocessing/popen_fork.py:66: RuntimeWarning: os.fork() was called. os.fork() is incompatible with multithreaded code, and JAX is multithreaded, so this will likely lead to a deadlock.\n",
      "  self.pid = os.fork()\n"
     ]
    },
    {
     "name": "stdout",
     "output_type": "stream",
     "text": [
      "Epoch 0, Average Outcome Loss: 0.7142140997780694, Average Accuracy: 0.5, Test AUC: 0.5000, Test Accuracy: 0.6622\n",
      "Epoch 0, Average Outcome Loss: 0.9698061347007751, Average Accuracy: 0.5, Test AUC: 0.5000, Test Accuracy: 0.3378Epoch 0, Average Outcome Loss: 0.7031302981906467, Average Accuracy: 0.5, Test AUC: 0.5000, Test Accuracy: 0.6622\n",
      "\n",
      "Epoch 0, Average Outcome Loss: 0.6904860138893127, Average Accuracy: 0.5138888888888888, Test AUC: 0.5000, Test Accuracy: 0.3378Epoch 0, Average Outcome Loss: 0.7700836923387315, Average Accuracy: 0.5, Test AUC: 0.5000, Test Accuracy: 0.3378\n",
      "\n",
      "Epoch 100, Average Outcome Loss: 0.7277624077267117, Average Accuracy: 0.5, Test AUC: 0.4122, Test Accuracy: 0.3378\n",
      "Epoch 100, Average Outcome Loss: 0.7950606147448221, Average Accuracy: 0.5, Test AUC: 0.5886, Test Accuracy: 0.6622\n",
      "Epoch 100, Average Outcome Loss: 0.991417129834493, Average Accuracy: 0.5, Test AUC: 0.6506, Test Accuracy: 0.6622\n",
      "Epoch 100, Average Outcome Loss: 0.6742317544089423, Average Accuracy: 0.5, Test AUC: 0.6278, Test Accuracy: 0.5946\n",
      "Epoch 100, Average Outcome Loss: 0.7404616276423136, Average Accuracy: 0.5, Test AUC: 0.4898, Test Accuracy: 0.3378\n"
     ]
    },
    {
     "name": "stderr",
     "output_type": "stream",
     "text": [
      "/opt/conda/lib/python3.10/multiprocessing/popen_fork.py:66: RuntimeWarning: os.fork() was called. os.fork() is incompatible with multithreaded code, and JAX is multithreaded, so this will likely lead to a deadlock.\n",
      "  self.pid = os.fork()\n"
     ]
    },
    {
     "name": "stdout",
     "output_type": "stream",
     "text": [
      "Score: 0.6512653061224489\n",
      "Total time: 60.74227023124695 seconds\n",
      "Generation 2, Best Accuracy: 0.8513\n",
      "Currently training, population member 1\n",
      "1032\n"
     ]
    },
    {
     "name": "stderr",
     "output_type": "stream",
     "text": [
      "/opt/conda/lib/python3.10/multiprocessing/popen_fork.py:66: RuntimeWarning: os.fork() was called. os.fork() is incompatible with multithreaded code, and JAX is multithreaded, so this will likely lead to a deadlock.\n",
      "  self.pid = os.fork()\n"
     ]
    },
    {
     "name": "stdout",
     "output_type": "stream",
     "text": [
      "Epoch 0, Average Outcome Loss: 0.6922259529431661, Average Accuracy: 0.4861111111111111, Test AUC: 0.5000, Test Accuracy: 0.3378\n",
      "Epoch 0, Average Outcome Loss: 0.7168272733688354, Average Accuracy: 0.5069444444444444, Test AUC: 0.5000, Test Accuracy: 0.6622\n",
      "Epoch 0, Average Outcome Loss: 0.7048572897911072, Average Accuracy: 0.5069444444444444, Test AUC: 0.5000, Test Accuracy: 0.6622\n",
      "Epoch 0, Average Outcome Loss: 0.6925931440459357, Average Accuracy: 0.5, Test AUC: 0.6849, Test Accuracy: 0.6622\n",
      "Epoch 0, Average Outcome Loss: 0.7923743724822998, Average Accuracy: 0.5, Test AUC: 0.5000, Test Accuracy: 0.3378\n",
      "Epoch 100, Average Outcome Loss: 0.6025803354051378, Average Accuracy: 0.6666666666666666, Test AUC: 0.7371, Test Accuracy: 0.6622\n",
      "Epoch 100, Average Outcome Loss: 0.6637725498941209, Average Accuracy: 0.6875, Test AUC: 0.7151, Test Accuracy: 0.5946\n",
      "Epoch 100, Average Outcome Loss: 0.7983053922653198, Average Accuracy: 0.5, Test AUC: 0.3984, Test Accuracy: 0.3378\n",
      "Epoch 100, Average Outcome Loss: 0.7224591440624661, Average Accuracy: 0.5, Test AUC: 0.5216, Test Accuracy: 0.6622\n",
      "Epoch 100, Average Outcome Loss: 0.7730558117230734, Average Accuracy: 0.5, Test AUC: 0.3641, Test Accuracy: 0.3378\n"
     ]
    },
    {
     "name": "stderr",
     "output_type": "stream",
     "text": [
      "/opt/conda/lib/python3.10/multiprocessing/popen_fork.py:66: RuntimeWarning: os.fork() was called. os.fork() is incompatible with multithreaded code, and JAX is multithreaded, so this will likely lead to a deadlock.\n",
      "  self.pid = os.fork()\n"
     ]
    },
    {
     "name": "stdout",
     "output_type": "stream",
     "text": [
      "Score: 0.7471020408163265\n",
      "Total time: 60.190190076828 seconds\n",
      "Currently training, population member 2\n",
      "1036\n"
     ]
    },
    {
     "name": "stderr",
     "output_type": "stream",
     "text": [
      "/opt/conda/lib/python3.10/multiprocessing/popen_fork.py:66: RuntimeWarning: os.fork() was called. os.fork() is incompatible with multithreaded code, and JAX is multithreaded, so this will likely lead to a deadlock.\n",
      "  self.pid = os.fork()\n"
     ]
    },
    {
     "name": "stdout",
     "output_type": "stream",
     "text": [
      "Epoch 0, Average Outcome Loss: 0.7349097530047098, Average Accuracy: 0.5, Test AUC: 0.5000, Test Accuracy: 0.3378\n",
      "Epoch 0, Average Outcome Loss: 0.7084810535113016, Average Accuracy: 0.5347222222222222, Test AUC: 0.5000, Test Accuracy: 0.3378\n",
      "Epoch 0, Average Outcome Loss: 0.7177649537722269, Average Accuracy: 0.5, Test AUC: 0.5000, Test Accuracy: 0.3378\n",
      "Epoch 0, Average Outcome Loss: 0.771035181151496, Average Accuracy: 0.5, Test AUC: 0.5000, Test Accuracy: 0.3378\n",
      "Epoch 0, Average Outcome Loss: 0.7132177816496955, Average Accuracy: 0.4305555555555556, Test AUC: 0.5000, Test Accuracy: 0.6622\n",
      "Epoch 100, Average Outcome Loss: 0.7786252829763625, Average Accuracy: 0.5, Test AUC: 0.7469, Test Accuracy: 0.4054\n",
      "Epoch 100, Average Outcome Loss: 0.5843435459666781, Average Accuracy: 0.7083333333333334, Test AUC: 0.7184, Test Accuracy: 0.5676\n",
      "Epoch 100, Average Outcome Loss: 0.7111863560146756, Average Accuracy: 0.5, Test AUC: 0.7306, Test Accuracy: 0.6622\n",
      "Epoch 100, Average Outcome Loss: 0.6933177577124702, Average Accuracy: 0.5, Test AUC: 0.7633, Test Accuracy: 0.6622\n",
      "Epoch 100, Average Outcome Loss: 0.6964373654789395, Average Accuracy: 0.5, Test AUC: 0.4563, Test Accuracy: 0.3378\n"
     ]
    },
    {
     "name": "stderr",
     "output_type": "stream",
     "text": [
      "/opt/conda/lib/python3.10/multiprocessing/popen_fork.py:66: RuntimeWarning: os.fork() was called. os.fork() is incompatible with multithreaded code, and JAX is multithreaded, so this will likely lead to a deadlock.\n",
      "  self.pid = os.fork()\n"
     ]
    },
    {
     "name": "stdout",
     "output_type": "stream",
     "text": [
      "Score: 0.7879183673469388\n",
      "Total time: 61.33078575134277 seconds\n",
      "Currently training, population member 3\n",
      "992\n"
     ]
    },
    {
     "name": "stderr",
     "output_type": "stream",
     "text": [
      "/opt/conda/lib/python3.10/multiprocessing/popen_fork.py:66: RuntimeWarning: os.fork() was called. os.fork() is incompatible with multithreaded code, and JAX is multithreaded, so this will likely lead to a deadlock.\n",
      "  self.pid = os.fork()\n"
     ]
    },
    {
     "name": "stdout",
     "output_type": "stream",
     "text": [
      "Epoch 0, Average Outcome Loss: 0.7031598952081468, Average Accuracy: 0.5069444444444444, Test AUC: 0.5000, Test Accuracy: 0.3378\n",
      "Epoch 0, Average Outcome Loss: 0.7779641151428223, Average Accuracy: 0.5, Test AUC: 0.5000, Test Accuracy: 0.6622\n",
      "Epoch 0, Average Outcome Loss: 0.7153916425175137, Average Accuracy: 0.4791666666666667, Test AUC: 0.5000, Test Accuracy: 0.3378\n",
      "Epoch 0, Average Outcome Loss: 0.8357580105463663, Average Accuracy: 0.5, Test AUC: 0.5000, Test Accuracy: 0.3378\n",
      "Epoch 0, Average Outcome Loss: 0.7282415827115377, Average Accuracy: 0.5, Test AUC: 0.5000, Test Accuracy: 0.6622\n",
      "Epoch 100, Average Outcome Loss: 0.6627229717042711, Average Accuracy: 0.6041666666666666, Test AUC: 0.7282, Test Accuracy: 0.6622\n",
      "Epoch 100, Average Outcome Loss: 14.954555405510796, Average Accuracy: 0.5, Test AUC: 0.5000, Test Accuracy: 0.3378\n",
      "Epoch 100, Average Outcome Loss: 0.6912810272640653, Average Accuracy: 0.5, Test AUC: 0.5314, Test Accuracy: 0.3378\n",
      "Epoch 100, Average Outcome Loss: 0.6929290228419833, Average Accuracy: 0.4861111111111111, Test AUC: 0.6384, Test Accuracy: 0.6622\n",
      "Epoch 100, Average Outcome Loss: 0.7709095676740011, Average Accuracy: 0.5, Test AUC: 0.6082, Test Accuracy: 0.6622\n"
     ]
    },
    {
     "name": "stderr",
     "output_type": "stream",
     "text": [
      "/opt/conda/lib/python3.10/multiprocessing/popen_fork.py:66: RuntimeWarning: os.fork() was called. os.fork() is incompatible with multithreaded code, and JAX is multithreaded, so this will likely lead to a deadlock.\n",
      "  self.pid = os.fork()\n"
     ]
    },
    {
     "name": "stdout",
     "output_type": "stream",
     "text": [
      "Score: 0.7444897959183673\n",
      "Total time: 60.03638958930969 seconds\n",
      "Currently training, population member 4\n",
      "990\n"
     ]
    },
    {
     "name": "stderr",
     "output_type": "stream",
     "text": [
      "/opt/conda/lib/python3.10/multiprocessing/popen_fork.py:66: RuntimeWarning: os.fork() was called. os.fork() is incompatible with multithreaded code, and JAX is multithreaded, so this will likely lead to a deadlock.\n",
      "  self.pid = os.fork()\n"
     ]
    },
    {
     "name": "stdout",
     "output_type": "stream",
     "text": [
      "Epoch 0, Average Outcome Loss: 0.8087600999408298, Average Accuracy: 0.5, Test AUC: 0.5000, Test Accuracy: 0.3378\n",
      "Epoch 0, Average Outcome Loss: 0.911998364660475, Average Accuracy: 0.5, Test AUC: 0.5000, Test Accuracy: 0.6622\n",
      "Epoch 0, Average Outcome Loss: 0.7487937410672506, Average Accuracy: 0.5, Test AUC: 0.5000, Test Accuracy: 0.6622\n",
      "Epoch 0, Average Outcome Loss: 0.6989829738934835, Average Accuracy: 0.5138888888888888, Test AUC: 0.5000, Test Accuracy: 0.3378\n",
      "Epoch 0, Average Outcome Loss: 1.2259169552061293, Average Accuracy: 0.5, Test AUC: 0.5000, Test Accuracy: 0.6622\n",
      "Epoch 100, Average Outcome Loss: 0.6626243392626444, Average Accuracy: 0.5555555555555556, Test AUC: 0.7453, Test Accuracy: 0.6892\n",
      "Epoch 100, Average Outcome Loss: 0.849531802866194, Average Accuracy: 0.5, Test AUC: 0.5682, Test Accuracy: 0.6622\n",
      "Epoch 100, Average Outcome Loss: 0.6222445037629869, Average Accuracy: 0.6736111111111112, Test AUC: 0.7273, Test Accuracy: 0.6757\n",
      "Epoch 100, Average Outcome Loss: 0.6918860144085355, Average Accuracy: 0.5416666666666666, Test AUC: 0.4563, Test Accuracy: 0.3378\n",
      "Epoch 100, Average Outcome Loss: 0.7274598611725701, Average Accuracy: 0.5, Test AUC: 0.6269, Test Accuracy: 0.6622\n"
     ]
    },
    {
     "name": "stderr",
     "output_type": "stream",
     "text": [
      "/opt/conda/lib/python3.10/multiprocessing/popen_fork.py:66: RuntimeWarning: os.fork() was called. os.fork() is incompatible with multithreaded code, and JAX is multithreaded, so this will likely lead to a deadlock.\n",
      "  self.pid = os.fork()\n"
     ]
    },
    {
     "name": "stdout",
     "output_type": "stream",
     "text": [
      "Score: 0.750530612244898\n",
      "Total time: 60.6301109790802 seconds\n",
      "Currently training, population member 5\n",
      "1017\n"
     ]
    },
    {
     "name": "stderr",
     "output_type": "stream",
     "text": [
      "/opt/conda/lib/python3.10/multiprocessing/popen_fork.py:66: RuntimeWarning: os.fork() was called. os.fork() is incompatible with multithreaded code, and JAX is multithreaded, so this will likely lead to a deadlock.\n",
      "  self.pid = os.fork()\n"
     ]
    },
    {
     "name": "stdout",
     "output_type": "stream",
     "text": [
      "Epoch 0, Average Outcome Loss: 0.7131601042217679, Average Accuracy: 0.4722222222222222, Test AUC: 0.5000, Test Accuracy: 0.3378\n",
      "Epoch 0, Average Outcome Loss: 0.7175303565131294, Average Accuracy: 0.5, Test AUC: 0.5000, Test Accuracy: 0.3378\n",
      "Epoch 0, Average Outcome Loss: 0.7177229722340902, Average Accuracy: 0.4930555555555556, Test AUC: 0.5000, Test Accuracy: 0.6622\n",
      "Epoch 0, Average Outcome Loss: 0.9751286440425448, Average Accuracy: 0.5, Test AUC: 0.5000, Test Accuracy: 0.6622\n",
      "Epoch 0, Average Outcome Loss: 0.6999678346845839, Average Accuracy: 0.4861111111111111, Test AUC: 0.5000, Test Accuracy: 0.6622\n",
      "Epoch 100, Average Outcome Loss: 0.6978713671366373, Average Accuracy: 0.5, Test AUC: 0.6841, Test Accuracy: 0.6622\n",
      "Epoch 100, Average Outcome Loss: 0.8084275788731046, Average Accuracy: 0.5, Test AUC: 0.6596, Test Accuracy: 0.6622\n",
      "Epoch 100, Average Outcome Loss: 0.7094949815008376, Average Accuracy: 0.5, Test AUC: 0.3780, Test Accuracy: 0.3378\n",
      "Epoch 100, Average Outcome Loss: 0.6666746603118049, Average Accuracy: 0.6527777777777778, Test AUC: 0.7086, Test Accuracy: 0.7162\n",
      "Epoch 100, Average Outcome Loss: 0.733452041943868, Average Accuracy: 0.5, Test AUC: 0.3837, Test Accuracy: 0.3378\n"
     ]
    },
    {
     "name": "stderr",
     "output_type": "stream",
     "text": [
      "/opt/conda/lib/python3.10/multiprocessing/popen_fork.py:66: RuntimeWarning: os.fork() was called. os.fork() is incompatible with multithreaded code, and JAX is multithreaded, so this will likely lead to a deadlock.\n",
      "  self.pid = os.fork()\n"
     ]
    },
    {
     "name": "stdout",
     "output_type": "stream",
     "text": [
      "Score: 0.7328979591836735\n",
      "Total time: 60.64207458496094 seconds\n",
      "Currently training, population member 6\n",
      "1021\n"
     ]
    },
    {
     "name": "stderr",
     "output_type": "stream",
     "text": [
      "/opt/conda/lib/python3.10/multiprocessing/popen_fork.py:66: RuntimeWarning: os.fork() was called. os.fork() is incompatible with multithreaded code, and JAX is multithreaded, so this will likely lead to a deadlock.\n",
      "  self.pid = os.fork()\n"
     ]
    },
    {
     "name": "stdout",
     "output_type": "stream",
     "text": [
      "Epoch 0, Average Outcome Loss: 0.7170382605658637, Average Accuracy: 0.5, Test AUC: 0.5000, Test Accuracy: 0.3378\n",
      "Epoch 0, Average Outcome Loss: 0.8302082750532362, Average Accuracy: 0.5, Test AUC: 0.5000, Test Accuracy: 0.3378\n",
      "Epoch 0, Average Outcome Loss: 0.8268684811062283, Average Accuracy: 0.5, Test AUC: 0.5000, Test Accuracy: 0.6622\n",
      "Epoch 0, Average Outcome Loss: 0.725008123450809, Average Accuracy: 0.5, Test AUC: 0.5000, Test Accuracy: 0.3378\n",
      "Epoch 0, Average Outcome Loss: 0.7396006054348416, Average Accuracy: 0.5, Test AUC: 0.5000, Test Accuracy: 0.3378\n",
      "Epoch 100, Average Outcome Loss: 0.6522623433007134, Average Accuracy: 0.6041666666666666, Test AUC: 0.7380, Test Accuracy: 0.4054\n",
      "Epoch 100, Average Outcome Loss: 0.5814120272795359, Average Accuracy: 0.7222222222222222, Test AUC: 0.7486, Test Accuracy: 0.6622\n",
      "Epoch 100, Average Outcome Loss: 0.6930605702930026, Average Accuracy: 0.5, Test AUC: 0.7061, Test Accuracy: 0.3378\n",
      "Epoch 100, Average Outcome Loss: 0.6699195504188538, Average Accuracy: 0.6736111111111112, Test AUC: 0.7478, Test Accuracy: 0.4865\n",
      "Epoch 100, Average Outcome Loss: 0.6980709168646071, Average Accuracy: 0.5, Test AUC: 0.4139, Test Accuracy: 0.6622\n"
     ]
    },
    {
     "name": "stderr",
     "output_type": "stream",
     "text": [
      "/opt/conda/lib/python3.10/multiprocessing/popen_fork.py:66: RuntimeWarning: os.fork() was called. os.fork() is incompatible with multithreaded code, and JAX is multithreaded, so this will likely lead to a deadlock.\n",
      "  self.pid = os.fork()\n"
     ]
    },
    {
     "name": "stdout",
     "output_type": "stream",
     "text": [
      "Score: 0.7554285714285716\n",
      "Total time: 61.79260778427124 seconds\n",
      "Currently training, population member 7\n",
      "1035\n"
     ]
    },
    {
     "name": "stderr",
     "output_type": "stream",
     "text": [
      "/opt/conda/lib/python3.10/multiprocessing/popen_fork.py:66: RuntimeWarning: os.fork() was called. os.fork() is incompatible with multithreaded code, and JAX is multithreaded, so this will likely lead to a deadlock.\n",
      "  self.pid = os.fork()\n"
     ]
    },
    {
     "name": "stdout",
     "output_type": "stream",
     "text": [
      "Epoch 0, Average Outcome Loss: 0.6799220707681444, Average Accuracy: 0.5555555555555556, Test AUC: 0.5000, Test Accuracy: 0.3378\n",
      "Epoch 0, Average Outcome Loss: 0.6710424158308241, Average Accuracy: 0.5694444444444444, Test AUC: 0.5000, Test Accuracy: 0.3378\n",
      "Epoch 0, Average Outcome Loss: 0.7009739279747009, Average Accuracy: 0.4930555555555556, Test AUC: 0.5000, Test Accuracy: 0.3378\n",
      "Epoch 0, Average Outcome Loss: 0.695134805308448, Average Accuracy: 0.5138888888888888, Test AUC: 0.5000, Test Accuracy: 0.6622\n",
      "Epoch 0, Average Outcome Loss: 0.7379467950926887, Average Accuracy: 0.5, Test AUC: 0.5000, Test Accuracy: 0.3378\n",
      "Epoch 100, Average Outcome Loss: 0.6995422310299344, Average Accuracy: 0.5, Test AUC: 0.4996, Test Accuracy: 0.3378\n",
      "Epoch 100, Average Outcome Loss: 0.8153735730383131, Average Accuracy: 0.5, Test AUC: 0.5094, Test Accuracy: 0.3378\n",
      "Epoch 100, Average Outcome Loss: 0.6958633727497525, Average Accuracy: 0.5, Test AUC: 0.4971, Test Accuracy: 0.3378\n",
      "Epoch 100, Average Outcome Loss: 0.7064272496435378, Average Accuracy: 0.5, Test AUC: 0.5698, Test Accuracy: 0.3378\n",
      "Epoch 100, Average Outcome Loss: 0.7270571324560378, Average Accuracy: 0.5, Test AUC: 0.7020, Test Accuracy: 0.6622\n"
     ]
    },
    {
     "name": "stderr",
     "output_type": "stream",
     "text": [
      "/opt/conda/lib/python3.10/multiprocessing/popen_fork.py:66: RuntimeWarning: os.fork() was called. os.fork() is incompatible with multithreaded code, and JAX is multithreaded, so this will likely lead to a deadlock.\n",
      "  self.pid = os.fork()\n"
     ]
    },
    {
     "name": "stdout",
     "output_type": "stream",
     "text": [
      "Score: 0.7110204081632653\n",
      "Total time: 61.22948455810547 seconds\n",
      "Currently training, population member 8\n",
      "1041\n"
     ]
    },
    {
     "name": "stderr",
     "output_type": "stream",
     "text": [
      "/opt/conda/lib/python3.10/multiprocessing/popen_fork.py:66: RuntimeWarning: os.fork() was called. os.fork() is incompatible with multithreaded code, and JAX is multithreaded, so this will likely lead to a deadlock.\n",
      "  self.pid = os.fork()\n"
     ]
    },
    {
     "name": "stdout",
     "output_type": "stream",
     "text": [
      "Epoch 0, Average Outcome Loss: 0.7392490638626946, Average Accuracy: 0.5, Test AUC: 0.5000, Test Accuracy: 0.3378\n",
      "Epoch 0, Average Outcome Loss: 0.7159513301319547, Average Accuracy: 0.4861111111111111, Test AUC: 0.5000, Test Accuracy: 0.6622\n",
      "Epoch 0, Average Outcome Loss: 0.7114954325887892, Average Accuracy: 0.5, Test AUC: 0.5000, Test Accuracy: 0.3378\n",
      "Epoch 0, Average Outcome Loss: 0.6943713691499498, Average Accuracy: 0.5486111111111112, Test AUC: 0.5000, Test Accuracy: 0.3378\n",
      "Epoch 0, Average Outcome Loss: 0.875531017780304, Average Accuracy: 0.5, Test AUC: 0.5000, Test Accuracy: 0.3378\n",
      "Epoch 100, Average Outcome Loss: 1.9962107605404324, Average Accuracy: 0.5, Test AUC: 0.5649, Test Accuracy: 0.3378\n",
      "Epoch 100, Average Outcome Loss: 0.7346103323830498, Average Accuracy: 0.5, Test AUC: 0.6241, Test Accuracy: 0.6622\n",
      "Epoch 100, Average Outcome Loss: 0.7031814853350321, Average Accuracy: 0.5, Test AUC: 0.6261, Test Accuracy: 0.3378\n",
      "Epoch 100, Average Outcome Loss: 0.714578714635637, Average Accuracy: 0.5, Test AUC: 0.6294, Test Accuracy: 0.3649\n",
      "Epoch 100, Average Outcome Loss: 0.6943576203452216, Average Accuracy: 0.5, Test AUC: 0.4498, Test Accuracy: 0.3378\n"
     ]
    },
    {
     "name": "stderr",
     "output_type": "stream",
     "text": [
      "/opt/conda/lib/python3.10/multiprocessing/popen_fork.py:66: RuntimeWarning: os.fork() was called. os.fork() is incompatible with multithreaded code, and JAX is multithreaded, so this will likely lead to a deadlock.\n",
      "  self.pid = os.fork()\n"
     ]
    },
    {
     "name": "stdout",
     "output_type": "stream",
     "text": [
      "Score: 0.6829387755102039\n",
      "Total time: 61.14707946777344 seconds\n",
      "Currently training, population member 9\n",
      "1012\n"
     ]
    },
    {
     "name": "stderr",
     "output_type": "stream",
     "text": [
      "/opt/conda/lib/python3.10/multiprocessing/popen_fork.py:66: RuntimeWarning: os.fork() was called. os.fork() is incompatible with multithreaded code, and JAX is multithreaded, so this will likely lead to a deadlock.\n",
      "  self.pid = os.fork()\n"
     ]
    },
    {
     "name": "stdout",
     "output_type": "stream",
     "text": [
      "Epoch 0, Average Outcome Loss: 0.7082358267572191, Average Accuracy: 0.5208333333333334, Test AUC: 0.5000, Test Accuracy: 0.3378\n",
      "Epoch 0, Average Outcome Loss: 0.7179593377643161, Average Accuracy: 0.3888888888888889, Test AUC: 0.5000, Test Accuracy: 0.3378\n",
      "Epoch 0, Average Outcome Loss: 0.6810648507542081, Average Accuracy: 0.5347222222222222, Test AUC: 0.5000, Test Accuracy: 0.3378\n",
      "Epoch 0, Average Outcome Loss: 0.7980274558067322, Average Accuracy: 0.5, Test AUC: 0.5000, Test Accuracy: 0.3378\n",
      "Epoch 0, Average Outcome Loss: 0.7413014769554138, Average Accuracy: 0.5, Test AUC: 0.5000, Test Accuracy: 0.6622\n",
      "Epoch 100, Average Outcome Loss: 0.8750532997979058, Average Accuracy: 0.5, Test AUC: 0.3714, Test Accuracy: 0.3378\n",
      "Epoch 100, Average Outcome Loss: 51.1733512878418, Average Accuracy: 0.5, Test AUC: 0.6800, Test Accuracy: 0.6622\n",
      "Epoch 100, Average Outcome Loss: 0.7073806126912435, Average Accuracy: 0.5, Test AUC: 0.5118, Test Accuracy: 0.6622\n",
      "Epoch 100, Average Outcome Loss: 1.863172557618883, Average Accuracy: 0.5, Test AUC: 0.5339, Test Accuracy: 0.3378\n",
      "Epoch 100, Average Outcome Loss: 0.6674765348434448, Average Accuracy: 0.5277777777777778, Test AUC: 0.6694, Test Accuracy: 0.6486\n"
     ]
    },
    {
     "name": "stderr",
     "output_type": "stream",
     "text": [
      "/opt/conda/lib/python3.10/multiprocessing/popen_fork.py:66: RuntimeWarning: os.fork() was called. os.fork() is incompatible with multithreaded code, and JAX is multithreaded, so this will likely lead to a deadlock.\n",
      "  self.pid = os.fork()\n"
     ]
    },
    {
     "name": "stdout",
     "output_type": "stream",
     "text": [
      "Score: 0.738938775510204\n",
      "Total time: 61.396875619888306 seconds\n",
      "Currently training, population member 10\n",
      "1052\n"
     ]
    },
    {
     "name": "stderr",
     "output_type": "stream",
     "text": [
      "/opt/conda/lib/python3.10/multiprocessing/popen_fork.py:66: RuntimeWarning: os.fork() was called. os.fork() is incompatible with multithreaded code, and JAX is multithreaded, so this will likely lead to a deadlock.\n",
      "  self.pid = os.fork()\n"
     ]
    },
    {
     "name": "stdout",
     "output_type": "stream",
     "text": [
      "Epoch 0, Average Outcome Loss: 0.7291635341114469, Average Accuracy: 0.5, Test AUC: 0.5000, Test Accuracy: 0.6622\n",
      "Epoch 0, Average Outcome Loss: 0.9547711677021451, Average Accuracy: 0.5, Test AUC: 0.5000, Test Accuracy: 0.3378\n",
      "Epoch 0, Average Outcome Loss: 0.7360996339056227, Average Accuracy: 0.5, Test AUC: 0.5000, Test Accuracy: 0.6622\n",
      "Epoch 0, Average Outcome Loss: 0.7206194665696886, Average Accuracy: 0.4722222222222222, Test AUC: 0.5000, Test Accuracy: 0.6622\n",
      "Epoch 0, Average Outcome Loss: 0.7568279703458151, Average Accuracy: 0.5, Test AUC: 0.5000, Test Accuracy: 0.6622\n",
      "Epoch 100, Average Outcome Loss: 0.6593716277016534, Average Accuracy: 0.6180555555555556, Test AUC: 0.6841, Test Accuracy: 0.6757\n",
      "Epoch 100, Average Outcome Loss: 0.6920283370547824, Average Accuracy: 0.5, Test AUC: 0.5265, Test Accuracy: 0.6622\n",
      "Epoch 100, Average Outcome Loss: 0.9343113766776191, Average Accuracy: 0.5, Test AUC: 0.6098, Test Accuracy: 0.6622\n",
      "Epoch 100, Average Outcome Loss: 0.7329378922780355, Average Accuracy: 0.5, Test AUC: 0.4033, Test Accuracy: 0.3378\n",
      "Epoch 100, Average Outcome Loss: 1.9680172072516546, Average Accuracy: 0.5, Test AUC: 0.4302, Test Accuracy: 0.3378\n"
     ]
    },
    {
     "name": "stderr",
     "output_type": "stream",
     "text": [
      "/opt/conda/lib/python3.10/multiprocessing/popen_fork.py:66: RuntimeWarning: os.fork() was called. os.fork() is incompatible with multithreaded code, and JAX is multithreaded, so this will likely lead to a deadlock.\n",
      "  self.pid = os.fork()\n"
     ]
    },
    {
     "name": "stdout",
     "output_type": "stream",
     "text": [
      "Score: 0.7051428571428572\n",
      "Total time: 61.18057680130005 seconds\n",
      "Currently training, population member 11\n",
      "1040\n"
     ]
    },
    {
     "name": "stderr",
     "output_type": "stream",
     "text": [
      "/opt/conda/lib/python3.10/multiprocessing/popen_fork.py:66: RuntimeWarning: os.fork() was called. os.fork() is incompatible with multithreaded code, and JAX is multithreaded, so this will likely lead to a deadlock.\n",
      "  self.pid = os.fork()\n"
     ]
    },
    {
     "name": "stdout",
     "output_type": "stream",
     "text": [
      "Epoch 0, Average Outcome Loss: 0.7624648544523451, Average Accuracy: 0.5, Test AUC: 0.5000, Test Accuracy: 0.3378\n",
      "Epoch 0, Average Outcome Loss: 0.7360069155693054, Average Accuracy: 0.5, Test AUC: 0.5000, Test Accuracy: 0.6622\n",
      "Epoch 0, Average Outcome Loss: 0.6835936109224955, Average Accuracy: 0.5486111111111112, Test AUC: 0.6694, Test Accuracy: 0.6622\n",
      "Epoch 0, Average Outcome Loss: 0.906731989648607, Average Accuracy: 0.5, Test AUC: 0.5000, Test Accuracy: 0.6622\n",
      "Epoch 0, Average Outcome Loss: 0.8298450708389282, Average Accuracy: 0.5, Test AUC: 0.5000, Test Accuracy: 0.3378\n",
      "Epoch 100, Average Outcome Loss: 0.6137692597177293, Average Accuracy: 0.6041666666666666, Test AUC: 0.7731, Test Accuracy: 0.5000\n",
      "Epoch 100, Average Outcome Loss: 0.6322873168521457, Average Accuracy: 0.5902777777777778, Test AUC: 0.7771, Test Accuracy: 0.5946\n",
      "Epoch 100, Average Outcome Loss: 0.6968877580430772, Average Accuracy: 0.5, Test AUC: 0.5322, Test Accuracy: 0.6351\n",
      "Epoch 100, Average Outcome Loss: 0.7217056751251221, Average Accuracy: 0.5, Test AUC: 0.7257, Test Accuracy: 0.6622\n",
      "Epoch 100, Average Outcome Loss: 0.6841718686951531, Average Accuracy: 0.5347222222222222, Test AUC: 0.7722, Test Accuracy: 0.3919\n"
     ]
    },
    {
     "name": "stderr",
     "output_type": "stream",
     "text": [
      "/opt/conda/lib/python3.10/multiprocessing/popen_fork.py:66: RuntimeWarning: os.fork() was called. os.fork() is incompatible with multithreaded code, and JAX is multithreaded, so this will likely lead to a deadlock.\n",
      "  self.pid = os.fork()\n"
     ]
    },
    {
     "name": "stdout",
     "output_type": "stream",
     "text": [
      "Score: 0.779265306122449\n",
      "Total time: 61.31152701377869 seconds\n",
      "Currently training, population member 12\n",
      "1021\n"
     ]
    },
    {
     "name": "stderr",
     "output_type": "stream",
     "text": [
      "/opt/conda/lib/python3.10/multiprocessing/popen_fork.py:66: RuntimeWarning: os.fork() was called. os.fork() is incompatible with multithreaded code, and JAX is multithreaded, so this will likely lead to a deadlock.\n",
      "  self.pid = os.fork()\n"
     ]
    },
    {
     "name": "stdout",
     "output_type": "stream",
     "text": [
      "Epoch 0, Average Outcome Loss: 0.8011667529741923, Average Accuracy: 0.5, Test AUC: 0.5000, Test Accuracy: 0.6622\n",
      "Epoch 0, Average Outcome Loss: 0.7172302537494235, Average Accuracy: 0.5069444444444444, Test AUC: 0.5000, Test Accuracy: 0.3378\n",
      "Epoch 0, Average Outcome Loss: 0.705951538350847, Average Accuracy: 0.4444444444444444, Test AUC: 0.5000, Test Accuracy: 0.3378\n",
      "Epoch 0, Average Outcome Loss: 0.7902748187383016, Average Accuracy: 0.5, Test AUC: 0.5000, Test Accuracy: 0.3378\n",
      "Epoch 0, Average Outcome Loss: 0.6974479820993211, Average Accuracy: 0.5416666666666666, Test AUC: 0.5000, Test Accuracy: 0.3378\n",
      "Epoch 100, Average Outcome Loss: 0.8066901630825467, Average Accuracy: 0.5, Test AUC: 0.4727, Test Accuracy: 0.3378\n",
      "Epoch 100, Average Outcome Loss: 0.799693246682485, Average Accuracy: 0.5, Test AUC: 0.4971, Test Accuracy: 0.3378\n",
      "Epoch 100, Average Outcome Loss: 0.7449645731184218, Average Accuracy: 0.5, Test AUC: 0.7102, Test Accuracy: 0.6622\n",
      "Epoch 100, Average Outcome Loss: 0.6985740661621094, Average Accuracy: 0.5, Test AUC: 0.4245, Test Accuracy: 0.3378\n",
      "Epoch 100, Average Outcome Loss: 0.7189185420672098, Average Accuracy: 0.5, Test AUC: 0.7086, Test Accuracy: 0.6622\n"
     ]
    },
    {
     "name": "stderr",
     "output_type": "stream",
     "text": [
      "/opt/conda/lib/python3.10/multiprocessing/popen_fork.py:66: RuntimeWarning: os.fork() was called. os.fork() is incompatible with multithreaded code, and JAX is multithreaded, so this will likely lead to a deadlock.\n",
      "  self.pid = os.fork()\n"
     ]
    },
    {
     "name": "stdout",
     "output_type": "stream",
     "text": [
      "Score: 0.7422040816326531\n",
      "Total time: 60.86434006690979 seconds\n",
      "Currently training, population member 13\n",
      "1031\n"
     ]
    },
    {
     "name": "stderr",
     "output_type": "stream",
     "text": [
      "/opt/conda/lib/python3.10/multiprocessing/popen_fork.py:66: RuntimeWarning: os.fork() was called. os.fork() is incompatible with multithreaded code, and JAX is multithreaded, so this will likely lead to a deadlock.\n",
      "  self.pid = os.fork()\n"
     ]
    },
    {
     "name": "stdout",
     "output_type": "stream",
     "text": [
      "Epoch 0, Average Outcome Loss: 0.8166293236944411, Average Accuracy: 0.5, Test AUC: 0.5000, Test Accuracy: 0.3378\n",
      "Epoch 0, Average Outcome Loss: 1.1970639493730333, Average Accuracy: 0.5, Test AUC: 0.5000, Test Accuracy: 0.6622\n",
      "Epoch 0, Average Outcome Loss: 0.9733719362152947, Average Accuracy: 0.5, Test AUC: 0.5000, Test Accuracy: 0.3378\n",
      "Epoch 0, Average Outcome Loss: 0.7482970025804307, Average Accuracy: 0.5, Test AUC: 0.5000, Test Accuracy: 0.3378\n",
      "Epoch 0, Average Outcome Loss: 0.7041350338194106, Average Accuracy: 0.4930555555555556, Test AUC: 0.6522, Test Accuracy: 0.6622\n",
      "Epoch 100, Average Outcome Loss: 0.6796171135372586, Average Accuracy: 0.5069444444444444, Test AUC: 0.6449, Test Accuracy: 0.3514\n",
      "Epoch 100, Average Outcome Loss: 0.7661187979910109, Average Accuracy: 0.2638888888888889, Test AUC: 0.3078, Test Accuracy: 0.6622\n",
      "Epoch 100, Average Outcome Loss: 1.0692439609103732, Average Accuracy: 0.5, Test AUC: 0.5657, Test Accuracy: 0.6622\n",
      "Epoch 100, Average Outcome Loss: 1.2164780166414049, Average Accuracy: 0.5, Test AUC: 0.3322, Test Accuracy: 0.3378\n",
      "Epoch 100, Average Outcome Loss: 0.7306566768222384, Average Accuracy: 0.5, Test AUC: 0.4555, Test Accuracy: 0.3378\n"
     ]
    },
    {
     "name": "stderr",
     "output_type": "stream",
     "text": [
      "/opt/conda/lib/python3.10/multiprocessing/popen_fork.py:66: RuntimeWarning: os.fork() was called. os.fork() is incompatible with multithreaded code, and JAX is multithreaded, so this will likely lead to a deadlock.\n",
      "  self.pid = os.fork()\n"
     ]
    },
    {
     "name": "stdout",
     "output_type": "stream",
     "text": [
      "Score: 0.6987755102040817\n",
      "Total time: 60.853761434555054 seconds\n",
      "Currently training, population member 14\n",
      "1039\n"
     ]
    },
    {
     "name": "stderr",
     "output_type": "stream",
     "text": [
      "/opt/conda/lib/python3.10/multiprocessing/popen_fork.py:66: RuntimeWarning: os.fork() was called. os.fork() is incompatible with multithreaded code, and JAX is multithreaded, so this will likely lead to a deadlock.\n",
      "  self.pid = os.fork()\n"
     ]
    },
    {
     "name": "stdout",
     "output_type": "stream",
     "text": [
      "Epoch 0, Average Outcome Loss: 0.7998960614204407, Average Accuracy: 0.5, Test AUC: 0.5000, Test Accuracy: 0.3378\n",
      "Epoch 0, Average Outcome Loss: 0.7002855075730218, Average Accuracy: 0.4791666666666667, Test AUC: 0.5000, Test Accuracy: 0.3378\n",
      "Epoch 0, Average Outcome Loss: 0.7023681203524271, Average Accuracy: 0.4861111111111111, Test AUC: 0.5000, Test Accuracy: 0.3378\n",
      "Epoch 0, Average Outcome Loss: 0.7983808716138204, Average Accuracy: 0.5, Test AUC: 0.5000, Test Accuracy: 0.3378\n",
      "Epoch 0, Average Outcome Loss: 0.7148084772957696, Average Accuracy: 0.5, Test AUC: 0.5000, Test Accuracy: 0.3378\n",
      "Epoch 100, Average Outcome Loss: 0.6878857347700331, Average Accuracy: 0.5347222222222222, Test AUC: 0.7429, Test Accuracy: 0.7027\n",
      "Epoch 100, Average Outcome Loss: 0.6929548846350776, Average Accuracy: 0.5, Test AUC: 0.7592, Test Accuracy: 0.6622\n",
      "Epoch 100, Average Outcome Loss: 0.6756037539905972, Average Accuracy: 0.625, Test AUC: 0.7731, Test Accuracy: 0.7162\n",
      "Epoch 100, Average Outcome Loss: 0.6895845267507765, Average Accuracy: 0.5486111111111112, Test AUC: 0.6531, Test Accuracy: 0.5000\n",
      "Epoch 100, Average Outcome Loss: 0.7704496648576524, Average Accuracy: 0.5, Test AUC: 0.7992, Test Accuracy: 0.6622\n"
     ]
    },
    {
     "name": "stderr",
     "output_type": "stream",
     "text": [
      "/opt/conda/lib/python3.10/multiprocessing/popen_fork.py:66: RuntimeWarning: os.fork() was called. os.fork() is incompatible with multithreaded code, and JAX is multithreaded, so this will likely lead to a deadlock.\n",
      "  self.pid = os.fork()\n"
     ]
    },
    {
     "name": "stdout",
     "output_type": "stream",
     "text": [
      "Score: 0.8045714285714286\n",
      "Total time: 61.2064893245697 seconds\n",
      "Currently training, population member 15\n",
      "1085\n"
     ]
    },
    {
     "name": "stderr",
     "output_type": "stream",
     "text": [
      "/opt/conda/lib/python3.10/multiprocessing/popen_fork.py:66: RuntimeWarning: os.fork() was called. os.fork() is incompatible with multithreaded code, and JAX is multithreaded, so this will likely lead to a deadlock.\n",
      "  self.pid = os.fork()\n"
     ]
    },
    {
     "name": "stdout",
     "output_type": "stream",
     "text": [
      "Epoch 0, Average Outcome Loss: 0.8076882229910957, Average Accuracy: 0.5, Test AUC: 0.5000, Test Accuracy: 0.3378\n",
      "Epoch 0, Average Outcome Loss: 0.815545399983724, Average Accuracy: 0.5, Test AUC: 0.5000, Test Accuracy: 0.3378\n",
      "Epoch 0, Average Outcome Loss: 0.7769928905698988, Average Accuracy: 0.5, Test AUC: 0.5000, Test Accuracy: 0.6622\n",
      "Epoch 0, Average Outcome Loss: 0.7230425344573127, Average Accuracy: 0.5, Test AUC: 0.5000, Test Accuracy: 0.3378\n",
      "Epoch 0, Average Outcome Loss: 0.779997381899092, Average Accuracy: 0.5, Test AUC: 0.5000, Test Accuracy: 0.6622\n",
      "Epoch 100, Average Outcome Loss: 0.7107863359981113, Average Accuracy: 0.5, Test AUC: 0.6204, Test Accuracy: 0.3378\n",
      "Epoch 100, Average Outcome Loss: 0.7024646666314867, Average Accuracy: 0.5, Test AUC: 0.6531, Test Accuracy: 0.3378\n",
      "Epoch 100, Average Outcome Loss: 0.7140774793095059, Average Accuracy: 0.5, Test AUC: 0.7192, Test Accuracy: 0.6622\n",
      "Epoch 100, Average Outcome Loss: 0.692559281984965, Average Accuracy: 0.5, Test AUC: 0.5257, Test Accuracy: 0.3378\n",
      "Epoch 100, Average Outcome Loss: 0.8965516355302598, Average Accuracy: 0.5, Test AUC: 0.6808, Test Accuracy: 0.3378\n"
     ]
    },
    {
     "name": "stderr",
     "output_type": "stream",
     "text": [
      "/opt/conda/lib/python3.10/multiprocessing/popen_fork.py:66: RuntimeWarning: os.fork() was called. os.fork() is incompatible with multithreaded code, and JAX is multithreaded, so this will likely lead to a deadlock.\n",
      "  self.pid = os.fork()\n"
     ]
    },
    {
     "name": "stdout",
     "output_type": "stream",
     "text": [
      "Score: 0.7168979591836735\n",
      "Total time: 61.80132794380188 seconds\n",
      "Currently training, population member 16\n",
      "1022\n"
     ]
    },
    {
     "name": "stderr",
     "output_type": "stream",
     "text": [
      "/opt/conda/lib/python3.10/multiprocessing/popen_fork.py:66: RuntimeWarning: os.fork() was called. os.fork() is incompatible with multithreaded code, and JAX is multithreaded, so this will likely lead to a deadlock.\n",
      "  self.pid = os.fork()\n"
     ]
    },
    {
     "name": "stdout",
     "output_type": "stream",
     "text": [
      "Epoch 0, Average Outcome Loss: 0.6898895965682136, Average Accuracy: 0.5, Test AUC: 0.7771, Test Accuracy: 0.6622\n",
      "Epoch 0, Average Outcome Loss: 0.7087667253282335, Average Accuracy: 0.4513888888888889, Test AUC: 0.5000, Test Accuracy: 0.3378\n",
      "Epoch 0, Average Outcome Loss: 0.7530194852087233, Average Accuracy: 0.5, Test AUC: 0.5000, Test Accuracy: 0.6622\n",
      "Epoch 0, Average Outcome Loss: 0.7005030910174052, Average Accuracy: 0.5486111111111112, Test AUC: 0.5000, Test Accuracy: 0.6622\n",
      "Epoch 0, Average Outcome Loss: 0.7174899909231398, Average Accuracy: 0.5, Test AUC: 0.5000, Test Accuracy: 0.6622\n",
      "Epoch 100, Average Outcome Loss: 0.62428703573015, Average Accuracy: 0.6805555555555556, Test AUC: 0.7649, Test Accuracy: 0.6486\n",
      "Epoch 100, Average Outcome Loss: 0.7909383773803711, Average Accuracy: 0.5208333333333334, Test AUC: 0.7690, Test Accuracy: 0.4459\n",
      "Epoch 100, Average Outcome Loss: 1.6034658484988742, Average Accuracy: 0.5, Test AUC: 0.6445, Test Accuracy: 0.3378\n",
      "Epoch 100, Average Outcome Loss: 0.7014628450075785, Average Accuracy: 0.5, Test AUC: 0.6776, Test Accuracy: 0.6622\n",
      "Epoch 100, Average Outcome Loss: 0.6692408919334412, Average Accuracy: 0.5277777777777778, Test AUC: 0.8065, Test Accuracy: 0.5541\n"
     ]
    },
    {
     "name": "stderr",
     "output_type": "stream",
     "text": [
      "/opt/conda/lib/python3.10/multiprocessing/popen_fork.py:66: RuntimeWarning: os.fork() was called. os.fork() is incompatible with multithreaded code, and JAX is multithreaded, so this will likely lead to a deadlock.\n",
      "  self.pid = os.fork()\n"
     ]
    },
    {
     "name": "stdout",
     "output_type": "stream",
     "text": [
      "Score: 0.8166530612244898\n",
      "Total time: 60.93269920349121 seconds\n",
      "Currently training, population member 17\n",
      "1049\n"
     ]
    },
    {
     "name": "stderr",
     "output_type": "stream",
     "text": [
      "/opt/conda/lib/python3.10/multiprocessing/popen_fork.py:66: RuntimeWarning: os.fork() was called. os.fork() is incompatible with multithreaded code, and JAX is multithreaded, so this will likely lead to a deadlock.\n",
      "  self.pid = os.fork()\n"
     ]
    },
    {
     "name": "stdout",
     "output_type": "stream",
     "text": [
      "Epoch 0, Average Outcome Loss: 0.712039483918084, Average Accuracy: 0.4930555555555556, Test AUC: 0.5000, Test Accuracy: 0.6622\n",
      "Epoch 0, Average Outcome Loss: 0.6884407268630134, Average Accuracy: 0.5277777777777778, Test AUC: 0.5000, Test Accuracy: 0.6622\n",
      "Epoch 0, Average Outcome Loss: 0.8244323266877068, Average Accuracy: 0.5, Test AUC: 0.5000, Test Accuracy: 0.6622\n",
      "Epoch 0, Average Outcome Loss: 0.7319825556543138, Average Accuracy: 0.5208333333333334, Test AUC: 0.5000, Test Accuracy: 0.3378\n",
      "Epoch 0, Average Outcome Loss: 0.8255448540051779, Average Accuracy: 0.5, Test AUC: 0.5000, Test Accuracy: 0.6622\n",
      "Epoch 100, Average Outcome Loss: 1.3973671992619832, Average Accuracy: 0.5, Test AUC: 0.3878, Test Accuracy: 0.3378\n",
      "Epoch 100, Average Outcome Loss: 0.7035142646895515, Average Accuracy: 0.5, Test AUC: 0.6033, Test Accuracy: 0.6622\n",
      "Epoch 100, Average Outcome Loss: 0.692479776011573, Average Accuracy: 0.5, Test AUC: 0.6735, Test Accuracy: 0.3784\n",
      "Epoch 100, Average Outcome Loss: 0.6938013898001777, Average Accuracy: 0.5, Test AUC: 0.6482, Test Accuracy: 0.3378\n",
      "Epoch 100, Average Outcome Loss: 0.732163323296441, Average Accuracy: 0.5, Test AUC: 0.6073, Test Accuracy: 0.3378\n"
     ]
    },
    {
     "name": "stderr",
     "output_type": "stream",
     "text": [
      "/opt/conda/lib/python3.10/multiprocessing/popen_fork.py:66: RuntimeWarning: os.fork() was called. os.fork() is incompatible with multithreaded code, and JAX is multithreaded, so this will likely lead to a deadlock.\n",
      "  self.pid = os.fork()\n"
     ]
    },
    {
     "name": "stdout",
     "output_type": "stream",
     "text": [
      "Score: 0.6864489795918368\n",
      "Total time: 61.69126319885254 seconds\n",
      "Currently training, population member 18\n",
      "1072\n"
     ]
    },
    {
     "name": "stderr",
     "output_type": "stream",
     "text": [
      "/opt/conda/lib/python3.10/multiprocessing/popen_fork.py:66: RuntimeWarning: os.fork() was called. os.fork() is incompatible with multithreaded code, and JAX is multithreaded, so this will likely lead to a deadlock.\n",
      "  self.pid = os.fork()\n"
     ]
    },
    {
     "name": "stdout",
     "output_type": "stream",
     "text": [
      "Epoch 0, Average Outcome Loss: 0.7443568971421983, Average Accuracy: 0.4930555555555556, Test AUC: 0.5000, Test Accuracy: 0.3378\n",
      "Epoch 0, Average Outcome Loss: 0.6979140705532498, Average Accuracy: 0.5625, Test AUC: 0.5000, Test Accuracy: 0.3378\n",
      "Epoch 0, Average Outcome Loss: 0.7172934744093153, Average Accuracy: 0.4444444444444444, Test AUC: 0.5000, Test Accuracy: 0.6622\n",
      "Epoch 0, Average Outcome Loss: 0.7138516704241434, Average Accuracy: 0.5, Test AUC: 0.5000, Test Accuracy: 0.6622\n",
      "Epoch 0, Average Outcome Loss: 0.9022616810268826, Average Accuracy: 0.5, Test AUC: 0.5000, Test Accuracy: 0.6622\n",
      "Epoch 100, Average Outcome Loss: 0.7099466058943007, Average Accuracy: 0.5, Test AUC: 0.3992, Test Accuracy: 0.3378\n",
      "Epoch 100, Average Outcome Loss: 3.039153152041965, Average Accuracy: 0.5208333333333334, Test AUC: 0.6237, Test Accuracy: 0.3378\n",
      "Epoch 100, Average Outcome Loss: 0.694098691145579, Average Accuracy: 0.5, Test AUC: 0.6898, Test Accuracy: 0.6622\n",
      "Epoch 100, Average Outcome Loss: 0.6932126018736098, Average Accuracy: 0.5, Test AUC: 0.7110, Test Accuracy: 0.6622\n",
      "Epoch 100, Average Outcome Loss: 0.8500442438655429, Average Accuracy: 0.5, Test AUC: 0.6686, Test Accuracy: 0.6622\n"
     ]
    },
    {
     "name": "stderr",
     "output_type": "stream",
     "text": [
      "/opt/conda/lib/python3.10/multiprocessing/popen_fork.py:66: RuntimeWarning: os.fork() was called. os.fork() is incompatible with multithreaded code, and JAX is multithreaded, so this will likely lead to a deadlock.\n",
      "  self.pid = os.fork()\n"
     ]
    },
    {
     "name": "stdout",
     "output_type": "stream",
     "text": [
      "Score: 0.7157551020408163\n",
      "Total time: 61.68605375289917 seconds\n",
      "Currently training, population member 19\n",
      "1017\n"
     ]
    },
    {
     "name": "stderr",
     "output_type": "stream",
     "text": [
      "/opt/conda/lib/python3.10/multiprocessing/popen_fork.py:66: RuntimeWarning: os.fork() was called. os.fork() is incompatible with multithreaded code, and JAX is multithreaded, so this will likely lead to a deadlock.\n",
      "  self.pid = os.fork()\n"
     ]
    },
    {
     "name": "stdout",
     "output_type": "stream",
     "text": [
      "Epoch 0, Average Outcome Loss: 0.7189566426806979, Average Accuracy: 0.4861111111111111, Test AUC: 0.5000, Test Accuracy: 0.3378\n",
      "Epoch 0, Average Outcome Loss: 0.787473221619924, Average Accuracy: 0.5, Test AUC: 0.5000, Test Accuracy: 0.6622\n",
      "Epoch 0, Average Outcome Loss: 0.7130388882425096, Average Accuracy: 0.5208333333333334, Test AUC: 0.5000, Test Accuracy: 0.6622\n",
      "Epoch 0, Average Outcome Loss: 0.8153578241666158, Average Accuracy: 0.5, Test AUC: 0.5000, Test Accuracy: 0.6622\n",
      "Epoch 0, Average Outcome Loss: 0.7363376484976875, Average Accuracy: 0.4791666666666667, Test AUC: 0.5000, Test Accuracy: 0.6622\n",
      "Epoch 100, Average Outcome Loss: 0.705577982796563, Average Accuracy: 0.5, Test AUC: 0.7184, Test Accuracy: 0.3378\n",
      "Epoch 100, Average Outcome Loss: 0.6500788662168715, Average Accuracy: 0.6527777777777778, Test AUC: 0.8033, Test Accuracy: 0.6892\n",
      "Epoch 100, Average Outcome Loss: 0.6945489048957825, Average Accuracy: 0.5, Test AUC: 0.7927, Test Accuracy: 0.6622\n",
      "Epoch 100, Average Outcome Loss: 0.5599919690026177, Average Accuracy: 0.7569444444444444, Test AUC: 0.8359, Test Accuracy: 0.7703\n",
      "Epoch 100, Average Outcome Loss: 0.66698733303282, Average Accuracy: 0.6666666666666666, Test AUC: 0.8278, Test Accuracy: 0.7027\n"
     ]
    },
    {
     "name": "stderr",
     "output_type": "stream",
     "text": [
      "/opt/conda/lib/python3.10/multiprocessing/popen_fork.py:66: RuntimeWarning: os.fork() was called. os.fork() is incompatible with multithreaded code, and JAX is multithreaded, so this will likely lead to a deadlock.\n",
      "  self.pid = os.fork()\n"
     ]
    },
    {
     "name": "stdout",
     "output_type": "stream",
     "text": [
      "Score: 0.830857142857143\n",
      "Total time: 61.53168702125549 seconds\n",
      "Currently training, population member 20\n",
      "983\n"
     ]
    },
    {
     "name": "stderr",
     "output_type": "stream",
     "text": [
      "/opt/conda/lib/python3.10/multiprocessing/popen_fork.py:66: RuntimeWarning: os.fork() was called. os.fork() is incompatible with multithreaded code, and JAX is multithreaded, so this will likely lead to a deadlock.\n",
      "  self.pid = os.fork()\n"
     ]
    },
    {
     "name": "stdout",
     "output_type": "stream",
     "text": [
      "Epoch 0, Average Outcome Loss: 0.7765994668006897, Average Accuracy: 0.5, Test AUC: 0.5000, Test Accuracy: 0.3378\n",
      "Epoch 0, Average Outcome Loss: 0.8318232099215189, Average Accuracy: 0.5, Test AUC: 0.5000, Test Accuracy: 0.3378\n",
      "Epoch 0, Average Outcome Loss: 0.7042351100179884, Average Accuracy: 0.5138888888888888, Test AUC: 0.5000, Test Accuracy: 0.3378\n",
      "Epoch 0, Average Outcome Loss: 0.7045152054892646, Average Accuracy: 0.5, Test AUC: 0.5000, Test Accuracy: 0.6622\n",
      "Epoch 0, Average Outcome Loss: 0.7095710767640008, Average Accuracy: 0.4791666666666667, Test AUC: 0.5000, Test Accuracy: 0.3378\n",
      "Epoch 100, Average Outcome Loss: 0.8174774712986417, Average Accuracy: 0.5, Test AUC: 0.5282, Test Accuracy: 0.6622\n",
      "Epoch 100, Average Outcome Loss: 0.7481794158617655, Average Accuracy: 0.5, Test AUC: 0.5000, Test Accuracy: 0.3378Epoch 100, Average Outcome Loss: 0.6927670372856988, Average Accuracy: 0.5625, Test AUC: 0.7943, Test Accuracy: 0.3378\n",
      "\n",
      "Epoch 100, Average Outcome Loss: 0.6794330610169305, Average Accuracy: 0.625, Test AUC: 0.8114, Test Accuracy: 0.7838\n",
      "Epoch 100, Average Outcome Loss: 0.7165160708957248, Average Accuracy: 0.5, Test AUC: 0.5020, Test Accuracy: 0.3378\n"
     ]
    },
    {
     "name": "stderr",
     "output_type": "stream",
     "text": [
      "/opt/conda/lib/python3.10/multiprocessing/popen_fork.py:66: RuntimeWarning: os.fork() was called. os.fork() is incompatible with multithreaded code, and JAX is multithreaded, so this will likely lead to a deadlock.\n",
      "  self.pid = os.fork()\n"
     ]
    },
    {
     "name": "stdout",
     "output_type": "stream",
     "text": [
      "Score: 0.821877551020408\n",
      "Total time: 60.48323130607605 seconds\n",
      "Currently training, population member 21\n",
      "1012\n"
     ]
    },
    {
     "name": "stderr",
     "output_type": "stream",
     "text": [
      "/opt/conda/lib/python3.10/multiprocessing/popen_fork.py:66: RuntimeWarning: os.fork() was called. os.fork() is incompatible with multithreaded code, and JAX is multithreaded, so this will likely lead to a deadlock.\n",
      "  self.pid = os.fork()\n"
     ]
    },
    {
     "name": "stdout",
     "output_type": "stream",
     "text": [
      "Epoch 0, Average Outcome Loss: 0.7133184009128146, Average Accuracy: 0.4861111111111111, Test AUC: 0.5000, Test Accuracy: 0.6622\n",
      "Epoch 0, Average Outcome Loss: 0.6895735065142313, Average Accuracy: 0.5138888888888888, Test AUC: 0.5000, Test Accuracy: 0.6622\n",
      "Epoch 0, Average Outcome Loss: 1.041772551006741, Average Accuracy: 0.5, Test AUC: 0.5000, Test Accuracy: 0.3378\n",
      "Epoch 0, Average Outcome Loss: 0.956327584054735, Average Accuracy: 0.5, Test AUC: 0.5000, Test Accuracy: 0.3378\n",
      "Epoch 0, Average Outcome Loss: 0.8856421444151137, Average Accuracy: 0.5, Test AUC: 0.5000, Test Accuracy: 0.3378\n",
      "Epoch 100, Average Outcome Loss: 5.217136965857612, Average Accuracy: 0.5, Test AUC: 0.6180, Test Accuracy: 0.6622\n",
      "Epoch 100, Average Outcome Loss: 0.7110468480322096, Average Accuracy: 0.5, Test AUC: 0.5796, Test Accuracy: 0.6622\n",
      "Epoch 100, Average Outcome Loss: 1.0271633797221713, Average Accuracy: 0.5, Test AUC: 0.5878, Test Accuracy: 0.5946\n",
      "Epoch 100, Average Outcome Loss: 0.739927073319753, Average Accuracy: 0.5, Test AUC: 0.5461, Test Accuracy: 0.3378\n",
      "Epoch 100, Average Outcome Loss: 0.6507970690727234, Average Accuracy: 0.6805555555555556, Test AUC: 0.5543, Test Accuracy: 0.3243\n"
     ]
    },
    {
     "name": "stderr",
     "output_type": "stream",
     "text": [
      "/opt/conda/lib/python3.10/multiprocessing/popen_fork.py:66: RuntimeWarning: os.fork() was called. os.fork() is incompatible with multithreaded code, and JAX is multithreaded, so this will likely lead to a deadlock.\n",
      "  self.pid = os.fork()\n"
     ]
    },
    {
     "name": "stdout",
     "output_type": "stream",
     "text": [
      "Score: 0.6444081632653061\n",
      "Total time: 60.87134027481079 seconds\n",
      "Currently training, population member 22\n",
      "1017\n"
     ]
    },
    {
     "name": "stderr",
     "output_type": "stream",
     "text": [
      "/opt/conda/lib/python3.10/multiprocessing/popen_fork.py:66: RuntimeWarning: os.fork() was called. os.fork() is incompatible with multithreaded code, and JAX is multithreaded, so this will likely lead to a deadlock.\n",
      "  self.pid = os.fork()\n"
     ]
    },
    {
     "name": "stdout",
     "output_type": "stream",
     "text": [
      "Epoch 0, Average Outcome Loss: 0.7125824160046048, Average Accuracy: 0.5, Test AUC: 0.5000, Test Accuracy: 0.6622\n",
      "Epoch 0, Average Outcome Loss: 0.6841656963030497, Average Accuracy: 0.5416666666666666, Test AUC: 0.5000, Test Accuracy: 0.3378\n",
      "Epoch 0, Average Outcome Loss: 0.7013074159622192, Average Accuracy: 0.4791666666666667, Test AUC: 0.5000, Test Accuracy: 0.6622\n",
      "Epoch 0, Average Outcome Loss: 0.7268372178077698, Average Accuracy: 0.5277777777777778, Test AUC: 0.5000, Test Accuracy: 0.6622\n",
      "Epoch 0, Average Outcome Loss: 0.7169222633043925, Average Accuracy: 0.5, Test AUC: 0.5000, Test Accuracy: 0.6622\n",
      "Epoch 100, Average Outcome Loss: 0.5917933185895284, Average Accuracy: 0.6666666666666666, Test AUC: 0.7461, Test Accuracy: 0.3784\n",
      "Epoch 100, Average Outcome Loss: 0.9184248977237277, Average Accuracy: 0.5, Test AUC: 0.5298, Test Accuracy: 0.6622\n",
      "Epoch 100, Average Outcome Loss: 0.6495125691095988, Average Accuracy: 0.6875, Test AUC: 0.7502, Test Accuracy: 0.6081\n",
      "Epoch 100, Average Outcome Loss: 0.6724792056613498, Average Accuracy: 0.6805555555555556, Test AUC: 0.7282, Test Accuracy: 0.4459\n",
      "Epoch 100, Average Outcome Loss: 0.6854830119344923, Average Accuracy: 0.6527777777777778, Test AUC: 0.7633, Test Accuracy: 0.4459\n"
     ]
    },
    {
     "name": "stderr",
     "output_type": "stream",
     "text": [
      "/opt/conda/lib/python3.10/multiprocessing/popen_fork.py:66: RuntimeWarning: os.fork() was called. os.fork() is incompatible with multithreaded code, and JAX is multithreaded, so this will likely lead to a deadlock.\n",
      "  self.pid = os.fork()\n"
     ]
    },
    {
     "name": "stdout",
     "output_type": "stream",
     "text": [
      "Score: 0.7746938775510205\n",
      "Total time: 61.02486968040466 seconds\n",
      "Currently training, population member 23\n",
      "1045\n"
     ]
    },
    {
     "name": "stderr",
     "output_type": "stream",
     "text": [
      "/opt/conda/lib/python3.10/multiprocessing/popen_fork.py:66: RuntimeWarning: os.fork() was called. os.fork() is incompatible with multithreaded code, and JAX is multithreaded, so this will likely lead to a deadlock.\n",
      "  self.pid = os.fork()\n"
     ]
    },
    {
     "name": "stdout",
     "output_type": "stream",
     "text": [
      "Epoch 0, Average Outcome Loss: 0.7062161498599582, Average Accuracy: 0.5, Test AUC: 0.5000, Test Accuracy: 0.3378\n",
      "Epoch 0, Average Outcome Loss: 0.7273034983211093, Average Accuracy: 0.5, Test AUC: 0.5000, Test Accuracy: 0.3378\n",
      "Epoch 0, Average Outcome Loss: 0.8713699049419827, Average Accuracy: 0.5, Test AUC: 0.5000, Test Accuracy: 0.6622\n",
      "Epoch 0, Average Outcome Loss: 1.0107708308431838, Average Accuracy: 0.5, Test AUC: 0.5000, Test Accuracy: 0.6622\n",
      "Epoch 0, Average Outcome Loss: 1.0305026637183294, Average Accuracy: 0.5, Test AUC: 0.5000, Test Accuracy: 0.6622\n",
      "Epoch 100, Average Outcome Loss: 0.6977465947469076, Average Accuracy: 0.5, Test AUC: 0.6620, Test Accuracy: 0.6622\n",
      "Epoch 100, Average Outcome Loss: 0.7317832244767083, Average Accuracy: 0.5, Test AUC: 0.5518, Test Accuracy: 0.6622\n",
      "Epoch 100, Average Outcome Loss: 4.148633850945367, Average Accuracy: 0.5, Test AUC: 0.3976, Test Accuracy: 0.3378\n",
      "Epoch 100, Average Outcome Loss: 0.6439508530828688, Average Accuracy: 0.6458333333333334, Test AUC: 0.6694, Test Accuracy: 0.6486\n",
      "Epoch 100, Average Outcome Loss: 0.6884882317648994, Average Accuracy: 0.5, Test AUC: 0.6384, Test Accuracy: 0.3514\n"
     ]
    },
    {
     "name": "stderr",
     "output_type": "stream",
     "text": [
      "/opt/conda/lib/python3.10/multiprocessing/popen_fork.py:66: RuntimeWarning: os.fork() was called. os.fork() is incompatible with multithreaded code, and JAX is multithreaded, so this will likely lead to a deadlock.\n",
      "  self.pid = os.fork()\n"
     ]
    },
    {
     "name": "stdout",
     "output_type": "stream",
     "text": [
      "Score: 0.6989387755102042\n",
      "Total time: 61.543898582458496 seconds\n",
      "Currently training, population member 24\n",
      "992\n"
     ]
    },
    {
     "name": "stderr",
     "output_type": "stream",
     "text": [
      "/opt/conda/lib/python3.10/multiprocessing/popen_fork.py:66: RuntimeWarning: os.fork() was called. os.fork() is incompatible with multithreaded code, and JAX is multithreaded, so this will likely lead to a deadlock.\n",
      "  self.pid = os.fork()\n"
     ]
    },
    {
     "name": "stdout",
     "output_type": "stream",
     "text": [
      "Epoch 0, Average Outcome Loss: 0.6862916813956367, Average Accuracy: 0.5208333333333334, Test AUC: 0.5000, Test Accuracy: 0.3378\n",
      "Epoch 0, Average Outcome Loss: 0.6996492412355211, Average Accuracy: 0.5138888888888888, Test AUC: 0.5000, Test Accuracy: 0.3378\n",
      "Epoch 0, Average Outcome Loss: 0.7159391376707289, Average Accuracy: 0.4861111111111111, Test AUC: 0.5000, Test Accuracy: 0.6622\n",
      "Epoch 0, Average Outcome Loss: 0.911713010734982, Average Accuracy: 0.5, Test AUC: 0.5000, Test Accuracy: 0.6622\n",
      "Epoch 0, Average Outcome Loss: 0.6985301375389099, Average Accuracy: 0.5069444444444444, Test AUC: 0.4971, Test Accuracy: 0.6622\n",
      "Epoch 100, Average Outcome Loss: 0.7168737120098538, Average Accuracy: 0.5, Test AUC: 0.7290, Test Accuracy: 0.6622\n",
      "Epoch 100, Average Outcome Loss: 0.6562105417251587, Average Accuracy: 0.7083333333333334, Test AUC: 0.7518, Test Accuracy: 0.7297\n",
      "Epoch 100, Average Outcome Loss: 0.6896278924412198, Average Accuracy: 0.5, Test AUC: 0.5167, Test Accuracy: 0.3514\n",
      "Epoch 100, Average Outcome Loss: 0.690456920199924, Average Accuracy: 0.5, Test AUC: 0.6898, Test Accuracy: 0.7027\n",
      "Epoch 100, Average Outcome Loss: 0.6933371755811903, Average Accuracy: 0.5, Test AUC: 0.4008, Test Accuracy: 0.3378\n"
     ]
    },
    {
     "name": "stderr",
     "output_type": "stream",
     "text": [
      "/opt/conda/lib/python3.10/multiprocessing/popen_fork.py:66: RuntimeWarning: os.fork() was called. os.fork() is incompatible with multithreaded code, and JAX is multithreaded, so this will likely lead to a deadlock.\n",
      "  self.pid = os.fork()\n"
     ]
    },
    {
     "name": "stdout",
     "output_type": "stream",
     "text": [
      "Score: 0.7578775510204082\n",
      "Total time: 60.23221564292908 seconds\n",
      "Currently training, population member 25\n",
      "1008\n"
     ]
    },
    {
     "name": "stderr",
     "output_type": "stream",
     "text": [
      "/opt/conda/lib/python3.10/multiprocessing/popen_fork.py:66: RuntimeWarning: os.fork() was called. os.fork() is incompatible with multithreaded code, and JAX is multithreaded, so this will likely lead to a deadlock.\n",
      "  self.pid = os.fork()\n"
     ]
    },
    {
     "name": "stdout",
     "output_type": "stream",
     "text": [
      "Epoch 0, Average Outcome Loss: 0.712645431359609, Average Accuracy: 0.5, Test AUC: 0.5000, Test Accuracy: 0.6622\n",
      "Epoch 0, Average Outcome Loss: 0.7686036494043138, Average Accuracy: 0.5, Test AUC: 0.5000, Test Accuracy: 0.3378\n",
      "Epoch 0, Average Outcome Loss: 0.8484381371074252, Average Accuracy: 0.5, Test AUC: 0.5000, Test Accuracy: 0.6622\n",
      "Epoch 0, Average Outcome Loss: 0.7023577888806661, Average Accuracy: 0.4583333333333333, Test AUC: 0.5000, Test Accuracy: 0.6622\n",
      "Epoch 0, Average Outcome Loss: 0.694257398446401, Average Accuracy: 0.4791666666666667, Test AUC: 0.5000, Test Accuracy: 0.3378\n",
      "Epoch 100, Average Outcome Loss: 0.7331655687756009, Average Accuracy: 0.5, Test AUC: 0.6204, Test Accuracy: 0.6622\n",
      "Epoch 100, Average Outcome Loss: 0.7647181020842658, Average Accuracy: 0.5, Test AUC: 0.5967, Test Accuracy: 0.6622\n",
      "Epoch 100, Average Outcome Loss: 0.6985514693790011, Average Accuracy: 0.5, Test AUC: 0.4980, Test Accuracy: 0.3378Epoch 100, Average Outcome Loss: 0.6775258117251926, Average Accuracy: 0.5138888888888888, Test AUC: 0.5829, Test Accuracy: 0.3649\n",
      "\n",
      "Epoch 100, Average Outcome Loss: 0.6945986284150018, Average Accuracy: 0.5, Test AUC: 0.5690, Test Accuracy: 0.6622\n"
     ]
    },
    {
     "name": "stderr",
     "output_type": "stream",
     "text": [
      "/opt/conda/lib/python3.10/multiprocessing/popen_fork.py:66: RuntimeWarning: os.fork() was called. os.fork() is incompatible with multithreaded code, and JAX is multithreaded, so this will likely lead to a deadlock.\n",
      "  self.pid = os.fork()\n"
     ]
    },
    {
     "name": "stdout",
     "output_type": "stream",
     "text": [
      "Score: 0.6488163265306123\n",
      "Total time: 60.868913888931274 seconds\n",
      "Currently training, population member 26\n",
      "1030\n"
     ]
    },
    {
     "name": "stderr",
     "output_type": "stream",
     "text": [
      "/opt/conda/lib/python3.10/multiprocessing/popen_fork.py:66: RuntimeWarning: os.fork() was called. os.fork() is incompatible with multithreaded code, and JAX is multithreaded, so this will likely lead to a deadlock.\n",
      "  self.pid = os.fork()\n"
     ]
    },
    {
     "name": "stdout",
     "output_type": "stream",
     "text": [
      "Epoch 0, Average Outcome Loss: 0.7954959405793084, Average Accuracy: 0.5, Test AUC: 0.5000, Test Accuracy: 0.6622\n",
      "Epoch 0, Average Outcome Loss: 0.7225262191560533, Average Accuracy: 0.4027777777777778, Test AUC: 0.5000, Test Accuracy: 0.3378\n",
      "Epoch 0, Average Outcome Loss: 0.7007697953118218, Average Accuracy: 0.5, Test AUC: 0.5000, Test Accuracy: 0.3378\n",
      "Epoch 0, Average Outcome Loss: 0.7161701387829251, Average Accuracy: 0.5, Test AUC: 0.5000, Test Accuracy: 0.6622\n",
      "Epoch 0, Average Outcome Loss: 0.8727442423502604, Average Accuracy: 0.5, Test AUC: 0.5000, Test Accuracy: 0.3378\n",
      "Epoch 100, Average Outcome Loss: 0.6869204640388489, Average Accuracy: 0.5763888888888888, Test AUC: 0.7649, Test Accuracy: 0.3919\n",
      "Epoch 100, Average Outcome Loss: 0.9454929961098565, Average Accuracy: 0.5, Test AUC: 0.3624, Test Accuracy: 0.4189\n",
      "Epoch 100, Average Outcome Loss: 0.6380064884821574, Average Accuracy: 0.5694444444444444, Test AUC: 0.7641, Test Accuracy: 0.7297\n",
      "Epoch 100, Average Outcome Loss: 0.797642707824707, Average Accuracy: 0.5, Test AUC: 0.5159, Test Accuracy: 0.3378\n",
      "Epoch 100, Average Outcome Loss: 0.6341418491469489, Average Accuracy: 0.6111111111111112, Test AUC: 0.7584, Test Accuracy: 0.6892\n"
     ]
    },
    {
     "name": "stderr",
     "output_type": "stream",
     "text": [
      "/opt/conda/lib/python3.10/multiprocessing/popen_fork.py:66: RuntimeWarning: os.fork() was called. os.fork() is incompatible with multithreaded code, and JAX is multithreaded, so this will likely lead to a deadlock.\n",
      "  self.pid = os.fork()\n"
     ]
    },
    {
     "name": "stdout",
     "output_type": "stream",
     "text": [
      "Score: 0.7805714285714286\n",
      "Total time: 60.57327485084534 seconds\n",
      "Currently training, population member 27\n",
      "1002\n"
     ]
    },
    {
     "name": "stderr",
     "output_type": "stream",
     "text": [
      "/opt/conda/lib/python3.10/multiprocessing/popen_fork.py:66: RuntimeWarning: os.fork() was called. os.fork() is incompatible with multithreaded code, and JAX is multithreaded, so this will likely lead to a deadlock.\n",
      "  self.pid = os.fork()\n"
     ]
    },
    {
     "name": "stdout",
     "output_type": "stream",
     "text": [
      "Epoch 0, Average Outcome Loss: 0.707703583770328, Average Accuracy: 0.4652777777777778, Test AUC: 0.5000, Test Accuracy: 0.6622\n",
      "Epoch 0, Average Outcome Loss: 0.703611261314816, Average Accuracy: 0.5, Test AUC: 0.5000, Test Accuracy: 0.3378\n",
      "Epoch 0, Average Outcome Loss: 0.7017409404118856, Average Accuracy: 0.5, Test AUC: 0.5000, Test Accuracy: 0.3378\n",
      "Epoch 0, Average Outcome Loss: 0.756216287612915, Average Accuracy: 0.5, Test AUC: 0.5000, Test Accuracy: 0.6622\n",
      "Epoch 0, Average Outcome Loss: 0.7237517502572801, Average Accuracy: 0.4583333333333333, Test AUC: 0.5000, Test Accuracy: 0.6622\n",
      "Epoch 100, Average Outcome Loss: 1.9622848563724093, Average Accuracy: 0.5, Test AUC: 0.7176, Test Accuracy: 0.4054\n",
      "Epoch 100, Average Outcome Loss: 0.6963341567251418, Average Accuracy: 0.5, Test AUC: 0.4278, Test Accuracy: 0.3378\n",
      "Epoch 100, Average Outcome Loss: 0.7167102893193563, Average Accuracy: 0.5, Test AUC: 0.7282, Test Accuracy: 0.6622\n",
      "Epoch 100, Average Outcome Loss: 0.6431093215942383, Average Accuracy: 0.6527777777777778, Test AUC: 0.7216, Test Accuracy: 0.7162\n",
      "Epoch 100, Average Outcome Loss: 0.6569809317588806, Average Accuracy: 0.6319444444444444, Test AUC: 0.7298, Test Accuracy: 0.4730\n"
     ]
    },
    {
     "name": "stderr",
     "output_type": "stream",
     "text": [
      "/opt/conda/lib/python3.10/multiprocessing/popen_fork.py:66: RuntimeWarning: os.fork() was called. os.fork() is incompatible with multithreaded code, and JAX is multithreaded, so this will likely lead to a deadlock.\n",
      "  self.pid = os.fork()\n"
     ]
    },
    {
     "name": "stdout",
     "output_type": "stream",
     "text": [
      "Score: 0.7371428571428571\n",
      "Total time: 60.60493493080139 seconds\n",
      "Currently training, population member 28\n",
      "1064\n"
     ]
    },
    {
     "name": "stderr",
     "output_type": "stream",
     "text": [
      "/opt/conda/lib/python3.10/multiprocessing/popen_fork.py:66: RuntimeWarning: os.fork() was called. os.fork() is incompatible with multithreaded code, and JAX is multithreaded, so this will likely lead to a deadlock.\n",
      "  self.pid = os.fork()\n"
     ]
    },
    {
     "name": "stdout",
     "output_type": "stream",
     "text": [
      "Epoch 0, Average Outcome Loss: 0.733868764506446, Average Accuracy: 0.5, Test AUC: 0.5000, Test Accuracy: 0.3378\n",
      "Epoch 0, Average Outcome Loss: 0.7014395462142097, Average Accuracy: 0.3888888888888889, Test AUC: 0.5000, Test Accuracy: 0.3378\n",
      "Epoch 0, Average Outcome Loss: 0.7678147554397583, Average Accuracy: 0.5, Test AUC: 0.5000, Test Accuracy: 0.6622\n",
      "Epoch 0, Average Outcome Loss: 0.7129848599433899, Average Accuracy: 0.5138888888888888, Test AUC: 0.5000, Test Accuracy: 0.3378\n",
      "Epoch 0, Average Outcome Loss: 0.8373888929684957, Average Accuracy: 0.5, Test AUC: 0.5000, Test Accuracy: 0.6622\n",
      "Epoch 100, Average Outcome Loss: 0.6927348375320435, Average Accuracy: 0.5347222222222222, Test AUC: 0.6057, Test Accuracy: 0.6622\n",
      "Epoch 100, Average Outcome Loss: 0.7130486832724677, Average Accuracy: 0.5, Test AUC: 0.7649, Test Accuracy: 0.3378\n",
      "Epoch 100, Average Outcome Loss: 0.6889881292978922, Average Accuracy: 0.5, Test AUC: 0.5641, Test Accuracy: 0.3378\n",
      "Epoch 100, Average Outcome Loss: 0.6121072570482889, Average Accuracy: 0.6458333333333334, Test AUC: 0.7298, Test Accuracy: 0.7027\n",
      "Epoch 100, Average Outcome Loss: 0.6735391947958205, Average Accuracy: 0.5069444444444444, Test AUC: 0.7665, Test Accuracy: 0.7703\n"
     ]
    },
    {
     "name": "stderr",
     "output_type": "stream",
     "text": [
      "/opt/conda/lib/python3.10/multiprocessing/popen_fork.py:66: RuntimeWarning: os.fork() was called. os.fork() is incompatible with multithreaded code, and JAX is multithreaded, so this will likely lead to a deadlock.\n",
      "  self.pid = os.fork()\n"
     ]
    },
    {
     "name": "stdout",
     "output_type": "stream",
     "text": [
      "Score: 0.7709387755102041\n",
      "Total time: 61.29088115692139 seconds\n",
      "Currently training, population member 29\n",
      "1043\n"
     ]
    },
    {
     "name": "stderr",
     "output_type": "stream",
     "text": [
      "/opt/conda/lib/python3.10/multiprocessing/popen_fork.py:66: RuntimeWarning: os.fork() was called. os.fork() is incompatible with multithreaded code, and JAX is multithreaded, so this will likely lead to a deadlock.\n",
      "  self.pid = os.fork()\n"
     ]
    },
    {
     "name": "stdout",
     "output_type": "stream",
     "text": [
      "Epoch 0, Average Outcome Loss: 0.7541423837343851, Average Accuracy: 0.5, Test AUC: 0.5000, Test Accuracy: 0.6622\n",
      "Epoch 0, Average Outcome Loss: 0.7060340046882629, Average Accuracy: 0.5069444444444444, Test AUC: 0.5000, Test Accuracy: 0.6622\n",
      "Epoch 0, Average Outcome Loss: 0.8649344311820136, Average Accuracy: 0.5, Test AUC: 0.5000, Test Accuracy: 0.6622\n",
      "Epoch 0, Average Outcome Loss: 0.696127818690406, Average Accuracy: 0.5208333333333334, Test AUC: 0.5000, Test Accuracy: 0.6622\n",
      "Epoch 0, Average Outcome Loss: 0.7201585372289022, Average Accuracy: 0.5, Test AUC: 0.5000, Test Accuracy: 0.3378\n",
      "Epoch 100, Average Outcome Loss: 0.7934134867456224, Average Accuracy: 0.5347222222222222, Test AUC: 0.7976, Test Accuracy: 0.6351\n",
      "Epoch 100, Average Outcome Loss: 0.6645798418256972, Average Accuracy: 0.5902777777777778, Test AUC: 0.7673, Test Accuracy: 0.4054\n",
      "Epoch 100, Average Outcome Loss: 0.6728307406107584, Average Accuracy: 0.5625, Test AUC: 0.7535, Test Accuracy: 0.4054\n",
      "Epoch 100, Average Outcome Loss: 2.3774352603488498, Average Accuracy: 0.5, Test AUC: 0.2588, Test Accuracy: 0.6622\n",
      "Epoch 100, Average Outcome Loss: 1.838476790322198, Average Accuracy: 0.5, Test AUC: 0.5731, Test Accuracy: 0.6622\n"
     ]
    },
    {
     "name": "stderr",
     "output_type": "stream",
     "text": [
      "/opt/conda/lib/python3.10/multiprocessing/popen_fork.py:66: RuntimeWarning: os.fork() was called. os.fork() is incompatible with multithreaded code, and JAX is multithreaded, so this will likely lead to a deadlock.\n",
      "  self.pid = os.fork()\n"
     ]
    },
    {
     "name": "stdout",
     "output_type": "stream",
     "text": [
      "Score: 0.7978775510204082\n",
      "Total time: 60.9622220993042 seconds\n",
      "Currently training, population member 30\n",
      "1042\n"
     ]
    },
    {
     "name": "stderr",
     "output_type": "stream",
     "text": [
      "/opt/conda/lib/python3.10/multiprocessing/popen_fork.py:66: RuntimeWarning: os.fork() was called. os.fork() is incompatible with multithreaded code, and JAX is multithreaded, so this will likely lead to a deadlock.\n",
      "  self.pid = os.fork()\n"
     ]
    },
    {
     "name": "stdout",
     "output_type": "stream",
     "text": [
      "Epoch 0, Average Outcome Loss: 0.8078966869248284, Average Accuracy: 0.5, Test AUC: 0.5000, Test Accuracy: 0.6622\n",
      "Epoch 0, Average Outcome Loss: 0.8773799737294515, Average Accuracy: 0.5, Test AUC: 0.5000, Test Accuracy: 0.6622\n",
      "Epoch 0, Average Outcome Loss: 0.7219974597295126, Average Accuracy: 0.5, Test AUC: 0.5000, Test Accuracy: 0.3378\n",
      "Epoch 0, Average Outcome Loss: 0.7236799399058024, Average Accuracy: 0.5, Test AUC: 0.5000, Test Accuracy: 0.6622\n",
      "Epoch 0, Average Outcome Loss: 0.7303242882092794, Average Accuracy: 0.5069444444444444, Test AUC: 0.5000, Test Accuracy: 0.3378\n",
      "Epoch 100, Average Outcome Loss: 0.6853369341956245, Average Accuracy: 0.5138888888888888, Test AUC: 0.6343, Test Accuracy: 0.4189\n",
      "Epoch 100, Average Outcome Loss: 0.6973411507076688, Average Accuracy: 0.5, Test AUC: 0.6735, Test Accuracy: 0.6622\n",
      "Epoch 100, Average Outcome Loss: 2.7809291150834827, Average Accuracy: 0.5, Test AUC: 0.4122, Test Accuracy: 0.3378\n",
      "Epoch 100, Average Outcome Loss: 0.7464008728663126, Average Accuracy: 0.5, Test AUC: 0.7298, Test Accuracy: 0.3514\n",
      "Epoch 100, Average Outcome Loss: 0.7181822458902994, Average Accuracy: 0.5, Test AUC: 0.6694, Test Accuracy: 0.3378\n"
     ]
    },
    {
     "name": "stderr",
     "output_type": "stream",
     "text": [
      "/opt/conda/lib/python3.10/multiprocessing/popen_fork.py:66: RuntimeWarning: os.fork() was called. os.fork() is incompatible with multithreaded code, and JAX is multithreaded, so this will likely lead to a deadlock.\n",
      "  self.pid = os.fork()\n"
     ]
    },
    {
     "name": "stdout",
     "output_type": "stream",
     "text": [
      "Score: 0.7575510204081632\n",
      "Total time: 60.67176818847656 seconds\n",
      "Currently training, population member 31\n",
      "1067\n"
     ]
    },
    {
     "name": "stderr",
     "output_type": "stream",
     "text": [
      "/opt/conda/lib/python3.10/multiprocessing/popen_fork.py:66: RuntimeWarning: os.fork() was called. os.fork() is incompatible with multithreaded code, and JAX is multithreaded, so this will likely lead to a deadlock.\n",
      "  self.pid = os.fork()\n"
     ]
    },
    {
     "name": "stdout",
     "output_type": "stream",
     "text": [
      "Epoch 0, Average Outcome Loss: 0.706586394045088, Average Accuracy: 0.4861111111111111, Test AUC: 0.5000, Test Accuracy: 0.6622\n",
      "Epoch 0, Average Outcome Loss: 0.707522796259986, Average Accuracy: 0.4444444444444444, Test AUC: 0.6269, Test Accuracy: 0.3378\n",
      "Epoch 0, Average Outcome Loss: 0.7350931697421603, Average Accuracy: 0.5, Test AUC: 0.5000, Test Accuracy: 0.3378\n",
      "Epoch 0, Average Outcome Loss: 0.7118166022830539, Average Accuracy: 0.5208333333333334, Test AUC: 0.5000, Test Accuracy: 0.3378\n",
      "Epoch 0, Average Outcome Loss: 0.7013949553171793, Average Accuracy: 0.4791666666666667, Test AUC: 0.5000, Test Accuracy: 0.3378\n",
      "Epoch 100, Average Outcome Loss: 2.22198314136929, Average Accuracy: 0.5, Test AUC: 0.5567, Test Accuracy: 0.3378\n",
      "Epoch 100, Average Outcome Loss: 0.7486111521720886, Average Accuracy: 0.5, Test AUC: 0.5404, Test Accuracy: 0.6622\n",
      "Epoch 100, Average Outcome Loss: 0.739621082941691, Average Accuracy: 0.5, Test AUC: 0.6539, Test Accuracy: 0.5405\n",
      "Epoch 100, Average Outcome Loss: 0.7373670008447435, Average Accuracy: 0.5, Test AUC: 0.5943, Test Accuracy: 0.6622\n",
      "Epoch 100, Average Outcome Loss: 2.275161955091688, Average Accuracy: 0.5, Test AUC: 0.4661, Test Accuracy: 0.3378\n"
     ]
    },
    {
     "name": "stderr",
     "output_type": "stream",
     "text": [
      "/opt/conda/lib/python3.10/multiprocessing/popen_fork.py:66: RuntimeWarning: os.fork() was called. os.fork() is incompatible with multithreaded code, and JAX is multithreaded, so this will likely lead to a deadlock.\n",
      "  self.pid = os.fork()\n"
     ]
    },
    {
     "name": "stdout",
     "output_type": "stream",
     "text": [
      "Score: 0.665469387755102\n",
      "Total time: 62.12032890319824 seconds\n",
      "Currently training, population member 32\n",
      "1065\n"
     ]
    },
    {
     "name": "stderr",
     "output_type": "stream",
     "text": [
      "/opt/conda/lib/python3.10/multiprocessing/popen_fork.py:66: RuntimeWarning: os.fork() was called. os.fork() is incompatible with multithreaded code, and JAX is multithreaded, so this will likely lead to a deadlock.\n",
      "  self.pid = os.fork()\n"
     ]
    },
    {
     "name": "stdout",
     "output_type": "stream",
     "text": [
      "Epoch 0, Average Outcome Loss: 0.7052960130903456, Average Accuracy: 0.5208333333333334, Test AUC: 0.5000, Test Accuracy: 0.6622\n",
      "Epoch 0, Average Outcome Loss: 0.7135888404316373, Average Accuracy: 0.5, Test AUC: 0.5000, Test Accuracy: 0.3378\n",
      "Epoch 0, Average Outcome Loss: 0.6826168629858229, Average Accuracy: 0.5694444444444444, Test AUC: 0.5000, Test Accuracy: 0.3378\n",
      "Epoch 0, Average Outcome Loss: 0.7056896487871805, Average Accuracy: 0.4722222222222222, Test AUC: 0.5000, Test Accuracy: 0.6622\n",
      "Epoch 0, Average Outcome Loss: 0.8284618920750089, Average Accuracy: 0.5, Test AUC: 0.5000, Test Accuracy: 0.3378\n",
      "Epoch 100, Average Outcome Loss: 0.6462772488594055, Average Accuracy: 0.6458333333333334, Test AUC: 0.6980, Test Accuracy: 0.3378\n",
      "Epoch 100, Average Outcome Loss: 0.7120928963025411, Average Accuracy: 0.5416666666666666, Test AUC: 0.8131, Test Accuracy: 0.6486\n",
      "Epoch 100, Average Outcome Loss: 0.6810687647925483, Average Accuracy: 0.6319444444444444, Test AUC: 0.8212, Test Accuracy: 0.6892\n",
      "Epoch 100, Average Outcome Loss: 0.7585644125938416, Average Accuracy: 0.5, Test AUC: 0.5347, Test Accuracy: 0.6622\n",
      "Epoch 100, Average Outcome Loss: 0.6228867438104417, Average Accuracy: 0.7083333333333334, Test AUC: 0.8073, Test Accuracy: 0.6892\n"
     ]
    },
    {
     "name": "stderr",
     "output_type": "stream",
     "text": [
      "/opt/conda/lib/python3.10/multiprocessing/popen_fork.py:66: RuntimeWarning: os.fork() was called. os.fork() is incompatible with multithreaded code, and JAX is multithreaded, so this will likely lead to a deadlock.\n",
      "  self.pid = os.fork()\n"
     ]
    },
    {
     "name": "stdout",
     "output_type": "stream",
     "text": [
      "Score: 0.8429387755102041\n",
      "Total time: 61.89115262031555 seconds\n",
      "Currently training, population member 33\n",
      "1038\n"
     ]
    },
    {
     "name": "stderr",
     "output_type": "stream",
     "text": [
      "/opt/conda/lib/python3.10/multiprocessing/popen_fork.py:66: RuntimeWarning: os.fork() was called. os.fork() is incompatible with multithreaded code, and JAX is multithreaded, so this will likely lead to a deadlock.\n",
      "  self.pid = os.fork()\n"
     ]
    },
    {
     "name": "stdout",
     "output_type": "stream",
     "text": [
      "Epoch 0, Average Outcome Loss: 0.7292537622981601, Average Accuracy: 0.5, Test AUC: 0.5000, Test Accuracy: 0.6622\n",
      "Epoch 0, Average Outcome Loss: 0.9568409985966153, Average Accuracy: 0.5, Test AUC: 0.5000, Test Accuracy: 0.3378\n",
      "Epoch 0, Average Outcome Loss: 0.7494765652550591, Average Accuracy: 0.5, Test AUC: 0.5000, Test Accuracy: 0.6622\n",
      "Epoch 0, Average Outcome Loss: 0.6896214418941073, Average Accuracy: 0.5, Test AUC: 0.5000, Test Accuracy: 0.6622\n",
      "Epoch 0, Average Outcome Loss: 0.7071782747904459, Average Accuracy: 0.4791666666666667, Test AUC: 0.5000, Test Accuracy: 0.3378\n",
      "Epoch 100, Average Outcome Loss: 0.7722781366772122, Average Accuracy: 0.5, Test AUC: 0.6645, Test Accuracy: 0.6351\n",
      "Epoch 100, Average Outcome Loss: 0.6746220721138848, Average Accuracy: 0.5902777777777778, Test AUC: 0.6302, Test Accuracy: 0.6892\n",
      "Epoch 100, Average Outcome Loss: 0.7232328123516507, Average Accuracy: 0.5, Test AUC: 0.4073, Test Accuracy: 0.3378\n",
      "Epoch 100, Average Outcome Loss: 1.6299892001681857, Average Accuracy: 0.5, Test AUC: 0.3788, Test Accuracy: 0.3378\n",
      "Epoch 100, Average Outcome Loss: 0.7040588392151726, Average Accuracy: 0.5, Test AUC: 0.5796, Test Accuracy: 0.6622\n"
     ]
    },
    {
     "name": "stderr",
     "output_type": "stream",
     "text": [
      "/opt/conda/lib/python3.10/multiprocessing/popen_fork.py:66: RuntimeWarning: os.fork() was called. os.fork() is incompatible with multithreaded code, and JAX is multithreaded, so this will likely lead to a deadlock.\n",
      "  self.pid = os.fork()\n"
     ]
    },
    {
     "name": "stdout",
     "output_type": "stream",
     "text": [
      "Score: 0.6746122448979592\n",
      "Total time: 61.34717082977295 seconds\n",
      "Currently training, population member 34\n",
      "1059\n"
     ]
    },
    {
     "name": "stderr",
     "output_type": "stream",
     "text": [
      "/opt/conda/lib/python3.10/multiprocessing/popen_fork.py:66: RuntimeWarning: os.fork() was called. os.fork() is incompatible with multithreaded code, and JAX is multithreaded, so this will likely lead to a deadlock.\n",
      "  self.pid = os.fork()\n"
     ]
    },
    {
     "name": "stdout",
     "output_type": "stream",
     "text": [
      "Epoch 0, Average Outcome Loss: 0.7352976004282633, Average Accuracy: 0.5, Test AUC: 0.5000, Test Accuracy: 0.3378\n",
      "Epoch 0, Average Outcome Loss: 1.070087154706319, Average Accuracy: 0.5, Test AUC: 0.5000, Test Accuracy: 0.6622\n",
      "Epoch 0, Average Outcome Loss: 0.7359262108802795, Average Accuracy: 0.5, Test AUC: 0.5000, Test Accuracy: 0.6622\n",
      "Epoch 0, Average Outcome Loss: 0.6960980229907565, Average Accuracy: 0.5208333333333334, Test AUC: 0.5000, Test Accuracy: 0.3378\n",
      "Epoch 0, Average Outcome Loss: 0.8612260752254062, Average Accuracy: 0.5, Test AUC: 0.5000, Test Accuracy: 0.6622\n",
      "Epoch 100, Average Outcome Loss: 0.709098670217726, Average Accuracy: 0.5, Test AUC: 0.3208, Test Accuracy: 0.3378\n",
      "Epoch 100, Average Outcome Loss: 0.6866811116536459, Average Accuracy: 0.5138888888888888, Test AUC: 0.6359, Test Accuracy: 0.6622\n",
      "Epoch 100, Average Outcome Loss: 0.7120922406514486, Average Accuracy: 0.5, Test AUC: 0.4849, Test Accuracy: 0.3378\n",
      "Epoch 100, Average Outcome Loss: 0.707763499683804, Average Accuracy: 0.5, Test AUC: 0.3567, Test Accuracy: 0.3378\n",
      "Epoch 100, Average Outcome Loss: 1.8727396991517808, Average Accuracy: 0.5, Test AUC: 0.6637, Test Accuracy: 0.6622\n"
     ]
    },
    {
     "name": "stderr",
     "output_type": "stream",
     "text": [
      "/opt/conda/lib/python3.10/multiprocessing/popen_fork.py:66: RuntimeWarning: os.fork() was called. os.fork() is incompatible with multithreaded code, and JAX is multithreaded, so this will likely lead to a deadlock.\n",
      "  self.pid = os.fork()\n"
     ]
    },
    {
     "name": "stdout",
     "output_type": "stream",
     "text": [
      "Score: 0.7013877551020409\n",
      "Total time: 61.51388192176819 seconds\n",
      "Currently training, population member 35\n",
      "1059\n"
     ]
    },
    {
     "name": "stderr",
     "output_type": "stream",
     "text": [
      "/opt/conda/lib/python3.10/multiprocessing/popen_fork.py:66: RuntimeWarning: os.fork() was called. os.fork() is incompatible with multithreaded code, and JAX is multithreaded, so this will likely lead to a deadlock.\n",
      "  self.pid = os.fork()\n"
     ]
    },
    {
     "name": "stdout",
     "output_type": "stream",
     "text": [
      "Epoch 0, Average Outcome Loss: 0.9787791702482436, Average Accuracy: 0.5, Test AUC: 0.5000, Test Accuracy: 0.3378\n",
      "Epoch 0, Average Outcome Loss: 0.7144322726461623, Average Accuracy: 0.4513888888888889, Test AUC: 0.5000, Test Accuracy: 0.6622\n",
      "Epoch 0, Average Outcome Loss: 0.8153002593252394, Average Accuracy: 0.5, Test AUC: 0.5000, Test Accuracy: 0.6622\n",
      "Epoch 0, Average Outcome Loss: 0.6848935352431403, Average Accuracy: 0.5347222222222222, Test AUC: 0.5000, Test Accuracy: 0.3378\n",
      "Epoch 0, Average Outcome Loss: 0.6981671849886576, Average Accuracy: 0.5138888888888888, Test AUC: 0.5000, Test Accuracy: 0.3378\n",
      "Epoch 100, Average Outcome Loss: 0.6240067614449395, Average Accuracy: 0.625, Test AUC: 0.7192, Test Accuracy: 0.5270\n",
      "Epoch 100, Average Outcome Loss: 0.6453593174616495, Average Accuracy: 0.5555555555555556, Test AUC: 0.7437, Test Accuracy: 0.4595\n",
      "Epoch 100, Average Outcome Loss: 2.8530198203192816, Average Accuracy: 0.5, Test AUC: 0.2873, Test Accuracy: 0.6486\n",
      "Epoch 100, Average Outcome Loss: 0.6906557944085863, Average Accuracy: 0.5, Test AUC: 0.7216, Test Accuracy: 0.6622\n",
      "Epoch 100, Average Outcome Loss: 0.7788423829608493, Average Accuracy: 0.5, Test AUC: 0.5127, Test Accuracy: 0.3378\n"
     ]
    },
    {
     "name": "stderr",
     "output_type": "stream",
     "text": [
      "/opt/conda/lib/python3.10/multiprocessing/popen_fork.py:66: RuntimeWarning: os.fork() was called. os.fork() is incompatible with multithreaded code, and JAX is multithreaded, so this will likely lead to a deadlock.\n",
      "  self.pid = os.fork()\n"
     ]
    },
    {
     "name": "stdout",
     "output_type": "stream",
     "text": [
      "Score: 0.7475918367346939\n",
      "Total time: 61.66797876358032 seconds\n",
      "Currently training, population member 36\n",
      "1040\n"
     ]
    },
    {
     "name": "stderr",
     "output_type": "stream",
     "text": [
      "/opt/conda/lib/python3.10/multiprocessing/popen_fork.py:66: RuntimeWarning: os.fork() was called. os.fork() is incompatible with multithreaded code, and JAX is multithreaded, so this will likely lead to a deadlock.\n",
      "  self.pid = os.fork()\n"
     ]
    },
    {
     "name": "stdout",
     "output_type": "stream",
     "text": [
      "Epoch 0, Average Outcome Loss: 0.6843106150627136, Average Accuracy: 0.5763888888888888, Test AUC: 0.5000, Test Accuracy: 0.6622\n",
      "Epoch 0, Average Outcome Loss: 0.6908456616931491, Average Accuracy: 0.5, Test AUC: 0.5000, Test Accuracy: 0.6622\n",
      "Epoch 0, Average Outcome Loss: 0.8855415185292562, Average Accuracy: 0.5, Test AUC: 0.6122, Test Accuracy: 0.6622\n",
      "Epoch 0, Average Outcome Loss: 0.868163353867001, Average Accuracy: 0.5, Test AUC: 0.5000, Test Accuracy: 0.3378\n",
      "Epoch 0, Average Outcome Loss: 0.7703774770100912, Average Accuracy: 0.5, Test AUC: 0.5000, Test Accuracy: 0.6622\n",
      "Epoch 100, Average Outcome Loss: 8.992815865410698, Average Accuracy: 0.5, Test AUC: 0.4988, Test Accuracy: 0.6622\n",
      "Epoch 100, Average Outcome Loss: 0.6876044207149081, Average Accuracy: 0.6180555555555556, Test AUC: 0.7143, Test Accuracy: 0.5135\n",
      "Epoch 100, Average Outcome Loss: 0.7754813498920865, Average Accuracy: 0.5, Test AUC: 0.4522, Test Accuracy: 0.3378\n",
      "Epoch 100, Average Outcome Loss: 0.6825973325305514, Average Accuracy: 0.6527777777777778, Test AUC: 0.7347, Test Accuracy: 0.6622\n",
      "Epoch 100, Average Outcome Loss: 0.5574747953150008, Average Accuracy: 0.6527777777777778, Test AUC: 0.7380, Test Accuracy: 0.6081\n"
     ]
    },
    {
     "name": "stderr",
     "output_type": "stream",
     "text": [
      "/opt/conda/lib/python3.10/multiprocessing/popen_fork.py:66: RuntimeWarning: os.fork() was called. os.fork() is incompatible with multithreaded code, and JAX is multithreaded, so this will likely lead to a deadlock.\n",
      "  self.pid = os.fork()\n"
     ]
    },
    {
     "name": "stdout",
     "output_type": "stream",
     "text": [
      "Score: 0.7701224489795919\n",
      "Total time: 60.81873178482056 seconds\n",
      "Currently training, population member 37\n",
      "1026\n"
     ]
    },
    {
     "name": "stderr",
     "output_type": "stream",
     "text": [
      "/opt/conda/lib/python3.10/multiprocessing/popen_fork.py:66: RuntimeWarning: os.fork() was called. os.fork() is incompatible with multithreaded code, and JAX is multithreaded, so this will likely lead to a deadlock.\n",
      "  self.pid = os.fork()\n"
     ]
    },
    {
     "name": "stdout",
     "output_type": "stream",
     "text": [
      "Epoch 0, Average Outcome Loss: 0.7209243575731913, Average Accuracy: 0.5, Test AUC: 0.5000, Test Accuracy: 0.3378\n",
      "Epoch 0, Average Outcome Loss: 0.7534994350539314, Average Accuracy: 0.5, Test AUC: 0.5000, Test Accuracy: 0.6622\n",
      "Epoch 0, Average Outcome Loss: 0.6974959241019355, Average Accuracy: 0.4375, Test AUC: 0.5000, Test Accuracy: 0.3378\n",
      "Epoch 0, Average Outcome Loss: 0.7340174582269456, Average Accuracy: 0.5, Test AUC: 0.5000, Test Accuracy: 0.6622\n",
      "Epoch 0, Average Outcome Loss: 0.9488859905136956, Average Accuracy: 0.5, Test AUC: 0.5000, Test Accuracy: 0.6622\n",
      "Epoch 100, Average Outcome Loss: 0.7601500153541565, Average Accuracy: 0.5, Test AUC: 0.5633, Test Accuracy: 0.3919\n",
      "Epoch 100, Average Outcome Loss: 0.7828120059437222, Average Accuracy: 0.5, Test AUC: 0.4318, Test Accuracy: 0.3378\n",
      "Epoch 100, Average Outcome Loss: 0.6986965934435526, Average Accuracy: 0.5, Test AUC: 0.7143, Test Accuracy: 0.6622\n",
      "Epoch 100, Average Outcome Loss: 0.6983738409148322, Average Accuracy: 0.5, Test AUC: 0.6857, Test Accuracy: 0.6622\n",
      "Epoch 100, Average Outcome Loss: 0.7545336617363824, Average Accuracy: 0.5, Test AUC: 0.6841, Test Accuracy: 0.3378\n"
     ]
    },
    {
     "name": "stderr",
     "output_type": "stream",
     "text": [
      "/opt/conda/lib/python3.10/multiprocessing/popen_fork.py:66: RuntimeWarning: os.fork() was called. os.fork() is incompatible with multithreaded code, and JAX is multithreaded, so this will likely lead to a deadlock.\n",
      "  self.pid = os.fork()\n"
     ]
    },
    {
     "name": "stdout",
     "output_type": "stream",
     "text": [
      "Score: 0.7531428571428572\n",
      "Total time: 60.81987524032593 seconds\n",
      "Currently training, population member 38\n",
      "1009\n"
     ]
    },
    {
     "name": "stderr",
     "output_type": "stream",
     "text": [
      "/opt/conda/lib/python3.10/multiprocessing/popen_fork.py:66: RuntimeWarning: os.fork() was called. os.fork() is incompatible with multithreaded code, and JAX is multithreaded, so this will likely lead to a deadlock.\n",
      "  self.pid = os.fork()\n"
     ]
    },
    {
     "name": "stdout",
     "output_type": "stream",
     "text": [
      "Epoch 0, Average Outcome Loss: 0.8065864443778992, Average Accuracy: 0.5, Test AUC: 0.5000, Test Accuracy: 0.3378\n",
      "Epoch 0, Average Outcome Loss: 0.7015876240200467, Average Accuracy: 0.5208333333333334, Test AUC: 0.5000, Test Accuracy: 0.3378\n",
      "Epoch 0, Average Outcome Loss: 0.6926973991923862, Average Accuracy: 0.4652777777777778, Test AUC: 0.5000, Test Accuracy: 0.6622\n",
      "Epoch 0, Average Outcome Loss: 0.7000146441989474, Average Accuracy: 0.4930555555555556, Test AUC: 0.5000, Test Accuracy: 0.3378\n",
      "Epoch 0, Average Outcome Loss: 0.6857736574278938, Average Accuracy: 0.5694444444444444, Test AUC: 0.6678, Test Accuracy: 0.6622\n",
      "Epoch 100, Average Outcome Loss: 1.1164914634492662, Average Accuracy: 0.5, Test AUC: 0.4571, Test Accuracy: 0.3378\n",
      "Epoch 100, Average Outcome Loss: 2.5427550739712186, Average Accuracy: 0.5, Test AUC: 0.5000, Test Accuracy: 0.3378\n",
      "Epoch 100, Average Outcome Loss: 0.6827049785190158, Average Accuracy: 0.6875, Test AUC: 0.7127, Test Accuracy: 0.6892\n",
      "Epoch 100, Average Outcome Loss: 0.9209877120123969, Average Accuracy: 0.5, Test AUC: 0.6310, Test Accuracy: 0.6622\n",
      "Epoch 100, Average Outcome Loss: 0.6882980333434211, Average Accuracy: 0.5, Test AUC: 0.7241, Test Accuracy: 0.3378\n"
     ]
    },
    {
     "name": "stderr",
     "output_type": "stream",
     "text": [
      "/opt/conda/lib/python3.10/multiprocessing/popen_fork.py:66: RuntimeWarning: os.fork() was called. os.fork() is incompatible with multithreaded code, and JAX is multithreaded, so this will likely lead to a deadlock.\n",
      "  self.pid = os.fork()\n"
     ]
    },
    {
     "name": "stdout",
     "output_type": "stream",
     "text": [
      "Score: 0.7351836734693877\n",
      "Total time: 60.867812156677246 seconds\n",
      "Currently training, population member 39\n",
      "997\n"
     ]
    },
    {
     "name": "stderr",
     "output_type": "stream",
     "text": [
      "/opt/conda/lib/python3.10/multiprocessing/popen_fork.py:66: RuntimeWarning: os.fork() was called. os.fork() is incompatible with multithreaded code, and JAX is multithreaded, so this will likely lead to a deadlock.\n",
      "  self.pid = os.fork()\n"
     ]
    },
    {
     "name": "stdout",
     "output_type": "stream",
     "text": [
      "Epoch 0, Average Outcome Loss: 1.4415691826078627, Average Accuracy: 0.5, Test AUC: 0.5000, Test Accuracy: 0.3378\n",
      "Epoch 0, Average Outcome Loss: 0.8904368811183505, Average Accuracy: 0.5, Test AUC: 0.5000, Test Accuracy: 0.6622\n",
      "Epoch 0, Average Outcome Loss: 0.7576383749643961, Average Accuracy: 0.5, Test AUC: 0.5000, Test Accuracy: 0.3378\n",
      "Epoch 0, Average Outcome Loss: 0.7375250193807814, Average Accuracy: 0.5, Test AUC: 0.5000, Test Accuracy: 0.6622\n",
      "Epoch 0, Average Outcome Loss: 0.6917884482277764, Average Accuracy: 0.5833333333333334, Test AUC: 0.5000, Test Accuracy: 0.6622\n",
      "Epoch 100, Average Outcome Loss: 0.827057679494222, Average Accuracy: 0.5, Test AUC: 0.5094, Test Accuracy: 0.3378\n",
      "Epoch 100, Average Outcome Loss: 0.7370452483495077, Average Accuracy: 0.5, Test AUC: 0.5820, Test Accuracy: 0.6622\n",
      "Epoch 100, Average Outcome Loss: 0.705236898528205, Average Accuracy: 0.5, Test AUC: 0.6759, Test Accuracy: 0.3378\n",
      "Epoch 100, Average Outcome Loss: 0.760948101679484, Average Accuracy: 0.5, Test AUC: 0.6327, Test Accuracy: 0.6622\n",
      "Epoch 100, Average Outcome Loss: 0.7115398446718851, Average Accuracy: 0.5, Test AUC: 0.6669, Test Accuracy: 0.6622\n"
     ]
    },
    {
     "name": "stderr",
     "output_type": "stream",
     "text": [
      "/opt/conda/lib/python3.10/multiprocessing/popen_fork.py:66: RuntimeWarning: os.fork() was called. os.fork() is incompatible with multithreaded code, and JAX is multithreaded, so this will likely lead to a deadlock.\n",
      "  self.pid = os.fork()\n"
     ]
    },
    {
     "name": "stdout",
     "output_type": "stream",
     "text": [
      "Score: 0.7100408163265306\n",
      "Total time: 60.61174178123474 seconds\n",
      "Currently training, population member 40\n",
      "1035\n"
     ]
    },
    {
     "name": "stderr",
     "output_type": "stream",
     "text": [
      "/opt/conda/lib/python3.10/multiprocessing/popen_fork.py:66: RuntimeWarning: os.fork() was called. os.fork() is incompatible with multithreaded code, and JAX is multithreaded, so this will likely lead to a deadlock.\n",
      "  self.pid = os.fork()\n"
     ]
    },
    {
     "name": "stdout",
     "output_type": "stream",
     "text": [
      "Epoch 0, Average Outcome Loss: 0.7716590960820516, Average Accuracy: 0.5, Test AUC: 0.5000, Test Accuracy: 0.6622\n",
      "Epoch 0, Average Outcome Loss: 0.6972540749443902, Average Accuracy: 0.4652777777777778, Test AUC: 0.5000, Test Accuracy: 0.6622\n",
      "Epoch 0, Average Outcome Loss: 0.7029565506511264, Average Accuracy: 0.5347222222222222, Test AUC: 0.5000, Test Accuracy: 0.3378\n",
      "Epoch 0, Average Outcome Loss: 0.7042680780092875, Average Accuracy: 0.5, Test AUC: 0.5000, Test Accuracy: 0.3378\n",
      "Epoch 0, Average Outcome Loss: 0.7263018555111356, Average Accuracy: 0.4722222222222222, Test AUC: 0.5000, Test Accuracy: 0.6622\n",
      "Epoch 100, Average Outcome Loss: 0.6337461140420702, Average Accuracy: 0.7083333333333334, Test AUC: 0.7592, Test Accuracy: 0.7297\n",
      "Epoch 100, Average Outcome Loss: 0.669819348388248, Average Accuracy: 0.5416666666666666, Test AUC: 0.7722, Test Accuracy: 0.6622\n",
      "Epoch 100, Average Outcome Loss: 0.7278133696979947, Average Accuracy: 0.5, Test AUC: 0.4033, Test Accuracy: 0.3378\n",
      "Epoch 100, Average Outcome Loss: 0.6741092271274991, Average Accuracy: 0.6180555555555556, Test AUC: 0.7510, Test Accuracy: 0.6081\n",
      "Epoch 100, Average Outcome Loss: 0.5431304242875841, Average Accuracy: 0.7291666666666666, Test AUC: 0.7731, Test Accuracy: 0.6757\n"
     ]
    },
    {
     "name": "stderr",
     "output_type": "stream",
     "text": [
      "/opt/conda/lib/python3.10/multiprocessing/popen_fork.py:66: RuntimeWarning: os.fork() was called. os.fork() is incompatible with multithreaded code, and JAX is multithreaded, so this will likely lead to a deadlock.\n",
      "  self.pid = os.fork()\n"
     ]
    },
    {
     "name": "stdout",
     "output_type": "stream",
     "text": [
      "Score: 0.7921632653061225\n",
      "Total time: 60.801060914993286 seconds\n",
      "Currently training, population member 41\n",
      "1030\n"
     ]
    },
    {
     "name": "stderr",
     "output_type": "stream",
     "text": [
      "/opt/conda/lib/python3.10/multiprocessing/popen_fork.py:66: RuntimeWarning: os.fork() was called. os.fork() is incompatible with multithreaded code, and JAX is multithreaded, so this will likely lead to a deadlock.\n",
      "  self.pid = os.fork()\n"
     ]
    },
    {
     "name": "stdout",
     "output_type": "stream",
     "text": [
      "Epoch 0, Average Outcome Loss: 0.699860135714213, Average Accuracy: 0.4722222222222222, Test AUC: 0.5510, Test Accuracy: 0.3378\n",
      "Epoch 0, Average Outcome Loss: 0.7270716693666246, Average Accuracy: 0.5, Test AUC: 0.5000, Test Accuracy: 0.6622\n",
      "Epoch 0, Average Outcome Loss: 0.889217648241255, Average Accuracy: 0.5, Test AUC: 0.5000, Test Accuracy: 0.3378\n",
      "Epoch 0, Average Outcome Loss: 0.7619311610857645, Average Accuracy: 0.5, Test AUC: 0.5000, Test Accuracy: 0.3378\n",
      "Epoch 0, Average Outcome Loss: 0.7596447931395637, Average Accuracy: 0.5, Test AUC: 0.5000, Test Accuracy: 0.6622\n",
      "Epoch 100, Average Outcome Loss: 0.6942686835924784, Average Accuracy: 0.5, Test AUC: 0.7004, Test Accuracy: 0.3378\n",
      "Epoch 100, Average Outcome Loss: 0.6969458063443502, Average Accuracy: 0.5, Test AUC: 0.7135, Test Accuracy: 0.6622\n",
      "Epoch 100, Average Outcome Loss: 0.6932970417870415, Average Accuracy: 0.5, Test AUC: 0.6678, Test Accuracy: 0.6757\n",
      "Epoch 100, Average Outcome Loss: 0.704316669040256, Average Accuracy: 0.5, Test AUC: 0.4931, Test Accuracy: 0.3378\n",
      "Epoch 100, Average Outcome Loss: 0.6914941999647353, Average Accuracy: 0.5486111111111112, Test AUC: 0.6735, Test Accuracy: 0.6892\n"
     ]
    }
   ],
   "source": [
    "import subprocess\n",
    "from rpy2.robjects import r\n",
    "from rc_data_class import RcData\n",
    "from rc_folds_class  import rcFolds\n",
    "from rc_pred_ann_model import PredAnnModel\n",
    "from rc_individual_fold import RcFoldForANN\n",
    "import numpy as np\n",
    "import random\n",
    "import pandas as pd\n",
    "import random\n",
    "import matplotlib.pyplot as plt\n",
    "import pickle\n",
    "from multiprocessing import Process\n",
    "import time\n",
    "import os\n",
    "\n",
    "# Genetic Algorithm Parameters\n",
    "POP_SIZE = 50      # Population size\n",
    "N_GENERATIONS = 50   # Number of generations\n",
    "TOURNAMENT_SIZE = 3  # Tournament selection (k=3)\n",
    "CROSSOVER_RATE = 0.8 # Probability of crossover\n",
    "MUTATION_RATE = 0.05 # Mutation probability per gene\n",
    "ELITE_PERCENTAGE = 0.05 # Top 5% preserved\n",
    "\n",
    "#Other parameters\n",
    "p_value = 0.2\n",
    "split_train = True\n",
    "folds = 5\n",
    "num_epochs = 200\n",
    "dna_dict = {}  # Empty dictionary\n",
    "\n",
    "# making a data frame to keep track of GA progress\n",
    "column_names = [f'auc_{i+1}' for i in range(POP_SIZE)]\n",
    "# Initialize an empty DataFrame with columns\n",
    "ga_df = pd.DataFrame(columns=column_names)\n",
    "\n",
    "# Global variables to store the results of each fold\n",
    "first_fold_results = None\n",
    "second_fold_results = None\n",
    "third_fold_results = None\n",
    "fourth_fold_results = None\n",
    "fifth_fold_results = None\n",
    "\n",
    "def get_genes_list(p_thresh, split_train):\n",
    "    # Define the R script path\n",
    "    r_script = \"rc_get_diff_genes.r\"\n",
    "    \n",
    "    # Build the command to run the R script\n",
    "    command = [\"Rscript\", r_script, str(p_thresh), str(split_train)]\n",
    "    \n",
    "    result = subprocess.run(command, capture_output=True, text=True)\n",
    "    \n",
    "    # Check if the R script ran successfully\n",
    "    if result.returncode == 0:\n",
    "        print(\"R script executed successfully.\")\n",
    "    \n",
    "        # Read the generated file\n",
    "        rds_path = '/tmp/work/RCproject_code/sean_ann_python/ann_gene_set.rds'\n",
    "        current_genes = r.readRDS(rds_path)\n",
    "        print(len(current_genes))\n",
    "        \n",
    "    else:\n",
    "        print(\"Error in R script execution:\")\n",
    "        print(result.stderr)\n",
    "\n",
    "    return(current_genes.tolist())\n",
    "\n",
    "def generate_individual():\n",
    "    \"\"\"Creates a binary chromosome for feature selection.\"\"\"\n",
    "    return [random.randint(0, 1) for _ in range(len(current_genes))]\n",
    "\n",
    "def initiate_fold(current_folds,genes_list,fold,fold_name,results):\n",
    "    genes_list = genes_list.tolist()\n",
    "    current_fold = RcFoldForANN(current_folds,0)\n",
    "    current_model = PredAnnModel(current_fold, genes_list, num_epochs=num_epochs)\n",
    "    results = current_model.test_auc_list  # Store result\n",
    "\n",
    "    # Write result to a file with a unique name for each fold\n",
    "    result_filename = f\"results_{fold_name}.txt\"\n",
    "    with open(result_filename, 'w') as f:\n",
    "        f.write(str(results))  # Store the result (convert to string if necessary)\n",
    "\n",
    "def evaluate_fitness(individual,gene_list,input_data,count):\n",
    "    \"\"\"Evaluates the fitness of an individual based on the average test auc value across folds.\"\"\"\n",
    "    start_time = time.time()\n",
    "    # selected_features = [s for s, m in zip(gene_list, individual) if m]  #application of a binary mask to the genes list\n",
    "    individual = np.array(individual, dtype=bool)  # Ensure it's a boolean array\n",
    "    gene_list = np.array(gene_list)  # Convert to NumPy array if it's a list\n",
    "    selected_features = gene_list[individual]\n",
    "    \n",
    "    if len(selected_features) == 0:\n",
    "        return 0  # Prevent division by zero when no features are selected\n",
    "    current_aucs = []\n",
    "    current_folds = rcFolds(input_data,folds)\n",
    "    current_member = count + 1\n",
    "    print(f\"Currently training, population member {current_member}\")\n",
    "\n",
    "    results = {}\n",
    "\n",
    "    print(len(selected_features))\n",
    "    if __name__ == '__main__':\n",
    "        t1 = Process(target=initiate_fold, args=(current_folds, selected_features, 0, 'first', results))\n",
    "        t2 = Process(target=initiate_fold, args=(current_folds, selected_features, 1, 'second', results))\n",
    "        t3 = Process(target=initiate_fold, args=(current_folds, selected_features, 2, 'third', results))\n",
    "        t4 = Process(target=initiate_fold, args=(current_folds, selected_features, 3, 'fourth', results))\n",
    "        t5 = Process(target=initiate_fold, args=(current_folds, selected_features, 4, 'fifth', results))\n",
    "        \n",
    "        t1.start()\n",
    "        t2.start()\n",
    "        t3.start()\n",
    "        t4.start()\n",
    "        t5.start()\n",
    "        \n",
    "        t1.join()\n",
    "        t2.join()\n",
    "        t3.join()\n",
    "        t4.join()\n",
    "        t5.join()\n",
    "\n",
    "     # Now read the results from the files after all processes are finished\n",
    "    results = {}\n",
    "    for fold_name in ['first', 'second', 'third', 'fourth', 'fifth']:\n",
    "        result_filename = f\"results_{fold_name}.txt\"\n",
    "        if os.path.exists(result_filename):\n",
    "            with open(result_filename, 'r') as f:\n",
    "                results[fold_name] = eval(f.read())  # Read and evaluate the result (could be a list or value)\n",
    "        else:\n",
    "            print(f\"Warning: {result_filename} does not exist!\")\n",
    "\n",
    "    # Ensure all results are available before calculating score\n",
    "    if any(val is None for val in results.values()):\n",
    "        print(\"Warning: Some results are None. Check if subprocesses executed correctly.\")\n",
    "        return 0  # If any result is None, return 0 or handle it accordingly\n",
    "\n",
    "    # Calculate the score using the results from all folds\n",
    "    score = np.mean([max(results['first']), max(results['second']), max(results['third']),\n",
    "                     max(results['fourth']), max(results['fifth'])])\n",
    "    print(f\"Score: {score}\")\n",
    "\n",
    "    end_time = time.time()\n",
    "    print(f\"Total time: {end_time - start_time} seconds\")\n",
    "    return score  # Higher auc average = better fitness\n",
    "\n",
    "def tournament_selection(population, fitness_scores):\n",
    "    \"\"\"Selects a parent using tournament selection (k=3).\"\"\"\n",
    "    competitors = random.sample(list(enumerate(fitness_scores)), TOURNAMENT_SIZE)\n",
    "    best = max(competitors, key=lambda x: x[1])  # Select individual with best fitness\n",
    "    return population[best[0]]\n",
    "\n",
    "\n",
    "def uniform_crossover(parent1, parent2):\n",
    "    \"\"\"Performs uniform crossover (each gene has 50% chance of swapping).\"\"\"\n",
    "    if random.random() < CROSSOVER_RATE:\n",
    "        SWAP_PROBABILITY = 0.2\n",
    "        child1 = [p1 if random.random() > SWAP_PROBABILITY else p2 for p1, p2 in zip(parent1, parent2)]\n",
    "        child2 = [p2 if random.random() > SWAP_PROBABILITY else p1 for p1, p2 in zip(parent1, parent2)]\n",
    "        return child1, child2\n",
    "    return parent1[:], parent2[:]  # No crossover, children are copies\n",
    "\n",
    "def mutate(individual):\n",
    "    \"\"\"Mutates an individual by flipping bits with a small probability.\"\"\"\n",
    "    return [1 - gene if random.random() < MUTATION_RATE else gene for gene in individual]\n",
    "\n",
    "def plot_row_averages(df):\n",
    "    \"\"\"\n",
    "    Plots the average of each row in the given DataFrame.\n",
    "    \n",
    "    Parameters:\n",
    "    df (pd.DataFrame): Input DataFrame containing numerical values.\n",
    "    \"\"\"\n",
    "    row_averages = df.mean(axis=1)  # Compute the average across each row\n",
    "    \n",
    "    plt.figure(figsize=(10, 5))\n",
    "    plt.plot(row_averages, marker='o', linestyle='-', color='b', label='Row Averages')\n",
    "    \n",
    "    plt.xlabel(\"Generation\")\n",
    "    plt.ylabel(\"Average AUC Values\")\n",
    "    plt.title(\"Average of Each Row in DataFrame\")\n",
    "    plt.legend()\n",
    "    plt.grid(True)\n",
    "    \n",
    "    plt.show()\n",
    "\n",
    "\n",
    "# establish the dataset object\n",
    "current_data = RcData()\n",
    "\n",
    "# grab the intial feature set\n",
    "current_genes = get_genes_list(p_value, split_train)\n",
    "\n",
    "# making a data frame to keep track of GA progress\n",
    "column_names = [f'auc_{i+1}' for i in range(POP_SIZE)]\n",
    "\n",
    "# Initialize an empty DataFrame with columns\n",
    "ga_df = pd.DataFrame(columns=column_names)\n",
    "\n",
    "# Initialize population\n",
    "population = [generate_individual() for _ in range(POP_SIZE)]\n",
    "dna_dict[1] = population\n",
    "\n",
    "# Evaluate initial fitness\n",
    "\n",
    "fitness_scores = [evaluate_fitness(ind, current_genes, current_data, count) for count, ind in enumerate(population)]\n",
    "\n",
    "best_fitness = max(fitness_scores)\n",
    "print(f\"Generation {1}, Best Accuracy: {best_fitness:.4f}\")\n",
    "\n",
    "ga_df.loc[len(ga_df)] = fitness_scores\n",
    "\n",
    "for gen in range(N_GENERATIONS):\n",
    "    # Select the top individuals (elitism)\n",
    "    elite_count = int(ELITE_PERCENTAGE * POP_SIZE)\n",
    "    elites = [population[i] for i in np.argsort(fitness_scores)[-elite_count:]]  # Keep best individuals\n",
    "\n",
    "    # Generate next generation\n",
    "    new_population = elites[:]  # Start with elites\n",
    "\n",
    "    while len(new_population) < POP_SIZE:\n",
    "        # Select parents using tournament selection\n",
    "        parent1 = tournament_selection(population, fitness_scores)\n",
    "        parent2 = tournament_selection(population, fitness_scores)\n",
    "\n",
    "        # Crossover to generate children\n",
    "        child1, child2 = uniform_crossover(parent1, parent2)\n",
    "\n",
    "        # Apply mutation\n",
    "        child1 = mutate(child1)\n",
    "        child2 = mutate(child2)\n",
    "\n",
    "        # Add to new population (ensure we don't exceed population size)\n",
    "        new_population.append(child1)\n",
    "        if len(new_population) < POP_SIZE:\n",
    "            new_population.append(child2)\n",
    "\n",
    "    # Update population and fitness scores\n",
    "    population = new_population\n",
    "    current_generation = gen + 2\n",
    "    dna_dict[current_generation] = new_population\n",
    "    fitness_scores = [evaluate_fitness(ind, current_genes, current_data, count) for count, ind in enumerate(population)]\n",
    "    ga_df.loc[len(ga_df)] = fitness_scores\n",
    "\n",
    "    pickle.dump(dna_dict, open(\"dna_dict.pkl\", \"wb\"))\n",
    "    ga_df.to_pickle(\"ga_df.pkl\")\n",
    "\n",
    "    # Print best result every 10 generations\n",
    "    if gen % 1 == 0:\n",
    "        best_fitness = max(fitness_scores)\n",
    "        print(f\"Generation {current_generation}, Best Accuracy: {best_fitness:.4f}\")"
   ]
  },
  {
   "cell_type": "code",
   "execution_count": null,
   "id": "8d5d5a99-efe6-4e21-9b4d-5b1e87b317f2",
   "metadata": {
    "scrolled": true
   },
   "outputs": [],
   "source": [
    "# Load the df back\n",
    "loaded_df = pd.read_pickle(\"ga_df.pkl\")\n",
    "# Load the dictionary to select the sequences of interest\n",
    "dna_dict = pickle.load(open(\"dna_dict.pkl\", \"rb\"))"
   ]
  },
  {
   "cell_type": "code",
   "execution_count": null,
   "id": "08f7f126-b9ce-4221-95dd-de403d963a3c",
   "metadata": {},
   "outputs": [],
   "source": [
    "plot_row_averages(loaded_df)"
   ]
  },
  {
   "cell_type": "code",
   "execution_count": null,
   "id": "9ced559f-30ee-4a5b-b0e1-456123a47511",
   "metadata": {},
   "outputs": [],
   "source": [
    "loaded_df"
   ]
  },
  {
   "cell_type": "code",
   "execution_count": null,
   "id": "53ab40d4-39f5-46c5-9880-221adaae0a77",
   "metadata": {},
   "outputs": [],
   "source": [
    "# high_auc = pd.read_pickle(\"high_auc_ind.pkl\")\n",
    "# evaluate_fitness(high_auc,current_genes, current_data,0)"
   ]
  },
  {
   "cell_type": "code",
   "execution_count": null,
   "id": "2f6f18e9-7d69-45a0-9202-6a586d2726e9",
   "metadata": {
    "scrolled": true
   },
   "outputs": [],
   "source": [
    "# high_auc_list = selected_features.tolist()\n",
    "\n",
    "# len(high_auc_list)\n",
    "\n",
    "# pickle.dump(high_auc_list, open(\"high_auc_gene_list.pkl\", \"wb\"))"
   ]
  },
  {
   "cell_type": "code",
   "execution_count": null,
   "id": "6613ddb5-f1a1-4ded-aa44-4148fc3da40d",
   "metadata": {},
   "outputs": [],
   "source": []
  }
 ],
 "metadata": {
  "kernelspec": {
   "display_name": "Python 3 (ipykernel)",
   "language": "python",
   "name": "python3"
  },
  "language_info": {
   "codemirror_mode": {
    "name": "ipython",
    "version": 3
   },
   "file_extension": ".py",
   "mimetype": "text/x-python",
   "name": "python",
   "nbconvert_exporter": "python",
   "pygments_lexer": "ipython3",
   "version": "3.10.10"
  }
 },
 "nbformat": 4,
 "nbformat_minor": 5
}
