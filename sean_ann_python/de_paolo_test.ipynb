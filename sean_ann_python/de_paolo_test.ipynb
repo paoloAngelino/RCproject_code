{
 "cells": [
  {
   "cell_type": "code",
   "execution_count": 64,
   "id": "3751e019-88ad-4c9a-83e6-1d579a992680",
   "metadata": {},
   "outputs": [],
   "source": [
    "options(warn=-1)"
   ]
  },
  {
   "cell_type": "code",
   "execution_count": 99,
   "id": "f94298d7-cf03-4e90-855e-b2ededbcfbef",
   "metadata": {},
   "outputs": [],
   "source": [
    "library(edgeR)\n",
    "library(limma)\n",
    "\n",
    "assay_to_use <- 3\n",
    "assayname_to_use <- \"scalelogcounts\"\n",
    "\n",
    "run_limma <- function(spe, assay_to_use, verbose = FALSE, p.value = 0.2, lfc = 0.0){\n",
    "\n",
    "  design <- model.matrix(~0 + Response + batch, data = colData(spe))\n",
    "\n",
    "  if(verbose) print(colnames(design))\n",
    "  \n",
    "  #To simplify the factor name, here we edit the column name of the design matrix by removing the prefix \"DEvar\" and replacing spaces with underscores.\n",
    "\n",
    "  colnames(design) <- gsub(\"^Response\",\"\",colnames(design))\n",
    "  colnames(design) <- gsub(\" \",\"_\",colnames(design))\n",
    "  \n",
    "  if(verbose) print(colnames(design))\n",
    "    \n",
    "  # The contrast for pairwise comparisons between different groups are set up in using the `makeContrasts` function from `Limma`.\n",
    "  contr.matrix <- makeContrasts(\n",
    "   Yes_vs_NO = yes - no,\n",
    "   levels = colnames(design))\n",
    "\n",
    "  ## Differential expression\n",
    "\n",
    "  # In the `limma-voom` pipeline, linear modelling is carried out on the log-CPM values by using the `voom`, `lmFit`, `contrasts.fit` and `eBayes` functions. In specific cases where users like to take more considerations of the log fold changes in the statistical analysis, the `treat` function is applied. The `treat` function, t-tests relative to a threshold, allows testing formally the hypothesis (with associated p-values) that the differential expression is greater than a given threshold, fold-change in this case. But be aware of avoiding using `eBayes` and `treat` for different contrasts for the same analysis.\n",
    "\n",
    "  # **Notes: Here we have microarray data, so the limma without voom pipeline is used**\n",
    "  v <- assay(spe, assay_to_use)\n",
    "\n",
    "  fit <- lmFit(v, design = design)\n",
    "  \n",
    "  fit_contrast <- contrasts.fit(fit, contrasts = contr.matrix)\n",
    "\n",
    "  efit <- eBayes(fit_contrast, robust = TRUE)\n",
    "  \n",
    "  results_efit<- decideTests(efit, adjust.method = \"none\", p.value = p.value, lfc = lfc)\n",
    "  summary_efit <- summary(results_efit)\n",
    "\n",
    "  if(verbose) print(summary_efit)\n",
    "\n",
    "  \n",
    "  my_de_results <- topTable(efit, coef = 1, sort.by = \"none\", n = Inf) # sort by none\n",
    "\n",
    "  sig_genes <- rownames(my_de_results[my_de_results$P.Value < p.value,])\n",
    "\n",
    "  # We can obtain the DE results by using the `TopTable` function.\n",
    "\n",
    "  return(sig_genes)\n",
    "}"
   ]
  },
  {
   "cell_type": "code",
   "execution_count": 100,
   "id": "928a795e-273e-469c-856f-c983a3de8032",
   "metadata": {},
   "outputs": [
    {
     "data": {
      "text/html": [
       "410"
      ],
      "text/latex": [
       "410"
      ],
      "text/markdown": [
       "410"
      ],
      "text/plain": [
       "[1] 410"
      ]
     },
     "metadata": {},
     "output_type": "display_data"
    }
   ],
   "source": [
    "file_path = '/tmp/work/RCproject/GEO_singlecellexperiment.rds'\n",
    "sce <- readRDS(file_path)\n",
    "sce <- sce[, colData(sce)$Response != \"partial\"]\n",
    "ncol(sce)"
   ]
  },
  {
   "cell_type": "code",
   "execution_count": 101,
   "id": "cc836323-5ecc-4d32-b2a0-60e13ee45fb3",
   "metadata": {},
   "outputs": [],
   "source": [
    "# train_samples <- readLines(\"train_samples.txt\")\n",
    "# head(train_samples)\n",
    "# sce <- sce[,train_samples]\n",
    "# sce"
   ]
  },
  {
   "cell_type": "code",
   "execution_count": 105,
   "id": "5c34b1e2-4b55-410f-8d59-2212d12b8e62",
   "metadata": {},
   "outputs": [
    {
     "name": "stdout",
     "output_type": "stream",
     "text": [
      "[1] \"All\"\n"
     ]
    },
    {
     "data": {
      "text/plain": [
       "\n",
       " no yes \n",
       "267 143 "
      ]
     },
     "metadata": {},
     "output_type": "display_data"
    },
    {
     "name": "stdout",
     "output_type": "stream",
     "text": [
      "[1] \"de4\"\n"
     ]
    },
    {
     "data": {
      "text/plain": [
       "\n",
       " no yes \n",
       " 63  35 "
      ]
     },
     "metadata": {},
     "output_type": "display_data"
    },
    {
     "name": "stdout",
     "output_type": "stream",
     "text": [
      "[1] \"RNA_seq\"\n"
     ]
    },
    {
     "data": {
      "text/plain": [
       "\n",
       " no yes \n",
       "148  53 "
      ]
     },
     "metadata": {},
     "output_type": "display_data"
    }
   ],
   "source": [
    "all_data_sets <- sce\n",
    "de4_data_sets <- sce[, colData(sce)$Platform %in% c(\"GPL13497\",\"GPL14951\",\"GPL15207\",\"GPL6102\")]\n",
    "# de4_data_sets <- sce[, colData(sce)$batch %in% c(\"GSE133057\",\"GSE145037\",\"GSE150082\",\"GSE45404-1\",\"GSE45404-2\",\"GSE93375\",\"GSE94104\")]\n",
    "rna_seq_data_sets <- sce[, colData(sce)$batch %in% c(\"GSE190826\",\"GSE209746\")]\n",
    "\n",
    "print('All')\n",
    "table(colData(all_data_sets)$Response)\n",
    "print('de4')\n",
    "table(colData(de4_data_sets)$Response)\n",
    "print('RNA_seq')\n",
    "table(colData(rna_seq_data_sets)$Response)"
   ]
  },
  {
   "cell_type": "code",
   "execution_count": 106,
   "id": "0232cb87-acb7-463b-99ce-b41855d07d71",
   "metadata": {
    "scrolled": true
   },
   "outputs": [
    {
     "name": "stdout",
     "output_type": "stream",
     "text": [
      " [1] \"Responseno\"         \"Responseyes\"        \"batchGSE145037\"    \n",
      " [4] \"batchGSE150082\"     \"batchGSE190826\"     \"batchGSE209746\"    \n",
      " [7] \"batchGSE45404_GPL1\" \"batchGSE45404_GPL2\" \"batchGSE93375\"     \n",
      "[10] \"batchGSE94104\"     \n",
      " [1] \"no\"                 \"yes\"                \"batchGSE145037\"    \n",
      " [4] \"batchGSE150082\"     \"batchGSE190826\"     \"batchGSE209746\"    \n",
      " [7] \"batchGSE45404_GPL1\" \"batchGSE45404_GPL2\" \"batchGSE93375\"     \n",
      "[10] \"batchGSE94104\"     \n",
      "       Yes_vs_NO\n",
      "Down         567\n",
      "NotSig     11036\n",
      "Up           562\n",
      "[1] \"Responseno\"     \"Responseyes\"    \"batchGSE150082\" \"batchGSE93375\" \n",
      "[5] \"batchGSE94104\" \n",
      "[1] \"no\"             \"yes\"            \"batchGSE150082\" \"batchGSE93375\" \n",
      "[5] \"batchGSE94104\" \n",
      "       Yes_vs_NO\n",
      "Down         380\n",
      "NotSig     11348\n",
      "Up           437\n",
      "[1] \"Responseno\"     \"Responseyes\"    \"batchGSE209746\"\n",
      "[1] \"no\"             \"yes\"            \"batchGSE209746\"\n",
      "       Yes_vs_NO\n",
      "Down         339\n",
      "NotSig     11492\n",
      "Up           334\n"
     ]
    }
   ],
   "source": [
    "p_thresh = 0.05\n",
    "\n",
    "DE_alldatasets <- run_limma(all_data_sets, assay_to_use = assay_to_use, verbose = TRUE, p.value = p_thresh, lfc = 0.0)\n",
    "DE_4datasets <- run_limma(de4_data_sets, assay_to_use = assay_to_use, verbose = TRUE, p.value = p_thresh, lfc = 0.0)\n",
    "DE_bulkDatasets <- run_limma(rna_seq_data_sets, assay_to_use = assay_to_use, verbose = TRUE, p.value = p_thresh, lfc = 0.0)"
   ]
  },
  {
   "cell_type": "code",
   "execution_count": 107,
   "id": "9e7df22e-15c8-4757-9823-acc4ac06fa9a",
   "metadata": {},
   "outputs": [
    {
     "data": {
      "text/html": [
       "167"
      ],
      "text/latex": [
       "167"
      ],
      "text/markdown": [
       "167"
      ],
      "text/plain": [
       "[1] 167"
      ]
     },
     "metadata": {},
     "output_type": "display_data"
    },
    {
     "data": {
      "text/html": [
       "89"
      ],
      "text/latex": [
       "89"
      ],
      "text/markdown": [
       "89"
      ],
      "text/plain": [
       "[1] 89"
      ]
     },
     "metadata": {},
     "output_type": "display_data"
    },
    {
     "data": {
      "text/html": [
       "0"
      ],
      "text/latex": [
       "0"
      ],
      "text/markdown": [
       "0"
      ],
      "text/plain": [
       "[1] 0"
      ]
     },
     "metadata": {},
     "output_type": "display_data"
    }
   ],
   "source": [
    "length(DE_alldatasets) - 962\n",
    "length(DE_4datasets) - 728\n",
    "length(DE_bulkDatasets) - 673"
   ]
  },
  {
   "cell_type": "code",
   "execution_count": 98,
   "id": "987a400a-86e6-4f2e-ac84-80a28687a18d",
   "metadata": {},
   "outputs": [],
   "source": [
    "rds_path = '/tmp/work/RCproject/gene_lists.rds'\n",
    "gene_lists<- readRDS(rds_path)\n",
    "model_gene_list <- gene_lists$'de_intersect_plus_bulk_genes'"
   ]
  },
  {
   "cell_type": "code",
   "execution_count": 108,
   "id": "5e3429d3-aa1a-469f-af9d-cac4a742cd4c",
   "metadata": {},
   "outputs": [],
   "source": [
    "de_intersect_plus_bulk_genes <- intersect(union(DE_bulkDatasets,DE_4datasets),DE_alldatasets)\n",
    "\n",
    "saveRDS(de_intersect_plus_bulk_genes,'ann_gene_set.rds')\n",
    "# saveRDS(DE_alldatasets,'ann_gene_set.rds')"
   ]
  },
  {
   "cell_type": "code",
   "execution_count": 79,
   "id": "e30cd338-e509-49b4-8b4d-0eca99bf9c67",
   "metadata": {},
   "outputs": [
    {
     "data": {
      "text/html": [
       "502"
      ],
      "text/latex": [
       "502"
      ],
      "text/markdown": [
       "502"
      ],
      "text/plain": [
       "[1] 502"
      ]
     },
     "metadata": {},
     "output_type": "display_data"
    }
   ],
   "source": [
    "length(de_intersect_plus_bulk_genes)"
   ]
  },
  {
   "cell_type": "code",
   "execution_count": 80,
   "id": "bc7a0641-a563-4e4f-9631-9e45211c6fc8",
   "metadata": {},
   "outputs": [
    {
     "data": {
      "text/html": [
       "502"
      ],
      "text/latex": [
       "502"
      ],
      "text/markdown": [
       "502"
      ],
      "text/plain": [
       "[1] 502"
      ]
     },
     "metadata": {},
     "output_type": "display_data"
    },
    {
     "data": {
      "text/html": [
       "366"
      ],
      "text/latex": [
       "366"
      ],
      "text/markdown": [
       "366"
      ],
      "text/plain": [
       "[1] 366"
      ]
     },
     "metadata": {},
     "output_type": "display_data"
    },
    {
     "data": {
      "text/html": [
       "304"
      ],
      "text/latex": [
       "304"
      ],
      "text/markdown": [
       "304"
      ],
      "text/plain": [
       "[1] 304"
      ]
     },
     "metadata": {},
     "output_type": "display_data"
    }
   ],
   "source": [
    "length(de_intersect_plus_bulk_genes)\n",
    "length(model_gene_list)\n",
    "length(intersect(model_gene_list,de_intersect_plus_bulk_genes))"
   ]
  },
  {
   "cell_type": "code",
   "execution_count": null,
   "id": "40395191-aabb-4d5e-a093-dda2f6f12ff8",
   "metadata": {},
   "outputs": [],
   "source": []
  }
 ],
 "metadata": {
  "kernelspec": {
   "display_name": "R",
   "language": "R",
   "name": "ir"
  },
  "language_info": {
   "codemirror_mode": "r",
   "file_extension": ".r",
   "mimetype": "text/x-r-source",
   "name": "R",
   "pygments_lexer": "r",
   "version": "4.3.1"
  }
 },
 "nbformat": 4,
 "nbformat_minor": 5
}
