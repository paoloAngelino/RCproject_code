{
 "cells": [
  {
   "cell_type": "code",
   "execution_count": 15,
   "id": "3751e019-88ad-4c9a-83e6-1d579a992680",
   "metadata": {},
   "outputs": [],
   "source": [
    "options(warn=-1)"
   ]
  },
  {
   "cell_type": "code",
   "execution_count": 38,
   "id": "f94298d7-cf03-4e90-855e-b2ededbcfbef",
   "metadata": {},
   "outputs": [],
   "source": [
    "library(edgeR)\n",
    "library(limma)\n",
    "\n",
    "assay_to_use <- 3\n",
    "assayname_to_use <- \"scalelogcounts\"\n",
    "\n",
    "run_limma <- function(spe, assay_to_use, verbose = FALSE, p.value = 0.05, lfc = 0.0){\n",
    "\n",
    "  design <- model.matrix(~0 + Response + batch, data = colData(spe))\n",
    "\n",
    "  if(verbose) print(colnames(design))\n",
    "  \n",
    "  colnames(design) <- gsub(\"^Response\",\"\",colnames(design))\n",
    "  colnames(design) <- gsub(\" \",\"_\",colnames(design))\n",
    "  \n",
    "  if(verbose) print(colnames(design))\n",
    "    \n",
    "  # The contrast for pairwise comparisons between different groups are set up in using the `makeContrasts` function from `Limma`.\n",
    "  contr.matrix <- makeContrasts(\n",
    "   Yes_vs_NO = yes - no,\n",
    "   levels = colnames(design))\n",
    "\n",
    "  ## Differential expression\n",
    "\n",
    "  # In the `limma-voom` pipeline, linear modelling is carried out on the log-CPM values by using the `voom`, `lmFit`, `contrasts.fit` and `eBayes` functions. In specific cases where users like to take more considerations of the log fold changes in the statistical analysis, the `treat` function is applied. The `treat` function, t-tests relative to a threshold, allows testing formally the hypothesis (with associated p-values) that the differential expression is greater than a given threshold, fold-change in this case. But be aware of avoiding using `eBayes` and `treat` for different contrasts for the same analysis.\n",
    "\n",
    "  # **Notes: Here we have microarray data, so the limma without voom pipeline is used**\n",
    "  v <- assay(spe, assay_to_use)\n",
    "\n",
    "  fit <- lmFit(v, design = design)\n",
    "  \n",
    "  fit_contrast <- contrasts.fit(fit, contrasts = contr.matrix)\n",
    "\n",
    "  efit <- eBayes(fit_contrast, robust = TRUE)\n",
    "  \n",
    "  results_efit<- decideTests(efit, adjust.method = \"none\", p.value = p.value, lfc = lfc)\n",
    "  summary_efit <- summary(results_efit)\n",
    "\n",
    "  if(verbose) print(summary_efit)\n",
    "\n",
    "  \n",
    "  my_de_results <- topTable(efit, coef = 1, sort.by = \"none\", n = Inf) # sort by none\n",
    "\n",
    "  sig_genes <- rownames(my_de_results[my_de_results$P.Value < p.value,])\n",
    "\n",
    "  # We can obtain the DE results by using the `TopTable` function.\n",
    "\n",
    "  return(sig_genes)\n",
    "}"
   ]
  },
  {
   "cell_type": "code",
   "execution_count": 39,
   "id": "928a795e-273e-469c-856f-c983a3de8032",
   "metadata": {
    "scrolled": true
   },
   "outputs": [
    {
     "data": {
      "text/html": [
       "450"
      ],
      "text/latex": [
       "450"
      ],
      "text/markdown": [
       "450"
      ],
      "text/plain": [
       "[1] 450"
      ]
     },
     "metadata": {},
     "output_type": "display_data"
    }
   ],
   "source": [
    "file_path = '/tmp/work/RCproject/GEO_singlecellexperiment.rds'\n",
    "sce <- readRDS(file_path)\n",
    "# sce <- sce[, colData(sce)$Response != \"partial\"]\n",
    "ncol(sce)"
   ]
  },
  {
   "cell_type": "code",
   "execution_count": 40,
   "id": "cc836323-5ecc-4d32-b2a0-60e13ee45fb3",
   "metadata": {},
   "outputs": [
    {
     "data": {
      "text/html": [
       "<style>\n",
       ".list-inline {list-style: none; margin:0; padding: 0}\n",
       ".list-inline>li {display: inline-block}\n",
       ".list-inline>li:not(:last-child)::after {content: \"\\00b7\"; padding: 0 .5ex}\n",
       "</style>\n",
       "<ol class=list-inline><li>'GSM5732588_GSE190826'</li><li>'GSM4523147_GSE150082'</li><li>'GSM6390460_GSE209746'</li><li>'GSM1103637_GSE45404-2'</li><li>'GSM6390447_GSE209746'</li><li>'GSM5732586_GSE190826'</li></ol>\n"
      ],
      "text/latex": [
       "\\begin{enumerate*}\n",
       "\\item 'GSM5732588\\_GSE190826'\n",
       "\\item 'GSM4523147\\_GSE150082'\n",
       "\\item 'GSM6390460\\_GSE209746'\n",
       "\\item 'GSM1103637\\_GSE45404-2'\n",
       "\\item 'GSM6390447\\_GSE209746'\n",
       "\\item 'GSM5732586\\_GSE190826'\n",
       "\\end{enumerate*}\n"
      ],
      "text/markdown": [
       "1. 'GSM5732588_GSE190826'\n",
       "2. 'GSM4523147_GSE150082'\n",
       "3. 'GSM6390460_GSE209746'\n",
       "4. 'GSM1103637_GSE45404-2'\n",
       "5. 'GSM6390447_GSE209746'\n",
       "6. 'GSM5732586_GSE190826'\n",
       "\n",
       "\n"
      ],
      "text/plain": [
       "[1] \"GSM5732588_GSE190826\"  \"GSM4523147_GSE150082\"  \"GSM6390460_GSE209746\" \n",
       "[4] \"GSM1103637_GSE45404-2\" \"GSM6390447_GSE209746\"  \"GSM5732586_GSE190826\" "
      ]
     },
     "metadata": {},
     "output_type": "display_data"
    },
    {
     "data": {
      "text/plain": [
       "class: SingleCellExperiment \n",
       "dim: 12165 369 \n",
       "metadata(0):\n",
       "assays(3): counts logcounts scalelogcounts\n",
       "rownames(12165): A1CF A2M ... ZZEF1 ZZZ3\n",
       "rowData names(5): SYMBOL ENTREZID ENSEMBL gene_id gene_name\n",
       "colnames(369): GSM5732588_GSE190826 GSM4523147_GSE150082 ...\n",
       "  GSM5732574_GSE190826 GSM4304768_GSE145037\n",
       "colData names(6): Response TRG ... Platform batch\n",
       "reducedDimNames(0):\n",
       "mainExpName: NULL\n",
       "altExpNames(0):"
      ]
     },
     "metadata": {},
     "output_type": "display_data"
    }
   ],
   "source": [
    "train_samples <- readLines(\"train_samples.txt\")\n",
    "head(train_samples)\n",
    "sce <- sce[,train_samples]\n",
    "sce"
   ]
  },
  {
   "cell_type": "code",
   "execution_count": 41,
   "id": "5c34b1e2-4b55-410f-8d59-2212d12b8e62",
   "metadata": {},
   "outputs": [
    {
     "name": "stdout",
     "output_type": "stream",
     "text": [
      "[1] \"All\"\n"
     ]
    },
    {
     "data": {
      "text/plain": [
       "\n",
       " no yes \n",
       "241 128 "
      ]
     },
     "metadata": {},
     "output_type": "display_data"
    },
    {
     "name": "stdout",
     "output_type": "stream",
     "text": [
      "[1] \"de4\"\n"
     ]
    },
    {
     "data": {
      "text/plain": [
       "\n",
       " no yes \n",
       " 56  30 "
      ]
     },
     "metadata": {},
     "output_type": "display_data"
    },
    {
     "name": "stdout",
     "output_type": "stream",
     "text": [
      "[1] \"RNA_seq\"\n"
     ]
    },
    {
     "data": {
      "text/plain": [
       "\n",
       " no yes \n",
       "131  46 "
      ]
     },
     "metadata": {},
     "output_type": "display_data"
    }
   ],
   "source": [
    "all_data_sets <- sce\n",
    "de4_data_sets <- sce[, colData(sce)$Platform %in% c(\"GPL13497\",\"GPL14951\",\"GPL15207\",\"GPL6102\")]\n",
    "# de4_data_sets <- sce[, colData(sce)$batch %in% c(\"GSE133057\",\"GSE145037\",\"GSE150082\",\"GSE45404-1\",\"GSE45404-2\",\"GSE93375\",\"GSE94104\")]\n",
    "rna_seq_data_sets <- sce[, colData(sce)$batch %in% c(\"GSE190826\",\"GSE209746\")]\n",
    "\n",
    "print('All')\n",
    "table(colData(all_data_sets)$Response)\n",
    "print('de4')\n",
    "table(colData(de4_data_sets)$Response)\n",
    "print('RNA_seq')\n",
    "table(colData(rna_seq_data_sets)$Response)"
   ]
  },
  {
   "cell_type": "code",
   "execution_count": 42,
   "id": "0232cb87-acb7-463b-99ce-b41855d07d71",
   "metadata": {
    "scrolled": true
   },
   "outputs": [
    {
     "name": "stdout",
     "output_type": "stream",
     "text": [
      " [1] \"Responseno\"         \"Responseyes\"        \"batchGSE145037\"    \n",
      " [4] \"batchGSE150082\"     \"batchGSE190826\"     \"batchGSE209746\"    \n",
      " [7] \"batchGSE45404_GPL1\" \"batchGSE45404_GPL2\" \"batchGSE93375\"     \n",
      "[10] \"batchGSE94104\"     \n",
      " [1] \"no\"                 \"yes\"                \"batchGSE145037\"    \n",
      " [4] \"batchGSE150082\"     \"batchGSE190826\"     \"batchGSE209746\"    \n",
      " [7] \"batchGSE45404_GPL1\" \"batchGSE45404_GPL2\" \"batchGSE93375\"     \n",
      "[10] \"batchGSE94104\"     \n",
      "       Yes_vs_NO\n",
      "Down         563\n",
      "NotSig     11036\n",
      "Up           566\n",
      "[1] \"Responseno\"     \"Responseyes\"    \"batchGSE150082\" \"batchGSE93375\" \n",
      "[5] \"batchGSE94104\" \n",
      "[1] \"no\"             \"yes\"            \"batchGSE150082\" \"batchGSE93375\" \n",
      "[5] \"batchGSE94104\" \n",
      "       Yes_vs_NO\n",
      "Down         367\n",
      "NotSig     11372\n",
      "Up           426\n",
      "[1] \"Responseno\"     \"Responseyes\"    \"batchGSE209746\"\n",
      "[1] \"no\"             \"yes\"            \"batchGSE209746\"\n",
      "       Yes_vs_NO\n",
      "Down         214\n",
      "NotSig     11619\n",
      "Up           332\n"
     ]
    }
   ],
   "source": [
    "p_thresh = 0.05\n",
    "\n",
    "DE_alldatasets <- run_limma(all_data_sets, assay_to_use = assay_to_use, verbose = TRUE, p.value = p_thresh, lfc = 0.0)\n",
    "DE_4datasets <- run_limma(de4_data_sets, assay_to_use = assay_to_use, verbose = TRUE, p.value = p_thresh, lfc = 0.0)\n",
    "DE_bulkDatasets <- run_limma(rna_seq_data_sets, assay_to_use = assay_to_use, verbose = TRUE, p.value = p_thresh, lfc = 0.0)"
   ]
  },
  {
   "cell_type": "code",
   "execution_count": 43,
   "id": "9e7df22e-15c8-4757-9823-acc4ac06fa9a",
   "metadata": {},
   "outputs": [
    {
     "data": {
      "text/html": [
       "167"
      ],
      "text/latex": [
       "167"
      ],
      "text/markdown": [
       "167"
      ],
      "text/plain": [
       "[1] 167"
      ]
     },
     "metadata": {},
     "output_type": "display_data"
    },
    {
     "data": {
      "text/html": [
       "65"
      ],
      "text/latex": [
       "65"
      ],
      "text/markdown": [
       "65"
      ],
      "text/plain": [
       "[1] 65"
      ]
     },
     "metadata": {},
     "output_type": "display_data"
    },
    {
     "data": {
      "text/html": [
       "-127"
      ],
      "text/latex": [
       "-127"
      ],
      "text/markdown": [
       "-127"
      ],
      "text/plain": [
       "[1] -127"
      ]
     },
     "metadata": {},
     "output_type": "display_data"
    }
   ],
   "source": [
    "length(DE_alldatasets) - 962\n",
    "length(DE_4datasets) - 728\n",
    "length(DE_bulkDatasets) - 673\n",
    "\n",
    "de_intersect_plus_bulk_genes <- intersect(union(DE_bulkDatasets,DE_4datasets),DE_alldatasets)"
   ]
  },
  {
   "cell_type": "code",
   "execution_count": 44,
   "id": "b69d7925-2d59-4257-a069-da71fd24c176",
   "metadata": {},
   "outputs": [
    {
     "data": {
      "text/html": [
       "392"
      ],
      "text/latex": [
       "392"
      ],
      "text/markdown": [
       "392"
      ],
      "text/plain": [
       "[1] 392"
      ]
     },
     "metadata": {},
     "output_type": "display_data"
    }
   ],
   "source": [
    "length(de_intersect_plus_bulk_genes)"
   ]
  },
  {
   "cell_type": "code",
   "execution_count": 47,
   "id": "3865c8be-8ca0-4f36-a97e-e8ea0d0e18ea",
   "metadata": {},
   "outputs": [
    {
     "data": {
      "text/html": [
       "366"
      ],
      "text/latex": [
       "366"
      ],
      "text/markdown": [
       "366"
      ],
      "text/plain": [
       "[1] 366"
      ]
     },
     "metadata": {},
     "output_type": "display_data"
    }
   ],
   "source": [
    "length(model_gene_list)"
   ]
  },
  {
   "cell_type": "code",
   "execution_count": 46,
   "id": "987a400a-86e6-4f2e-ac84-80a28687a18d",
   "metadata": {},
   "outputs": [
    {
     "data": {
      "text/html": [
       "26"
      ],
      "text/latex": [
       "26"
      ],
      "text/markdown": [
       "26"
      ],
      "text/plain": [
       "[1] 26"
      ]
     },
     "metadata": {},
     "output_type": "display_data"
    }
   ],
   "source": [
    "rds_path = '/tmp/work/RCproject/gene_lists.rds'\n",
    "gene_lists<- readRDS(rds_path)\n",
    "model_gene_list <- gene_lists$'de_intersect_plus_bulk_genes'\n",
    "length(de_intersect_plus_bulk_genes) - length(model_gene_list)"
   ]
  },
  {
   "cell_type": "code",
   "execution_count": 23,
   "id": "a6c952d5-cf94-4085-a34b-7c72cbd87e52",
   "metadata": {},
   "outputs": [
    {
     "data": {
      "text/html": [
       "366"
      ],
      "text/latex": [
       "366"
      ],
      "text/markdown": [
       "366"
      ],
      "text/plain": [
       "[1] 366"
      ]
     },
     "metadata": {},
     "output_type": "display_data"
    }
   ],
   "source": [
    "length(intersect(de_intersect_plus_bulk_genes,model_gene_list))"
   ]
  },
  {
   "cell_type": "code",
   "execution_count": 24,
   "id": "5e3429d3-aa1a-469f-af9d-cac4a742cd4c",
   "metadata": {},
   "outputs": [],
   "source": [
    "de_intersect_plus_bulk_genes <- intersect(union(DE_bulkDatasets,DE_4datasets),DE_alldatasets)\n",
    "\n",
    "saveRDS(de_intersect_plus_bulk_genes,'ann_gene_set.rds')\n",
    "# saveRDS(DE_alldatasets,'ann_gene_set.rds')"
   ]
  },
  {
   "cell_type": "code",
   "execution_count": 25,
   "id": "e30cd338-e509-49b4-8b4d-0eca99bf9c67",
   "metadata": {},
   "outputs": [
    {
     "data": {
      "text/html": [
       "366"
      ],
      "text/latex": [
       "366"
      ],
      "text/markdown": [
       "366"
      ],
      "text/plain": [
       "[1] 366"
      ]
     },
     "metadata": {},
     "output_type": "display_data"
    }
   ],
   "source": [
    "length(de_intersect_plus_bulk_genes)"
   ]
  },
  {
   "cell_type": "code",
   "execution_count": 26,
   "id": "bc7a0641-a563-4e4f-9631-9e45211c6fc8",
   "metadata": {},
   "outputs": [
    {
     "data": {
      "text/html": [
       "366"
      ],
      "text/latex": [
       "366"
      ],
      "text/markdown": [
       "366"
      ],
      "text/plain": [
       "[1] 366"
      ]
     },
     "metadata": {},
     "output_type": "display_data"
    },
    {
     "data": {
      "text/html": [
       "366"
      ],
      "text/latex": [
       "366"
      ],
      "text/markdown": [
       "366"
      ],
      "text/plain": [
       "[1] 366"
      ]
     },
     "metadata": {},
     "output_type": "display_data"
    }
   ],
   "source": [
    "# length(de_intersect_plus_bulk_genes)\n",
    "length(model_gene_list)\n",
    "length(intersect(model_gene_list,de_intersect_plus_bulk_genes))"
   ]
  },
  {
   "cell_type": "code",
   "execution_count": null,
   "id": "40395191-aabb-4d5e-a093-dda2f6f12ff8",
   "metadata": {},
   "outputs": [],
   "source": []
  }
 ],
 "metadata": {
  "kernelspec": {
   "display_name": "R",
   "language": "R",
   "name": "ir"
  },
  "language_info": {
   "codemirror_mode": "r",
   "file_extension": ".r",
   "mimetype": "text/x-r-source",
   "name": "R",
   "pygments_lexer": "r",
   "version": "4.3.1"
  }
 },
 "nbformat": 4,
 "nbformat_minor": 5
}
