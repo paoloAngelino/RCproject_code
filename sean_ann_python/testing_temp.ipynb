{
 "cells": [
  {
   "cell_type": "code",
   "execution_count": 15,
   "id": "7c9ad0bd-f5f0-4ec2-b47e-559c1c1159f5",
   "metadata": {
    "scrolled": true
   },
   "outputs": [
    {
     "name": "stdout",
     "output_type": "stream",
     "text": [
      "Data successfully loaded.\n",
      "R script executed successfully.\n",
      "910\n"
     ]
    }
   ],
   "source": [
    "import subprocess\n",
    "from rpy2.robjects import r\n",
    "from rc_data_class import RcData\n",
    "from rc_folds_class  import rcFolds\n",
    "from rc_pred_ann_model import PredAnnModel\n",
    "from rc_individual_fold import RcFoldForANN\n",
    "import numpy as np\n",
    "import random\n",
    "import pandas as pd\n",
    "import random\n",
    "import matplotlib.pyplot as plt\n",
    "import pickle\n",
    "import time\n",
    "\n",
    "def get_genes_list(p_thresh, split_train):\n",
    "    # Define the R script path\n",
    "    r_script = \"rc_get_diff_genes.r\"\n",
    "    \n",
    "    # Build the command to run the R script\n",
    "    command = [\"Rscript\", r_script, str(p_thresh), str(split_train)]\n",
    "    \n",
    "    result = subprocess.run(command, capture_output=True, text=True)\n",
    "    \n",
    "    # Check if the R script ran successfully\n",
    "    if result.returncode == 0:\n",
    "        print(\"R script executed successfully.\")\n",
    "    \n",
    "        # Read the generated file\n",
    "        rds_path = '/tmp/work/RCproject_code/sean_ann_python/ann_gene_set.rds'\n",
    "        current_genes = r.readRDS(rds_path)\n",
    "        print(len(current_genes))\n",
    "        \n",
    "    else:\n",
    "        print(\"Error in R script execution:\")\n",
    "        print(result.stderr)\n",
    "\n",
    "    return(current_genes.tolist())\n",
    "\n",
    "def get_first_gen(n_pop,input_genes):\n",
    "    first_gen = [];\n",
    "    gene_list_length = len(input_genes)  # Length of the gene list\n",
    "    for i in range(n_pop):\n",
    "        binary_list = [random.choice([0, 1]) for _ in range(gene_list_length)]  # Create a binary list of the same length\n",
    "        binary_array = np.array(binary_list)  # Convert binary list to a NumPy array\n",
    "        first_gen.append(binary_array)\n",
    "\n",
    "    return(first_gen)\n",
    "\n",
    "def evaluate_individuals(input_gen,gene_list,folds,input_data,num_epochs):\n",
    "    auc_averages = []\n",
    "    current_folds = rcFolds(input_data,folds)\n",
    "    current_gen_member = 1\n",
    "    for gen_member in input_gen:\n",
    "        filtered_list = np.array(genes_list)[gen_member == 1] # Use binary array to filter the genes list\n",
    "        current_aucs = []\n",
    "        for i in range(folds):\n",
    "            current_fold = RcFoldForANN(current_folds,i)\n",
    "            fold_count = i + 1\n",
    "            print(f\"Currently training, population member {current_gen_member}, with fold {fold_count}.\")\n",
    "            current_model = PredAnnModel(current_fold,current_genes, num_epochs = num_epochs)\n",
    "            test_auc_list = current_model.test_auc_list\n",
    "            current_auc = max(test_auc_list)\n",
    "            current_aucs.append(current_auc)\n",
    "        current_average_auc = np.mean(current_aucs)\n",
    "        auc_averages.append(current_average_auc)\n",
    "        current_gen_member += 1\n",
    "    ga_df.loc[len(ga_df)] = auc_averages\n",
    "    return auc_averages, input_gen\n",
    "\n",
    "# Crossover function\n",
    "def crossover_and_mutate(current_gen, current_aucs, mutation_rate):\n",
    "\n",
    "    indices = np.argsort(current_aucs)[-2:][::-1]  # Sort, pick the last two, and reverse to get highest first\n",
    "    parent1 = current_gen[indices[0]]\n",
    "    parent2 = current_gen[indices[1]]\n",
    "    \n",
    "    # Ensure parents are the same size\n",
    "    if len(parent1) != len(parent2):\n",
    "        raise ValueError(\"Parents must have the same length.\")\n",
    "\n",
    "    # Randomly choose a crossover point\n",
    "    crossover_point = random.randint(1, len(parent1) - 1)\n",
    "\n",
    "    # Create children by combining parts of each parent\n",
    "    child = np.concatenate((parent1[:crossover_point], parent2[crossover_point:]))\n",
    "    child = bit_flip_mutation(child, mutation_rate)\n",
    "\n",
    "    return child\n",
    "\n",
    "def bit_flip_mutation(individual, mutation_rate=0.01):\n",
    "    # Go through each gene in the individual\n",
    "    for i in range(len(individual)):\n",
    "        if random.random() < mutation_rate:  # If random number is below mutation rate, flip the gene\n",
    "            individual[i] = 1 - individual[i]  # Flip 0 to 1, or 1 to 0\n",
    "    return individual\n",
    "\n",
    "def plot_row_averages(df):\n",
    "    \"\"\"\n",
    "    Plots the average of each row in the given DataFrame.\n",
    "    \n",
    "    Parameters:\n",
    "    df (pd.DataFrame): Input DataFrame containing numerical values.\n",
    "    \"\"\"\n",
    "    row_averages = df.mean(axis=1)  # Compute the average across each row\n",
    "    \n",
    "    plt.figure(figsize=(10, 5))\n",
    "    plt.plot(row_averages, marker='o', linestyle='-', color='b', label='Row Averages')\n",
    "    \n",
    "    plt.xlabel(\"Generation\")\n",
    "    plt.ylabel(\"Average Value\")\n",
    "    plt.title(\"Average of Each Row in DataFrame\")\n",
    "    plt.legend()\n",
    "    plt.grid(True)\n",
    "    \n",
    "    plt.show()\n",
    "    \n",
    "ga_df = pd.DataFrame(columns = ['n_1','test_auc'])\n",
    "\n",
    "population_size = 5\n",
    "p_value = 0.1\n",
    "split_train = True\n",
    "folds = 5\n",
    "num_epochs = 10\n",
    "mutation_rate = 0.01\n",
    "n_generations = 5\n",
    "\n",
    "# making a data frame to keep track of GA progress\n",
    "column_names = [f'auc_{i+1}' for i in range(population_size)]\n",
    "# Initialize an empty DataFrame with columns\n",
    "ga_df = pd.DataFrame(columns=column_names)\n",
    "\n",
    "\n",
    "current_data = RcData()\n",
    "genes_list = get_genes_list(p_value, split_train)\n",
    "first_gen = get_first_gen(population_size,genes_list)"
   ]
  },
  {
   "cell_type": "code",
   "execution_count": 16,
   "id": "5658e5ae-49ea-4de4-bc16-ea812160005a",
   "metadata": {},
   "outputs": [],
   "source": [
    "current_folds = rcFolds(current_data,folds)\n",
    "current_fold = RcFoldForANN(current_folds,1)"
   ]
  },
  {
   "cell_type": "code",
   "execution_count": 21,
   "id": "eecafada-420b-4f33-b2de-ba0eca337e0b",
   "metadata": {},
   "outputs": [
    {
     "name": "stdout",
     "output_type": "stream",
     "text": [
      "Epoch 0, Average Outcome Loss: 0.7035590277777778, Average Accuracy: 0.4791666666666667, Test AUC: 0.5000, Test Accuracy: 0.6486\n",
      "8.72707486152649\n"
     ]
    }
   ],
   "source": [
    "start_time = time.time()\n",
    "current_model = PredAnnModel(current_fold,genes_list, num_epochs = num_epochs)\n",
    "end_time = time.time()\n",
    "\n",
    "print(end_time-start_time)"
   ]
  },
  {
   "cell_type": "code",
   "execution_count": 38,
   "id": "510ea9fd-9f02-4c2a-b784-a0c3b9aa536f",
   "metadata": {},
   "outputs": [
    {
     "name": "stdout",
     "output_type": "stream",
     "text": [
      "Epoch 0, Average Outcome Loss: 0.6848415798611112, Average Accuracy: 0.5486111111111112, Test AUC: 0.5000, Test Accuracy: 0.6622\n",
      "Epoch 0, Average Outcome Loss: 0.7014973958333334, Average Accuracy: 0.5555555555555556, Test AUC: 0.5000, Test Accuracy: 0.3378\n",
      "Epoch 0, Average Outcome Loss: 0.7181532118055556, Average Accuracy: 0.4861111111111111, Test AUC: 0.5000, Test Accuracy: 0.3378\n",
      "Epoch 0, Average Outcome Loss: 0.7392035590277778, Average Accuracy: 0.4930555555555556, Test AUC: 0.5000, Test Accuracy: 0.6622\n",
      "Epoch 0, Average Outcome Loss: 0.7769097222222222, Average Accuracy: 0.5, Test AUC: 0.5000, Test Accuracy: 0.3378\n",
      "0.5\n",
      "0.693061224489796\n",
      "0.5640816326530612\n",
      "0.5\n",
      "0.5\n"
     ]
    }
   ],
   "source": [
    "import time\n",
    "import threading\n",
    "\n",
    "start_time = time.time()\n",
    "\n",
    "# Shared dictionary to store results\n",
    "results = {}\n",
    "\n",
    "def initiate_fold(current_folds,genes_list,fold,fold_name):\n",
    "    current_fold = RcFoldForANN(current_folds,0)\n",
    "    current_model = PredAnnModel(current_fold, genes_list, num_epochs=num_epochs)\n",
    "    results[fold_name] = current_model.test_auc_list  # Store result\n",
    "\n",
    "t1 = threading.Thread(target=initiate_fold(current_folds,0,'first'))\n",
    "t2 = threading.Thread(target=initiate_fold(current_folds,1,'second'))\n",
    "t3 = threading.Thread(target=initiate_fold(current_folds,2,'third'))\n",
    "t4 = threading.Thread(target=initiate_fold(current_folds,3,'fourth'))\n",
    "t5 = threading.Thread(target=initiate_fold(current_folds,4,'fifth'))\n",
    "\n",
    "t1.start()\n",
    "t2.start()\n",
    "t3.start()\n",
    "t4.start()\n",
    "t5.start()\n",
    "\n",
    "t1.join()\n",
    "t2.join()\n",
    "t3.join()\n",
    "t4.join()\n",
    "t5.join()\n",
    "\n",
    "# Retrieve results\n",
    "print(max(results['first']))\n",
    "print(max(results['second']))\n",
    "print(max(results['third']))\n",
    "print(max(results['fourth']))\n",
    "print(max(results['fifth']))\n",
    "\n",
    "end_time = time.time()"
   ]
  },
  {
   "cell_type": "code",
   "execution_count": 41,
   "id": "3da834b2-014f-4d3f-b915-4102873ad422",
   "metadata": {},
   "outputs": [
    {
     "data": {
      "text/plain": [
       "0.5514285714285714"
      ]
     },
     "execution_count": 41,
     "metadata": {},
     "output_type": "execute_result"
    }
   ],
   "source": [
    "np.mean([\n",
    "    max(results['first']),\n",
    "    max(results['second']),\n",
    "    max(results['third']),\n",
    "    max(results['fourth']),\n",
    "    max(results['fifth'])\n",
    "])"
   ]
  },
  {
   "cell_type": "code",
   "execution_count": 28,
   "id": "fea2339e-7f8d-476f-9c5b-2cf8344e9343",
   "metadata": {},
   "outputs": [
    {
     "name": "stderr",
     "output_type": "stream",
     "text": [
      "Exception in thread Thread-35 (run_fold):\n",
      "Traceback (most recent call last):\n",
      "  File \"/opt/conda/lib/python3.10/threading.py\", line 1016, in _bootstrap_inner\n",
      "    self.run()\n",
      "  File \"/opt/conda/lib/python3.10/site-packages/ipykernel/ipkernel.py\", line 761, in run_closure\n",
      "Exception in thread Thread-36 (run_fold):\n",
      "Traceback (most recent call last):\n",
      "  File \"/opt/conda/lib/python3.10/threading.py\", line 1016, in _bootstrap_inner\n",
      "    _threading_Thread_run(self)\n",
      "  File \"/opt/conda/lib/python3.10/threading.py\", line 953, in run\n",
      "    self._target(*self._args, **self._kwargs)\n",
      "  File \"/tmp/ipykernel_335146/3105610512.py\", line 11, in run_fold\n",
      "    self.run()\n",
      "  File \"/opt/conda/lib/python3.10/site-packages/ipykernel/ipkernel.py\", line 761, in run_closure\n",
      "    _threading_Thread_run(self)\n",
      "  File \"/opt/conda/lib/python3.10/threading.py\", line 953, in run\n",
      "    self._target(*self._args, **self._kwargs)\n",
      "  File \"/tmp/ipykernel_335146/3105610512.py\", line 11, in run_fold\n",
      "  File \"/tmp/work/RCproject_code/sean_ann_python/rc_folds_class.py\", line 46, in __init__\n",
      "  File \"/tmp/work/RCproject_code/sean_ann_python/rc_folds_class.py\", line 46, in __init__\n",
      "    self.get_folds()\n",
      "  File \"/tmp/work/RCproject_code/sean_ann_python/rc_folds_class.py\", line 55, in get_folds\n",
      "    self.get_folds()\n",
      "  File \"/tmp/work/RCproject_code/sean_ann_python/rc_folds_class.py\", line 55, in get_folds\n",
      "    skf = StratifiedKFold(n_splits=self.folds_count, shuffle=True, random_state=None)\n",
      "  File \"/opt/conda/lib/python3.10/site-packages/sklearn/model_selection/_split.py\", line 705, in __init__\n",
      "    skf = StratifiedKFold(n_splits=self.folds_count, shuffle=True, random_state=None)\n",
      "  File \"/opt/conda/lib/python3.10/site-packages/sklearn/model_selection/_split.py\", line 705, in __init__\n",
      "    super().__init__(n_splits=n_splits, shuffle=shuffle, random_state=random_state)\n",
      "  File \"/opt/conda/lib/python3.10/site-packages/sklearn/model_selection/_split.py\", line 321, in __init__\n",
      "    raise ValueError(\n",
      "ValueError: k-fold cross-validation requires at least one train/test split by setting n_splits=2 or more, got n_splits=1.\n",
      "    super().__init__(n_splits=n_splits, shuffle=shuffle, random_state=random_state)\n",
      "  File \"/opt/conda/lib/python3.10/site-packages/sklearn/model_selection/_split.py\", line 321, in __init__\n",
      "    raise ValueError(\n",
      "ValueError: k-fold cross-validation requires at least one train/test split by setting n_splits=2 or more, got n_splits=0.\n"
     ]
    },
    {
     "name": "stdout",
     "output_type": "stream",
     "text": [
      "Epoch 0, Average Outcome Loss: 0.7706163194444444, Average Accuracy: 0.4652777777777778, Test AUC: 0.5000, Test Accuracy: 0.3514\n",
      "Epoch 0, Average Outcome Loss: 0.7281901041666666, Average Accuracy: 0.5, Test AUC: 0.5000, Test Accuracy: 0.3514\n",
      "Epoch 0, Average Outcome Loss: 0.7246636284722222, Average Accuracy: 0.5, Test AUC: 0.5000, Test Accuracy: 0.6486\n"
     ]
    },
    {
     "ename": "KeyError",
     "evalue": "1",
     "output_type": "error",
     "traceback": [
      "\u001b[0;31m---------------------------------------------------------------------------\u001b[0m",
      "\u001b[0;31mKeyError\u001b[0m                                  Traceback (most recent call last)",
      "Cell \u001b[0;32mIn[28], line 31\u001b[0m\n\u001b[1;32m     29\u001b[0m \u001b[38;5;66;03m# Retrieve results\u001b[39;00m\n\u001b[1;32m     30\u001b[0m \u001b[38;5;28;01mfor\u001b[39;00m i \u001b[38;5;129;01min\u001b[39;00m \u001b[38;5;28mrange\u001b[39m(\u001b[38;5;241m1\u001b[39m, num_folds \u001b[38;5;241m+\u001b[39m \u001b[38;5;241m1\u001b[39m):\n\u001b[0;32m---> 31\u001b[0m     \u001b[38;5;28mprint\u001b[39m(\u001b[38;5;124mf\u001b[39m\u001b[38;5;124m\"\u001b[39m\u001b[38;5;124mMax test AUC for fold \u001b[39m\u001b[38;5;132;01m{\u001b[39;00mi\u001b[38;5;132;01m}\u001b[39;00m\u001b[38;5;124m: \u001b[39m\u001b[38;5;132;01m{\u001b[39;00m\u001b[38;5;28mmax\u001b[39m(\u001b[43mresults\u001b[49m\u001b[43m[\u001b[49m\u001b[43mi\u001b[49m\u001b[43m]\u001b[49m)\u001b[38;5;132;01m}\u001b[39;00m\u001b[38;5;124m\"\u001b[39m)\n\u001b[1;32m     33\u001b[0m end_time \u001b[38;5;241m=\u001b[39m time\u001b[38;5;241m.\u001b[39mtime()\n\u001b[1;32m     34\u001b[0m \u001b[38;5;28mprint\u001b[39m(\u001b[38;5;124mf\u001b[39m\u001b[38;5;124m\"\u001b[39m\u001b[38;5;124mTotal time: \u001b[39m\u001b[38;5;132;01m{\u001b[39;00mend_time\u001b[38;5;250m \u001b[39m\u001b[38;5;241m-\u001b[39m\u001b[38;5;250m \u001b[39mstart_time\u001b[38;5;132;01m}\u001b[39;00m\u001b[38;5;124m seconds\u001b[39m\u001b[38;5;124m\"\u001b[39m)\n",
      "\u001b[0;31mKeyError\u001b[0m: 1"
     ]
    }
   ],
   "source": [
    "import time\n",
    "import threading\n",
    "\n",
    "start_time = time.time()\n",
    "\n",
    "# Shared dictionary to store results\n",
    "results = {}\n",
    "\n",
    "# Function that runs a fold with a given fold number\n",
    "def run_fold(fold_number):\n",
    "    current_folds = rcFolds(current_data,fold_number)\n",
    "    current_model = PredAnnModel(current_fold, genes_list, num_epochs=num_epochs)\n",
    "    results[fold_number] = current_model.test_auc_list  # Store result\n",
    "\n",
    "# Number of parallel folds\n",
    "num_folds = 5  \n",
    "\n",
    "# Create and start threads\n",
    "threads = []\n",
    "for i in range(num_folds):\n",
    "    t = threading.Thread(target=run_fold, args=(i,))\n",
    "    threads.append(t)\n",
    "    t.start()\n",
    "\n",
    "# Wait for all threads to finish\n",
    "for t in threads:\n",
    "    t.join()\n",
    "\n",
    "# Retrieve results\n",
    "for i in range(1, num_folds + 1):\n",
    "    print(f\"Max test AUC for fold {i}: {max(results[i])}\")\n",
    "\n",
    "end_time = time.time()\n",
    "print(f\"Total time: {end_time - start_time} seconds\")"
   ]
  },
  {
   "cell_type": "code",
   "execution_count": 26,
   "id": "812e202b-cb02-4f59-8723-b76a790f77d8",
   "metadata": {},
   "outputs": [
    {
     "name": "stdout",
     "output_type": "stream",
     "text": [
      "test\n"
     ]
    }
   ],
   "source": [
    "print('test')"
   ]
  },
  {
   "cell_type": "code",
   "execution_count": 35,
   "id": "de6e412e-bbfb-4507-8967-8c4fd99e4b6e",
   "metadata": {},
   "outputs": [],
   "source": [
    "current_fold = RcFoldForANN(current_folds,4)"
   ]
  },
  {
   "cell_type": "code",
   "execution_count": 31,
   "id": "1b84d689-2546-4c36-a6e0-dc5944de5e45",
   "metadata": {},
   "outputs": [
    {
     "data": {
      "text/plain": [
       "['X',\n",
       " '__class__',\n",
       " '__delattr__',\n",
       " '__dict__',\n",
       " '__dir__',\n",
       " '__doc__',\n",
       " '__eq__',\n",
       " '__format__',\n",
       " '__ge__',\n",
       " '__getattribute__',\n",
       " '__gt__',\n",
       " '__hash__',\n",
       " '__init__',\n",
       " '__init_subclass__',\n",
       " '__le__',\n",
       " '__lt__',\n",
       " '__module__',\n",
       " '__ne__',\n",
       " '__new__',\n",
       " '__reduce__',\n",
       " '__reduce_ex__',\n",
       " '__repr__',\n",
       " '__setattr__',\n",
       " '__sizeof__',\n",
       " '__str__',\n",
       " '__subclasshook__',\n",
       " '__weakref__',\n",
       " 'folds_count',\n",
       " 'genes_list',\n",
       " 'get_folds',\n",
       " 'rc_data',\n",
       " 'x_test_folds',\n",
       " 'x_train_folds',\n",
       " 'y',\n",
       " 'y_stratify',\n",
       " 'y_test_folds',\n",
       " 'y_train_folds']"
      ]
     },
     "execution_count": 31,
     "metadata": {},
     "output_type": "execute_result"
    }
   ],
   "source": [
    "dir(current_folds)"
   ]
  },
  {
   "cell_type": "code",
   "execution_count": 42,
   "id": "7bda8d28-f6f0-4495-b504-2936540ceb8b",
   "metadata": {},
   "outputs": [],
   "source": [
    "pool_size = multiprocessing.cpu_count() "
   ]
  },
  {
   "cell_type": "code",
   "execution_count": 44,
   "id": "08bfd478-b4d0-464a-8f27-e0db533646cd",
   "metadata": {},
   "outputs": [
    {
     "name": "stderr",
     "output_type": "stream",
     "text": [
      "/opt/conda/lib/python3.10/multiprocessing/popen_fork.py:66: RuntimeWarning: os.fork() was called. os.fork() is incompatible with multithreaded code, and JAX is multithreaded, so this will likely lead to a deadlock.\n",
      "  self.pid = os.fork()\n"
     ]
    },
    {
     "name": "stdout",
     "output_type": "stream",
     "text": [
      "[1, 4, 9]\n"
     ]
    }
   ],
   "source": [
    "from multiprocessing import Pool\n",
    "\n",
    "def f(x):\n",
    "    return x*x\n",
    "\n",
    "if __name__ == '__main__':\n",
    "    with Pool(5) as p:\n",
    "        print(p.map(f, [1, 2, 3]))"
   ]
  },
  {
   "cell_type": "code",
   "execution_count": 45,
   "id": "4a10e4b7-b228-490e-8c22-4a1999e0f246",
   "metadata": {},
   "outputs": [
    {
     "name": "stdout",
     "output_type": "stream",
     "text": [
      "hello bob\n"
     ]
    }
   ],
   "source": [
    "from multiprocessing import Process\n",
    "\n",
    "def f(name):\n",
    "    print('hello', name)\n",
    "\n",
    "if __name__ == '__main__':\n",
    "    p = Process(target=f, args=('bob',))\n",
    "    p.start()\n",
    "    p.join()\n"
   ]
  },
  {
   "cell_type": "code",
   "execution_count": 49,
   "id": "932206d3-c598-4b94-ad9f-727bbb61f04c",
   "metadata": {},
   "outputs": [],
   "source": [
    "from multiprocessing import Process\n",
    "\n",
    "def f(name):\n",
    "    print('hello', name)\n",
    "\n",
    "\n",
    "def t():\n",
    "    if __name__ == '__main__':\n",
    "        p1 = Process(target=f, args=('bob',))\n",
    "        p2 = Process(target=f, args=('jim',))\n",
    "        p1.start()\n",
    "        p2.start()\n",
    "        p1.join()\n",
    "        p2.join()"
   ]
  },
  {
   "cell_type": "code",
   "execution_count": 50,
   "id": "d67236b6-dc3b-4841-bb3d-83143599206e",
   "metadata": {},
   "outputs": [
    {
     "name": "stdout",
     "output_type": "stream",
     "text": [
      "hello hellobob\n",
      " jim\n"
     ]
    }
   ],
   "source": [
    "t()"
   ]
  },
  {
   "cell_type": "code",
   "execution_count": 51,
   "id": "4cc15a49-9ba3-4358-b917-96bb858b092a",
   "metadata": {},
   "outputs": [
    {
     "name": "stdout",
     "output_type": "stream",
     "text": [
      "hello bob\n",
      "hello jim\n"
     ]
    }
   ],
   "source": [
    " print('hello', 'bob')\n",
    " print('hello', 'jim')"
   ]
  },
  {
   "cell_type": "code",
   "execution_count": 58,
   "id": "f01e6e3e-6baf-44d3-883f-a1c6d11b30bd",
   "metadata": {
    "scrolled": true
   },
   "outputs": [
    {
     "name": "stdout",
     "output_type": "stream",
     "text": [
      "\u001b[?1h\u001b=\u001b[H\u001b[2J\u001b[mtop - 18:00:55 up 89 days,  4:56,  0 users,  load average: 40.29, 32.70, 29.78\u001b[m\u001b[m\u001b[m\u001b[m\u001b[K\n",
      "Tasks:\u001b[m\u001b[m\u001b[1m 159 \u001b[m\u001b[mtotal,\u001b[m\u001b[m\u001b[1m   4 \u001b[m\u001b[mrunning,\u001b[m\u001b[m\u001b[1m  16 \u001b[m\u001b[msleeping,\u001b[m\u001b[m\u001b[1m   0 \u001b[m\u001b[mstopped,\u001b[m\u001b[m\u001b[1m 139 \u001b[m\u001b[mzombie\u001b[m\u001b[m\u001b[m\u001b[m\u001b[K\n",
      "%Cpu(s):\u001b[m\u001b[m\u001b[1m 39.9 \u001b[m\u001b[mus,\u001b[m\u001b[m\u001b[1m  9.6 \u001b[m\u001b[msy,\u001b[m\u001b[m\u001b[1m  0.0 \u001b[m\u001b[mni,\u001b[m\u001b[m\u001b[1m 46.9 \u001b[m\u001b[mid,\u001b[m\u001b[m\u001b[1m  0.9 \u001b[m\u001b[mwa,\u001b[m\u001b[m\u001b[1m  2.4 \u001b[m\u001b[mhi,\u001b[m\u001b[m\u001b[1m  0.4 \u001b[m\u001b[msi,\u001b[m\u001b[m\u001b[1m  0.0 \u001b[m\u001b[mst\u001b[m\u001b[m\u001b[m\u001b[m\u001b[K\n",
      "MiB Mem :\u001b[m\u001b[m\u001b[1m 257534.6 \u001b[m\u001b[mtotal,\u001b[m\u001b[m\u001b[1m 189290.9 \u001b[m\u001b[mfree,\u001b[m\u001b[m\u001b[1m  27508.6 \u001b[m\u001b[mused,\u001b[m\u001b[m\u001b[1m  40735.1 \u001b[m\u001b[mbuff/cache\u001b[m\u001b[m\u001b[m\u001b[m\u001b[K\n",
      "MiB Swap:\u001b[m\u001b[m\u001b[1m  73728.0 \u001b[m\u001b[mtotal,\u001b[m\u001b[m\u001b[1m  39217.8 \u001b[m\u001b[mfree,\u001b[m\u001b[m\u001b[1m  34510.2 \u001b[m\u001b[mused.\u001b[m\u001b[m\u001b[1m 227776.8 \u001b[m\u001b[mavail Mem \u001b[m\u001b[m\u001b[m\u001b[m\u001b[K\n",
      "\u001b[K\n",
      "\u001b[7m    PID USER      PR  NI    VIRT    RES    SHR S  %CPU  %MEM     TIME+ COMMAND  \u001b[m\u001b[m\u001b[K\n",
      "\u001b[m 408474 root      20   0   23.5g   1.6g  55808 S 846.7   0.6   3:59.88 python   \u001b[m\u001b[m\u001b[K\n",
      "\u001b[m\u001b[1m 408343 root      20   0   23.5g   1.6g  56832 R 713.3   0.6   3:58.15 python   \u001b[m\u001b[m\u001b[K\n",
      "\u001b[m\u001b[1m 408082 root      20   0   23.5g   1.6g  56320 R 506.7   0.6   4:01.42 python   \u001b[m\u001b[m\u001b[K\n",
      "\u001b[m\u001b[1m 408212 root      20   0   23.5g   1.6g  55808 R 460.0   0.6   4:01.28 python   \u001b[m\u001b[m\u001b[K\n",
      "\u001b[m 408605 root      20   0   23.5g   1.6g  57856 S 433.3   0.6   3:55.29 python   \u001b[m\u001b[m\u001b[K\n",
      "\u001b[m\u001b[1m 408786 root      20   0    9080   3584   3072 R   6.7   0.0   0:00.01 top      \u001b[m\u001b[m\u001b[K\n",
      "\u001b[m      1 root      20   0  997316 202476  22016 S   0.0   0.1  37:15.86 jupyter+ \u001b[m\u001b[m\u001b[K\n",
      "\u001b[m   1483 root      20   0       0      0      0 Z   0.0   0.0   7:39.75 R        \u001b[m\u001b[m\u001b[K\n",
      "\u001b[m   2140 root      20   0       0      0      0 Z   0.0   0.0   0:00.00 git      \u001b[m\u001b[m\u001b[K\n",
      "\u001b[m   2200 root      20   0       0      0      0 Z   0.0   0.0   0:00.00 git      \u001b[m\u001b[m\u001b[K\n",
      "\u001b[m   2672 root      20   0       0      0      0 Z   0.0   0.0   0:00.00 git      \u001b[m\u001b[m\u001b[K\n",
      "\u001b[m   2711 root      20   0       0      0      0 Z   0.0   0.0   0:00.00 git      \u001b[m\u001b[m\u001b[K\n",
      "\u001b[m   3445 root      20   0       0      0      0 Z   0.0   0.0   0:00.00 git      \u001b[m\u001b[m\u001b[K\n",
      "\u001b[m   3488 root      20   0       0      0      0 Z   0.0   0.0   0:00.00 git      \u001b[m\u001b[m\u001b[K\n",
      "\u001b[m   3846 root      20   0       0      0      0 Z   0.0   0.0   0:00.00 git      \u001b[m\u001b[m\u001b[K\n",
      "\u001b[m   3903 root      20   0       0      0      0 Z   0.0   0.0   0:00.00 git      \u001b[m\u001b[m\u001b[K\n",
      "\u001b[m   5231 root      20   0       0      0      0 Z   0.0   0.0   0:00.00 git      \u001b[m\u001b[m\u001b[K\u001b[?1l\u001b>\u001b[25;1H\n",
      "\u001b[K"
     ]
    }
   ],
   "source": [
    "!top"
   ]
  },
  {
   "cell_type": "code",
   "execution_count": null,
   "id": "93435dfa-da25-4d20-86e8-33507565ec63",
   "metadata": {},
   "outputs": [],
   "source": []
  }
 ],
 "metadata": {
  "kernelspec": {
   "display_name": "Python 3 (ipykernel)",
   "language": "python",
   "name": "python3"
  },
  "language_info": {
   "codemirror_mode": {
    "name": "ipython",
    "version": 3
   },
   "file_extension": ".py",
   "mimetype": "text/x-python",
   "name": "python",
   "nbconvert_exporter": "python",
   "pygments_lexer": "ipython3",
   "version": "3.10.10"
  }
 },
 "nbformat": 4,
 "nbformat_minor": 5
}
