{
 "cells": [
  {
   "cell_type": "code",
   "execution_count": 13,
   "id": "88b927de-f5d6-42c5-86ae-bb2961bc2e89",
   "metadata": {},
   "outputs": [
    {
     "name": "stdout",
     "output_type": "stream",
     "text": [
      " [1] \"Responseno\"         \"Responseyes\"        \"batchGSE145037\"    \n",
      " [4] \"batchGSE150082\"     \"batchGSE190826\"     \"batchGSE209746\"    \n",
      " [7] \"batchGSE45404_GPL1\" \"batchGSE45404_GPL2\" \"batchGSE93375\"     \n",
      "[10] \"batchGSE94104\"     \n",
      " [1] \"no\"                 \"yes\"                \"batchGSE145037\"    \n",
      " [4] \"batchGSE150082\"     \"batchGSE190826\"     \"batchGSE209746\"    \n",
      " [7] \"batchGSE45404_GPL1\" \"batchGSE45404_GPL2\" \"batchGSE93375\"     \n",
      "[10] \"batchGSE94104\"     \n",
      "       Yes_vs_NO\n",
      "Down         563\n",
      "NotSig     11036\n",
      "Up           566\n",
      "[1] \"Responseno\"     \"Responseyes\"    \"batchGSE150082\" \"batchGSE93375\" \n",
      "[5] \"batchGSE94104\" \n",
      "[1] \"no\"             \"yes\"            \"batchGSE150082\" \"batchGSE93375\" \n",
      "[5] \"batchGSE94104\" \n",
      "       Yes_vs_NO\n",
      "Down         367\n",
      "NotSig     11372\n",
      "Up           426\n",
      "[1] \"Responseno\"     \"Responseyes\"    \"batchGSE209746\"\n",
      "[1] \"no\"             \"yes\"            \"batchGSE209746\"\n",
      "       Yes_vs_NO\n",
      "Down         214\n",
      "NotSig     11619\n",
      "Up           332\n"
     ]
    }
   ],
   "source": [
    "args <- commandArgs(trailingOnly = TRUE)  # Get arguments passed to the script\n",
    "p_thresh <- as.numeric(args[1])\n",
    "split_status <- tolower(args[2])  # Convert the second argument to lowercase for consistency\n",
    "\n",
    "# split_status = 'true'\n",
    "# p_thresh = 0.05\n",
    "\n",
    "options(warn=-1)\n",
    "\n",
    "library(edgeR)\n",
    "library(limma)\n",
    "\n",
    "assay_to_use <- 3\n",
    "assayname_to_use <- \"scalelogcounts\"\n",
    "file_path = '/tmp/work/RCproject/GEO_singlecellexperiment.rds'\n",
    "p_thresh = p_thresh\n",
    "\n",
    "run_limma <- function(spe, assay_to_use, verbose = FALSE, p.value = 0.05, lfc = 0.0){\n",
    "\n",
    "  design <- model.matrix(~0 + Response + batch, data = colData(spe))\n",
    "\n",
    "  if(verbose) print(colnames(design))\n",
    "  \n",
    "  colnames(design) <- gsub(\"^Response\",\"\",colnames(design))\n",
    "  colnames(design) <- gsub(\" \",\"_\",colnames(design))\n",
    "  \n",
    "  if(verbose) print(colnames(design))\n",
    "    \n",
    "  contr.matrix <- makeContrasts(\n",
    "   Yes_vs_NO = yes - no,\n",
    "   levels = colnames(design))\n",
    "\n",
    "  v <- assay(spe, assay_to_use)\n",
    "\n",
    "  fit <- lmFit(v, design = design)\n",
    "  \n",
    "  fit_contrast <- contrasts.fit(fit, contrasts = contr.matrix)\n",
    "\n",
    "  efit <- eBayes(fit_contrast, robust = TRUE)\n",
    "  \n",
    "  results_efit<- decideTests(efit, adjust.method = \"none\", p.value = p.value, lfc = lfc)\n",
    "  summary_efit <- summary(results_efit)\n",
    "\n",
    "  if(verbose) print(summary_efit)\n",
    "\n",
    "  \n",
    "  my_de_results <- topTable(efit, coef = 1, sort.by = \"none\", n = Inf) # sort by none\n",
    "\n",
    "  sig_genes <- rownames(my_de_results[my_de_results$P.Value < p.value,])\n",
    "\n",
    "  # We can obtain the DE results by using the `TopTable` function.\n",
    "\n",
    "  return(sig_genes)\n",
    "}\n",
    "\n",
    "sce <- readRDS(file_path)\n",
    "\n",
    "# Perform boolean check\n",
    "if (split_status == \"true\") {\n",
    "    train_samples <- readLines(\"train_samples.txt\")\n",
    "    sce <- sce[,train_samples]\n",
    "} else if (split_status == \"false\") {\n",
    "    print('Running diff expression on entire dataset')\n",
    "} else {\n",
    "    print('Running diff expression on entire dataset')\n",
    "}\n",
    "\n",
    "\n",
    "all_data_sets <- sce\n",
    "de4_data_sets <- sce[, colData(sce)$Platform %in% c(\"GPL13497\",\"GPL14951\",\"GPL15207\",\"GPL6102\")]\n",
    "rna_seq_data_sets <- sce[, colData(sce)$batch %in% c(\"GSE190826\",\"GSE209746\")]\n",
    "\n",
    "\n",
    "DE_alldatasets <- run_limma(all_data_sets, assay_to_use = assay_to_use, verbose = TRUE, p.value = p_thresh, lfc = 0.0)\n",
    "DE_4datasets <- run_limma(de4_data_sets, assay_to_use = assay_to_use, verbose = TRUE, p.value = p_thresh, lfc = 0.0)\n",
    "DE_bulkDatasets <- run_limma(rna_seq_data_sets, assay_to_use = assay_to_use, verbose = TRUE, p.value = p_thresh, lfc = 0.0)\n",
    "\n",
    "de_intersect_plus_bulk_genes <- intersect(union(DE_bulkDatasets,DE_4datasets),DE_alldatasets)\n",
    "\n",
    "saveRDS(de_intersect_plus_bulk_genes,'ann_gene_set.rds')"
   ]
  },
  {
   "cell_type": "code",
   "execution_count": 15,
   "id": "a405ed12-23cd-4e5f-b7c0-7ce2a1da8773",
   "metadata": {},
   "outputs": [
    {
     "data": {
      "text/html": [
       "392"
      ],
      "text/latex": [
       "392"
      ],
      "text/markdown": [
       "392"
      ],
      "text/plain": [
       "[1] 392"
      ]
     },
     "metadata": {},
     "output_type": "display_data"
    }
   ],
   "source": [
    "length(de_intersect_plus_bulk_genes)"
   ]
  },
  {
   "cell_type": "code",
   "execution_count": null,
   "id": "5f01f794-280a-4b28-9f37-f4e3fbe5be89",
   "metadata": {},
   "outputs": [],
   "source": [
    "    def merge_and_align(self):\n",
    "        arg_1 = '/'.join([self.output_directory,'pre_process_objects'])\n",
    "        arg_2 = self.output_directory\n",
    "        subprocess.call(['Rscript','merge_and_align.r',arg_1,arg_2])"
   ]
  }
 ],
 "metadata": {
  "kernelspec": {
   "display_name": "R",
   "language": "R",
   "name": "ir"
  },
  "language_info": {
   "codemirror_mode": "r",
   "file_extension": ".r",
   "mimetype": "text/x-r-source",
   "name": "R",
   "pygments_lexer": "r",
   "version": "4.3.1"
  }
 },
 "nbformat": 4,
 "nbformat_minor": 5
}
